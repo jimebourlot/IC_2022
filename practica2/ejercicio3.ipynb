{
 "cells": [
  {
   "cell_type": "markdown",
   "metadata": {},
   "source": [
    "# Ejercicio 3\n",
    "\n",
    "Implemente el algoritmo de entrenamiento de un SOM bidimensional de forma que se pueda ver gráficamente el mapa topológico durante todo el proceso. Para poder observar el ordenamiento topológico, en el mapa grafique líneas de unión entre pares de neuronas vecinas. Para realizar las pruebas de ordenamiento topológico utilice los patrones provistos en los archivos `circulo.csv` y `te.csv`, considerando en estos casos 1000  ́epocas de entrenamiento como máximo. Dichos datos fueron generados aleatoriamente con distribución uniforme dentro de las siguientes figuras planas:\n",
    "\n",
    "1. un círculo de radio 1 centrado en el origen\n",
    "2. Una T\n",
    "\n",
    "Repita el entrenamiento con los datos en T pero para un SOM unidimensional con la misma cantidad de neuronas."
   ]
  },
  {
   "cell_type": "code",
   "execution_count": 2,
   "metadata": {},
   "outputs": [],
   "source": [
    "import numpy as np\n",
    "import matplotlib.pyplot as plt\n",
    "from matplotlib.ticker import MaxNLocator\n",
    "rng = np.random.default_rng()"
   ]
  },
  {
   "cell_type": "code",
   "execution_count": 3,
   "metadata": {},
   "outputs": [],
   "source": [
    "def generar_particiones(filename, n, p_test):\n",
    "    ds = np.genfromtxt(filename, delimiter=',')\n",
    "    n_test = int(ds.shape[0] * p_test)\n",
    "    n_train = ds.shape[0] - n_test\n",
    "    M_test = np.zeros((n,n_test),dtype = int)\n",
    "    M_train = np.zeros((n, n_train),dtype = int)\n",
    "\n",
    "    for i in range(n):\n",
    "        idx=np.random.choice(range(ds.shape[0]),ds.shape[0],replace = False)\n",
    "        idx_test = idx[0:n_test]\n",
    "        idx_train = idx[n_test:ds.shape[0]]\n",
    "        M_test[i] = idx_test\n",
    "        M_train[i] = idx_train\n",
    "    \n",
    "    return (ds, M_test, M_train)"
   ]
  },
  {
   "cell_type": "code",
   "execution_count": 86,
   "metadata": {},
   "outputs": [],
   "source": [
    "ds, testPartitionsIdx, trainPartitionsIdx  =  generar_particiones('gtp2datos/circulo.csv', 1, 0.2)\n",
    "NInputs = 2\n",
    "\n",
    "# Cantidad de patrones para entrenamiento\n",
    "NPatternsTrain = trainPartitionsIdx.shape[1]\n",
    "\n",
    "# Generar el vector de entradas para entrenamiento (solo una partición)\n",
    "X = ds[trainPartitionsIdx[0], :]"
   ]
  },
  {
   "cell_type": "code",
   "execution_count": null,
   "metadata": {},
   "outputs": [],
   "source": [
    "# el mapa es un arreglo cuyos componentes representan las neuronas numeradas fila a fila\n",
    "\n",
    "nRows = 3                                           # cantidad de filas\n",
    "nCols = 3                                           # cantidad de columnas\n",
    "actRatio = 2                                        # radio de activación\n",
    "learningRate = 1e-3\n",
    "\n",
    "# inicialización de pesos [habría que hacerlo entre -0.5 y 0.5?]\n",
    "som = rng.random((nRows * nCols, NInputs))\n",
    "print(som)"
   ]
  },
  {
   "cell_type": "markdown",
   "metadata": {},
   "source": [
    "SOM usando un vector: se organiza la numeración de izquierda a derecha, numerando fila a fila\n",
    "\n",
    "falta el bucle para actualizar los pesos de cada patrón, generar funciones para cada cosa, y hacer las tres etapas bajando los parametros cada vez"
   ]
  },
  {
   "cell_type": "code",
   "execution_count": null,
   "metadata": {},
   "outputs": [],
   "source": [
    "\n",
    "for pattern in X:\n",
    "    \n",
    "    #búsqueda de la neurona ganadora\n",
    "    actN = np.argmin(np.linalg.norm(pattern - som, 1, axis = 1))\n",
    "\n",
    "\n",
    "    #buscar en qué fila cae la neurona\n",
    "    idxRow = 0; cRow = 0\n",
    "    for i in range(0, len(som), nCols):\n",
    "        if actN in range(i, i+nCols):\n",
    "            idxRow = cRow\n",
    "            break\n",
    "        else:\n",
    "            cRow += 1\n",
    "\n",
    "    # Adaptación de pesos\n",
    "    # wj(n) + η(n) (x(n) − wj(n)) de radio de vecindad\n",
    "\n",
    "    # en la fila de la neurona activa\n",
    "    print('neuronas activadas:')\n",
    "    minIdx = idxRow*nCols\n",
    "    maxIdx = idxRow*nCols + nCols\n",
    "    som[np.clip(actN - actRatio, minIdx, maxIdx) : np.clip(actN + actRatio + 1, minIdx, maxIdx)] = \\\n",
    "        som[np.clip(actN - actRatio, minIdx, maxIdx) : np.clip(actN + actRatio + 1, minIdx, maxIdx)] + \\\n",
    "            learningRate * (pattern - som[np.clip(actN - actRatio, minIdx, maxIdx) : np.clip(actN + actRatio + 1, minIdx, maxIdx)])\n",
    "    print(f'fila 0, ({np.clip(actN - actRatio, idxRow*nCols, idxRow*nCols +nCols)}:{np.clip(actN + actRatio + 1, idxRow*nCols, idxRow*nCols + nCols)}]')\n",
    "\n",
    "    # en las filas hacia arriba y abajo de la neurona activa\n",
    "    for i in range(1, actRatio + 1):\n",
    "        # si la fila anterior existe, su índice no es negativo\n",
    "        if idxRow - i > -1:\n",
    "            \n",
    "            minIdx = (idxRow - i) * nCols\n",
    "            maxIdx = (idxRow - i) * nCols + nCols\n",
    "            print(f'rango de indices: {minIdx}-{maxIdx}')\n",
    "            # clampeo los valores para que se encuentren dentro del rango de índices de la fila\n",
    "            idxIni = np.clip(actN - (i * nCols) - (actRatio - i), minIdx, maxIdx)\n",
    "            idxFin = np.clip(actN - (i * nCols) + (actRatio - i) + 1, minIdx, maxIdx)\n",
    "            print(f'fila - {i}, ({idxIni}:{idxFin}]')\n",
    "            # actualizo los pesos de la neurona\n",
    "            som[idxIni : idxFin] = som[idxIni : idxFin] + learningRate * (pattern - som[idxIni : idxFin])\n",
    "            # si la fila a siguiente existe, el índice es menor que la cantidad de cols del mapa\n",
    "        if idxRow + i < nRows:\n",
    "            minIdx = (idxRow + i) * nCols\n",
    "            maxIdx = (idxRow + i) * nCols + nCols\n",
    "            print(f'rango de indices: {minIdx}-{maxIdx}')\n",
    "            # clampeo los valores para que se encuentren dentro del rango de índices de la fila\n",
    "            idxIni = np.clip(actN + (i * nCols) - (actRatio - i), minIdx, maxIdx)\n",
    "            idxFin = np.clip(actN + (i * nCols) + (actRatio - i) + 1, minIdx, maxIdx)\n",
    "            print(f'fila + {i}, ({actN + (i * nCols) - (actRatio - i)}:{actN + (i * nCols) + (actRatio - i) + 1}]')\n",
    "            som[idxIni : idxFin] = som[idxIni : idxFin] + learningRate * (pattern - som[idxIni : idxFin])\n"
   ]
  }
 ],
 "metadata": {
  "kernelspec": {
   "display_name": "Python 3.10.6 64-bit",
   "language": "python",
   "name": "python3"
  },
  "language_info": {
   "codemirror_mode": {
    "name": "ipython",
    "version": 3
   },
   "file_extension": ".py",
   "mimetype": "text/x-python",
   "name": "python",
   "nbconvert_exporter": "python",
   "pygments_lexer": "ipython3",
   "version": "3.10.6"
  },
  "orig_nbformat": 4,
  "vscode": {
   "interpreter": {
    "hash": "07ff7e21ea611955a5ea046bb85e7833bbeb87a9446667deecdccb9fe0872cdd"
   }
  }
 },
 "nbformat": 4,
 "nbformat_minor": 2
}

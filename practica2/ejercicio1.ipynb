{
 "cells": [
  {
   "cell_type": "markdown",
   "metadata": {},
   "source": [
    "# Ejercicio 1\n",
    "\n",
    "Codifique el algoritmo de entrenamiento para una red neuronal con RBF y pruebe su implementación en la resolución del problema `xor`, empleando los datos de la guía anterior.\n",
    "Diseñe una red RBF para resolver el problema Iris (`irisbin.csv`), considerando una cantidad de parámetros similar a la red MLP de la guía anterior. \n",
    "Luego compare la velocidad de entrenamiento y el porcentaje final de clasificación obtenido con ambas arquitecturas."
   ]
  },
  {
   "cell_type": "code",
   "execution_count": 1,
   "metadata": {},
   "outputs": [],
   "source": [
    "import numpy as np\n",
    "import matplotlib.pyplot as plt\n",
    "from matplotlib.ticker import MaxNLocator\n",
    "rng = np.random.default_rng()"
   ]
  },
  {
   "cell_type": "code",
   "execution_count": 2,
   "metadata": {},
   "outputs": [],
   "source": [
    "def generar_particiones(filename, n, p_test):\n",
    "    ds = np.genfromtxt(filename, delimiter=',')\n",
    "    n_test = int(ds.shape[0] * p_test)\n",
    "    n_train = ds.shape[0] - n_test\n",
    "    M_test = np.zeros((n,n_test),dtype = int)\n",
    "    M_train = np.zeros((n, n_train),dtype = int)\n",
    "\n",
    "    for i in range(n):\n",
    "        idx=np.random.choice(range(ds.shape[0]),ds.shape[0],replace = False)\n",
    "        idx_test = idx[0:n_test]\n",
    "        idx_train = idx[n_test:ds.shape[0]]\n",
    "        M_test[i] = idx_test\n",
    "        M_train[i] = idx_train\n",
    "    \n",
    "    return (ds, M_test, M_train)\n",
    "\n",
    "def sigmoidea(x):\n",
    "    return np.divide(2, (1 + np.exp(-1 * x))) - 1\n",
    "\n",
    "class layer:\n",
    "    def __init__(self, NNeurons, NInputs):\n",
    "        # Almacenar la dimensión de entrada y cantidad de neuronas\n",
    "        self.neurons_ = NNeurons\n",
    "        self.inputs_ = NInputs\n",
    "\n",
    "        # Inicializar la matriz de pesos de N x M con valores aleatorios\n",
    "        # con una distribución normal centrada en 0 y norma < 0.5 aprox \n",
    "        # self.w = np.random.normal(loc = 0, scale = 0.15, size = (NNeurons, NInputs))\n",
    "        self.w = rng.random((NNeurons, NInputs))\n",
    "        \n",
    "    def eval(self, x):\n",
    "        # Comprobar que la dimension de la entrada es igual a la incializada \n",
    "        assert x.shape[0] == self.inputs_, \\\n",
    "            f\"La entrada de dimensión {x.shape[0]} no coincide con la declarada {self.inputs_}\"\n",
    "\n",
    "        # Producto interno entre la entrada y los pesos\n",
    "        y = np.dot(self.w, x)\n",
    "        \n",
    "        # No linealidad\n",
    "        z = sigmoidea(y)\n",
    "        return z\n",
    "\n",
    "class MultiLayerPerceptron:\n",
    "    def __init__(self, neuronsPerLayer, NInputs):\n",
    "        self.neuronsPerLayer_ = neuronsPerLayer\n",
    "        self.NInputs = NInputs\n",
    "\n",
    "        # La red estará representada como un arreglo de capas\n",
    "        self.network_ = []\n",
    "        \n",
    "        # Auxiliar para definiar la cantidad de entradas de cada capa\n",
    "        # La primera coincide con la entrada de la red\n",
    "        NInputs_aux = NInputs\n",
    "\n",
    "        # Para cada capa representada como el número de neuronas\n",
    "        for layerNeurons in neuronsPerLayer:\n",
    "            # Se crea una capa en base a la cantidad de salidas de la capa\n",
    "            # anterior + 1 (el bias) y con el número de neuronas indicado\n",
    "            self.network_.append(layer(layerNeurons, NInputs_aux + 1))\n",
    "            \n",
    "            # Adelantar la cantidad de entradas para la próxima capa\n",
    "            NInputs_aux = layerNeurons\n",
    "\n",
    "        # Arreglo auxiliar para almacenar los gradientes instantáneos\n",
    "        self.grad_ = []\n",
    "    \n",
    "    def eval(self, input):\n",
    "        # Comprobar que la dimension de la entrada es igual a la incializada \n",
    "        assert input.shape[0] == self.NInputs, \\\n",
    "            f\"La entrada de dimensión {input.shape[0]} no coincide con la declarada {self.NInputs}\"\n",
    "\n",
    "        # La salida de cada capa será acumulada en un arreglo\n",
    "        # que es devuelto para luego utilizar en la etapa de train\n",
    "        y = [input]\n",
    "        \n",
    "        for i in range(len(self.network_)): # Para cada capa en la red\n",
    "            # Agregar el bias a la entrada de la capa i (como primer componente)\n",
    "            x_ = np.hstack((-1, y[i]))\n",
    "\n",
    "            # Calcular la salida de la capa i\n",
    "            y_ = self.network_[i].eval(x_)\n",
    "            \n",
    "            # Agregar la salida al arreglo, que será la entrada de la siguiente\n",
    "            y.append(y_)\n",
    "        \n",
    "        # Devolver la salida como tal, y las salidas intermedias de cada capa\n",
    "        return (y[-1], y)\n",
    "\n",
    "    def backward(self, y, yd):\n",
    "        # Comprobar que la dimension de la salida calculada es igual a la de la deseada \n",
    "        assert yd.shape[0] == y[-1].shape[0], \\\n",
    "            f\"La dimensión de la salida deseada ({yd.shape[0]}) no coincide con la calculada ({y[-1].shape[0]})\"\n",
    "        \n",
    "        # Comprobar que la dimension de la salida deseada es igual a la cantidad de neuronas de salida \n",
    "        assert yd.shape[0] == self.neuronsPerLayer_[-1], \\\n",
    "            f\"La dimensión de la salida deseada ({yd.shape[0]}) no coincide con la capa de salida ({self.neuronsPerLayer_[-1]})\"\n",
    "\n",
    "        # Se calcula el error entre la salida de la red (último componente de y)\n",
    "        # y la salida deseada (la dimensión será la cantidad de neuronas a la salida)\n",
    "        error_ = yd - y[-1]\n",
    "\n",
    "        # Reiniciar el vector de gradientes instantaneos\n",
    "        self.grad_ = []\n",
    "\n",
    "        # Calcular el gradiente de la capa de salida y guardarlo\n",
    "        self.grad_.append((np.multiply(error_, np.multiply((1 + y[-1]), (1 - y[-1])))) * 0.5)\n",
    "        \n",
    "        # Recorriendo las capas desde la penultima hacia la de entrada\n",
    "        for i in range(len(self.network_)-1,0,-1):\n",
    "            # De la capa siguiente (en el orden forward), tomar la matriz de pesos\n",
    "            # sin la columna de pesos asociados al bias, y transponerla (wT_)\n",
    "            wT_ = self.network_[i].w[:,1:].T\n",
    "\n",
    "            # Calcular el gradiente local instantaneo como el producto interno entre\n",
    "            # wT_ y el gradiente de error local de esa misma capa (la siguiente en orden forward)\n",
    "            # en lo que se conoce como retropropagación del error\n",
    "            # TODO: chequear el indexado\n",
    "            d_ = np.dot(wT_, self.grad_[len(self.network_)-1-i])\n",
    "\n",
    "            # Luego multiplicar por la derivada de la sigmoidea\n",
    "            g_ = (np.multiply(d_, np.multiply((1 + y[i]), (1 - y[i])))) * 0.5\n",
    "            \n",
    "            # Agregar al arreglo de gradientes\n",
    "            self.grad_.append(g_)\n",
    "\n",
    "    def update(self, y, lr):\n",
    "        # Actualización de pesos para cada capa\n",
    "        for i in range(len(self.network_)):\n",
    "            # Se calcula el producto entre el gradiente local instantáneo de la capa \n",
    "            # con la entrada de la capa (con bias), esto multiplicado por la tasa\n",
    "            # de aprendizaje resulta en la matriz de actualización de pesos\n",
    "            Dw_ = lr * np.outer(self.grad_[-(i+1)], np.hstack((-1, y[i])))\n",
    "            \n",
    "            # Los nuevos pesos se calculan como el Delta + los pesos \"viejos\"\n",
    "            self.network_[i].w = np.add(self.network_[i].w, Dw_)"
   ]
  },
  {
   "cell_type": "code",
   "execution_count": 3,
   "metadata": {},
   "outputs": [],
   "source": [
    "def kMeans(x, k):\n",
    "    # k define la cantidad de grupos\n",
    "    # se toman k grupos y se le asigna a cada patrón un grupo aleatorio\n",
    "    group_idx = np.repeat(range(k),np.ceil(x.shape[0]/k))[:x.shape[0]]\n",
    "  \n",
    "    vec_reasig = np.zeros(x.shape[0])\n",
    "    cant_it = 0\n",
    "    means_vec = np.zeros((k, x.shape[1]))\n",
    "    stdev_vec = np.zeros((k, x.shape[1]))\n",
    "\n",
    "    # mientras se hayan hecho reasignaciones (sale cuando todos son verdaderos -> no hubo reasignaciones)\n",
    "    while vec_reasig.all() != True:\n",
    "        cant_it += 1\n",
    "        \n",
    "        # se calculan los centroides de cada grupo\n",
    "        for i in range(k):\n",
    "            group = x[group_idx == i]\n",
    "            # si hay algo en el grupo\n",
    "            if(group.shape[0] > 0):\n",
    "                means_vec[i] =  np.mean(group, axis = 0)\n",
    "                # if(group.shape[0] > 1):\n",
    "                #     stdev_vec[i] = np.std(group, axis = 0)\n",
    "\n",
    "        \n",
    "        # por cada patron\n",
    "        for i, pattern in enumerate(x):\n",
    "            dist_vec = []\n",
    "            for i_group in range(k):\n",
    "                # vector distancias entre el patron y los centroides\n",
    "                dist_vec.append(np.linalg.norm(pattern - means_vec[i_group]))\n",
    "            # índice del centroide que tiene menor distancia\n",
    "            idx_min = np.argmin(dist_vec)\n",
    "            # reasignación de grupo si es necesario\n",
    "            if (group_idx[i] != idx_min):\n",
    "                vec_reasig[i] == False\n",
    "                group_idx[i] = idx_min\n",
    "            # si no hay reasignación se pone en verdadero\n",
    "            else:\n",
    "                vec_reasig[i] = True\n",
    "    \n",
    "    for i in range(k):\n",
    "        group = x[group_idx == i]\n",
    "        # si hay algo en el grupo\n",
    "        if(group.shape[0] > 1):\n",
    "            stdev_vec[i] = np.std(group, axis = 0)\n",
    "        else:\n",
    "            stdev_vec[i] = 1\n",
    "    print(np.histogram(group_idx,range(k+1)))\n",
    "            \n",
    "    return group_idx, stdev_vec, means_vec, cant_it"
   ]
  },
  {
   "cell_type": "code",
   "execution_count": 4,
   "metadata": {},
   "outputs": [],
   "source": [
    "def f_gaussian(x, c, mu):\n",
    "    # desvío fijo, igual al promedio entre el desvío de cada dimensión\n",
    "    mu_=np.mean(mu)\n",
    "    mu2= mu_*mu_\n",
    "    mu = np.ones_like(mu) * mu2\n",
    "    d_ = np.subtract(x, c)\n",
    "    c_ = np.diag(1 / mu)\n",
    "    # HAY QUE CHECKEAR LO DE LA DESVIACION POR QUE\n",
    "    #PONIENDOLA FIJA QUE ES LA SALVEDAD MAS SIMPLEMQUE DIJO DIPERSIA EL CODIGO ANDA.\n",
    "    y = np.exp(-0.5 * np.dot(np.dot(d_.T, c_), d_))\n",
    "    return y"
   ]
  },
  {
   "cell_type": "markdown",
   "metadata": {},
   "source": [
    "# XOR"
   ]
  },
  {
   "cell_type": "code",
   "execution_count": 5,
   "metadata": {},
   "outputs": [],
   "source": [
    "ds, testPartitionsIdx, trainPartitionsIdx  =  generar_particiones('gtp2datos/XOR_trn.csv', 1, 0.2)\n",
    "\n",
    "# Separar patrones para validación\n",
    "# Cantidad de patrones para entrenamiento\n",
    "NPatternsTrain = trainPartitionsIdx.shape[1]\n",
    "# Cantidad de patrones a separar para validación\n",
    "NPatternsValidation = 100\n",
    "#variable que indica el numero de salidas que tiene el dataset\n",
    "y_num=1\n",
    "# Generar el vector de entradas para entrenamiento y validación (solo una partición)\n",
    "#X_val = ds[trainPartitionsIdx[0, :NPatternsValidation], :-1]\n",
    "X = ds[trainPartitionsIdx[0], :-y_num]\n",
    "# Generar el vector de salida deseada para entrenamiento y validación\n",
    "#Yd_val = ds[trainPartitionsIdx[0, :NPatternsValidation], -1]\n",
    "Yd = ds[trainPartitionsIdx[0], -y_num].reshape((-1,y_num))"
   ]
  },
  {
   "cell_type": "code",
   "execution_count": 6,
   "metadata": {},
   "outputs": [
    {
     "name": "stdout",
     "output_type": "stream",
     "text": [
      "(array([399, 797,   0,   0, 404,   0,   0,   0,   0,   0], dtype=int64), array([ 0,  1,  2,  3,  4,  5,  6,  7,  8,  9, 10]))\n"
     ]
    }
   ],
   "source": [
    "k =10     # cantidad de grupos / RBF\n",
    "\n",
    "# [puede ser que queden grupos vacíos?]\n",
    "idx_groups, std_vec, means_vec, cant_it = kMeans(X, k)"
   ]
  },
  {
   "cell_type": "code",
   "execution_count": 7,
   "metadata": {},
   "outputs": [
    {
     "data": {
      "image/png": "[encoded data removed]",
      "text/plain": [
       "<Figure size 360x288 with 1 Axes>"
      ]
     },
     "metadata": {
      "needs_background": "light"
     },
     "output_type": "display_data"
    }
   ],
   "source": [
    "fig1 = plt.figure(figsize=(5, 4), tight_layout=True)\n",
    "# fig1.suptitle('Recta $w_1 x + w_2 y - w_0 = 0$',  fontsize=11)\n",
    "fig1_ax = fig1.add_subplot(autoscale_on=False, xlim=(-1.5, 1.5), ylim=(-1.5, 1.5))\n",
    "fig1_ax.set_aspect('equal')\n",
    "fig1_ax.grid()\n",
    "\n",
    "# Patrones\n",
    "x_x = X[:,0]\n",
    "x_y = X[:,1]\n",
    "x_color = np.where(Yd[:,0] == 1, 'C0', 'C2')\n",
    "fig1_ax.scatter(x_x, x_y, c=x_color, s=5, marker='.')\n",
    "\n",
    "# k-means\n",
    "fig1_ax.scatter(means_vec[:,0], means_vec[:,1], marker='x', c='C3')\n",
    "\n",
    "plt.show()"
   ]
  },
  {
   "cell_type": "code",
   "execution_count": 8,
   "metadata": {},
   "outputs": [],
   "source": [
    "# salidas de las RBF -> entradas del mlp\n",
    "mlp_in = np.zeros((X.shape[0], k))\n",
    "\n",
    "# por cada patrón, se calcula la salida de la capa radial pasando por la RBF\n",
    "for i, pattern in enumerate(X):\n",
    "\n",
    "    _aux = [f_gaussian(pattern, _mean, _mu) for (_mean, _mu) in zip(means_vec, std_vec)]\n",
    "    mlp_in[i] = _aux"
   ]
  },
  {
   "cell_type": "code",
   "execution_count": 9,
   "metadata": {},
   "outputs": [
    {
     "data": {
      "text/plain": [
       "(1600, 10)"
      ]
     },
     "execution_count": 9,
     "metadata": {},
     "output_type": "execute_result"
    }
   ],
   "source": [
    "#perceptrón\n",
    "layerStack = np.array([y_num])\n",
    "perceptron_simple = MultiLayerPerceptron(layerStack, k)\n",
    "\n",
    "# Parámetros de entrenamiento\n",
    "NEpoch = 5000           # Cantidad de épocas máximas (anterior 2000)\n",
    "errorThr = 0.03         # Umbral de error para finalizar (anterior 0.005)\n",
    "lr = 5E-3                # Tasa de aprendizaje (anterior 8E-3)\n",
    "\n",
    "mlp_in.shape"
   ]
  },
  {
   "cell_type": "code",
   "execution_count": 10,
   "metadata": {},
   "outputs": [
    {
     "name": "stdout",
     "output_type": "stream",
     "text": [
      "Finalizó en la época 59 con una tasa de error de 0.02875\n"
     ]
    }
   ],
   "source": [
    "# Arreglos auxiliares para guardar la evolución del error de la red\n",
    "errorRatePerEpoch = []\n",
    "MMSEPerEpoch = []\n",
    "\n",
    "for epoch in range(NEpoch): # Para cada época\n",
    "    for pattern, yd in zip(mlp_in, Yd): # Para cada patrón en la partición\n",
    "        # Calcular la salida según los pesos actuales (pasada hacia adelante)\n",
    "        (_, y_) = perceptron_simple.eval(pattern)\n",
    "        #print(f'salida{_}={y_}')\n",
    "\n",
    "        # Realizar la propagación hacia atrás donde se calculan los gradientes\n",
    "        # instantáneos (pasada hacia atrás)\n",
    "        perceptron_simple.backward(y_, yd)\n",
    "        \n",
    "        # Actualizar los pesos de la red\n",
    "        perceptron_simple.update(y_, lr)\n",
    "    \n",
    "    # Para la validación se utilizarán solo algunos patrones y se calculará una\n",
    "    # tasa de error, si esta es menor al umbral, se termina el proceso de entrenamiento\n",
    "    # A la vez, se calculará el error cuadrático medio para tener una evolución\n",
    "    # de dicha variable a lo largo de las épocas\n",
    "    errorsAccum_ = 0    # Acumulador de errores\n",
    "    SEAcumm_ = 0        # Acumulador error cuadrático\n",
    "\n",
    "    # [valido con todos los patrones]\n",
    "    for patron, yd in zip(mlp_in, Yd):\n",
    "        # Evaluar el patron\n",
    "        (z_, _) = perceptron_simple.eval(patron)\n",
    "        \n",
    "        #CODIFICACION\n",
    "        y_ = -1 if (z_[-1] < 0) else 1\n",
    "  \n",
    "        \n",
    "        # Comparación con la salida deseada y acumulación de errores\n",
    "        errorsAccum_ += int(np.any(np.not_equal(y_, yd)))\n",
    "  \n",
    "        # Cálculo del error cuadrático y acumulación\n",
    "        SEAcumm_ += np.sum(np.square(yd - z_))\n",
    "\n",
    "    # Tasa de error: errores / patrones evaluados\n",
    "    errorRate_ = (errorsAccum_/X.shape[0])\n",
    "    # Guardar la tasa de error de1000 la época\n",
    "    errorRatePerEpoch= np.append(errorRatePerEpoch, [errorRate_])\n",
    "    \n",
    "    # Calcular el error cuadrático medio promedio: MSE / patrones evaluados\n",
    "    MSEMean_= (SEAcumm_/X.shape[0])\n",
    "    # Guardar el error cuadrático medio promedio de la época\n",
    "    MMSEPerEpoch = np.append(MMSEPerEpoch, MSEMean_)\n",
    "\n",
    "    # Si la tasa de error es menor al umbral, termina el proceso de entrenamiento\n",
    "    if (errorRate_ < errorThr):\n",
    "        break\n",
    "\n",
    "    # Cada 100 épocas mostrar el error\n",
    "    if (epoch+1) % 100 == 0:\n",
    "        print(f'Época {epoch+1}: tasa de error de {errorRatePerEpoch[-1]} | MSE promedio {MMSEPerEpoch[-1]}')\n",
    "   \n",
    "# Imprimir información acerca del entrenamiento\n",
    "print(f'Finalizó en la época {epoch+1} con una tasa de error de {errorRatePerEpoch[-1]}')"
   ]
  },
  {
   "cell_type": "code",
   "execution_count": 11,
   "metadata": {},
   "outputs": [
    {
     "data": {
      "image/png": "[encoded data removed]",
      "text/plain": [
       "<Figure size 432x288 with 2 Axes>"
      ]
     },
     "metadata": {
      "needs_background": "light"
     },
     "output_type": "display_data"
    }
   ],
   "source": [
    "# Gráfica de la tasa de error por época junto con el MSE promedio por época\n",
    "epochs = errorRatePerEpoch.shape[0]\n",
    "xx_ = range(epochs)\n",
    "\n",
    "fig1, fig1_ax = plt.subplots()\n",
    "fig1.suptitle(\"Tasa de error y MSE promedio por épocas\")\n",
    "fig1_ax.set_xlabel('Épocas')\n",
    "fig1_ax.xaxis.set_major_locator(MaxNLocator(integer=True)) # Solo ticks en enteros\n",
    "fig1_ax.grid()\n",
    "fig1_ax.set_ylabel('Tasa de error')\n",
    "\n",
    "fig1_plot1 = fig1_ax.plot(xx_, errorRatePerEpoch, label='Tasa de error')\n",
    "\n",
    "fig1_ax2 = fig1_ax.twinx()\n",
    "fig1_plot2 = fig1_ax2.plot(xx_, MMSEPerEpoch, label='MSE promedio', color='C2')\n",
    "fig1_ax2.set_ylabel('MSE promedio')\n",
    "\n",
    "# added these three lines\n",
    "lns = fig1_plot1+fig1_plot2\n",
    "labs = [l.get_label() for l in lns]\n",
    "fig1_ax.legend(lns, labs, loc=0)\n",
    "\n",
    "plt.show()"
   ]
  },
  {
   "cell_type": "markdown",
   "metadata": {},
   "source": [
    "test"
   ]
  },
  {
   "cell_type": "code",
   "execution_count": 12,
   "metadata": {},
   "outputs": [
    {
     "name": "stdout",
     "output_type": "stream",
     "text": [
      "Tasa de error en prueba 0.0\n"
     ]
    }
   ],
   "source": [
    "# Procesar los datos para test\n",
    "# Generar el vector de entradas para test\n",
    "XTest = ds[testPartitionsIdx[0,:], :-y_num]\n",
    "# Generar el vector de salida deseada para test\n",
    "YdTest = ds[testPartitionsIdx[0,:], -y_num]\n",
    "\n",
    "mlp_in_test = np.zeros((XTest.shape[0], k))\n",
    "\n",
    "# por cada patrón, se calcula la salida de la capa radial pasando por la RBF\n",
    "for i, pattern in enumerate(XTest):\n",
    "    _aux = [f_gaussian(pattern, _mean, _mu) for (_mean, _mu) in zip(means_vec, std_vec)]\n",
    "    mlp_in_test[i] = _aux / np.linalg.norm(_aux)\n",
    "\n",
    "errorsAccum_ = 0     # Acumulador de errores\n",
    "for pattern, yd in zip(mlp_in_test, YdTest):\n",
    "    # Calcular la salida\n",
    "    (z_, _) = perceptron_simple.eval(pattern)\n",
    "    \n",
    "    # Codificación de la salida\n",
    "    y_ = -1 if (z_[-1] < 0) else 1\n",
    "    \n",
    "    # Comparación con la salida deseada y acumulación de errores\n",
    "    errorsAccum_ += int(y_ != yd)\n",
    "\n",
    "print(f'Tasa de error en prueba {errorsAccum_ / XTest.shape[0]}')"
   ]
  },
  {
   "cell_type": "markdown",
   "metadata": {},
   "source": [
    "# irisbin\n"
   ]
  },
  {
   "cell_type": "code",
   "execution_count": 13,
   "metadata": {},
   "outputs": [],
   "source": [
    "ds, testPartitionsIdx, trainPartitionsIdx  =  generar_particiones('gtp2datos/irisbin.csv', 1, 0.2)\n",
    "# Separar patrones para validación\n",
    "# Cantidad de patrones para entrenamiento\n",
    "NPatternsTrain = trainPartitionsIdx.shape[1]\n",
    "# Cantidad de patrones a separar para validación\n",
    "NPatternsValidation = 100\n",
    "#variable que indica la cantidad de salidas en el dataset\n",
    "y_num=3\n",
    "\n",
    "\n",
    "#NO ESTAREMOS CAMBIANDO EL DATA SET ACA?\n",
    "\n",
    "# Generar el vector de entradas para entrenamiento y validación (solo una partición)\n",
    "#X_val = ds[trainPartitionsIdx[0, :NPatternsValidation], :-1]\n",
    "X = ds[trainPartitionsIdx[0], :-y_num]\n",
    "# Generar el vector de salida deseada para entrenamiento y validación\n",
    "#Yd_val = ds[trainPartitionsIdx[0, :NPatternsValidation], -1]\n",
    "Yd = ds[trainPartitionsIdx[0], -y_num:]\n",
    "\n",
    "# X = ds[trainPartitionsIdx[0], :-y_num]\n",
    "# # Generar el vector de salida deseada para entrenamiento y validación\n",
    "# #Yd_val = ds[trainPartitionsIdx[0, :NPatternsValidation], -1]\n",
    "# Yd = ds[trainPartitionsIdx[0], -y_num].reshape((-1,y_num))"
   ]
  },
  {
   "cell_type": "code",
   "execution_count": 14,
   "metadata": {},
   "outputs": [
    {
     "name": "stdout",
     "output_type": "stream",
     "text": [
      "(array([53, 51, 16], dtype=int64), array([0, 1, 2, 3]))\n"
     ]
    }
   ],
   "source": [
    "k = 3      # cantidad de grupos / RBF\n",
    "\n",
    "# [puede ser que queden grupos vacíos?]\n",
    "idx_groups, std_vec, means_vec, cant_it = kMeans(X, k)"
   ]
  },
  {
   "cell_type": "code",
   "execution_count": 15,
   "metadata": {},
   "outputs": [],
   "source": [
    "# salidas de las RBF -> entradas del mlp\n",
    "mlp_in = np.zeros((X.shape[0], k))\n",
    "\n",
    "# por cada patrón, se calcula la salida de la capa radial pasando por la RBF\n",
    "for i, pattern in enumerate(X):\n",
    "\n",
    "    _aux = [f_gaussian(pattern, _mean, _mu) for (_mean, _mu) in zip(means_vec, std_vec)]\n",
    "    mlp_in[i] = _aux"
   ]
  },
  {
   "cell_type": "code",
   "execution_count": 16,
   "metadata": {},
   "outputs": [
    {
     "data": {
      "text/plain": [
       "(120, 3)"
      ]
     },
     "execution_count": 16,
     "metadata": {},
     "output_type": "execute_result"
    }
   ],
   "source": [
    "#perceptrón\n",
    "layerStack = np.array([y_num])\n",
    "perceptron_simple = MultiLayerPerceptron(layerStack, k)\n",
    "\n",
    "# Parámetros de entrenamiento\n",
    "NEpoch = 5000           # Cantidad de épocas máximas (anterior 2000)\n",
    "errorThr = 0.03         # Umbral de error para finalizar (anterior 0.005)\n",
    "lr = 5E-3                # Tasa de aprendizaje (anterior 8E-3)\n",
    "\n",
    "mlp_in.shape"
   ]
  },
  {
   "cell_type": "code",
   "execution_count": 17,
   "metadata": {},
   "outputs": [
    {
     "name": "stdout",
     "output_type": "stream",
     "text": [
      "Época 100: tasa de error de 0.2916666666666667 | MSE promedio 1.8377159136581132\n",
      "Época 200: tasa de error de 0.2833333333333333 | MSE promedio 1.6550389711492777\n",
      "Época 300: tasa de error de 0.2833333333333333 | MSE promedio 1.5758974815520455\n",
      "Época 400: tasa de error de 0.2833333333333333 | MSE promedio 1.5293614715355348\n",
      "Época 500: tasa de error de 0.2833333333333333 | MSE promedio 1.4976761404263834\n",
      "Época 600: tasa de error de 0.2833333333333333 | MSE promedio 1.4741992240795014\n",
      "Época 700: tasa de error de 0.2833333333333333 | MSE promedio 1.4558243874827228\n",
      "Época 800: tasa de error de 0.2833333333333333 | MSE promedio 1.440880089302845\n",
      "Época 900: tasa de error de 0.2833333333333333 | MSE promedio 1.4283761076887305\n",
      "Época 1000: tasa de error de 0.2833333333333333 | MSE promedio 1.4176833306231709\n",
      "Época 1100: tasa de error de 0.2833333333333333 | MSE promedio 1.4083802097582867\n",
      "Época 1200: tasa de error de 0.2833333333333333 | MSE promedio 1.4001721756456693\n",
      "Época 1300: tasa de error de 0.2833333333333333 | MSE promedio 1.3928462760543752\n",
      "Época 1400: tasa de error de 0.2833333333333333 | MSE promedio 1.3862441724059245\n",
      "Época 1500: tasa de error de 0.2833333333333333 | MSE promedio 1.3802453123458889\n",
      "Época 1600: tasa de error de 0.2833333333333333 | MSE promedio 1.3747560359923219\n",
      "Época 1700: tasa de error de 0.2833333333333333 | MSE promedio 1.3697022918200408\n",
      "Época 1800: tasa de error de 0.275 | MSE promedio 1.3650246289017045\n",
      "Época 1900: tasa de error de 0.275 | MSE promedio 1.3606746699180274\n",
      "Época 2000: tasa de error de 0.26666666666666666 | MSE promedio 1.3566125737974342\n",
      "Época 2100: tasa de error de 0.26666666666666666 | MSE promedio 1.3528051756683994\n",
      "Época 2200: tasa de error de 0.26666666666666666 | MSE promedio 1.3492246002649508\n",
      "Época 2300: tasa de error de 0.26666666666666666 | MSE promedio 1.3458472125932432\n",
      "Época 2400: tasa de error de 0.26666666666666666 | MSE promedio 1.3426528129613637\n",
      "Época 2500: tasa de error de 0.26666666666666666 | MSE promedio 1.339624011806671\n",
      "Época 2600: tasa de error de 0.26666666666666666 | MSE promedio 1.3367457386769468\n",
      "Época 2700: tasa de error de 0.26666666666666666 | MSE promedio 1.3340048525945802\n",
      "Época 2800: tasa de error de 0.26666666666666666 | MSE promedio 1.3313898299394944\n",
      "Época 2900: tasa de error de 0.26666666666666666 | MSE promedio 1.3288905122445946\n",
      "Época 3000: tasa de error de 0.26666666666666666 | MSE promedio 1.3264979007577036\n",
      "Época 3100: tasa de error de 0.26666666666666666 | MSE promedio 1.324203987844689\n",
      "Época 3200: tasa de error de 0.26666666666666666 | MSE promedio 1.3220016176627296\n",
      "Época 3300: tasa de error de 0.26666666666666666 | MSE promedio 1.3198843702730245\n",
      "Época 3400: tasa de error de 0.26666666666666666 | MSE promedio 1.317846464662474\n",
      "Época 3500: tasa de error de 0.26666666666666666 | MSE promedio 1.3158826771248036\n",
      "Época 3600: tasa de error de 0.26666666666666666 | MSE promedio 1.31398827219854\n",
      "Época 3700: tasa de error de 0.26666666666666666 | MSE promedio 1.312158943932895\n",
      "Época 3800: tasa de error de 0.26666666666666666 | MSE promedio 1.3103907656967313\n",
      "Época 3900: tasa de error de 0.26666666666666666 | MSE promedio 1.3086801470923477\n",
      "Época 4000: tasa de error de 0.26666666666666666 | MSE promedio 1.307023796807968\n",
      "Época 4100: tasa de error de 0.26666666666666666 | MSE promedio 1.3054186904583058\n",
      "Época 4200: tasa de error de 0.26666666666666666 | MSE promedio 1.3038620426338976\n",
      "Época 4300: tasa de error de 0.26666666666666666 | MSE promedio 1.3023512825172576\n",
      "Época 4400: tasa de error de 0.26666666666666666 | MSE promedio 1.3008840325344253\n",
      "Época 4500: tasa de error de 0.26666666666666666 | MSE promedio 1.299458089600025\n",
      "Época 4600: tasa de error de 0.26666666666666666 | MSE promedio 1.2980714085867673\n",
      "Época 4700: tasa de error de 0.26666666666666666 | MSE promedio 1.2967220877098595\n",
      "Época 4800: tasa de error de 0.26666666666666666 | MSE promedio 1.2954083555657483\n",
      "Época 4900: tasa de error de 0.26666666666666666 | MSE promedio 1.2941285596049126\n",
      "Época 5000: tasa de error de 0.26666666666666666 | MSE promedio 1.2928811558518576\n",
      "Finalizó en la época 5000 con una tasa de error de 0.26666666666666666\n"
     ]
    }
   ],
   "source": [
    "# Arreglos auxiliares para guardar la evolución del error de la red\n",
    "errorRatePerEpoch = []\n",
    "MMSEPerEpoch = []\n",
    "\n",
    "for epoch in range(NEpoch): # Para cada época\n",
    "    for pattern, yd in zip(mlp_in, Yd): # Para cada patrón en la partición\n",
    "        # Calcular la salida según los pesos actuales (pasada hacia adelante)\n",
    "        (_, y_) = perceptron_simple.eval(pattern)\n",
    "        #print(f'salida{_}={y_}')\n",
    "\n",
    "        # Realizar la propagación hacia atrás donde se calculan los gradientes\n",
    "        # instantáneos (pasada hacia atrás)\n",
    "        perceptron_simple.backward(y_, yd)\n",
    "        \n",
    "        # Actualizar los pesos de la red\n",
    "        perceptron_simple.update(y_, lr)\n",
    "    \n",
    "    # Para la validación se utilizarán solo algunos patrones y se calculará una\n",
    "    # tasa de error, si esta es menor al umbral, se termina el proceso de entrenamiento\n",
    "    # A la vez, se calculará el error cuadrático medio para tener una evolución\n",
    "    # de dicha variable a lo largo de las épocas\n",
    "    errorsAccum_ = 0    # Acumulador de errores\n",
    "    SEAcumm_ = 0        # Acumulador error cuadrático\n",
    "\n",
    "    # [valido con todos los patrones]\n",
    "    for patron, yd in zip(mlp_in, Yd):\n",
    "        # Evaluar el patron\n",
    "        (z_, _) = perceptron_simple.eval(patron)\n",
    "      \n",
    "        #CODIFICACION\n",
    "        if z_[0] == z_.max():\n",
    "            y_ = [1, -1, -1]\n",
    "        elif z_[1] == z_.max():\n",
    "            y_ = [-1, 1, -1]\n",
    "        else:\n",
    "             y_ = [-1, -1, 1]\n",
    "  \n",
    "        # Comparación con la salida deseada y acumulación de errores\n",
    "        errorsAccum_ += int(np.any(np.not_equal(y_, yd)))\n",
    "  \n",
    "        # Cálculo del error cuadrático y acumulación\n",
    "        SEAcumm_ += np.sum(np.square(yd - z_))\n",
    "\n",
    "    # Tasa de error: errores / patrones evaluados\n",
    "    errorRate_ = (errorsAccum_/X.shape[0])\n",
    "    # Guardar la tasa de error de1000 la época\n",
    "    errorRatePerEpoch= np.append(errorRatePerEpoch, [errorRate_])\n",
    "    \n",
    "    # Calcular el error cuadrático medio promedio: MSE / patrones evaluados\n",
    "    MSEMean_= (SEAcumm_/X.shape[0])\n",
    "    # Guardar el error cuadrático medio promedio de la época\n",
    "    MMSEPerEpoch = np.append(MMSEPerEpoch, MSEMean_)\n",
    "\n",
    "    # Si la tasa de error es menor al umbral, termina el proceso de entrenamiento\n",
    "    if (errorRate_ < errorThr):\n",
    "        break\n",
    "\n",
    "    # Cada 100 épocas mostrar el error\n",
    "    if (epoch+1) % 100 == 0:\n",
    "        print(f'Época {epoch+1}: tasa de error de {errorRatePerEpoch[-1]} | MSE promedio {MMSEPerEpoch[-1]}')\n",
    "   \n",
    "# Imprimir información acerca del entrenamiento\n",
    "print(f'Finalizó en la época {epoch+1} con una tasa de error de {errorRatePerEpoch[-1]}')"
   ]
  },
  {
   "cell_type": "code",
   "execution_count": 18,
   "metadata": {},
   "outputs": [
    {
     "data": {
      "image/png": "[encoded data removed]",
      "text/plain": [
       "<Figure size 432x288 with 2 Axes>"
      ]
     },
     "metadata": {
      "needs_background": "light"
     },
     "output_type": "display_data"
    }
   ],
   "source": [
    "# Gráfica de la tasa de error por época junto con el MSE promedio por época\n",
    "epochs = errorRatePerEpoch.shape[0]\n",
    "xx_ = range(epochs)\n",
    "\n",
    "fig1, fig1_ax = plt.subplots()\n",
    "fig1.suptitle(\"Tasa de error y MSE promedio por épocas\")\n",
    "fig1_ax.set_xlabel('Épocas')\n",
    "fig1_ax.xaxis.set_major_locator(MaxNLocator(integer=True)) # Solo ticks en enteros\n",
    "fig1_ax.grid()\n",
    "fig1_ax.set_ylabel('Tasa de error')\n",
    "\n",
    "fig1_plot1 = fig1_ax.plot(xx_, errorRatePerEpoch, label='Tasa de error')\n",
    "\n",
    "fig1_ax2 = fig1_ax.twinx()\n",
    "fig1_plot2 = fig1_ax2.plot(xx_, MMSEPerEpoch, label='MSE promedio', color='C2')\n",
    "fig1_ax2.set_ylabel('MSE promedio')\n",
    "\n",
    "# added these three lines\n",
    "lns = fig1_plot1+fig1_plot2\n",
    "labs = [l.get_label() for l in lns]\n",
    "fig1_ax.legend(lns, labs, loc=0)\n",
    "\n",
    "plt.show()"
   ]
  },
  {
   "cell_type": "code",
   "execution_count": 19,
   "metadata": {},
   "outputs": [
    {
     "name": "stdout",
     "output_type": "stream",
     "text": [
      "Tasa de error en prueba 0.3\n"
     ]
    }
   ],
   "source": [
    "# Procesar los datos para test\n",
    "# Generar el vector de entradas para test\n",
    "XTest = ds[testPartitionsIdx[0,:], :-y_num]\n",
    "# Generar el vector de salida deseada para test\n",
    "YdTest = ds[testPartitionsIdx[0,:], -y_num:]\n",
    "\n",
    "mlp_in_test = np.zeros((XTest.shape[0], k))\n",
    "\n",
    "# por cada patrón, se calcula la salida de la capa radial pasando por la RBF\n",
    "for i, pattern in enumerate(XTest):\n",
    "\n",
    "\n",
    "    _aux = [f_gaussian(pattern, _mean, _mu) for (_mean, _mu) in zip(means_vec, std_vec)]\n",
    "    mlp_in_test[i] = _aux / np.linalg.norm(_aux)\n",
    "\n",
    "errorsAccum_ = 0     # Acumulador de errores\n",
    "for pattern, yd in zip(mlp_in_test, YdTest):\n",
    "    # Calcular la salida\n",
    "    (z_, _) = perceptron_simple.eval(pattern)\n",
    "    \n",
    "    # Codificación de la salida\n",
    "        #CODIFICACION\n",
    "    if z_[0] == z_.max():\n",
    "        y_ = [1, -1, -1]\n",
    "    elif z_[1] == z_.max():\n",
    "        y_ = [-1, 1, -1]\n",
    "    else:\n",
    "            y_ = [-1, -1, 1]\n",
    "    \n",
    "    # Comparación con la salida deseada y acumulación de errores\n",
    "    errorsAccum_ += int(np.any(np.not_equal(y_, yd)))\n",
    "\n",
    "print(f'Tasa de error en prueba {errorsAccum_ / XTest.shape[0]}')"
   ]
  }
 ],
 "metadata": {
  "kernelspec": {
   "display_name": "Python 3.10.4 64-bit",
   "language": "python",
   "name": "python3"
  },
  "language_info": {
   "codemirror_mode": {
    "name": "ipython",
    "version": 3
   },
   "file_extension": ".py",
   "mimetype": "text/x-python",
   "name": "python",
   "nbconvert_exporter": "python",
   "pygments_lexer": "ipython3",
   "version": "3.10.4"
  },
  "orig_nbformat": 4,
  "vscode": {
   "interpreter": {
    "hash": "52634da84371cba311ea128a5ea7cdc41ff074b781779e754b270ff9f8153cee"
   }
  }
 },
 "nbformat": 4,
 "nbformat_minor": 2
}

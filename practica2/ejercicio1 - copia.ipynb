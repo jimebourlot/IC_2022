{
 "cells": [
  {
   "cell_type": "markdown",
   "metadata": {},
   "source": [
    "# Ejercicio 1\n",
    "\n",
    "Codifique el algoritmo de entrenamiento para una red neuronal con RBF y pruebe su implementación en la resolución del problema `xor`, empleando los datos de la guía anterior.\n",
    "Diseñe una red RBF para resolver el problema Iris (`irisbin.csv`), considerando una cantidad de parámetros similar a la red MLP de la guía anterior. \n",
    "Luego compare la velocidad de entrenamiento y el porcentaje final de clasificación obtenido con ambas arquitecturas."
   ]
  },
  {
   "cell_type": "code",
   "execution_count": 1,
   "metadata": {},
   "outputs": [],
   "source": [
    "import numpy as np\n",
    "import matplotlib.pyplot as plt\n",
    "from matplotlib.ticker import MaxNLocator\n",
    "rng = np.random.default_rng()"
   ]
  },
  {
   "cell_type": "code",
   "execution_count": 2,
   "metadata": {},
   "outputs": [],
   "source": [
    "def generar_particiones(filename, n, p_test):\n",
    "    ds = np.genfromtxt(filename, delimiter=',')\n",
    "    n_test = int(ds.shape[0] * p_test)\n",
    "    n_train = ds.shape[0] - n_test\n",
    "    M_test = np.zeros((n,n_test),dtype = int)\n",
    "    M_train = np.zeros((n, n_train),dtype = int)\n",
    "\n",
    "    for i in range(n):\n",
    "        idx=np.random.choice(range(ds.shape[0]),ds.shape[0],replace = False)\n",
    "        idx_test = idx[0:n_test]\n",
    "        idx_train = idx[n_test:ds.shape[0]]\n",
    "        M_test[i] = idx_test\n",
    "        M_train[i] = idx_train\n",
    "    \n",
    "    return (ds, M_test, M_train)\n",
    "\n",
    "def sigmoidea(x):\n",
    "    return np.divide(2, (1 + np.exp(-1 * x))) - 1\n",
    "\n",
    "class layer:\n",
    "    def __init__(self, NNeurons, NInputs):\n",
    "        # Almacenar la dimensión de entrada y cantidad de neuronas\n",
    "        self.neurons_ = NNeurons\n",
    "        self.inputs_ = NInputs\n",
    "\n",
    "        # Inicializar la matriz de pesos de N x M con valores aleatorios\n",
    "        # con una distribución normal centrada en 0 y norma < 0.5 aprox \n",
    "        # self.w = np.random.normal(loc = 0, scale = 0.15, size = (NNeurons, NInputs))\n",
    "        self.w = rng.random((NNeurons, NInputs))\n",
    "        \n",
    "    def eval(self, x):\n",
    "        # Comprobar que la dimension de la entrada es igual a la incializada \n",
    "        assert x.shape[0] == self.inputs_, \\\n",
    "            f\"La entrada de dimensión {x.shape[0]} no coincide con la declarada {self.inputs_}\"\n",
    "\n",
    "        # Producto interno entre la entrada y los pesos\n",
    "        y = np.dot(self.w, x)\n",
    "        \n",
    "        # No linealidad\n",
    "        z = sigmoidea(y)\n",
    "        return z\n",
    "\n",
    "class MultiLayerPerceptron:\n",
    "    def __init__(self, neuronsPerLayer, NInputs):\n",
    "        self.neuronsPerLayer_ = neuronsPerLayer\n",
    "        self.NInputs = NInputs\n",
    "\n",
    "        # La red estará representada como un arreglo de capas\n",
    "        self.network_ = []\n",
    "        \n",
    "        # Auxiliar para definiar la cantidad de entradas de cada capa\n",
    "        # La primera coincide con la entrada de la red\n",
    "        NInputs_aux = NInputs\n",
    "\n",
    "        # Para cada capa representada como el número de neuronas\n",
    "        for layerNeurons in neuronsPerLayer:\n",
    "            # Se crea una capa en base a la cantidad de salidas de la capa\n",
    "            # anterior + 1 (el bias) y con el número de neuronas indicado\n",
    "            self.network_.append(layer(layerNeurons, NInputs_aux + 1))\n",
    "            \n",
    "            # Adelantar la cantidad de entradas para la próxima capa\n",
    "            NInputs_aux = layerNeurons\n",
    "\n",
    "        # Arreglo auxiliar para almacenar los gradientes instantáneos\n",
    "        self.grad_ = []\n",
    "    \n",
    "    def eval(self, input):\n",
    "        # Comprobar que la dimension de la entrada es igual a la incializada \n",
    "        assert input.shape[0] == self.NInputs, \\\n",
    "            f\"La entrada de dimensión {input.shape[0]} no coincide con la declarada {self.NInputs}\"\n",
    "\n",
    "        # La salida de cada capa será acumulada en un arreglo\n",
    "        # que es devuelto para luego utilizar en la etapa de train\n",
    "        y = [input]\n",
    "        \n",
    "        for i in range(len(self.network_)): # Para cada capa en la red\n",
    "            # Agregar el bias a la entrada de la capa i (como primer componente)\n",
    "            x_ = np.hstack((-1, y[i]))\n",
    "\n",
    "            # Calcular la salida de la capa i\n",
    "            y_ = self.network_[i].eval(x_)\n",
    "            \n",
    "            # Agregar la salida al arreglo, que será la entrada de la siguiente\n",
    "            y.append(y_)\n",
    "        \n",
    "        # Devolver la salida como tal, y las salidas intermedias de cada capa\n",
    "        return (y[-1], y)\n",
    "\n",
    "    def backward(self, y, yd):\n",
    "        # Comprobar que la dimension de la salida calculada es igual a la de la deseada \n",
    "        assert yd.shape[0] == y[-1].shape[0], \\\n",
    "            f\"La dimensión de la salida deseada ({yd.shape[0]}) no coincide con la calculada ({y[-1].shape[0]})\"\n",
    "        \n",
    "        # Comprobar que la dimension de la salida deseada es igual a la cantidad de neuronas de salida \n",
    "        assert yd.shape[0] == self.neuronsPerLayer_[-1], \\\n",
    "            f\"La dimensión de la salida deseada ({yd.shape[0]}) no coincide con la capa de salida ({self.neuronsPerLayer_[-1]})\"\n",
    "\n",
    "        # Se calcula el error entre la salida de la red (último componente de y)\n",
    "        # y la salida deseada (la dimensión será la cantidad de neuronas a la salida)\n",
    "        error_ = yd - y[-1]\n",
    "\n",
    "        # Reiniciar el vector de gradientes instantaneos\n",
    "        self.grad_ = []\n",
    "\n",
    "        # Calcular el gradiente de la capa de salida y guardarlo\n",
    "        self.grad_.append((np.multiply(error_, np.multiply((1 + y[-1]), (1 - y[-1])))) * 0.5)\n",
    "        \n",
    "        # Recorriendo las capas desde la penultima hacia la de entrada\n",
    "        for i in range(len(self.network_)-1,0,-1):\n",
    "            # De la capa siguiente (en el orden forward), tomar la matriz de pesos\n",
    "            # sin la columna de pesos asociados al bias, y transponerla (wT_)\n",
    "            wT_ = self.network_[i].w[:,1:].T\n",
    "\n",
    "            # Calcular el gradiente local instantaneo como el producto interno entre\n",
    "            # wT_ y el gradiente de error local de esa misma capa (la siguiente en orden forward)\n",
    "            # en lo que se conoce como retropropagación del error\n",
    "            # TODO: chequear el indexado\n",
    "            d_ = np.dot(wT_, self.grad_[len(self.network_)-1-i])\n",
    "\n",
    "            # Luego multiplicar por la derivada de la sigmoidea\n",
    "            g_ = (np.multiply(d_, np.multiply((1 + y[i]), (1 - y[i])))) * 0.5\n",
    "            \n",
    "            # Agregar al arreglo de gradientes\n",
    "            self.grad_.append(g_)\n",
    "\n",
    "    def update(self, y, lr):\n",
    "        # Actualización de pesos para cada capa\n",
    "        for i in range(len(self.network_)):\n",
    "            # Se calcula el producto entre el gradiente local instantáneo de la capa \n",
    "            # con la entrada de la capa (con bias), esto multiplicado por la tasa\n",
    "            # de aprendizaje resulta en la matriz de actualización de pesos\n",
    "            Dw_ = lr * np.outer(self.grad_[-(i+1)], np.hstack((-1, y[i])))\n",
    "            \n",
    "            # Los nuevos pesos se calculan como el Delta + los pesos \"viejos\"\n",
    "            self.network_[i].w = np.add(self.network_[i].w, Dw_)"
   ]
  },
  {
   "cell_type": "code",
   "execution_count": 3,
   "metadata": {},
   "outputs": [],
   "source": [
    "def kMeans(x, k):\n",
    "    # k define la cantidad de grupos\n",
    "    # se toman k grupos y se le asigna a cada patrón un grupo aleatorio\n",
    "    group_idx = np.repeat(range(k),np.ceil(x.shape[0]/k))[:x.shape[0]]\n",
<<<<<<< HEAD
    "  \n",
=======
    "\n",
>>>>>>> 71742ae1902ee68eec8d43c1cc9013eea3629f86
    "    vec_reasig = np.zeros(x.shape[0])\n",
    "    cant_it = 0\n",
    "    means_vec = np.zeros((k, x.shape[1]))\n",
    "    stdev_vec = np.zeros((k, x.shape[1]))\n",
    "\n",
    "    # mientras se hayan hecho reasignaciones (sale cuando todos son verdaderos -> no hubo reasignaciones)\n",
    "    while vec_reasig.all() != True:\n",
    "        cant_it += 1\n",
    "        \n",
    "        # se calculan los centroides de cada grupo\n",
    "        for i in range(k):\n",
    "            group = x[group_idx == i]\n",
    "            # si hay algo en el grupo\n",
    "            if(group.shape[0] > 0):\n",
    "                means_vec[i] =  np.mean(group, axis = 0)\n",
    "                # if(group.shape[0] > 1):\n",
    "                #     stdev_vec[i] = np.std(group, axis = 0)\n",
    "\n",
    "        \n",
    "        # por cada patron\n",
    "        for i, pattern in enumerate(x):\n",
    "            dist_vec = []\n",
    "            for i_group in range(k):\n",
    "                # vector distancias entre el patron y los centroides\n",
    "                dist_vec.append(np.linalg.norm(pattern - means_vec[i_group]))\n",
    "            # índice del centroide que tiene menor distancia\n",
    "            idx_min = np.argmin(dist_vec)\n",
    "            # reasignación de grupo si es necesario\n",
    "            if (group_idx[i] != idx_min):\n",
    "                vec_reasig[i] == False\n",
    "                group_idx[i] = idx_min\n",
    "            # si no hay reasignación se pone en verdadero\n",
    "            else:\n",
    "                vec_reasig[i] = True\n",
    "    \n",
    "    for i in range(k):\n",
    "        group = x[group_idx == i]\n",
    "        # si hay algo en el grupo\n",
    "        if(group.shape[0] > 1):\n",
    "            stdev_vec[i] = np.std(group, axis = 0)\n",
    "        else:\n",
    "            stdev_vec[i] = 1\n",
    "    print(np.histogram(group_idx,range(k+1)))\n",
    "            \n",
    "    return group_idx, stdev_vec, means_vec, cant_it"
   ]
  },
  {
   "cell_type": "code",
   "execution_count": 4,
   "metadata": {},
   "outputs": [],
   "source": [
    "def f_gaussian(x, c, mu):\n",
    "    # desvío fijo, igual al promedio entre el desvío de cada dimensión\n",
    "    mu_=np.mean(mu)\n",
    "    mu2= mu_*mu_\n",
    "    mu = np.ones_like(mu) * mu2\n",
    "    d_ = np.subtract(x, c)\n",
    "    c_ = np.diag(1 / mu)\n",
    "    # HAY QUE CHECKEAR LO DE LA DESVIACION POR QUE\n",
    "    #PONIENDOLA FIJA QUE ES LA SALVEDAD MAS SIMPLEMQUE DIJO DIPERSIA EL CODIGO ANDA.\n",
    "    y = np.exp(-0.5 * np.dot(np.dot(d_.T, c_), d_))\n",
    "    return y"
   ]
  },
  {
   "cell_type": "markdown",
   "metadata": {},
   "source": [
    "## Problema XOR"
   ]
  },
  {
   "cell_type": "code",
   "execution_count": 5,
   "metadata": {},
   "outputs": [],
   "source": [
    "ds, testPartitionsIdx, trainPartitionsIdx  =  generar_particiones('gtp2datos/XOR_trn.csv', 1, 0.2)\n",
    "\n",
    "# Separar patrones para validación\n",
    "# Cantidad de patrones para entrenamiento\n",
    "NPatternsTrain = trainPartitionsIdx.shape[1]\n",
    "# Cantidad de patrones a separar para validación\n",
    "NPatternsValidation = 100\n",
    "#variable que indica el numero de salidas que tiene el dataset\n",
    "y_num=1\n",
    "# Generar el vector de entradas para entrenamiento y validación (solo una partición)\n",
    "#X_val = ds[trainPartitionsIdx[0, :NPatternsValidation], :-1]\n",
    "X = ds[trainPartitionsIdx[0], :-y_num]\n",
    "# Generar el vector de salida deseada para entrenamiento y validación\n",
    "#Yd_val = ds[trainPartitionsIdx[0, :NPatternsValidation], -1]\n",
    "Yd = ds[trainPartitionsIdx[0], -y_num].reshape((-1,y_num))"
   ]
  },
  {
   "cell_type": "markdown",
   "metadata": {},
   "source": [
    "### Capa radial"
   ]
  },
  {
   "cell_type": "code",
   "execution_count": 6,
   "metadata": {},
   "outputs": [
    {
     "name": "stdout",
     "output_type": "stream",
     "text": [
<<<<<<< HEAD
      "(array([399, 797,   0,   0, 404,   0,   0,   0,   0,   0], dtype=int64), array([ 0,  1,  2,  3,  4,  5,  6,  7,  8,  9, 10]))\n"
=======
      "(array([806, 410,   0, 384], dtype=int64), array([0, 1, 2, 3, 4]))\n"
>>>>>>> 71742ae1902ee68eec8d43c1cc9013eea3629f86
     ]
    }
   ],
   "source": [
    "k =10     # cantidad de grupos / RBF\n",
    "\n",
    "# [puede ser que queden grupos vacíos?]\n",
    "idx_groups, std_vec, means_vec, cant_it = kMeans(X, k)"
   ]
  },
  {
   "cell_type": "code",
   "execution_count": 7,
   "metadata": {},
   "outputs": [
    {
     "data": {
<<<<<<< HEAD
      "image/png": "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",
=======
      "image/png": "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",
>>>>>>> 71742ae1902ee68eec8d43c1cc9013eea3629f86
      "text/plain": [
       "<Figure size 360x288 with 1 Axes>"
      ]
     },
     "metadata": {
      "needs_background": "light"
     },
     "output_type": "display_data"
    }
   ],
   "source": [
    "fig1 = plt.figure(figsize=(5, 4), tight_layout=True)\n",
    "# fig1.suptitle('Recta $w_1 x + w_2 y - w_0 = 0$',  fontsize=11)\n",
    "fig1_ax = fig1.add_subplot(autoscale_on=False, xlim=(-1.5, 1.5), ylim=(-1.5, 1.5))\n",
    "fig1_ax.set_aspect('equal')\n",
    "fig1_ax.grid()\n",
    "\n",
    "# Patrones\n",
    "x_x = X[:,0]\n",
    "x_y = X[:,1]\n",
    "x_color = np.where(Yd[:,0] == 1, 'C0', 'C2')\n",
    "fig1_ax.scatter(x_x, x_y, c=x_color, s=5, marker='.')\n",
    "\n",
    "# k-means\n",
    "fig1_ax.scatter(means_vec[:,0], means_vec[:,1], marker='x', c='C3')\n",
    "\n",
    "plt.show()"
   ]
  },
  {
   "cell_type": "code",
   "execution_count": 8,
   "metadata": {},
   "outputs": [],
   "source": [
    "# salidas de las RBF -> entradas del mlp\n",
    "mlp_in = np.zeros((X.shape[0], k))\n",
    "\n",
    "# por cada patrón, se calcula la salida de la capa radial pasando por la RBF\n",
    "for i, pattern in enumerate(X):\n",
    "\n",
    "    _aux = [f_gaussian(pattern, _mean, _mu) for (_mean, _mu) in zip(means_vec, std_vec)]\n",
    "    mlp_in[i] = _aux"
   ]
  },
  {
   "cell_type": "markdown",
   "metadata": {},
   "source": [
    "### Entrenamiento de Perceptrón"
   ]
  },
  {
   "cell_type": "code",
   "execution_count": 9,
   "metadata": {},
   "outputs": [
    {
     "data": {
      "text/plain": [
       "(1600, 10)"
      ]
     },
     "execution_count": 9,
     "metadata": {},
     "output_type": "execute_result"
    }
   ],
   "source": [
    "#perceptrón\n",
    "layerStack = np.array([y_num])\n",
    "perceptron_simple = MultiLayerPerceptron(layerStack, k)\n",
    "\n",
    "# Parámetros de entrenamiento\n",
    "NEpoch = 5000           # Cantidad de épocas máximas (anterior 2000)\n",
    "errorThr = 0.03         # Umbral de error para finalizar (anterior 0.005)\n",
    "lr = 5E-3                # Tasa de aprendizaje (anterior 8E-3)\n",
    "\n",
    "mlp_in.shape"
   ]
  },
  {
   "cell_type": "code",
   "execution_count": 10,
   "metadata": {},
   "outputs": [
    {
     "name": "stdout",
     "output_type": "stream",
     "text": [
<<<<<<< HEAD
      "Finalizó en la época 59 con una tasa de error de 0.02875\n"
=======
      "Finalizó en la época 97 con una tasa de error de 0.198125\n"
>>>>>>> 71742ae1902ee68eec8d43c1cc9013eea3629f86
     ]
    }
   ],
   "source": [
    "# Arreglos auxiliares para guardar la evolución del error de la red\n",
    "errorRatePerEpoch = []\n",
    "MMSEPerEpoch = []\n",
    "\n",
    "for epoch in range(NEpoch): # Para cada época\n",
    "    for pattern, yd in zip(mlp_in, Yd): # Para cada patrón en la partición\n",
    "        # Calcular la salida según los pesos actuales (pasada hacia adelante)\n",
    "        (_, y_) = perceptron_simple.eval(pattern)\n",
    "        #print(f'salida{_}={y_}')\n",
    "\n",
    "        # Realizar la propagación hacia atrás donde se calculan los gradientes\n",
    "        # instantáneos (pasada hacia atrás)\n",
    "        perceptron_simple.backward(y_, yd)\n",
    "        \n",
    "        # Actualizar los pesos de la red\n",
    "        perceptron_simple.update(y_, lr)\n",
    "    \n",
    "    # Para la validación se utilizarán solo algunos patrones y se calculará una\n",
    "    # tasa de error, si esta es menor al umbral, se termina el proceso de entrenamiento\n",
    "    # A la vez, se calculará el error cuadrático medio para tener una evolución\n",
    "    # de dicha variable a lo largo de las épocas\n",
    "    errorsAccum_ = 0    # Acumulador de errores\n",
    "    SEAcumm_ = 0        # Acumulador error cuadrático\n",
    "\n",
    "    # [valido con todos los patrones]\n",
    "    for patron, yd in zip(mlp_in, Yd):\n",
    "        # Evaluar el patron\n",
    "        (z_, _) = perceptron_simple.eval(patron)\n",
    "        \n",
    "        #CODIFICACION\n",
    "        y_ = -1 if (z_[-1] < 0) else 1\n",
    "  \n",
    "        \n",
    "        # Comparación con la salida deseada y acumulación de errores\n",
    "        errorsAccum_ += int(np.any(np.not_equal(y_, yd)))\n",
    "  \n",
    "        # Cálculo del error cuadrático y acumulación\n",
    "        SEAcumm_ += np.sum(np.square(yd - z_))\n",
    "\n",
    "    # Tasa de error: errores / patrones evaluados\n",
    "    errorRate_ = (errorsAccum_/X.shape[0])\n",
    "    # Guardar la tasa de error de1000 la época\n",
    "    errorRatePerEpoch= np.append(errorRatePerEpoch, [errorRate_])\n",
    "    \n",
    "    # Calcular el error cuadrático medio promedio: MSE / patrones evaluados\n",
    "    MSEMean_= (SEAcumm_/X.shape[0])\n",
    "    # Guardar el error cuadrático medio promedio de la época\n",
    "    MMSEPerEpoch = np.append(MMSEPerEpoch, MSEMean_)\n",
    "\n",
    "    # Si la tasa de error es menor al umbral, termina el proceso de entrenamiento\n",
    "    if (errorRate_ < errorThr):\n",
    "        break\n",
    "\n",
    "    # Cada 100 épocas mostrar el error\n",
    "    if (epoch+1) % 100 == 0:\n",
    "        print(f'Época {epoch+1}: tasa de error de {errorRatePerEpoch[-1]} | MSE promedio {MMSEPerEpoch[-1]}')\n",
    "   \n",
    "# Imprimir información acerca del entrenamiento\n",
    "print(f'Finalizó en la época {epoch+1} con una tasa de error de {errorRatePerEpoch[-1]}')"
   ]
  },
  {
   "cell_type": "code",
   "execution_count": 11,
   "metadata": {},
   "outputs": [
    {
     "data": {
<<<<<<< HEAD
      "image/png": "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",
=======
      "image/png": "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",
>>>>>>> 71742ae1902ee68eec8d43c1cc9013eea3629f86
      "text/plain": [
       "<Figure size 432x288 with 2 Axes>"
      ]
     },
     "metadata": {
      "needs_background": "light"
     },
     "output_type": "display_data"
    }
   ],
   "source": [
    "# Gráfica de la tasa de error por época junto con el MSE promedio por época\n",
    "epochs = errorRatePerEpoch.shape[0]\n",
    "xx_ = range(epochs)\n",
    "\n",
    "fig1, fig1_ax = plt.subplots()\n",
    "fig1.suptitle(\"Tasa de error y MSE promedio por épocas\")\n",
    "fig1_ax.set_xlabel('Épocas')\n",
    "fig1_ax.xaxis.set_major_locator(MaxNLocator(integer=True)) # Solo ticks en enteros\n",
    "fig1_ax.grid()\n",
    "fig1_ax.set_ylabel('Tasa de error')\n",
    "\n",
    "fig1_plot1 = fig1_ax.plot(xx_, errorRatePerEpoch, label='Tasa de error')\n",
    "\n",
    "fig1_ax2 = fig1_ax.twinx()\n",
    "fig1_plot2 = fig1_ax2.plot(xx_, MMSEPerEpoch, label='MSE promedio', color='C2')\n",
    "fig1_ax2.set_ylabel('MSE promedio')\n",
    "\n",
    "# added these three lines\n",
    "lns = fig1_plot1+fig1_plot2\n",
    "labs = [l.get_label() for l in lns]\n",
    "fig1_ax.legend(lns, labs, loc=0)\n",
    "\n",
    "plt.show()"
   ]
  },
  {
   "cell_type": "markdown",
   "metadata": {},
   "source": [
    "### Test"
   ]
  },
  {
   "cell_type": "code",
   "execution_count": 12,
   "metadata": {},
   "outputs": [
    {
     "name": "stdout",
     "output_type": "stream",
     "text": [
      "Tasa de error en prueba 0.27\n"
     ]
    }
   ],
   "source": [
    "# Procesar los datos para test\n",
    "# Generar el vector de entradas para test\n",
    "XTest = ds[testPartitionsIdx[0,:], :-y_num]\n",
    "# Generar el vector de salida deseada para test\n",
    "YdTest = ds[testPartitionsIdx[0,:], -y_num]\n",
    "\n",
    "mlp_in_test = np.zeros((XTest.shape[0], k))\n",
    "\n",
    "# por cada patrón, se calcula la salida de la capa radial pasando por la RBF\n",
    "for i, pattern in enumerate(XTest):\n",
    "    _aux = [f_gaussian(pattern, _mean, _mu) for (_mean, _mu) in zip(means_vec, std_vec)]\n",
    "    mlp_in_test[i] = _aux / np.linalg.norm(_aux)\n",
    "\n",
    "errorsAccum_ = 0     # Acumulador de errores\n",
    "for pattern, yd in zip(mlp_in_test, YdTest):\n",
    "    # Calcular la salida\n",
    "    (z_, _) = perceptron_simple.eval(pattern)\n",
    "    \n",
    "    # Codificación de la salida\n",
    "    y_ = -1 if (z_[-1] < 0) else 1\n",
    "    \n",
    "    # Comparación con la salida deseada y acumulación de errores\n",
    "    errorsAccum_ += int(y_ != yd)\n",
    "\n",
    "print(f'Tasa de error en prueba {errorsAccum_ / XTest.shape[0]}')"
   ]
  },
  {
   "cell_type": "markdown",
   "metadata": {},
   "source": [
    "## Problema irisbin\n"
   ]
  },
  {
   "cell_type": "code",
   "execution_count": 13,
   "metadata": {},
   "outputs": [],
   "source": [
    "ds, testPartitionsIdx, trainPartitionsIdx  =  generar_particiones('gtp2datos/irisbin.csv', 1, 0.2)\n",
    "# Separar patrones para validación\n",
    "# Cantidad de patrones para entrenamiento\n",
    "NPatternsTrain = trainPartitionsIdx.shape[1]\n",
    "# Cantidad de patrones a separar para validación\n",
    "NPatternsValidation = 100\n",
    "#variable que indica la cantidad de salidas en el dataset\n",
    "y_num=3\n",
    "\n",
    "\n",
    "#NO ESTAREMOS CAMBIANDO EL DATA SET ACA?\n",
    "\n",
    "# Generar el vector de entradas para entrenamiento y validación (solo una partición)\n",
    "#X_val = ds[trainPartitionsIdx[0, :NPatternsValidation], :-1]\n",
    "X = ds[trainPartitionsIdx[0], :-y_num]\n",
    "# Generar el vector de salida deseada para entrenamiento y validación\n",
    "#Yd_val = ds[trainPartitionsIdx[0, :NPatternsValidation], -1]\n",
    "Yd = ds[trainPartitionsIdx[0], -y_num:]\n",
    "\n",
    "# X = ds[trainPartitionsIdx[0], :-y_num]\n",
    "# # Generar el vector de salida deseada para entrenamiento y validación\n",
    "# #Yd_val = ds[trainPartitionsIdx[0, :NPatternsValidation], -1]\n",
    "# Yd = ds[trainPartitionsIdx[0], -y_num].reshape((-1,y_num))"
   ]
  },
  {
   "cell_type": "markdown",
   "metadata": {},
   "source": [
    "### Capa radial"
   ]
  },
  {
   "cell_type": "code",
   "execution_count": 14,
   "metadata": {},
   "outputs": [
    {
     "name": "stdout",
     "output_type": "stream",
     "text": [
<<<<<<< HEAD
      "(array([53, 51, 16], dtype=int64), array([0, 1, 2, 3]))\n"
=======
      "(array([31,  0, 47,  0,  1,  1,  8, 32,  0,  0], dtype=int64), array([ 0,  1,  2,  3,  4,  5,  6,  7,  8,  9, 10]))\n"
>>>>>>> 71742ae1902ee68eec8d43c1cc9013eea3629f86
     ]
    }
   ],
   "source": [
    "k = 3      # cantidad de grupos / RBF\n",
    "\n",
    "idx_groups, std_vec, means_vec, cant_it = kMeans(X, k)"
   ]
  },
  {
   "cell_type": "code",
   "execution_count": 15,
   "metadata": {},
   "outputs": [],
   "source": [
    "# salidas de las RBF -> entradas del mlp\n",
    "mlp_in = np.zeros((X.shape[0], k))\n",
    "\n",
    "# por cada patrón, se calcula la salida de la capa radial pasando por la RBF\n",
    "for i, pattern in enumerate(X):\n",
    "\n",
    "    _aux = [f_gaussian(pattern, _mean, _mu) for (_mean, _mu) in zip(means_vec, std_vec)]\n",
    "    mlp_in[i] = _aux"
   ]
  },
  {
   "cell_type": "markdown",
   "metadata": {},
   "source": [
    "### Entrenamiento del perceptrón"
   ]
  },
  {
   "cell_type": "code",
   "execution_count": 16,
   "metadata": {},
   "outputs": [
    {
     "data": {
      "text/plain": [
       "(120, 3)"
      ]
     },
     "execution_count": 16,
     "metadata": {},
     "output_type": "execute_result"
    }
   ],
   "source": [
    "#perceptrón\n",
    "layerStack = np.array([y_num])\n",
    "perceptron_simple = MultiLayerPerceptron(layerStack, k)\n",
    "\n",
    "# Parámetros de entrenamiento\n",
    "NEpoch = 5000           # Cantidad de épocas máximas (anterior 2000)\n",
    "errorThr = 0.03         # Umbral de error para finalizar (anterior 0.005)\n",
    "lr = 5E-3                # Tasa de aprendizaje (anterior 8E-3)\n",
    "\n",
    "mlp_in.shape"
   ]
  },
  {
   "cell_type": "code",
   "execution_count": 17,
   "metadata": {},
   "outputs": [
    {
     "name": "stdout",
     "output_type": "stream",
     "text": [
<<<<<<< HEAD
      "Época 100: tasa de error de 0.2916666666666667 | MSE promedio 1.8377159136581132\n",
      "Época 200: tasa de error de 0.2833333333333333 | MSE promedio 1.6550389711492777\n",
      "Época 300: tasa de error de 0.2833333333333333 | MSE promedio 1.5758974815520455\n",
      "Época 400: tasa de error de 0.2833333333333333 | MSE promedio 1.5293614715355348\n",
      "Época 500: tasa de error de 0.2833333333333333 | MSE promedio 1.4976761404263834\n",
      "Época 600: tasa de error de 0.2833333333333333 | MSE promedio 1.4741992240795014\n",
      "Época 700: tasa de error de 0.2833333333333333 | MSE promedio 1.4558243874827228\n",
      "Época 800: tasa de error de 0.2833333333333333 | MSE promedio 1.440880089302845\n",
      "Época 900: tasa de error de 0.2833333333333333 | MSE promedio 1.4283761076887305\n",
      "Época 1000: tasa de error de 0.2833333333333333 | MSE promedio 1.4176833306231709\n",
      "Época 1100: tasa de error de 0.2833333333333333 | MSE promedio 1.4083802097582867\n",
      "Época 1200: tasa de error de 0.2833333333333333 | MSE promedio 1.4001721756456693\n",
      "Época 1300: tasa de error de 0.2833333333333333 | MSE promedio 1.3928462760543752\n",
      "Época 1400: tasa de error de 0.2833333333333333 | MSE promedio 1.3862441724059245\n",
      "Época 1500: tasa de error de 0.2833333333333333 | MSE promedio 1.3802453123458889\n",
      "Época 1600: tasa de error de 0.2833333333333333 | MSE promedio 1.3747560359923219\n",
      "Época 1700: tasa de error de 0.2833333333333333 | MSE promedio 1.3697022918200408\n",
      "Época 1800: tasa de error de 0.275 | MSE promedio 1.3650246289017045\n",
      "Época 1900: tasa de error de 0.275 | MSE promedio 1.3606746699180274\n",
      "Época 2000: tasa de error de 0.26666666666666666 | MSE promedio 1.3566125737974342\n",
      "Época 2100: tasa de error de 0.26666666666666666 | MSE promedio 1.3528051756683994\n",
      "Época 2200: tasa de error de 0.26666666666666666 | MSE promedio 1.3492246002649508\n",
      "Época 2300: tasa de error de 0.26666666666666666 | MSE promedio 1.3458472125932432\n",
      "Época 2400: tasa de error de 0.26666666666666666 | MSE promedio 1.3426528129613637\n",
      "Época 2500: tasa de error de 0.26666666666666666 | MSE promedio 1.339624011806671\n",
      "Época 2600: tasa de error de 0.26666666666666666 | MSE promedio 1.3367457386769468\n",
      "Época 2700: tasa de error de 0.26666666666666666 | MSE promedio 1.3340048525945802\n",
      "Época 2800: tasa de error de 0.26666666666666666 | MSE promedio 1.3313898299394944\n",
      "Época 2900: tasa de error de 0.26666666666666666 | MSE promedio 1.3288905122445946\n",
      "Época 3000: tasa de error de 0.26666666666666666 | MSE promedio 1.3264979007577036\n",
      "Época 3100: tasa de error de 0.26666666666666666 | MSE promedio 1.324203987844689\n",
      "Época 3200: tasa de error de 0.26666666666666666 | MSE promedio 1.3220016176627296\n",
      "Época 3300: tasa de error de 0.26666666666666666 | MSE promedio 1.3198843702730245\n",
      "Época 3400: tasa de error de 0.26666666666666666 | MSE promedio 1.317846464662474\n",
      "Época 3500: tasa de error de 0.26666666666666666 | MSE promedio 1.3158826771248036\n",
      "Época 3600: tasa de error de 0.26666666666666666 | MSE promedio 1.31398827219854\n",
      "Época 3700: tasa de error de 0.26666666666666666 | MSE promedio 1.312158943932895\n",
      "Época 3800: tasa de error de 0.26666666666666666 | MSE promedio 1.3103907656967313\n",
      "Época 3900: tasa de error de 0.26666666666666666 | MSE promedio 1.3086801470923477\n",
      "Época 4000: tasa de error de 0.26666666666666666 | MSE promedio 1.307023796807968\n",
      "Época 4100: tasa de error de 0.26666666666666666 | MSE promedio 1.3054186904583058\n",
      "Época 4200: tasa de error de 0.26666666666666666 | MSE promedio 1.3038620426338976\n",
      "Época 4300: tasa de error de 0.26666666666666666 | MSE promedio 1.3023512825172576\n",
      "Época 4400: tasa de error de 0.26666666666666666 | MSE promedio 1.3008840325344253\n",
      "Época 4500: tasa de error de 0.26666666666666666 | MSE promedio 1.299458089600025\n",
      "Época 4600: tasa de error de 0.26666666666666666 | MSE promedio 1.2980714085867673\n",
      "Época 4700: tasa de error de 0.26666666666666666 | MSE promedio 1.2967220877098595\n",
      "Época 4800: tasa de error de 0.26666666666666666 | MSE promedio 1.2954083555657483\n",
      "Época 4900: tasa de error de 0.26666666666666666 | MSE promedio 1.2941285596049126\n",
      "Época 5000: tasa de error de 0.26666666666666666 | MSE promedio 1.2928811558518576\n",
      "Finalizó en la época 5000 con una tasa de error de 0.26666666666666666\n"
=======
      "Época 100: tasa de error de 0.03333333333333333 | MSE promedio 0.5391662089865324\n",
      "Época 200: tasa de error de 0.03333333333333333 | MSE promedio 0.3983818899995034\n",
      "Época 300: tasa de error de 0.03333333333333333 | MSE promedio 0.3468002556236643\n",
      "Época 400: tasa de error de 0.03333333333333333 | MSE promedio 0.3186080807830459\n",
      "Época 500: tasa de error de 0.03333333333333333 | MSE promedio 0.3001688281923021\n",
      "Época 600: tasa de error de 0.05 | MSE promedio 0.28679764892560816\n",
      "Época 700: tasa de error de 0.05 | MSE promedio 0.2764321259880396\n",
      "Época 800: tasa de error de 0.05 | MSE promedio 0.2680153817511402\n",
      "Época 900: tasa de error de 0.05 | MSE promedio 0.2609465300962371\n",
      "Finalizó en la época 973 con una tasa de error de 0.025\n"
>>>>>>> 71742ae1902ee68eec8d43c1cc9013eea3629f86
     ]
    }
   ],
   "source": [
    "# Arreglos auxiliares para guardar la evolución del error de la red\n",
    "errorRatePerEpoch = []\n",
    "MMSEPerEpoch = []\n",
    "\n",
    "for epoch in range(NEpoch): # Para cada época\n",
    "    for pattern, yd in zip(mlp_in, Yd): # Para cada patrón en la partición\n",
    "        # Calcular la salida según los pesos actuales (pasada hacia adelante)\n",
    "        (_, y_) = perceptron_simple.eval(pattern)\n",
    "        #print(f'salida{_}={y_}')\n",
    "\n",
    "        # Realizar la propagación hacia atrás donde se calculan los gradientes\n",
    "        # instantáneos (pasada hacia atrás)\n",
    "        perceptron_simple.backward(y_, yd)\n",
    "        \n",
    "        # Actualizar los pesos de la red\n",
    "        perceptron_simple.update(y_, lr)\n",
    "    \n",
    "    # Para la validación se utilizarán solo algunos patrones y se calculará una\n",
    "    # tasa de error, si esta es menor al umbral, se termina el proceso de entrenamiento\n",
    "    # A la vez, se calculará el error cuadrático medio para tener una evolución\n",
    "    # de dicha variable a lo largo de las épocas\n",
    "    errorsAccum_ = 0    # Acumulador de errores\n",
    "    SEAcumm_ = 0        # Acumulador error cuadrático\n",
    "\n",
    "    # [valido con todos los patrones]\n",
    "    for patron, yd in zip(mlp_in, Yd):\n",
    "        # Evaluar el patron\n",
    "        (z_, _) = perceptron_simple.eval(patron)\n",
    "      \n",
    "        #CODIFICACION\n",
    "        if z_[0] == z_.max():\n",
    "            y_ = [1, -1, -1]\n",
    "        elif z_[1] == z_.max():\n",
    "            y_ = [-1, 1, -1]\n",
    "        else:\n",
    "             y_ = [-1, -1, 1]\n",
    "  \n",
    "        # Comparación con la salida deseada y acumulación de errores\n",
    "        errorsAccum_ += int(np.any(np.not_equal(y_, yd)))\n",
    "  \n",
    "        # Cálculo del error cuadrático y acumulación\n",
    "        SEAcumm_ += np.sum(np.square(yd - z_))\n",
    "\n",
    "    # Tasa de error: errores / patrones evaluados\n",
    "    errorRate_ = (errorsAccum_/X.shape[0])\n",
    "    # Guardar la tasa de error de1000 la época\n",
    "    errorRatePerEpoch= np.append(errorRatePerEpoch, [errorRate_])\n",
    "    \n",
    "    # Calcular el error cuadrático medio promedio: MSE / patrones evaluados\n",
    "    MSEMean_= (SEAcumm_/X.shape[0])\n",
    "    # Guardar el error cuadrático medio promedio de la época\n",
    "    MMSEPerEpoch = np.append(MMSEPerEpoch, MSEMean_)\n",
    "\n",
    "    # Si la tasa de error es menor al umbral, termina el proceso de entrenamiento\n",
    "    if (errorRate_ < errorThr):\n",
    "        break\n",
    "\n",
    "    # Cada 100 épocas mostrar el error\n",
    "    if (epoch+1) % 100 == 0:\n",
    "        print(f'Época {epoch+1}: tasa de error de {errorRatePerEpoch[-1]} | MSE promedio {MMSEPerEpoch[-1]}')\n",
    "   \n",
    "# Imprimir información acerca del entrenamiento\n",
    "print(f'Finalizó en la época {epoch+1} con una tasa de error de {errorRatePerEpoch[-1]}')"
   ]
  },
  {
   "cell_type": "code",
   "execution_count": 18,
   "metadata": {},
   "outputs": [
    {
     "data": {
<<<<<<< HEAD
      "image/png": "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",
=======
      "image/png": "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",
>>>>>>> 71742ae1902ee68eec8d43c1cc9013eea3629f86
      "text/plain": [
       "<Figure size 432x288 with 2 Axes>"
      ]
     },
     "metadata": {
      "needs_background": "light"
     },
     "output_type": "display_data"
    }
   ],
   "source": [
    "# Gráfica de la tasa de error por época junto con el MSE promedio por época\n",
    "epochs = errorRatePerEpoch.shape[0]\n",
    "xx_ = range(epochs)\n",
    "\n",
    "fig1, fig1_ax = plt.subplots()\n",
    "fig1.suptitle(\"Tasa de error y MSE promedio por épocas\")\n",
    "fig1_ax.set_xlabel('Épocas')\n",
    "fig1_ax.xaxis.set_major_locator(MaxNLocator(integer=True)) # Solo ticks en enteros\n",
    "fig1_ax.grid()\n",
    "fig1_ax.set_ylabel('Tasa de error')\n",
    "\n",
    "fig1_plot1 = fig1_ax.plot(xx_, errorRatePerEpoch, label='Tasa de error')\n",
    "\n",
    "fig1_ax2 = fig1_ax.twinx()\n",
    "fig1_plot2 = fig1_ax2.plot(xx_, MMSEPerEpoch, label='MSE promedio', color='C2')\n",
    "fig1_ax2.set_ylabel('MSE promedio')\n",
    "\n",
    "# added these three lines\n",
    "lns = fig1_plot1+fig1_plot2\n",
    "labs = [l.get_label() for l in lns]\n",
    "fig1_ax.legend(lns, labs, loc=0)\n",
    "\n",
    "plt.show()"
   ]
  },
  {
   "cell_type": "markdown",
   "metadata": {},
   "source": [
    "### Test"
   ]
  },
  {
   "cell_type": "code",
   "execution_count": 19,
   "metadata": {},
   "outputs": [
    {
     "name": "stdout",
     "output_type": "stream",
     "text": [
<<<<<<< HEAD
      "Tasa de error en prueba 0.3\n"
=======
      "Tasa de error en prueba 0.06666666666666667\n"
>>>>>>> 71742ae1902ee68eec8d43c1cc9013eea3629f86
     ]
    }
   ],
   "source": [
    "# Procesar los datos para test\n",
    "# Generar el vector de entradas para test\n",
    "XTest = ds[testPartitionsIdx[0,:], :-y_num]\n",
    "# Generar el vector de salida deseada para test\n",
    "YdTest = ds[testPartitionsIdx[0,:], -y_num:]\n",
    "\n",
    "mlp_in_test = np.zeros((XTest.shape[0], k))\n",
    "\n",
    "# por cada patrón, se calcula la salida de la capa radial pasando por la RBF\n",
    "for i, pattern in enumerate(XTest):\n",
    "\n",
    "\n",
    "    _aux = [f_gaussian(pattern, _mean, _mu) for (_mean, _mu) in zip(means_vec, std_vec)]\n",
    "    mlp_in_test[i] = _aux / np.linalg.norm(_aux)\n",
    "\n",
    "errorsAccum_ = 0     # Acumulador de errores\n",
    "for pattern, yd in zip(mlp_in_test, YdTest):\n",
    "    # Calcular la salida\n",
    "    (z_, _) = perceptron_simple.eval(pattern)\n",
    "    \n",
    "    # Codificación de la salida\n",
    "        #CODIFICACION\n",
    "    if z_[0] == z_.max():\n",
    "        y_ = [1, -1, -1]\n",
    "    elif z_[1] == z_.max():\n",
    "        y_ = [-1, 1, -1]\n",
    "    else:\n",
    "            y_ = [-1, -1, 1]\n",
    "    \n",
    "    # Comparación con la salida deseada y acumulación de errores\n",
    "    errorsAccum_ += int(np.any(np.not_equal(y_, yd)))\n",
    "\n",
    "print(f'Tasa de error en prueba {errorsAccum_ / XTest.shape[0]}')"
   ]
  },
  {
   "cell_type": "markdown",
   "metadata": {},
   "source": [
    "## ESTO FALTARÍA\n",
    "resolver el problema Iris (`irisbin.csv`), considerando una cantidad de parámetros similar a la red MLP de la guía anterior. \n",
    "Luego compare la velocidad de entrenamiento y el porcentaje final de clasificación obtenido con ambas arquitecturas."
   ]
  }
 ],
 "metadata": {
  "kernelspec": {
   "display_name": "Python 3.10.6 64-bit",
   "language": "python",
   "name": "python3"
  },
  "language_info": {
   "codemirror_mode": {
    "name": "ipython",
    "version": 3
   },
   "file_extension": ".py",
   "mimetype": "text/x-python",
   "name": "python",
   "nbconvert_exporter": "python",
   "pygments_lexer": "ipython3",
   "version": "3.10.6"
  },
  "orig_nbformat": 4,
  "vscode": {
   "interpreter": {
    "hash": "07ff7e21ea611955a5ea046bb85e7833bbeb87a9446667deecdccb9fe0872cdd"
   }
  }
 },
 "nbformat": 4,
 "nbformat_minor": 2
}

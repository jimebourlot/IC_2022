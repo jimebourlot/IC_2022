{
 "cells": [
  {
   "cell_type": "code",
   "execution_count": 2,
   "metadata": {},
   "outputs": [],
   "source": [
    "import math\n",
    "from matplotlib import pyplot as plt\n",
    "import numpy as np\n",
    "from cmath import sqrt"
   ]
  },
  {
   "cell_type": "markdown",
   "metadata": {},
   "source": [
    "# Ejercicio 3"
   ]
  },
  {
   "cell_type": "markdown",
   "metadata": {},
   "source": [
    "Suponga que un viajante tiene que visitar $n$ ciudades en el menor tiempo posible. Considere una matriz $D$ de tamaño $n x n$ cuyos elementos $d_{pq}$ denotan la distancia entre cada par de ciudades $(p, q)$. Se define un recorrido como una trayectoria cerrada que visita cada ciudad una y sólo una vez (a excepción de la ciudad de partida, a la cual debe regresar). El problema consiste en hallar el recorrido de mínima longitud.\n",
    "\n",
    "Implemente el algoritmo de sistema de hormigas y utilícelo para resolver el problema del agente viajero considerando los datos proporcionados en el archivo `gr17.csv`. Analice el efecto de la tasa de evaporación $(ρ)$ y de la cantidad de feromona depositada $(\\tau)$ sobre los resultados de la búsqueda. Para esto último compare el desempeño del algoritmo empleando los métodos global, local y uniforme para depósito de feromonas. Realice varias corridas con cada configuración experimental y considere el tiempo de búsqueda y la longitud de los caminos encontrados como medidas para comparar el desempeño. Construya una tabla comparativa con los resultados obtenidos."
   ]
  },
  {
   "cell_type": "code",
   "execution_count": 4,
   "metadata": {},
   "outputs": [],
   "source": [
    "# Matriz de distancias entre ciudades\n",
    "distanceMatrix = np.genfromtxt('gtp4datos/gr17.csv', delimiter=',')\n",
    "# relleno la diagonal con infinito para que no haya división por cero\n",
    "np.fill_diagonal(distanceMatrix, np.inf)\n",
    "\n",
    "# Matriz de feromonas inicial (entre 0 y 1)\n",
    "sigmaMatrix = np.ones(distanceMatrix.shape) * np.random.rand(distanceMatrix.shape[0], distanceMatrix.shape[1])\n",
    "\n",
    "# Otros parámetros\n",
    "NAnts = 1                       # Cantidad de hormigas\n",
    "alpha = 2                       # Exponente de feromonas\n",
    "beta = 2                        # Exponente del parámetro de costo\n",
    "path = [0]                      # Las hormigas arrancan del nodo 0\n",
    "visited = [0]                   # al inicio no han visitado lugares\n",
    "lenPath = 0\n",
    "prev = 0\n",
    "\n",
    "# parámetro que considera el inverso de la distancia\n",
    "nu = 1.0 / distanceMatrix\n",
    "\n",
    "# TODO Repetir con un While\n",
    "# Para cada hormiga\n",
    "for ant in range(NAnts):\n",
    "\n",
    "    sigmaVector = sigmaMatrix[prev]\n",
    "    sigmaVector[visited] = 0\n",
    "    # calculo las probabilidades a cada lugar\n",
    "    prob_ = sigmaVector ** alpha * (nu[prev] ** beta)\n",
    "    prob = prob_ / prob_.sum()\n",
    "    # se selecciona el camino a tomar segun la probabilidad\n",
    "    step = np.random.choice(range(len(distanceMatrix)), 1, p = prob)[0]\n",
    "    path.append(step)\n",
    "    prev = step\n",
    "    visited.append(step)\n"
   ]
  },
  {
   "cell_type": "code",
   "execution_count": 10,
   "metadata": {},
   "outputs": [
    {
     "data": {
      "text/plain": [
       "range(0, 17)"
      ]
     },
     "execution_count": 10,
     "metadata": {},
     "output_type": "execute_result"
    }
   ],
   "source": []
  }
 ],
 "metadata": {
  "kernelspec": {
   "display_name": "Python 3.10.6 64-bit",
   "language": "python",
   "name": "python3"
  },
  "language_info": {
   "codemirror_mode": {
    "name": "ipython",
    "version": 3
   },
   "file_extension": ".py",
   "mimetype": "text/x-python",
   "name": "python",
   "nbconvert_exporter": "python",
   "pygments_lexer": "ipython3",
   "version": "3.10.7"
  },
  "orig_nbformat": 4,
  "vscode": {
   "interpreter": {
    "hash": "07ff7e21ea611955a5ea046bb85e7833bbeb87a9446667deecdccb9fe0872cdd"
   }
  }
 },
 "nbformat": 4,
 "nbformat_minor": 2
}

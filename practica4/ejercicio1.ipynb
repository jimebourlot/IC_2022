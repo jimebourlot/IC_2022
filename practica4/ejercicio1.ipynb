{
 "cells": [
  {
   "cell_type": "markdown",
   "metadata": {},
   "source": [
    "# Computación evolutiva e inteligencia de enjambre\n",
    "## Ejercicio 1\n",
    "Implemente las estructuras de datos y algoritmos básicos para la solución de un problema mediante algoritmos genéticos. Pruebe estas rutinas y compare los resultados con un método de gradiente descendiente para buscar el mínimo global de las siguientes funciones:\n",
    "1. $ f(x) = - x \\sin(\\sqrt{|x|}) $, con $ x \\in [-512...512] $\n",
    "2. $ f(x) = x + 5 \\sin(3x) + 8 \\cos (5 x)$, con $x \\in \\mathbb R $ en el intervalo $[0...20]$\n",
    "3. $ f(x, y) = (x^2 + y^2)^{0.25} [\\sin^2 (50 (x^2 + y^2)^{0.1}) + 1]$, con $x, y \\in [-100...100]$\n",
    "\n",
    "Podemos considerar la codificación de un número decimal entre -512 y 512 teniendo en cuenta enteros, de la siguiente manera:\n",
    "1 bit para el signo (0 para negativos, 1 para positivos)\n",
    "9 bits para representar los enteros"
   ]
  },
  {
   "cell_type": "code",
   "execution_count": 1,
   "metadata": {},
   "outputs": [],
   "source": [
    "from matplotlib import pyplot as plt\n",
    "import numpy as np"
   ]
  },
  {
   "cell_type": "markdown",
   "metadata": {},
   "source": [
    "### Inicialización al azar"
   ]
  },
  {
   "cell_type": "code",
   "execution_count": 6,
   "metadata": {},
   "outputs": [
    {
     "data": {
      "text/plain": [
       "array([[1, 1, 1, 1, 1, 0, 0, 1, 1, 0],\n",
       "       [1, 1, 0, 0, 1, 0, 1, 0, 0, 0],\n",
       "       [1, 1, 0, 0, 0, 1, 0, 1, 1, 0],\n",
       "       [1, 0, 1, 1, 1, 1, 1, 0, 1, 0]])"
      ]
     },
     "execution_count": 6,
     "metadata": {},
     "output_type": "execute_result"
    }
   ],
   "source": [
    "def initialize(n_ind, len):\n",
    "    # n_ind: cantidad de individuos\n",
    "    # len: cantidad de bits por cromosoma\n",
    "    return np.random.randint(2, size = (n_ind, len))\n",
    "\n",
    "initialize(4, 10)"
   ]
  },
  {
   "cell_type": "code",
   "execution_count": null,
   "metadata": {},
   "outputs": [],
   "source": []
  }
 ],
 "metadata": {
  "kernelspec": {
   "display_name": "Python 3.10.6 64-bit",
   "language": "python",
   "name": "python3"
  },
  "language_info": {
   "codemirror_mode": {
    "name": "ipython",
    "version": 3
   },
   "file_extension": ".py",
   "mimetype": "text/x-python",
   "name": "python",
   "nbconvert_exporter": "python",
   "pygments_lexer": "ipython3",
   "version": "3.10.6"
  },
  "orig_nbformat": 4,
  "vscode": {
   "interpreter": {
    "hash": "07ff7e21ea611955a5ea046bb85e7833bbeb87a9446667deecdccb9fe0872cdd"
   }
  }
 },
 "nbformat": 4,
 "nbformat_minor": 2
}

{
 "cells": [
  {
   "cell_type": "code",
   "execution_count": 4,
   "metadata": {},
   "outputs": [],
   "source": [
    "import math\n",
    "from matplotlib import pyplot as plt\n",
    "import numpy as np\n",
    "from cmath import sqrt"
   ]
  },
  {
   "cell_type": "markdown",
   "metadata": {},
   "source": [
    "# ejercicio 3"
   ]
  },
  {
   "cell_type": "code",
   "execution_count": 41,
   "metadata": {},
   "outputs": [],
   "source": [
    "def func_fitness_1 (x):\n",
    "    f_x = -x* math.sin(math.sqrt(abs(x)))\n",
    "    return f_x"
   ]
  },
  {
   "cell_type": "code",
   "execution_count": 52,
   "metadata": {},
   "outputs": [
    {
     "name": "stdout",
     "output_type": "stream",
     "text": [
      "[-311.4340289    96.74563493  402.86783347  211.70906353  461.97378007\n",
      " -285.31540113  503.26608174 -220.02739667   38.91209776 -379.97711681\n",
      " -219.706149     52.3770218   192.02024999  252.54289597  439.76497693\n",
      " -495.98618142   14.89653061 -258.64058118  -72.19072252   78.13823776\n",
      "  -42.05373492  254.46968067 -368.08210537  324.91897623  431.72889146\n",
      " -135.21176176  -97.08086564   71.78453986 -318.51606275 -128.46547349\n",
      " -390.5664368   367.64414418  148.30645557 -266.65293918 -138.21958203\n",
      "  -77.67497418 -169.66523474  236.23730736  325.20960439  403.7042979\n",
      "  511.06264091  401.26958464  132.32707096  -90.62578281 -466.96193564\n",
      " -158.96108232 -504.69858573 -174.57995262  494.73762664  397.68507659\n",
      " -134.53308065   91.58166303  443.73301938  -57.42722804 -226.26281533\n",
      "  -64.11896878  428.90697633   36.1780696  -279.05546861  -32.55025621\n",
      "  -86.21413395 -419.91949043  494.65793452  265.50590343  -29.64188447\n",
      "  -66.09456677  420.77834162   33.17438201   15.89821692 -163.07634466\n",
      "  301.05976457  421.43117009 -342.95409974  -63.61943226 -207.77808609\n",
      "  243.84565203 -295.45214541   -4.26173988  329.16682491  346.08507672\n",
      " -262.21066923  -83.47362025  500.18103147  388.53452325   -9.26967033\n",
      " -460.04874567  220.74120791  245.92860506 -290.34460324  234.99707009\n",
      "  387.89561488  184.65548398  304.54304433  411.95345435 -311.57497757\n",
      "  502.47052388 -465.07822398  -26.35356482  -92.73315013 -183.3322781 ]\n"
     ]
    }
   ],
   "source": [
    "f=func_fitness_1(1)\n",
    "print(np.random.uniform(-512,512,100))"
   ]
  },
  {
   "cell_type": "code",
   "execution_count": 124,
   "metadata": {},
   "outputs": [],
   "source": [
    "from cmath import isclose\n",
    "from itertools import count\n",
    "\n",
    "def alg_enjambre (particulas,f,c1,c2):\n",
    "    x=np.random.uniform(-512,512,particulas)\n",
    "    v=0\n",
    "    yk=x\n",
    "    yk_global=yk[0]\n",
    "    # print(f'yk[0] = {func_fitness_1(yk[0])}')\n",
    "    counter=0\n",
    "    while (counter!=6):\n",
    "        # print(counter)\n",
    "        f_v = []\n",
    "        for k in range(particulas):\n",
    "            \n",
    "            f_v.append(f(x[k]))\n",
    "           \n",
    "            if(f(x[k]) < f(yk[k])):\n",
    "                yk[k]=x[k]\n",
    "            if(f(yk[k]) < f(yk_global)):\n",
    "                # print(f'entro')\n",
    "                yk_global=yk[k]\n",
    "                counter=0\n",
    "            # if isclose(yk_global,yk[k]):\n",
    "            #     counter=0\n",
    "          \n",
    "        # print(f_v)\n",
    "        # print(counter)\n",
    "\n",
    "        for k in range(particulas):\n",
    "            r_1 = np.random.rand(x.shape[0])\n",
    "            r_2 = np.random.rand(x.shape[0])\n",
    "            v = v + (c1*r_1)*(yk[k]-x[k]) + (c2*r_2)*(yk_global-x[k])\n",
    "            # x=x+v\n",
    "        counter= counter + 1\n",
    "    return yk_global\n",
    "          \n",
    "    "
   ]
  },
  {
   "cell_type": "code",
   "execution_count": 139,
   "metadata": {},
   "outputs": [
    {
     "name": "stdout",
     "output_type": "stream",
     "text": [
      "-418.88026799983317\n"
     ]
    }
   ],
   "source": [
    "winner = alg_enjambre(100,func_fitness_1,1.2,0.9)\n",
    "print(func_fitness_1(winner))"
   ]
  },
  {
   "cell_type": "code",
   "execution_count": 129,
   "metadata": {},
   "outputs": [
    {
     "name": "stdout",
     "output_type": "stream",
     "text": [
      "-418.4954630775152\n"
     ]
    }
   ],
   "source": []
  }
 ],
 "metadata": {
  "kernelspec": {
   "display_name": "Python 3.10.7 64-bit",
   "language": "python",
   "name": "python3"
  },
  "language_info": {
   "codemirror_mode": {
    "name": "ipython",
    "version": 3
   },
   "file_extension": ".py",
   "mimetype": "text/x-python",
   "name": "python",
   "nbconvert_exporter": "python",
   "pygments_lexer": "ipython3",
   "version": "3.10.7"
  },
  "orig_nbformat": 4,
  "vscode": {
   "interpreter": {
    "hash": "a087bc2cd502e1578adfe219ded9af3cfd89c3a06a40cadd640bc3d226e7ad5a"
   }
  }
 },
 "nbformat": 4,
 "nbformat_minor": 2
}

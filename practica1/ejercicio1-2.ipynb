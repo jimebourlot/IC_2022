{
 "cells": [
  {
   "cell_type": "markdown",
   "metadata": {},
   "source": [
    "# Ejercicio 1\n",
    "Realice un programa que permita el entrenamiento y prueba de un perceptrón simple con una cantidad variable de\n",
    "entradas. El programa debe proveer las siguientes facilidades:\n",
    " 1. lectura de los patrones de entrenamiento (entradas y salidas) desde un archivo en formato texto separado por comas\n",
    " 2. selección del criterio de finalización del entrenamiento,\n",
    " 3. selección del número máximo de épocas de entrenamiento,\n",
    " 4. selección de la tasa de aprendizaje,\n",
    " 5. prueba del perceptrón entrenado mediante archivos de texto con el mismo formato separado por comas.\n",
    "\n",
    "Realizar la prueba: Recuerde que para que la prueba tenga validez se deben utilizar patrones nunca presentados en el entrenamiento, para esto se dispone de dos archivos diferentes para cada problema.\n",
    "\n",
    "Implemente una rutina de graficación que permita visualizar, para el caso de dos entradas, los patrones utilizados y\n",
    "la recta de separación que se va ajustando durante el entrenamiento del perceptrón simple. Utilice dicha rutina para\n",
    "visualizar el entrenamiento en los problemas OR y XOR."
   ]
  },
  {
   "cell_type": "code",
   "execution_count": 82,
   "metadata": {},
   "outputs": [],
   "source": [
    "import numpy as np\n",
    "import matplotlib.pyplot as plt"
   ]
  },
  {
   "cell_type": "markdown",
   "metadata": {},
   "source": [
    "## Train"
   ]
  },
  {
   "cell_type": "code",
   "execution_count": 83,
   "metadata": {},
   "outputs": [],
   "source": [
    "def perceptron_simple_train(ds_train,N,nu,gamma,N_valid):\n",
    "\n",
    "    idx=np.random.choice(range(ds_train.shape[0]), ds_train.shape[0], replace = False)\n",
    "    idx_valid = idx[:N_valid]\n",
    "    idx_train = idx[N_valid:]\n",
    "\n",
    "    # inicializacion de pesos al azar: distribución uniforme\n",
    "    # w = np.random.rand(ds_train.shape[1]) - 0.5\n",
    "\n",
    "    # inicialización al azar de los pesos con distribución normal\n",
    "    # loc -> media - scale -> desvío\n",
    "    w = np.random.normal(loc = 0, scale = 0.15, size = ds_train.shape[1]) \n",
    "\n",
    "    error_epocas = []\n",
    "    w_epocas = w\n",
    "\n",
    "    x = np.hstack((-1*np.ones((ds_train.shape[0],1)), ds_train))\n",
    "\n",
    "\n",
    "    # épocas\n",
    "    for i in range(N):\n",
    "        for patron in x[idx_train]:\n",
    "            a = patron\n",
    "            # producto punto\n",
    "            y = np.dot(patron[:-1],w)\n",
    "            # No linealidad\n",
    "            if (y > 0):\n",
    "                y = 1\n",
    "            else:\n",
    "                y = -1\n",
    "            # Actualización de pesos\n",
    "            w = w + patron[:-1] * gamma * (patron[-1] - y)\n",
    "\n",
    "        # Validación\n",
    "        errores = 0\n",
    "        for j in x[idx_valid]:\n",
    "            # producto punto\n",
    "            y = np.dot(j[0:len(j)-1],w)\n",
    "            \n",
    "            # No linealidad\n",
    "            if (y > 0 and 1 != j[len(j)-1]):\n",
    "                errores += 1\n",
    "            elif (y <= 0 and -1 != j[len(j)-1]):\n",
    "                errores += 1\n",
    "        error = (errores/N_valid)\n",
    "\n",
    "        error_epocas= np.append(error_epocas, [error])\n",
    "        w_epocas = np.vstack((w_epocas, w))\n",
    "        \n",
    "        # print(f'Epoca {i}: error = {error}, w = {w}')\n",
    "        if (error < nu):\n",
    "            print(f'Época {i}')\n",
    "            return w_epocas, error_epocas\n",
    "    print(f'Época {i}')\n",
    "    return w_epocas, error_epocas"
   ]
  },
  {
   "cell_type": "code",
   "execution_count": 84,
   "metadata": {},
   "outputs": [
    {
     "data": {
      "text/plain": [
       "array([[2, 3],\n",
       "       [1, 2]])"
      ]
     },
     "execution_count": 84,
     "metadata": {},
     "output_type": "execute_result"
    }
   ],
   "source": [
    "import numpy as np\n",
    "np.vstack(([2, 3], [1, 2]))"
   ]
  },
  {
   "cell_type": "markdown",
   "metadata": {},
   "source": [
    "## Test"
   ]
  },
  {
   "cell_type": "code",
   "execution_count": 85,
   "metadata": {},
   "outputs": [],
   "source": [
    "def perceptron_test(ds_test,w):\n",
    "    errores = 0\n",
    "    for j in ds_test:\n",
    "        j = np.concatenate([[-1], j])\n",
    "        # Convolución\n",
    "        y = np.dot(j[0:len(j)-1],w)\n",
    "        # No linealidad\n",
    "        if (y > 0 and 1 != j[len(j)-1]):\n",
    "            errores += 1\n",
    "        elif (y <= 0 and -1 != j[len(j)-1]):\n",
    "            errores += 1\n",
    "    return (errores/ds_test.shape[0])\n"
   ]
  },
  {
   "cell_type": "markdown",
   "metadata": {},
   "source": [
    "## Graficación\n",
    "\n",
    "Implemente una rutina de graficación que permita visualizar, para el caso de dos entradas, los patrones utilizados y\n",
    "la recta de separación que se va ajustando durante el entrenamiento del perceptrón simple. Utilice dicha rutina para\n",
    "visualizar el entrenamiento en los problemas OR y XOR."
   ]
  },
  {
   "cell_type": "code",
   "execution_count": 86,
   "metadata": {},
   "outputs": [],
   "source": [
    "import time\n",
    "import matplotlib.animation as animation"
   ]
  },
  {
   "cell_type": "code",
   "execution_count": 87,
   "metadata": {},
   "outputs": [],
   "source": [
    "def graficar(x, y, x_color, w_vec, error):\n",
    "    \n",
    "    N_epocas = w_vec.shape[0]\n",
    "    x_recta = np.arange(-3, 3, 0.01)\n",
    "    pendiente = -w_vec[0,1]/w_vec[0,2]\n",
    "    ordenada = w_vec[0,0]/w_vec[0,2]\n",
    "    recta =  ordenada + pendiente * x_recta\n",
    "    fig, ax = plt.subplots(figsize=(4,3))\n",
    "    line1, = ax.plot(x_recta, recta)\n",
    "    ax.grid()\n",
    "    ax.scatter(x, y, c = x_color)\n",
    "    ax.set_xlim([-1.1, 1.1])\n",
    "    ax.set_ylim([-1.1, 1.1])\n",
    "\n",
    "    def animate(i):\n",
    "        pendiente = -w_vec[i,1]/w_vec[i,2]\n",
    "        ordenada = w_vec[i,0]/w_vec[i,2]\n",
    "        recta =  ordenada + pendiente * x_recta\n",
    "        line1.set_ydata(recta)\n",
    "        plt.title(f'recta = {np.round(pendiente, 4)}x + {np.round(ordenada,4)}, error: {error[i]}')\n",
    "        time.sleep(0.2)\n",
    "        return line1,\n",
    "    \n",
    "    anim = animation.FuncAnimation(fig, animate, frames=(N_epocas), interval=20, repeat=False)\n",
    "    plt.show()\n",
    "    #pause\n",
    "    anim.event_source.stop()\n",
    "\n"
   ]
  },
  {
   "cell_type": "markdown",
   "metadata": {},
   "source": [
    "## Problema OR\n",
    "### Train"
   ]
  },
  {
   "cell_type": "code",
   "execution_count": 88,
   "metadata": {},
   "outputs": [
    {
     "name": "stdout",
     "output_type": "stream",
     "text": [
      "Época 49\n"
     ]
    }
   ],
   "source": [
    "# lectura de patrones\n",
    "\n",
    "ds_train = np.genfromtxt('icgtp1datos/OR_trn.csv', delimiter=',')\n",
    "ds_train_size = ds_train.shape[0]\n",
    "\n",
    "# Entrenamiento\n",
    "N = 50 # Epocas\n",
    "gamma = 0.00001 # Tasa de aprendizaje\n",
    "nu = 0.0005 # Umbral de error\n",
    "N_valid = 200\n",
    "historial_w, errores_evol = perceptron_simple_train(ds_train,N,nu,gamma,N_valid)\n",
    "\n"
   ]
  },
  {
   "cell_type": "code",
   "execution_count": 89,
   "metadata": {},
   "outputs": [
    {
     "data": {
      "application/vnd.jupyter.widget-view+json": {
       "model_id": "12139eb92ef94362bb6ea757f6a47854",
       "version_major": 2,
       "version_minor": 0
      },
      "image/png": "[encoded data removed]",
      "text/html": [
       "\n",
       "            <div style=\"display: inline-block;\">\n",
       "                <div class=\"jupyter-widgets widget-label\" style=\"text-align: center;\">\n",
       "                    Figure\n",
       "                </div>\n",
       "                <img src='data:image/png;base64,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' width=400.0/>\n",
       "            </div>\n",
       "        "
      ],
      "text/plain": [
       "Canvas(toolbar=Toolbar(toolitems=[('Home', 'Reset original view', 'home', 'home'), ('Back', 'Back to previous …"
      ]
     },
     "metadata": {},
     "output_type": "display_data"
    }
   ],
   "source": [
    "# Gráfico evolución del entrenamiento\n",
    "\n",
    "x_x = ds_train[:,0]\n",
    "x_y = ds_train[:,1]\n",
    "x_color = np.where(x_x < 0, np.where(x_y < 0, 'C0', 'C1'), 'C1')\n",
    "%matplotlib widget\n",
    "graficar(x_x, x_y, x_color, historial_w, errores_evol)\n"
   ]
  },
  {
   "cell_type": "code",
   "execution_count": 90,
   "metadata": {},
   "outputs": [],
   "source": [
    "%matplotlib inline"
   ]
  },
  {
   "cell_type": "code",
   "execution_count": 91,
   "metadata": {},
   "outputs": [
    {
     "data": {
      "image/png": "[encoded data removed]",
      "text/plain": [
       "<Figure size 432x288 with 1 Axes>"
      ]
     },
     "metadata": {
      "needs_background": "light"
     },
     "output_type": "display_data"
    }
   ],
   "source": [
    "x_recta = np.arange(-3, 3, 0.01)\n",
    "pendiente = -historial_w[-1,1]/historial_w[-1,2]\n",
    "ordenada = historial_w[-1,0]/historial_w[-1,2]\n",
    "recta =  ordenada + pendiente * x_recta\n",
    "\n",
    "plt.figure()\n",
    "plt.plot(x_recta, recta)\n",
    "plt.grid()\n",
    "\n",
    "x_color = np.where(ds_train[:,0] < 0, np.where(ds_train[:,1] < 0, 'C0', 'C1'), 'C1')\n",
    "plt.scatter(ds_train[:,0], ds_train[:,1], c = x_color)\n",
    "plt.xlim([-1.1, 1.1])\n",
    "plt.ylim([-1.1, 1.1])\n",
    "plt.title(f'recta = {np.round(pendiente, 4)}x + {np.round(ordenada,4)}, error: {errores_evol[-1]}')\n",
    "\n",
    "plt.show()"
   ]
  },
  {
   "cell_type": "code",
   "execution_count": 92,
   "metadata": {},
   "outputs": [
    {
     "data": {
      "image/png": "[encoded data removed]",
      "text/plain": [
       "<Figure size 432x288 with 1 Axes>"
      ]
     },
     "metadata": {
      "needs_background": "light"
     },
     "output_type": "display_data"
    }
   ],
   "source": [
    "# Gráfico de error vs. época para el train\n",
    "\n",
    "plt.close('all')\n",
    "plt.title('Error vs Época')\n",
    "plt.xlabel('Época')\n",
    "plt.ylabel('Error')\n",
    "plt.plot(range(len(errores_evol)),errores_evol)\n",
    "plt.show()"
   ]
  },
  {
   "cell_type": "markdown",
   "metadata": {},
   "source": [
    "### Test"
   ]
  },
  {
   "cell_type": "code",
   "execution_count": 93,
   "metadata": {},
   "outputs": [
    {
     "name": "stdout",
     "output_type": "stream",
     "text": [
      "Error de test: 0.0\n"
     ]
    }
   ],
   "source": [
    "# Test\n",
    "\n",
    "ds_test = np.genfromtxt('icgtp1datos/OR_tst.csv', delimiter=',')\n",
    "ds_test_size = ds_test.shape[0]\n",
    "\n",
    "w = historial_w[-1]\n",
    "error = perceptron_test(ds_test,w)\n",
    "print(f'Error de test: {error}')\n"
   ]
  },
  {
   "cell_type": "code",
   "execution_count": 94,
   "metadata": {},
   "outputs": [
    {
     "data": {
      "image/png": "[encoded data removed]",
      "text/plain": [
       "<Figure size 432x288 with 1 Axes>"
      ]
     },
     "metadata": {
      "needs_background": "light"
     },
     "output_type": "display_data"
    }
   ],
   "source": [
    "x_recta = np.arange(-3, 3, 0.01)\n",
    "pendiente = -w[1]/w[2]\n",
    "ordenada = w[0]/w[2]\n",
    "recta =  ordenada + pendiente * x_recta\n",
    "\n",
    "plt.figure()\n",
    "plt.plot(x_recta, recta)\n",
    "plt.grid()\n",
    "\n",
    "x_color = np.where(ds_test[:,0] < 0, np.where(ds_test[:,1] < 0, 'C0', 'C1'), 'C1')\n",
    "plt.scatter(ds_test[:,0], ds_test[:,1], c = x_color)\n",
    "plt.xlim([-1.1, 1.1])\n",
    "plt.ylim([-1.1, 1.1])\n",
    "plt.title(f'recta = {np.round(pendiente, 4)}x + {np.round(ordenada,4)}, error: {error}')\n",
    "\n",
    "plt.show()"
   ]
  },
  {
   "cell_type": "markdown",
   "metadata": {},
   "source": [
    "## Problema XOR\n",
    "### Train"
   ]
  },
  {
   "cell_type": "code",
   "execution_count": 95,
   "metadata": {},
   "outputs": [
    {
     "name": "stdout",
     "output_type": "stream",
     "text": [
      "Época 29\n"
     ]
    }
   ],
   "source": [
    "# Lectura de patrones\n",
    "\n",
    "ds_train = np.genfromtxt('icgtp1datos/XOR_trn.csv', delimiter=',')\n",
    "ds_train_size = ds_train.shape[0]\n",
    "\n",
    "# Entrenamiento\n",
    "N = 50 # Epocas\n",
    "gamma = 0.001 # Tasa de aprendizaje\n",
    "nu = 0.3 # Umbral de error\n",
    "N_valid=200\n",
    "historial_w, errores_evol = perceptron_simple_train(ds_train,N,nu,gamma,N_valid)"
   ]
  },
  {
   "cell_type": "code",
   "execution_count": 96,
   "metadata": {},
   "outputs": [
    {
     "data": {
      "application/vnd.jupyter.widget-view+json": {
       "model_id": "204ef2fbaa454bddb4dcff71b830c84d",
       "version_major": 2,
       "version_minor": 0
      },
      "image/png": "[encoded data removed]",
      "text/html": [
       "\n",
       "            <div style=\"display: inline-block;\">\n",
       "                <div class=\"jupyter-widgets widget-label\" style=\"text-align: center;\">\n",
       "                    Figure\n",
       "                </div>\n",
       "                <img src='data:image/png;base64,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' width=400.0/>\n",
       "            </div>\n",
       "        "
      ],
      "text/plain": [
       "Canvas(toolbar=Toolbar(toolitems=[('Home', 'Reset original view', 'home', 'home'), ('Back', 'Back to previous …"
      ]
     },
     "metadata": {},
     "output_type": "display_data"
    }
   ],
   "source": [
    "# Gráfico de evolución del entrenamiento\n",
    "\n",
    "x_x = ds_train[:,0]\n",
    "x_y = ds_train[:,1]\n",
    "x_color = np.where(x_x > 0, np.where(x_y > 0, 'C0', 'C1'), np.where(x_y < 0, 'C0', 'C1'))\n",
    "%matplotlib widget\n",
    "graficar(x_x, x_y, x_color, historial_w, errores_evol)"
   ]
  },
  {
   "cell_type": "code",
   "execution_count": 97,
   "metadata": {},
   "outputs": [],
   "source": [
    "%matplotlib inline"
   ]
  },
  {
   "cell_type": "code",
   "execution_count": 98,
   "metadata": {},
   "outputs": [
    {
     "data": {
      "image/png": "[encoded data removed]",
      "text/plain": [
       "<Figure size 432x288 with 1 Axes>"
      ]
     },
     "metadata": {
      "needs_background": "light"
     },
     "output_type": "display_data"
    }
   ],
   "source": [
    "x_recta = np.arange(-3, 3, 0.01)\n",
    "pendiente = -historial_w[-1,1]/historial_w[-1,2]\n",
    "ordenada = historial_w[-1,0]/historial_w[-1,2]\n",
    "recta =  ordenada + pendiente * x_recta\n",
    "\n",
    "plt.figure()\n",
    "plt.plot(x_recta, recta)\n",
    "plt.grid()\n",
    "x_color = np.where(ds_train[:,0] > 0, np.where(ds_train[:,1] > 0, 'C0', 'C1'), np.where(ds_train[:,1] < 0, 'C0', 'C1'))\n",
    "plt.scatter(ds_train[:,0], ds_train[:,1], c = x_color)\n",
    "plt.xlim([-1.1, 1.1])\n",
    "plt.ylim([-1.1, 1.1])\n",
    "plt.title(f'recta = {np.round(pendiente, 4)}x + {np.round(ordenada,4)}, error: {errores_evol[-1]}')\n",
    "\n",
    "plt.show()"
   ]
  },
  {
   "cell_type": "markdown",
   "metadata": {},
   "source": [
    "### Test"
   ]
  },
  {
   "cell_type": "code",
   "execution_count": 99,
   "metadata": {},
   "outputs": [
    {
     "name": "stdout",
     "output_type": "stream",
     "text": [
      "Error de test: 0.26\n"
     ]
    }
   ],
   "source": [
    "ds_test = np.genfromtxt('icgtp1datos/XOR_tst.csv', delimiter=',')\n",
    "ds_test_size = ds_test.shape[0]\n",
    "\n",
    "# Test\n",
    "w = historial_w[-1]\n",
    "error = perceptron_test(ds_test,w)\n",
    "print(f'Error de test: {error}')"
   ]
  },
  {
   "cell_type": "code",
   "execution_count": 100,
   "metadata": {},
   "outputs": [
    {
     "data": {
      "image/png": "[encoded data removed]",
      "text/plain": [
       "<Figure size 432x288 with 1 Axes>"
      ]
     },
     "metadata": {
      "needs_background": "light"
     },
     "output_type": "display_data"
    }
   ],
   "source": [
    "x_recta = np.arange(-3, 3, 0.01)\n",
    "pendiente = -w[1]/w[2]\n",
    "ordenada = w[0]/w[2]\n",
    "recta =  ordenada + pendiente * x_recta\n",
    "\n",
    "plt.figure()\n",
    "plt.plot(x_recta, recta)\n",
    "plt.grid()\n",
    "\n",
    "x_color = np.where(ds_test[:,0] > 0, np.where(ds_test[:,1] > 0, 'C0', 'C1'), np.where(ds_test[:,1] < 0, 'C0', 'C1'))\n",
    "plt.scatter(ds_test[:,0], ds_test[:,1], c = x_color)\n",
    "plt.xlim([-1.1, 1.1])\n",
    "plt.ylim([-1.1, 1.1])\n",
    "plt.title(f'recta = {np.round(pendiente, 4)}x + {np.round(ordenada,4)}, error: {error}')\n",
    "\n",
    "plt.show()"
   ]
  },
  {
   "cell_type": "markdown",
   "metadata": {},
   "source": [
    "# Ejercicio 2\n",
    "## Generación de particiones"
   ]
  },
  {
   "cell_type": "code",
   "execution_count": 101,
   "metadata": {},
   "outputs": [],
   "source": [
    "def generar_particiones(filename, n, p_test):\n",
    "    ds = np.genfromtxt(filename, delimiter=',')\n",
    "    n_test = int(ds.shape[0] * p_test)\n",
    "    n_train = ds.shape[0] - n_test\n",
    "    M_test = np.zeros((n,n_test),dtype = int)\n",
    "    M_train = np.zeros((n, n_train),dtype = int)\n",
    "\n",
    "    for i in range(n):\n",
    "        idx=np.random.choice(range(ds.shape[0]),ds.shape[0],replace = False)\n",
    "        idx_test = idx[0:n_test]\n",
    "        idx_train = idx[n_test:ds.shape[0]]\n",
    "        M_test[i] = idx_test\n",
    "        M_train[i] = idx_train\n",
    "    \n",
    "    return (ds, M_test, M_train)\n"
   ]
  },
  {
   "cell_type": "markdown",
   "metadata": {},
   "source": [
    "## Validación cruzada con 5 particiones\n",
    "El archivo $spheres1d10.csv$ contiene una serie de datos generados a partir de los valores de la Tabla 1, con pequeñas desviaciones aleatorias ($< 10 %$) en torno a ellos. \n",
    "Realice con estos datos la validación cruzada del perceptrón simple con $5$ particiones de entrenamiento y prueba con relacion $80/20$"
   ]
  },
  {
   "cell_type": "code",
   "execution_count": 102,
   "metadata": {},
   "outputs": [
    {
     "name": "stdout",
     "output_type": "stream",
     "text": [
      "Época 49\n",
      "Época 8\n",
      "Época 22\n",
      "Época 11\n",
      "Época 26\n"
     ]
    },
    {
     "data": {
      "image/png": "[encoded data removed]",
      "text/plain": [
       "<Figure size 432x288 with 1 Axes>"
      ]
     },
     "metadata": {
      "needs_background": "light"
     },
     "output_type": "display_data"
    }
   ],
   "source": [
    "num_particiones=5\n",
    "ds, M_tst, M_trn = generar_particiones('icgtp1datos\\spheres1d10.csv', num_particiones, 0.2)\n",
    "\n",
    "# for i in range(num_particiones):\n",
    "#     np.savetxt(f'icgtp1datos\\spheres1d10-part{i}_test.csv', ds[M_tst[i]], delimiter=',')\n",
    "#     np.savetxt(f'icgtp1datos\\spheres1d10-part{i}_trn.csv', ds[M_trn[i]], delimiter=',')\n",
    "\n",
    "ds_size = ds.shape[0]\n",
    "\n",
    "w_particion=np.zeros((num_particiones,ds.shape[1]))\n",
    "\n",
    "for i,particion in enumerate(M_trn):\n",
    "    historial_w, errores_evol = perceptron_simple_train(ds[particion],50,0.13,0.01,500)\n",
    "    w_particion[i] = historial_w[-1]\n",
    "\n",
    "errores=np.zeros(num_particiones)\n",
    "\n",
    "for i,particion in enumerate(M_tst):\n",
    "    errores[i]= perceptron_test(ds[particion],w_particion[i])\n",
    "\n",
    "plt.close('all')\n",
    "plt.plot(range(num_particiones),errores)\n",
    "plt.title('Errores vs. Particiones')\n",
    "plt.xlabel('Particiones')\n",
    "plt.ylabel('Error')\n",
    "plt.show()"
   ]
  },
  {
   "cell_type": "markdown",
   "metadata": {},
   "source": [
    "## Validación cruzada con 10 particiones\n",
    "A partir de la misma tabla del ejemplo anterior, pero modificando el punto x = [−1 + 1 −1] → yd = 1, se ha generado un conjunto de datos diferente. Los archivos spheres2d10.csv, spheres2d50.csv y spheres2d70.csv contienen los datos con desviaciones aleatorias de 10, 50 y 70 % respectivamente (Figuras 2(b), 2(c) y 2(d)). \n",
    "\n",
    "Realice la validación cruzada del perceptrón simple con 10 particiones de entrenamiento y prueba, con relación 80/20.\n"
   ]
  },
  {
   "cell_type": "code",
   "execution_count": 103,
   "metadata": {},
   "outputs": [
    {
     "name": "stdout",
     "output_type": "stream",
     "text": [
      "Época 0\n",
      "Época 0\n",
      "Época 0\n",
      "Época 0\n",
      "Época 0\n",
      "Época 0\n",
      "Época 0\n",
      "Época 0\n",
      "Época 0\n",
      "Época 0\n",
      "Época 1\n",
      "Época 1\n",
      "Época 0\n",
      "Época 2\n",
      "Época 0\n",
      "Época 0\n",
      "Época 0\n",
      "Época 0\n",
      "Época 0\n",
      "Época 2\n",
      "Época 0\n",
      "Época 0\n",
      "Época 0\n",
      "Época 0\n",
      "Época 0\n",
      "Época 0\n",
      "Época 0\n",
      "Época 0\n",
      "Época 0\n",
      "Época 0\n"
     ]
    }
   ],
   "source": [
    "num_particiones=10\n",
    "#particion de 10% de desvio\n",
    "ds, M_tst, M_trn = generar_particiones('icgtp1datos\\spheres2d10.csv', num_particiones, 0.2)\n",
    "ds_size = ds.shape[0]\n",
    "\n",
    "w_particion_2d10=np.zeros((num_particiones,ds.shape[1]))\n",
    "\n",
    "for i,particion in enumerate(M_trn):\n",
    "    historial_w, errores_evol = perceptron_simple_train(ds[particion],20,0.03,0.001,500)                       \n",
    "    w_particion_2d10[i]= historial_w[-1]\n",
    "\n",
    "errores_2d10=np.zeros(num_particiones)\n",
    "\n",
    "for i,particion in enumerate(M_tst):\n",
    "    errores_2d10[i]= perceptron_test(ds[particion],w_particion_2d10[i])\n",
    "\n",
    "#particion de 50% de desvio\n",
    "ds, M_tst, M_trn = generar_particiones('icgtp1datos\\spheres2d50.csv', num_particiones, 0.2)\n",
    "ds_size = ds.shape[0]\n",
    "\n",
    "w_particion_2d50=np.zeros((num_particiones,ds.shape[1]))\n",
    "\n",
    "for i,particion in enumerate(M_trn):\n",
    "    historial_w, errores_evol = perceptron_simple_train(ds[particion],40,0.05,0.0001,500)                       \n",
    "    w_particion_2d50[i]= historial_w[-1]\n",
    "\n",
    "\n",
    "errores_2d50=np.zeros(num_particiones)\n",
    "\n",
    "for i,particion in enumerate(M_tst):\n",
    "    errores_2d50[i]= perceptron_test(ds[particion],w_particion_2d50[i])\n",
    "\n",
    "#particion de 70% de desvio\n",
    "ds, M_tst, M_trn = generar_particiones('icgtp1datos\\spheres2d70.csv', num_particiones, 0.2)\n",
    "ds_size = ds.shape[0]\n",
    "\n",
    "w_particion_2d70=np.zeros((num_particiones,ds.shape[1]))\n",
    "\n",
    "for i,particion in enumerate(M_trn):\n",
    "    historial_w, errores_evol = perceptron_simple_train(ds[particion],100,0.05,0.1,500)                       \n",
    "    w_particion_2d70[i] = historial_w[-1]\n",
    "\n",
    "\n",
    "errores_2d70=np.zeros(num_particiones)\n",
    "\n",
    "for i,particion in enumerate(M_tst):\n",
    "    errores_2d70[i]= perceptron_test(ds[particion],w_particion_2d70[i])"
   ]
  },
  {
   "cell_type": "code",
   "execution_count": 104,
   "metadata": {},
   "outputs": [
    {
     "data": {
      "image/png": "[encoded data removed]",
      "text/plain": [
       "<Figure size 432x288 with 1 Axes>"
      ]
     },
     "metadata": {
      "needs_background": "light"
     },
     "output_type": "display_data"
    }
   ],
   "source": [
    "plt.close('all')\n",
    "plt.plot(range(num_particiones),errores_2d10)\n",
    "plt.plot(range(num_particiones),errores_2d50)\n",
    "plt.plot(range(num_particiones),errores_2d70)\n",
    "plt.title('Errores vs. Particiones')\n",
    "plt.xlabel('Particiones')\n",
    "plt.ylabel('Error')\n",
    "plt.show()"
   ]
  },
  {
   "cell_type": "code",
   "execution_count": 105,
   "metadata": {},
   "outputs": [
    {
     "name": "stdout",
     "output_type": "stream",
     "text": [
      "media desviación 10%: 0.0003 - desvío: 0.0006\n",
      "media desviación 50%: 0.0293 - desvío: 0.0117\n",
      "media desviación 70%: 0.0254 - desvío: 0.0081\n"
     ]
    }
   ],
   "source": [
    "print(f'media desviación 10%: {np.mean(errores_2d10):.4f} - desvío: {np.std(errores_2d10):.4f}')\n",
    "print(f'media desviación 50%: {np.mean(errores_2d50):.4f} - desvío: {np.std(errores_2d50):.4f}')\n",
    "print(f'media desviación 70%: {np.mean(errores_2d70):.4f} - desvío: {np.std(errores_2d70):.4f}')"
   ]
  },
  {
   "cell_type": "markdown",
   "metadata": {},
   "source": []
  },
  {
   "cell_type": "markdown",
   "metadata": {},
   "source": [
    "# Ejercicio 3"
   ]
  },
  {
   "cell_type": "code",
   "execution_count": 106,
   "metadata": {},
   "outputs": [],
   "source": [
    "def sigmoidea(x):\n",
    "    return np.divide(2, (1 + np.exp(-x))) - 1"
   ]
  },
  {
   "cell_type": "code",
   "execution_count": 107,
   "metadata": {},
   "outputs": [],
   "source": [
    "class layer:\n",
    "    def __init__(self, n_neuron, n_x):\n",
    "        self.n_neuron = n_neuron\n",
    "        self.n_entradas = n_x\n",
    "        self.w = np.random.normal(loc = 0, scale = 0.15, size =(n_neuron,n_x))\n",
    "        \n",
    "    def calculate_y(self,x):\n",
    "        y = np.dot(self.w,x)\n",
    "        #print(y)\n",
    "        y = sigmoidea(y)\n",
    "        return y   \n"
   ]
  },
  {
   "cell_type": "code",
   "execution_count": 108,
   "metadata": {},
   "outputs": [],
   "source": [
    "def perceptron_multilayer_init(neurons_perLayer, n_x):\n",
    "    network=[]\n",
    "    aux_n_x = n_x\n",
    "    for i in range(neurons_perLayer.shape[0]):\n",
    "        network.append(layer(neurons_perLayer[i], aux_n_x + 1))\n",
    "        aux_n_x = neurons_perLayer[i]\n",
    "    return(network)"
   ]
  },
  {
   "cell_type": "code",
   "execution_count": 109,
   "metadata": {},
   "outputs": [],
   "source": [
    "def perceptron_multilayer_forward(network,x):\n",
    "    # completa la primera capa\n",
    "    y=[x]\n",
    "    for i in range(len(network)):\n",
    "        # print(np.hstack((-1, y[i])))\n",
    "        y.append( \\\n",
    "                network[i].calculate_y( \\\n",
    "                    np.hstack((-1, y[i]))\\\n",
    "                        )\\\n",
    "        )\n",
    "        # print(y)\n",
    "    return y"
   ]
  },
  {
   "cell_type": "code",
   "execution_count": 110,
   "metadata": {},
   "outputs": [],
   "source": [
    "def perceptron_multilayer_backward(network,y,yd):\n",
    "    # e=np.sum(((yd-y[-1])**2))\n",
    "    e=yd-y[-1]\n",
    "    grad=[]\n",
    "    grad.append(np.multiply(e,np.multiply((1+y[-1]),(1-y[-1])))*0.5)\n",
    "    for i in range(len(network)-1,0,-1):\n",
    "        w_t=network[i].w[:,1:].T\n",
    "        #print(f'pesos sin la fila de w0 y transpuesto = {w_t}')\n",
    "        grad.append(np.multiply(np.dot(w_t,grad[len(network)-1-i]),np.multiply((1+y[i]),(1-y[i])))*0.5)\n",
    "    return grad\n"
   ]
  },
  {
   "cell_type": "code",
   "execution_count": 111,
   "metadata": {},
   "outputs": [],
   "source": [
    "def perceptron_multilayer_update(network,y,grad,gamma):\n",
    "    for i in range(len(network)):\n",
    "        w_new = gamma * np.outer(grad[-(i+1)],np.hstack((-1, y[i])))\n",
    "        network[i].w += w_new\n",
    "        # print(i,network[i].w)\n",
    "    return network "
   ]
  },
  {
   "cell_type": "markdown",
   "metadata": {},
   "source": [
    "## Train"
   ]
  },
  {
   "cell_type": "code",
   "execution_count": 117,
   "metadata": {},
   "outputs": [
    {
     "name": "stdout",
     "output_type": "stream",
     "text": [
      "Epoca 0: error = 0.24625\n",
      "Época 0\n",
      "Epoca 1: error = 0.24625\n",
      "Época 1\n",
      "Epoca 2: error = 0.4825\n",
      "Época 2\n",
      "Epoca 3: error = 0.4825\n",
      "Época 3\n",
      "Epoca 4: error = 0.4825\n",
      "Época 4\n",
      "Epoca 5: error = 0.4825\n",
      "Época 5\n",
      "Epoca 6: error = 0.4825\n",
      "Época 6\n",
      "Epoca 7: error = 0.4825\n",
      "Época 7\n",
      "Epoca 8: error = 0.296875\n",
      "Época 8\n",
      "Epoca 9: error = 0.24625\n",
      "Época 9\n",
      "Epoca 10: error = 0.24625\n",
      "Época 10\n",
      "Epoca 11: error = 0.24625\n",
      "Época 11\n",
      "Epoca 12: error = 0.24625\n",
      "Época 12\n",
      "Epoca 13: error = 0.24625\n",
      "Época 13\n",
      "Epoca 14: error = 0.0\n",
      "Época 14\n"
     ]
    }
   ],
   "source": [
    "ds, M_tst, M_trn  =  generar_particiones('icgtp1datos\\XOR_trn.csv', 1, 0.2)\n",
    "X = ds[M_trn[0,:], :-1]\n",
    "#X_a = np.array([[-1.0291,0.97256],[1.0325,-1.0188]])\n",
    "\n",
    "# print(X)\n",
    "Y_d = ds[M_trn[0,:], -1]\n",
    "#Y_d = [1, 1]\n",
    "# print(Y_d)\n",
    "network = []\n",
    "# X = np.hstack((-1, np.ones((X.shape[0],1)), X))\n",
    "n_per_layer = np.array([2, 1])\n",
    "network = perceptron_multilayer_init(n_per_layer, X.shape[1])\n",
    "#print(f'pesos capa 1{network[0].w}')\n",
    "#print(f'pesos capa 2{network[1].w}')\n",
    "\n",
    "cant_epocas = 40\n",
    "nu_error = 0.01\n",
    "error_epocas = []\n",
    "gamma_aprend = 0.01\n",
    "\n",
    "for n_epoch in range(cant_epocas):\n",
    "    for i, pattern in enumerate(X):\n",
    "        #print('patron:', pattern)\n",
    "        y = perceptron_multilayer_forward(network, pattern)\n",
    "        #print(f'salida{i}={y}')\n",
    "        grad = perceptron_multilayer_backward(network, y, Y_d[i])\n",
    "        #print(f'gradiente = {grad}')\n",
    "        network = perceptron_multilayer_update(network, y, grad, gamma_aprend)\n",
    "    \n",
    "    # Validación [con todos los patrones]\n",
    "    errores = 0\n",
    "    for n, patron in enumerate(X):\n",
    "        # producto punto\n",
    "        y_test = perceptron_multilayer_forward(network, patron)\n",
    "        # estamos suponiendo una sola salida\n",
    "        #y = -1 if (y_test[-1] < 0) else 1\n",
    "        y_aux=0\n",
    "        if (y_test[-1] < 0):\n",
    "            y_aux=-1\n",
    "        else:\n",
    "            y_aux=1\n",
    "        # print('y',y,'yDeseada',Y_d[n])\n",
    "        errores += int(y_aux != Y_d[n])\n",
    "        # print('errores', errores)\n",
    "    error = (errores/X.shape[0])\n",
    "        # error = np.sum(((y[-1]-Y_d[i])**2))        \n",
    "    error_epocas= np.append(error_epocas, [error])\n",
    "    print(f'Epoca {n_epoch}: error = {error}')\n",
    "    if (error < nu_error):\n",
    "        print(f'Época {n_epoch}')\n",
    "        break\n",
    "    print(f'Época {n_epoch}')\n",
    "\n"
   ]
  },
  {
   "cell_type": "markdown",
   "metadata": {},
   "source": [
    "## Test: Problema OR"
   ]
  },
  {
   "cell_type": "code",
   "execution_count": 118,
   "metadata": {},
   "outputs": [
    {
     "name": "stdout",
     "output_type": "stream",
     "text": [
      "0.0\n"
     ]
    }
   ],
   "source": [
    "X_test = ds[M_tst[0,:], :-1]\n",
    "Y_d_test = ds[M_tst[0,:], -1]\n",
    "errores = 0\n",
    "\n",
    "for i, pattern in enumerate(X_test):\n",
    "    y_test = perceptron_multilayer_forward(network, pattern)\n",
    "    # estamos suponiendo una sola salida\n",
    "    y = -1 if (y_test[-1] < 0) else 1\n",
    "    errores += int(y != Y_d_test[i])\n",
    "\n",
    "print(errores / X_test.shape[0])\n",
    "\n"
   ]
  },
  {
   "cell_type": "markdown",
   "metadata": {},
   "source": [
    "## Plot"
   ]
  },
  {
   "cell_type": "code",
   "execution_count": 130,
   "metadata": {},
   "outputs": [
    {
     "data": {
      "text/plain": [
       "[<matplotlib.lines.Line2D at 0x287b0e906a0>]"
      ]
     },
     "execution_count": 130,
     "metadata": {},
     "output_type": "execute_result"
    },
    {
     "data": {
      "image/png": "[encoded data removed]",
      "text/plain": [
       "<Figure size 360x288 with 1 Axes>"
      ]
     },
     "metadata": {
      "needs_background": "light"
     },
     "output_type": "display_data"
    }
   ],
   "source": [
    "# pesos primer neurona\n",
    "w1 = network[0].w[0]\n",
    "\n",
    "# pesos segunda neurona\n",
    "w2 = network[0].w[1]\n",
    "\n",
    "# pesos neurona capa 2\n",
    "w21 = network[1].w[0]\n",
    "\n",
    "fig1 = plt.figure(figsize=(5, 4), tight_layout=True)\n",
    "fig1.suptitle('Recta $w_1 x_1 + w_2 x_2 - w_0 = 0$',  fontsize=11)\n",
    "fig1_ax = fig1.add_subplot(autoscale_on=False, xlim=(-1.5, 1.5), ylim=(-1.5, 1.5))\n",
    "fig1_ax.set_aspect('equal')\n",
    "fig1_ax.grid()\n",
    "\n",
    "# Patrones\n",
    "x_x = X_test[:,0]\n",
    "x_y = X_test[:,1]\n",
    "x_color = np.where(x_x > 0, np.where(x_y > 0, 'C0', 'C1'), np.where(x_y < 0, 'C0', 'C1'))\n",
    "fig1_ax.scatter(x_x, x_y, c=x_color, s=5, marker='.')\n",
    "\n",
    "# Recta\n",
    "xx = np.arange(-3, 3, 0.01)\n",
    "a1 = w1[0] / w1[2]\n",
    "b1 = w1[1] / w1[2]\n",
    "fig1_ax.plot(xx, a1 - b1 * xx, c='C3', linewidth=2)\n",
    "\n",
    "a2 = w2[0] / w2[2]\n",
    "b2 = w2[1] / w2[2]\n",
    "fig1_ax.plot(xx, a2 - b2 * xx, c='C2', linewidth=2)\n",
    "\n",
    "a3 = w21[0] / w21[2]\n",
    "b3 = w21[1] / w21[2]\n",
    "fig1_ax.plot(xx, a3 - b3 * xx, c='C1', linewidth=2)\n"
   ]
  }
 ],
 "metadata": {
  "kernelspec": {
   "display_name": "Python 3.10.4 64-bit",
   "language": "python",
   "name": "python3"
  },
  "language_info": {
   "codemirror_mode": {
    "name": "ipython",
    "version": 3
   },
   "file_extension": ".py",
   "mimetype": "text/x-python",
   "name": "python",
   "nbconvert_exporter": "python",
   "pygments_lexer": "ipython3",
   "version": "3.10.4"
  },
  "orig_nbformat": 4,
  "vscode": {
   "interpreter": {
    "hash": "52634da84371cba311ea128a5ea7cdc41ff074b781779e754b270ff9f8153cee"
   }
  }
 },
 "nbformat": 4,
 "nbformat_minor": 2
}

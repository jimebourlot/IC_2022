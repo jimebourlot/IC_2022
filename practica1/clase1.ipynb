{
 "cells": [
  {
   "cell_type": "markdown",
   "metadata": {},
   "source": [
    "# Ejercicio 1\n",
    "Realice un programa que permita el entrenamiento y prueba de un perceptrón simple con una cantidad variable de\n",
    "entradas. El programa debe proveer las siguientes facilidades:\n",
    " 1. lectura de los patrones de entrenamiento (entradas y salidas) desde un archivo en formato texto separado por comas\n",
    " 2. selección del criterio de finalización del entrenamiento,\n",
    " 3. selección del número máximo de épocas de entrenamiento,\n",
    " 4. selección de la tasa de aprendizaje,\n",
    " 5. prueba del perceptrón entrenado mediante archivos de texto con el mismo formato separado por comas.\n",
    "\n",
    "Realizar la prueba: Recuerde que para que la prueba tenga validez se deben utilizar patrones nunca presentados en el entrenamiento, para esto se dispone de dos archivos diferentes para cada problema.\n",
    "\n",
    "Implemente una rutina de graficación que permita visualizar, para el caso de dos entradas, los patrones utilizados y\n",
    "la recta de separación que se va ajustando durante el entrenamiento del perceptrón simple. Utilice dicha rutina para\n",
    "visualizar el entrenamiento en los problemas OR y XOR."
   ]
  },
  {
   "cell_type": "code",
   "execution_count": 10,
   "metadata": {},
   "outputs": [],
   "source": [
    "import numpy as np\n",
    "import matplotlib.pyplot as plt"
   ]
  },
  {
   "cell_type": "markdown",
   "metadata": {},
   "source": [
    "## Train"
   ]
  },
  {
   "cell_type": "code",
   "execution_count": 11,
   "metadata": {},
   "outputs": [],
   "source": [
    "def perceptron_simple_train(ds_train,N,nu,gamma,N_valid):\n",
    "\n",
    "    idx=np.random.choice(range(ds_train.shape[0]), ds_train.shape[0], replace = False)\n",
    "    idx_valid = idx[:N_valid]\n",
    "    idx_train = idx[N_valid:]\n",
    "\n",
    "    # inicializacion de pesos al azar: distribución uniforme\n",
    "    # w = np.random.rand(ds_train.shape[1]) - 0.5\n",
    "\n",
    "    # inicialización al azar de los pesos con distribución normal\n",
    "    # loc -> media - scale -> desvío\n",
    "    w = np.random.normal(loc = 0, scale = 0.15, size = ds_train.shape[1]) \n",
    "\n",
    "    error_epocas = []\n",
    "    w_epocas = w\n",
    "\n",
    "    x = np.hstack((-1*np.ones((ds_train.shape[0],1)), ds_train))\n",
    "\n",
    "\n",
    "    # épocas\n",
    "    for i in range(N):\n",
    "        for patron in x[idx_train]:\n",
    "            a = patron\n",
    "            # producto punto\n",
    "            y = np.dot(patron[:-1],w)\n",
    "            # No linealidad\n",
    "            if (y > 0):\n",
    "                y = 1\n",
    "            else:\n",
    "                y = -1\n",
    "            # Actualización de pesos\n",
    "            w = w + patron[:-1] * gamma * (patron[-1] - y)\n",
    "\n",
    "        # Validación\n",
    "        errores = 0\n",
    "        for j in x[idx_valid]:\n",
    "            # producto punto\n",
    "            y = np.dot(j[0:len(j)-1],w)\n",
    "            \n",
    "            # No linealidad\n",
    "            if (y > 0 and 1 != j[len(j)-1]):\n",
    "                errores += 1\n",
    "            elif (y <= 0 and -1 != j[len(j)-1]):\n",
    "                errores += 1\n",
    "        error = (errores/N_valid)\n",
    "\n",
    "        error_epocas= np.append(error_epocas, [error])\n",
    "        w_epocas = np.vstack((w_epocas, w))\n",
    "        \n",
    "        # print(f'Epoca {i}: error = {error}, w = {w}')\n",
    "        if (error < nu):\n",
    "            print(f'Época {i}')\n",
    "            return w_epocas, error_epocas\n",
    "    print(f'Época {i}')\n",
    "    return w_epocas, error_epocas"
   ]
  },
  {
   "cell_type": "code",
   "execution_count": 12,
   "metadata": {},
   "outputs": [
    {
     "data": {
      "text/plain": [
       "array([[2, 3],\n",
       "       [1, 2]])"
      ]
     },
     "execution_count": 12,
     "metadata": {},
     "output_type": "execute_result"
    }
   ],
   "source": [
    "import numpy as np\n",
    "np.vstack(([2, 3], [1, 2]))"
   ]
  },
  {
   "cell_type": "markdown",
   "metadata": {},
   "source": [
    "## Test"
   ]
  },
  {
   "cell_type": "code",
   "execution_count": 13,
   "metadata": {},
   "outputs": [],
   "source": [
    "def perceptron_test(ds_test,w):\n",
    "    errores = 0\n",
    "    for j in ds_test:\n",
    "        j = np.concatenate([[-1], j])\n",
    "        # Convolución\n",
    "        y = np.dot(j[0:len(j)-1],w)\n",
    "        # No linealidad\n",
    "        if (y > 0 and 1 != j[len(j)-1]):\n",
    "            errores += 1\n",
    "        elif (y <= 0 and -1 != j[len(j)-1]):\n",
    "            errores += 1\n",
    "    return (errores/ds_test.shape[0])\n"
   ]
  },
  {
   "cell_type": "markdown",
   "metadata": {},
   "source": [
    "## Graficación\n",
    "\n",
    "Implemente una rutina de graficación que permita visualizar, para el caso de dos entradas, los patrones utilizados y\n",
    "la recta de separación que se va ajustando durante el entrenamiento del perceptrón simple. Utilice dicha rutina para\n",
    "visualizar el entrenamiento en los problemas OR y XOR."
   ]
  },
  {
   "cell_type": "code",
   "execution_count": 14,
   "metadata": {},
   "outputs": [],
   "source": [
    "import time\n",
    "import matplotlib.animation as animation"
   ]
  },
  {
   "cell_type": "code",
   "execution_count": 15,
   "metadata": {},
   "outputs": [],
   "source": [
    "def graficar(x, y, x_color, w_vec, error):\n",
    "    \n",
    "    N_epocas = w_vec.shape[0]\n",
    "    x_recta = np.arange(-3, 3, 0.01)\n",
    "    pendiente = -w_vec[0,1]/w_vec[0,2]\n",
    "    ordenada = w_vec[0,0]/w_vec[0,2]\n",
    "    recta =  ordenada + pendiente * x_recta\n",
    "    fig, ax = plt.subplots(figsize=(4,3))\n",
    "    line1, = ax.plot(x_recta, recta)\n",
    "    ax.grid()\n",
    "    ax.scatter(x, y, c = x_color)\n",
    "    ax.set_xlim([-1.1, 1.1])\n",
    "    ax.set_ylim([-1.1, 1.1])\n",
    "\n",
    "    def animate(i):\n",
    "        pendiente = -w_vec[i,1]/w_vec[i,2]\n",
    "        ordenada = w_vec[i,0]/w_vec[i,2]\n",
    "        recta =  ordenada + pendiente * x_recta\n",
    "        line1.set_ydata(recta)\n",
    "        plt.title(f'recta = {np.round(pendiente, 4)}x + {np.round(ordenada,4)}, error: {error[i]}')\n",
    "        time.sleep(0.2)\n",
    "        return line1,\n",
    "    \n",
    "    anim = animation.FuncAnimation(fig, animate, frames=(N_epocas), interval=20, repeat=False)\n",
    "    plt.show()\n",
    "    #pause\n",
    "    anim.event_source.stop()\n",
    "\n"
   ]
  },
  {
   "cell_type": "markdown",
   "metadata": {},
   "source": [
    "## Problema OR\n",
    "### Train"
   ]
  },
  {
   "cell_type": "code",
   "execution_count": 16,
   "metadata": {},
   "outputs": [
    {
     "name": "stdout",
     "output_type": "stream",
     "text": [
      "Época 19\n"
     ]
    }
   ],
   "source": [
    "# lectura de patrones\n",
    "\n",
    "ds_train = np.genfromtxt('icgtp1datos/OR_trn.csv', delimiter=',')\n",
    "ds_train_size = ds_train.shape[0]\n",
    "\n",
    "# Entrenamiento\n",
    "N = 50 # Epocas\n",
    "gamma = 0.00001 # Tasa de aprendizaje\n",
    "nu = 0.0005 # Umbral de error\n",
    "N_valid = 200\n",
    "historial_w, errores_evol = perceptron_simple_train(ds_train,N,nu,gamma,N_valid)\n",
    "\n"
   ]
  },
  {
   "cell_type": "code",
   "execution_count": 17,
   "metadata": {},
   "outputs": [
    {
     "data": {
      "application/vnd.jupyter.widget-view+json": {
       "model_id": "4d6a886883314792a9129d4dce8e510b",
       "version_major": 2,
       "version_minor": 0
      },
      "image/png": "[encoded data removed]",
      "text/html": [
       "\n",
       "            <div style=\"display: inline-block;\">\n",
       "                <div class=\"jupyter-widgets widget-label\" style=\"text-align: center;\">\n",
       "                    Figure\n",
       "                </div>\n",
       "                <img src='data:image/png;base64,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' width=400.0/>\n",
       "            </div>\n",
       "        "
      ],
      "text/plain": [
       "Canvas(toolbar=Toolbar(toolitems=[('Home', 'Reset original view', 'home', 'home'), ('Back', 'Back to previous …"
      ]
     },
     "metadata": {},
     "output_type": "display_data"
    },
    {
     "name": "stderr",
     "output_type": "stream",
     "text": [
      "c:\\Users\\jimen\\AppData\\Local\\Programs\\Python\\Python310\\lib\\site-packages\\matplotlib\\animation.py:887: UserWarning: Animation was deleted without rendering anything. This is most likely not intended. To prevent deletion, assign the Animation to a variable, e.g. `anim`, that exists until you have outputted the Animation using `plt.show()` or `anim.save()`.\n",
      "  warnings.warn(\n"
     ]
    }
   ],
   "source": [
    "# Gráfico evolución del entrenamiento\n",
    "\n",
    "x_x = ds_train[:,0]\n",
    "x_y = ds_train[:,1]\n",
    "x_color = np.where(x_x < 0, np.where(x_y < 0, 'C0', 'C1'), 'C1')\n",
    "%matplotlib widget\n",
    "graficar(x_x, x_y, x_color, historial_w, errores_evol)\n"
   ]
  },
  {
   "cell_type": "code",
   "execution_count": 18,
   "metadata": {},
   "outputs": [],
   "source": [
    "%matplotlib inline"
   ]
  },
  {
   "cell_type": "code",
   "execution_count": 19,
   "metadata": {},
   "outputs": [
    {
     "data": {
      "image/png": "[encoded data removed]",
      "text/plain": [
       "<Figure size 432x288 with 1 Axes>"
      ]
     },
     "metadata": {
      "needs_background": "light"
     },
     "output_type": "display_data"
    }
   ],
   "source": [
    "x_recta = np.arange(-3, 3, 0.01)\n",
    "pendiente = -historial_w[-1,1]/historial_w[-1,2]\n",
    "ordenada = historial_w[-1,0]/historial_w[-1,2]\n",
    "recta =  ordenada + pendiente * x_recta\n",
    "\n",
    "plt.figure()\n",
    "plt.plot(x_recta, recta)\n",
    "plt.grid()\n",
    "\n",
    "x_color = np.where(ds_train[:,0] < 0, np.where(ds_train[:,1] < 0, 'C0', 'C1'), 'C1')\n",
    "plt.scatter(ds_train[:,0], ds_train[:,1], c = x_color)\n",
    "plt.xlim([-1.1, 1.1])\n",
    "plt.ylim([-1.1, 1.1])\n",
    "plt.title(f'recta = {np.round(pendiente, 4)}x + {np.round(ordenada,4)}, error: {errores_evol[-1]}')\n",
    "\n",
    "plt.show()"
   ]
  },
  {
   "cell_type": "code",
   "execution_count": 20,
   "metadata": {},
   "outputs": [
    {
     "data": {
      "image/png": "[encoded data removed]",
      "text/plain": [
       "<Figure size 432x288 with 1 Axes>"
      ]
     },
     "metadata": {
      "needs_background": "light"
     },
     "output_type": "display_data"
    }
   ],
   "source": [
    "# Gráfico de error vs. época para el train\n",
    "\n",
    "plt.close('all')\n",
    "plt.title('Error vs Época')\n",
    "plt.xlabel('Época')\n",
    "plt.ylabel('Error')\n",
    "plt.plot(range(len(errores_evol)),errores_evol)\n",
    "plt.show()"
   ]
  },
  {
   "cell_type": "markdown",
   "metadata": {},
   "source": [
    "### Test"
   ]
  },
  {
   "cell_type": "code",
   "execution_count": 21,
   "metadata": {},
   "outputs": [
    {
     "name": "stdout",
     "output_type": "stream",
     "text": [
      "Error de test: 0.0\n"
     ]
    }
   ],
   "source": [
    "# Test\n",
    "\n",
    "ds_test = np.genfromtxt('icgtp1datos/OR_tst.csv', delimiter=',')\n",
    "ds_test_size = ds_test.shape[0]\n",
    "\n",
    "w = historial_w[-1]\n",
    "error = perceptron_test(ds_test,w)\n",
    "print(f'Error de test: {error}')\n"
   ]
  },
  {
   "cell_type": "code",
   "execution_count": 22,
   "metadata": {},
   "outputs": [
    {
     "data": {
      "image/png": "[encoded data removed]",
      "text/plain": [
       "<Figure size 432x288 with 1 Axes>"
      ]
     },
     "metadata": {
      "needs_background": "light"
     },
     "output_type": "display_data"
    }
   ],
   "source": [
    "x_recta = np.arange(-3, 3, 0.01)\n",
    "pendiente = -w[1]/w[2]\n",
    "ordenada = w[0]/w[2]\n",
    "recta =  ordenada + pendiente * x_recta\n",
    "\n",
    "plt.figure()\n",
    "plt.plot(x_recta, recta)\n",
    "plt.grid()\n",
    "\n",
    "x_color = np.where(ds_test[:,0] < 0, np.where(ds_test[:,1] < 0, 'C0', 'C1'), 'C1')\n",
    "plt.scatter(ds_test[:,0], ds_test[:,1], c = x_color)\n",
    "plt.xlim([-1.1, 1.1])\n",
    "plt.ylim([-1.1, 1.1])\n",
    "plt.title(f'recta = {np.round(pendiente, 4)}x + {np.round(ordenada,4)}, error: {error}')\n",
    "\n",
    "plt.show()"
   ]
  },
  {
   "cell_type": "markdown",
   "metadata": {},
   "source": [
    "## Problema XOR\n",
    "### Train"
   ]
  },
  {
   "cell_type": "code",
   "execution_count": 23,
   "metadata": {},
   "outputs": [
    {
     "name": "stdout",
     "output_type": "stream",
     "text": [
      "Época 1\n"
     ]
    }
   ],
   "source": [
    "# Lectura de patrones\n",
    "\n",
    "ds_train = np.genfromtxt('icgtp1datos/XOR_trn.csv', delimiter=',')\n",
    "ds_train_size = ds_train.shape[0]\n",
    "\n",
    "# Entrenamiento\n",
    "N = 50 # Epocas\n",
    "gamma = 0.001 # Tasa de aprendizaje\n",
    "nu = 0.3 # Umbral de error\n",
    "N_valid=200\n",
    "historial_w, errores_evol = perceptron_simple_train(ds_train,N,nu,gamma,N_valid)"
   ]
  },
  {
   "cell_type": "code",
   "execution_count": 24,
   "metadata": {},
   "outputs": [
    {
     "data": {
      "application/vnd.jupyter.widget-view+json": {
       "model_id": "27379fd9c56e47f2ae376723dc6c276e",
       "version_major": 2,
       "version_minor": 0
      },
      "image/png": "[encoded data removed]",
      "text/html": [
       "\n",
       "            <div style=\"display: inline-block;\">\n",
       "                <div class=\"jupyter-widgets widget-label\" style=\"text-align: center;\">\n",
       "                    Figure\n",
       "                </div>\n",
       "                <img src='data:image/png;base64,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' width=400.0/>\n",
       "            </div>\n",
       "        "
      ],
      "text/plain": [
       "Canvas(toolbar=Toolbar(toolitems=[('Home', 'Reset original view', 'home', 'home'), ('Back', 'Back to previous …"
      ]
     },
     "metadata": {},
     "output_type": "display_data"
    }
   ],
   "source": [
    "# Gráfico de evolución del entrenamiento\n",
    "\n",
    "x_x = ds_train[:,0]\n",
    "x_y = ds_train[:,1]\n",
    "x_color = np.where(x_x > 0, np.where(x_y > 0, 'C0', 'C1'), np.where(x_y < 0, 'C0', 'C1'))\n",
    "%matplotlib widget\n",
    "graficar(x_x, x_y, x_color, historial_w, errores_evol)"
   ]
  },
  {
   "cell_type": "code",
   "execution_count": 25,
   "metadata": {},
   "outputs": [],
   "source": [
    "%matplotlib inline"
   ]
  },
  {
   "cell_type": "code",
   "execution_count": 26,
   "metadata": {},
   "outputs": [
    {
     "data": {
      "image/png": "[encoded data removed]",
      "text/plain": [
       "<Figure size 432x288 with 1 Axes>"
      ]
     },
     "metadata": {
      "needs_background": "light"
     },
     "output_type": "display_data"
    }
   ],
   "source": [
    "x_recta = np.arange(-3, 3, 0.01)\n",
    "pendiente = -historial_w[-1,1]/historial_w[-1,2]\n",
    "ordenada = historial_w[-1,0]/historial_w[-1,2]\n",
    "recta =  ordenada + pendiente * x_recta\n",
    "\n",
    "plt.figure()\n",
    "plt.plot(x_recta, recta)\n",
    "plt.grid()\n",
    "x_color = np.where(ds_train[:,0] > 0, np.where(ds_train[:,1] > 0, 'C0', 'C1'), np.where(ds_train[:,1] < 0, 'C0', 'C1'))\n",
    "plt.scatter(ds_train[:,0], ds_train[:,1], c = x_color)\n",
    "plt.xlim([-1.1, 1.1])\n",
    "plt.ylim([-1.1, 1.1])\n",
    "plt.title(f'recta = {np.round(pendiente, 4)}x + {np.round(ordenada,4)}, error: {errores_evol[-1]}')\n",
    "\n",
    "plt.show()"
   ]
  },
  {
   "cell_type": "markdown",
   "metadata": {},
   "source": [
    "### Test"
   ]
  },
  {
   "cell_type": "code",
   "execution_count": 27,
   "metadata": {},
   "outputs": [
    {
     "name": "stdout",
     "output_type": "stream",
     "text": [
      "Error de test: 0.22\n"
     ]
    }
   ],
   "source": [
    "ds_test = np.genfromtxt('icgtp1datos/XOR_tst.csv', delimiter=',')\n",
    "ds_test_size = ds_test.shape[0]\n",
    "\n",
    "# Test\n",
    "w = historial_w[-1]\n",
    "error = perceptron_test(ds_test,w)\n",
    "print(f'Error de test: {error}')"
   ]
  },
  {
   "cell_type": "code",
   "execution_count": 28,
   "metadata": {},
   "outputs": [
    {
     "data": {
      "image/png": "[encoded data removed]",
      "text/plain": [
       "<Figure size 432x288 with 1 Axes>"
      ]
     },
     "metadata": {
      "needs_background": "light"
     },
     "output_type": "display_data"
    }
   ],
   "source": [
    "x_recta = np.arange(-3, 3, 0.01)\n",
    "pendiente = -w[1]/w[2]\n",
    "ordenada = w[0]/w[2]\n",
    "recta =  ordenada + pendiente * x_recta\n",
    "\n",
    "plt.figure()\n",
    "plt.plot(x_recta, recta)\n",
    "plt.grid()\n",
    "\n",
    "x_color = np.where(ds_test[:,0] > 0, np.where(ds_test[:,1] > 0, 'C0', 'C1'), np.where(ds_test[:,1] < 0, 'C0', 'C1'))\n",
    "plt.scatter(ds_test[:,0], ds_test[:,1], c = x_color)\n",
    "plt.xlim([-1.1, 1.1])\n",
    "plt.ylim([-1.1, 1.1])\n",
    "plt.title(f'recta = {np.round(pendiente, 4)}x + {np.round(ordenada,4)}, error: {error}')\n",
    "\n",
    "plt.show()"
   ]
  },
  {
   "cell_type": "markdown",
   "metadata": {},
   "source": [
    "# Ejercicio 2\n",
    "## Generación de particiones"
   ]
  },
  {
   "cell_type": "code",
   "execution_count": 29,
   "metadata": {},
   "outputs": [],
   "source": [
    "def generar_particiones(filename, n, p_test):\n",
    "    ds = np.genfromtxt(filename, delimiter=',')\n",
    "    n_test = int(ds.shape[0] * p_test)\n",
    "    n_train = ds.shape[0] - n_test\n",
    "    M_test = np.zeros((n,n_test),dtype = int)\n",
    "    M_train = np.zeros((n, n_train),dtype = int)\n",
    "\n",
    "    for i in range(n):\n",
    "        idx=np.random.choice(range(ds.shape[0]),ds.shape[0],replace = False)\n",
    "        idx_test = idx[0:n_test]\n",
    "        idx_train = idx[n_test:ds.shape[0]]\n",
    "        M_test[i] = idx_test\n",
    "        M_train[i] = idx_train\n",
    "    \n",
    "    return (ds, M_test, M_train)\n"
   ]
  },
  {
   "cell_type": "markdown",
   "metadata": {},
   "source": [
    "## Validación cruzada con 5 particiones\n",
    "El archivo $spheres1d10.csv$ contiene una serie de datos generados a partir de los valores de la Tabla 1, con pequeñas desviaciones aleatorias ($< 10 %$) en torno a ellos. \n",
    "Realice con estos datos la validación cruzada del perceptrón simple con $5$ particiones de entrenamiento y prueba con relacion $80/20$"
   ]
  },
  {
   "cell_type": "code",
   "execution_count": 30,
   "metadata": {},
   "outputs": [
    {
     "name": "stdout",
     "output_type": "stream",
     "text": [
      "Época 0\n",
      "Época 33\n",
      "Época 49\n",
      "Época 11\n",
      "Época 17\n"
     ]
    },
    {
     "data": {
      "image/png": "[encoded data removed]",
      "text/plain": [
       "<Figure size 432x288 with 1 Axes>"
      ]
     },
     "metadata": {
      "needs_background": "light"
     },
     "output_type": "display_data"
    }
   ],
   "source": [
    "num_particiones=5\n",
    "ds, M_tst, M_trn = generar_particiones('icgtp1datos\\spheres1d10.csv', num_particiones, 0.2)\n",
    "\n",
    "# for i in range(num_particiones):\n",
    "#     np.savetxt(f'icgtp1datos\\spheres1d10-part{i}_test.csv', ds[M_tst[i]], delimiter=',')\n",
    "#     np.savetxt(f'icgtp1datos\\spheres1d10-part{i}_trn.csv', ds[M_trn[i]], delimiter=',')\n",
    "\n",
    "ds_size = ds.shape[0]\n",
    "\n",
    "w_particion=np.zeros((num_particiones,ds.shape[1]))\n",
    "\n",
    "for i,particion in enumerate(M_trn):\n",
    "    historial_w, errores_evol = perceptron_simple_train(ds[particion],50,0.13,0.01,500)\n",
    "    w_particion[i] = historial_w[-1]\n",
    "\n",
    "errores=np.zeros(num_particiones)\n",
    "\n",
    "for i,particion in enumerate(M_tst):\n",
    "    errores[i]= perceptron_test(ds[particion],w_particion[i])\n",
    "\n",
    "plt.close('all')\n",
    "plt.plot(range(num_particiones),errores)\n",
    "plt.title('Errores vs. Particiones')\n",
    "plt.xlabel('Particiones')\n",
    "plt.ylabel('Error')\n",
    "plt.show()"
   ]
  },
  {
   "cell_type": "markdown",
   "metadata": {},
   "source": [
    "## Validación cruzada con 10 particiones\n",
    "A partir de la misma tabla del ejemplo anterior, pero modificando el punto x = [−1 + 1 −1] → yd = 1, se ha generado un conjunto de datos diferente. Los archivos spheres2d10.csv, spheres2d50.csv y spheres2d70.csv contienen los datos con desviaciones aleatorias de 10, 50 y 70 % respectivamente (Figuras 2(b), 2(c) y 2(d)). \n",
    "\n",
    "Realice la validación cruzada del perceptrón simple con 10 particiones de entrenamiento y prueba, con relación 80/20.\n"
   ]
  },
  {
   "cell_type": "code",
   "execution_count": 31,
   "metadata": {},
   "outputs": [
    {
     "name": "stdout",
     "output_type": "stream",
     "text": [
      "Época 0\n",
      "Época 0\n",
      "Época 0\n",
      "Época 0\n",
      "Época 0\n",
      "Época 0\n",
      "Época 0\n",
      "Época 0\n",
      "Época 0\n",
      "Época 0\n",
      "Época 0\n",
      "Época 1\n",
      "Época 0\n",
      "Época 0\n",
      "Época 0\n",
      "Época 1\n",
      "Época 0\n",
      "Época 1\n",
      "Época 0\n",
      "Época 1\n",
      "Época 0\n",
      "Época 0\n",
      "Época 0\n",
      "Época 4\n",
      "Época 2\n",
      "Época 1\n",
      "Época 1\n",
      "Época 0\n",
      "Época 0\n",
      "Época 0\n"
     ]
    }
   ],
   "source": [
    "num_particiones=10\n",
    "#particion de 10% de desvio\n",
    "ds, M_tst, M_trn = generar_particiones('icgtp1datos\\spheres2d10.csv', num_particiones, 0.2)\n",
    "ds_size = ds.shape[0]\n",
    "\n",
    "w_particion_2d10=np.zeros((num_particiones,ds.shape[1]))\n",
    "\n",
    "for i,particion in enumerate(M_trn):\n",
    "    historial_w, errores_evol = perceptron_simple_train(ds[particion],20,0.03,0.001,500)                       \n",
    "    w_particion_2d10[i]= historial_w[-1]\n",
    "\n",
    "errores_2d10=np.zeros(num_particiones)\n",
    "\n",
    "for i,particion in enumerate(M_tst):\n",
    "    errores_2d10[i]= perceptron_test(ds[particion],w_particion_2d10[i])\n",
    "\n",
    "#particion de 50% de desvio\n",
    "ds, M_tst, M_trn = generar_particiones('icgtp1datos\\spheres2d50.csv', num_particiones, 0.2)\n",
    "ds_size = ds.shape[0]\n",
    "\n",
    "w_particion_2d50=np.zeros((num_particiones,ds.shape[1]))\n",
    "\n",
    "for i,particion in enumerate(M_trn):\n",
    "    historial_w, errores_evol = perceptron_simple_train(ds[particion],40,0.05,0.0001,500)                       \n",
    "    w_particion_2d50[i]= historial_w[-1]\n",
    "\n",
    "\n",
    "errores_2d50=np.zeros(num_particiones)\n",
    "\n",
    "for i,particion in enumerate(M_tst):\n",
    "    errores_2d50[i]= perceptron_test(ds[particion],w_particion_2d50[i])\n",
    "\n",
    "#particion de 70% de desvio\n",
    "ds, M_tst, M_trn = generar_particiones('icgtp1datos\\spheres2d70.csv', num_particiones, 0.2)\n",
    "ds_size = ds.shape[0]\n",
    "\n",
    "w_particion_2d70=np.zeros((num_particiones,ds.shape[1]))\n",
    "\n",
    "for i,particion in enumerate(M_trn):\n",
    "    historial_w, errores_evol = perceptron_simple_train(ds[particion],100,0.05,0.1,500)                       \n",
    "    w_particion_2d70[i] = historial_w[-1]\n",
    "\n",
    "\n",
    "errores_2d70=np.zeros(num_particiones)\n",
    "\n",
    "for i,particion in enumerate(M_tst):\n",
    "    errores_2d70[i]= perceptron_test(ds[particion],w_particion_2d70[i])"
   ]
  },
  {
   "cell_type": "code",
   "execution_count": 32,
   "metadata": {},
   "outputs": [
    {
     "data": {
      "image/png": "[encoded data removed]",
      "text/plain": [
       "<Figure size 432x288 with 1 Axes>"
      ]
     },
     "metadata": {
      "needs_background": "light"
     },
     "output_type": "display_data"
    }
   ],
   "source": [
    "plt.close('all')\n",
    "plt.plot(range(num_particiones),errores_2d10)\n",
    "plt.plot(range(num_particiones),errores_2d50)\n",
    "plt.plot(range(num_particiones),errores_2d70)\n",
    "plt.title('Errores vs. Particiones')\n",
    "plt.xlabel('Particiones')\n",
    "plt.ylabel('Error')\n",
    "plt.show()"
   ]
  },
  {
   "cell_type": "code",
   "execution_count": 33,
   "metadata": {},
   "outputs": [
    {
     "name": "stdout",
     "output_type": "stream",
     "text": [
      "media desviación 10%: 0.0005 - desvío: 0.0012\n",
      "media desviación 50%: 0.0238 - desvío: 0.0181\n",
      "media desviación 70%: 0.0292 - desvío: 0.0089\n"
     ]
    }
   ],
   "source": [
    "print(f'media desviación 10%: {np.mean(errores_2d10):.4f} - desvío: {np.std(errores_2d10):.4f}')\n",
    "print(f'media desviación 50%: {np.mean(errores_2d50):.4f} - desvío: {np.std(errores_2d50):.4f}')\n",
    "print(f'media desviación 70%: {np.mean(errores_2d70):.4f} - desvío: {np.std(errores_2d70):.4f}')"
   ]
  },
  {
   "cell_type": "markdown",
   "metadata": {},
   "source": []
  },
  {
   "cell_type": "markdown",
   "metadata": {},
   "source": [
    "# Ejercicio 3"
   ]
  },
  {
   "cell_type": "code",
   "execution_count": 127,
   "metadata": {},
   "outputs": [],
   "source": [
    "def sigmoidea(x):\n",
    "    return np.divide(2, (1 + np.exp(-x))) - 1"
   ]
  },
  {
   "cell_type": "code",
   "execution_count": 132,
   "metadata": {},
   "outputs": [],
   "source": [
    "class layer:\n",
    "    def __init__(self, n_neuron, n_x):\n",
    "        self.n_neuron = n_neuron\n",
    "        self.n_entradas = n_x\n",
    "        self.w = np.random.normal(loc = 0, scale = 0.15, size =(n_neuron,n_x))\n",
    "        \n",
    "    def calculate_y(self,x):\n",
    "        y = np.dot(self.w,x.T)\n",
    "        y = sigmoidea(y)\n",
    "        return y   \n"
   ]
  },
  {
   "cell_type": "code",
   "execution_count": 77,
   "metadata": {},
   "outputs": [],
   "source": [
    "def perceptron_multilayer_init(neurons_perLayer, n_x):\n",
    "    network=[]\n",
    "    aux_n_x = n_x\n",
    "    for i in range(neurons_perLayer.shape[0]):\n",
    "        network.append(layer(neurons_perLayer[i], aux_n_x + 1))\n",
    "        aux_n_x = neurons_perLayer[i]\n",
    "    return(network)"
   ]
  },
  {
   "cell_type": "code",
   "execution_count": 78,
   "metadata": {},
   "outputs": [],
   "source": [
    "def perceptron_multilayer_forward(network,x):\n",
    "    # completa la primera capa\n",
    "    y=[x]\n",
    "    for i in range(len(network)):\n",
    "        y.append( \\\n",
    "                network[i].calculate_y( \\\n",
    "                    np.hstack((-1, y[i]))\\\n",
    "                        )\\\n",
    "        )\n",
    "    return y"
   ]
  },
  {
   "cell_type": "code",
   "execution_count": 98,
   "metadata": {},
   "outputs": [],
   "source": [
    "def perceptron_multilayer_backward(network,y,yd):\n",
    "    e=np.sum(((y[-1]-yd)**2))\n",
    "    grad=[]\n",
    "    grad.append(np.multiply(e,np.multiply((1+y[-1]),(1-y[-1]))))\n",
    "    for i in range(len(network)-1,0,-1):\n",
    "        w_t=network[i].w[:,1:].T\n",
    "        grad.append(np.multiply(np.dot(w_t,grad[i-1]),np.multiply((1+y[i]),(1-y[i]))))\n",
    "    return grad\n"
   ]
  },
  {
   "cell_type": "code",
   "execution_count": 117,
   "metadata": {},
   "outputs": [],
   "source": [
    "def perceptron_multilayer_update(network,y,grad,gamma):\n",
    "    for i in range(len(network)):\n",
    "        w_new = gamma * np.outer(grad[-(i+1)],np.hstack((-1, y[i])))\n",
    "        network[i].w += w_new\n",
    "    return network "
   ]
  },
  {
   "cell_type": "markdown",
   "metadata": {},
   "source": [
    "## Train"
   ]
  },
  {
   "cell_type": "code",
   "execution_count": 141,
   "metadata": {},
   "outputs": [
    {
     "name": "stdout",
     "output_type": "stream",
     "text": [
      "Época 0\n",
      "Época 0\n",
      "Época 1\n",
      "Época 1\n",
      "Época 2\n",
      "Época 2\n",
      "Época 3\n",
      "Época 3\n",
      "Época 4\n",
      "Época 4\n",
      "Época 5\n",
      "Época 5\n",
      "Época 6\n",
      "Época 6\n",
      "Época 7\n",
      "Época 7\n",
      "Época 8\n",
      "Época 8\n",
      "Época 9\n",
      "Época 9\n",
      "Época 10\n",
      "Época 10\n",
      "Época 11\n",
      "Época 11\n",
      "Época 12\n",
      "Época 12\n",
      "Época 13\n",
      "Época 13\n",
      "Época 14\n",
      "Época 14\n",
      "Época 15\n",
      "Época 15\n",
      "Época 16\n",
      "Época 16\n",
      "Época 17\n",
      "Época 17\n",
      "Época 18\n",
      "Época 18\n",
      "Época 19\n",
      "Época 19\n",
      "Época 20\n",
      "Época 20\n",
      "Época 21\n",
      "Época 21\n",
      "Época 22\n",
      "Época 22\n",
      "Época 23\n",
      "Época 23\n",
      "Época 24\n",
      "Época 24\n",
      "Época 25\n",
      "Época 25\n",
      "Época 26\n",
      "Época 26\n",
      "Época 27\n",
      "Época 27\n",
      "Época 28\n",
      "Época 28\n",
      "Época 29\n",
      "Época 29\n",
      "Época 30\n",
      "Época 30\n",
      "Época 31\n",
      "Época 31\n",
      "Época 32\n",
      "Época 32\n",
      "Época 33\n",
      "Época 33\n",
      "Época 34\n",
      "Época 34\n",
      "Época 35\n",
      "Época 35\n",
      "Época 36\n",
      "Época 36\n",
      "Época 37\n",
      "Época 37\n",
      "Época 38\n",
      "Época 38\n",
      "Época 39\n",
      "Época 39\n",
      "Época 40\n",
      "Época 40\n",
      "Época 41\n",
      "Época 41\n",
      "Época 42\n",
      "Época 42\n",
      "Época 43\n",
      "Época 43\n",
      "Época 44\n",
      "Época 44\n",
      "Época 45\n",
      "Época 45\n",
      "Época 46\n",
      "Época 46\n",
      "Época 47\n",
      "Época 47\n",
      "Época 48\n",
      "Época 48\n",
      "Época 49\n",
      "Época 49\n",
      "Época 50\n",
      "Época 50\n",
      "Época 51\n",
      "Época 51\n",
      "Época 52\n",
      "Época 52\n",
      "Época 53\n",
      "Época 53\n",
      "Época 54\n",
      "Época 54\n",
      "Época 55\n",
      "Época 55\n",
      "Época 56\n",
      "Época 56\n",
      "Época 57\n",
      "Época 57\n",
      "Época 58\n",
      "Época 58\n",
      "Época 59\n",
      "Época 59\n",
      "Época 60\n",
      "Época 60\n",
      "Época 61\n",
      "Época 61\n",
      "Época 62\n",
      "Época 62\n",
      "Época 63\n",
      "Época 63\n",
      "Época 64\n",
      "Época 64\n",
      "Época 65\n",
      "Época 65\n",
      "Época 66\n",
      "Época 66\n",
      "Época 67\n",
      "Época 67\n",
      "Época 68\n",
      "Época 68\n",
      "Época 69\n",
      "Época 69\n",
      "Época 70\n",
      "Época 70\n",
      "Época 71\n",
      "Época 71\n",
      "Época 72\n",
      "Época 72\n",
      "Época 73\n",
      "Época 73\n",
      "Época 74\n",
      "Época 74\n",
      "Época 75\n",
      "Época 75\n",
      "Época 76\n",
      "Época 76\n",
      "Época 77\n",
      "Época 77\n",
      "Época 78\n",
      "Época 78\n",
      "Época 79\n",
      "Época 79\n",
      "Época 80\n",
      "Época 80\n",
      "Época 81\n",
      "Época 81\n",
      "Época 82\n",
      "Época 82\n",
      "Época 83\n",
      "Época 83\n",
      "Época 84\n",
      "Época 84\n",
      "Época 85\n",
      "Época 85\n",
      "Época 86\n",
      "Época 86\n",
      "Época 87\n",
      "Época 87\n",
      "Época 88\n",
      "Época 88\n",
      "Época 89\n",
      "Época 89\n",
      "Época 90\n",
      "Época 90\n",
      "Época 91\n",
      "Época 91\n",
      "Época 92\n",
      "Época 92\n",
      "Época 93\n",
      "Época 93\n",
      "Época 94\n",
      "Época 94\n",
      "Época 95\n",
      "Época 95\n",
      "Época 96\n",
      "Época 96\n",
      "Época 97\n",
      "Época 97\n",
      "Época 98\n",
      "Época 98\n",
      "Época 99\n",
      "Época 99\n"
     ]
    }
   ],
   "source": [
    "ds, M_tst, M_trn  =  generar_particiones('icgtp1datos\\XOR_trn.csv', 1, 0.2)\n",
    "X = ds[M_trn[0,:], :-1]\n",
    "# print(X)\n",
    "Y_d = ds[M_trn[0,:], -1]\n",
    "# print(Y_d)\n",
    "network = []\n",
    "# X = np.hstack((-1, np.ones((X.shape[0],1)), X))\n",
    "n_per_layer = np.array([2, 1])\n",
    "network = perceptron_multilayer_init(n_per_layer, X.shape[1])\n",
    "cant_epocas = 100\n",
    "nu_error = 0.5\n",
    "error_epocas = []\n",
    "gamma_aprend = 0.01\n",
    "\n",
    "for n_epoch in range(cant_epocas):\n",
    "    for i, pattern in enumerate(X):\n",
    "        y = perceptron_multilayer_forward(network, pattern)\n",
    "        grad = perceptron_multilayer_backward(network, y, Y_d[i])\n",
    "        network = perceptron_multilayer_update(network, y, grad, gamma_aprend)\n",
    "\n",
    "        error = np.sum(((y[-1]-Y_d[i])**2))        \n",
    "        error_epocas= np.append(error_epocas, [error])\n",
    "        # print(f'Epoca {i}: error = {error}, w = {w}')\n",
    "        if (error < nu_error):\n",
    "            print(f'Época {n_epoch}')\n",
    "            break\n",
    "    print(f'Época {n_epoch}')\n",
    "\n"
   ]
  },
  {
   "cell_type": "markdown",
   "metadata": {},
   "source": [
    "## Test"
   ]
  },
  {
   "cell_type": "code",
   "execution_count": 149,
   "metadata": {},
   "outputs": [
    {
     "name": "stdout",
     "output_type": "stream",
     "text": [
      "0.545\n"
     ]
    }
   ],
   "source": [
    "X_test = ds[M_tst[0,:], :-1]\n",
    "Y_d_test = ds[M_tst[0,:], -1]\n",
    "errores = 0\n",
    "\n",
    "for i, pattern in enumerate(X_test):\n",
    "    y_test = perceptron_multilayer_forward(network, pattern)\n",
    "    # estamos suponiendo una sola salida\n",
    "    y = -1 if (y_test[-1] < 0) else 1\n",
    "    errores += int(y != Y_d_test[i])\n",
    "\n",
    "print(errores / X_test.shape[0])\n",
    "\n"
   ]
  }
 ],
 "metadata": {
  "kernelspec": {
   "display_name": "Python 3.10.6 64-bit",
   "language": "python",
   "name": "python3"
  },
  "language_info": {
   "codemirror_mode": {
    "name": "ipython",
    "version": 3
   },
   "file_extension": ".py",
   "mimetype": "text/x-python",
   "name": "python",
   "nbconvert_exporter": "python",
   "pygments_lexer": "ipython3",
   "version": "3.10.6"
  },
  "orig_nbformat": 4,
  "vscode": {
   "interpreter": {
    "hash": "07ff7e21ea611955a5ea046bb85e7833bbeb87a9446667deecdccb9fe0872cdd"
   }
  }
 },
 "nbformat": 4,
 "nbformat_minor": 2
}

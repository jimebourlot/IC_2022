{
 "cells": [
  {
   "cell_type": "markdown",
   "metadata": {},
   "source": [
    "# Ejercicio 1\n",
    "Realice un programa que permita el entrenamiento y prueba de un perceptrón simple con una cantidad variable de\n",
    "entradas. El programa debe proveer las siguientes facilidades:\n",
    " 1. lectura de los patrones de entrenamiento (entradas y salidas) desde un archivo en formato texto separado por comas\n",
    " 2. selección del criterio de finalización del entrenamiento,\n",
    " 3. selección del número máximo de épocas de entrenamiento,\n",
    " 4. selección de la tasa de aprendizaje,\n",
    " 5. prueba del perceptrón entrenado mediante archivos de texto con el mismo formato separado por comas.\n",
    "\n",
    "Realizar la prueba: Recuerde que para que la prueba tenga validez se deben utilizar patrones nunca presentados en el entrenamiento, para esto se dispone de dos archivos diferentes para cada problema.\n",
    "\n",
    "Implemente una rutina de graficación que permita visualizar, para el caso de dos entradas, los patrones utilizados y\n",
    "la recta de separación que se va ajustando durante el entrenamiento del perceptrón simple. Utilice dicha rutina para\n",
    "visualizar el entrenamiento en los problemas OR y XOR."
   ]
  },
  {
   "cell_type": "code",
   "execution_count": 4,
   "metadata": {},
   "outputs": [],
   "source": [
    "import numpy as np\n",
    "import matplotlib.pyplot as plt"
   ]
  },
  {
   "cell_type": "markdown",
   "metadata": {},
   "source": [
    "## Train"
   ]
  },
  {
   "cell_type": "code",
   "execution_count": 5,
   "metadata": {},
   "outputs": [],
   "source": [
    "def perceptron_simple_train(ds_train,N,nu,gamma,N_valid):\n",
    "\n",
    "    idx=np.random.choice(range(ds_train.shape[0]), ds_train.shape[0], replace = False)\n",
    "    idx_valid = idx[:N_valid]\n",
    "    idx_train = idx[N_valid:]\n",
    "\n",
    "    # inicializacion de pesos al azar: distribución uniforme\n",
    "    # w = np.random.rand(ds_train.shape[1]) - 0.5\n",
    "\n",
    "    # inicialización al azar de los pesos con distribución normal\n",
    "    # loc -> media - scale -> desvío\n",
    "    w = np.random.normal(loc = 0, scale = 0.15, size = ds_train.shape[1]) \n",
    "\n",
    "    error_epocas = []\n",
    "    w_epocas = w\n",
    "\n",
    "    x = np.hstack((-1*np.ones((ds_train.shape[0],1)), ds_train))\n",
    "\n",
    "\n",
    "    # épocas\n",
    "    for i in range(N):\n",
    "        for patron in x[idx_train]:\n",
    "            a = patron\n",
    "            # producto punto\n",
    "            y = np.dot(patron[:-1],w)\n",
    "            # No linealidad\n",
    "            if (y > 0):\n",
    "                y = 1\n",
    "            else:\n",
    "                y = -1\n",
    "            # Actualización de pesos\n",
    "            w = w + patron[:-1] * gamma * (patron[-1] - y)\n",
    "\n",
    "        # Validación\n",
    "        errores = 0\n",
    "        for j in x[idx_valid]:\n",
    "            # producto punto\n",
    "            y = np.dot(j[0:len(j)-1],w)\n",
    "            \n",
    "            # No linealidad\n",
    "            if (y > 0 and 1 != j[len(j)-1]):\n",
    "                errores += 1\n",
    "            elif (y <= 0 and -1 != j[len(j)-1]):\n",
    "                errores += 1\n",
    "        error = (errores/N_valid)\n",
    "\n",
    "        error_epocas= np.append(error_epocas, [error])\n",
    "        w_epocas = np.vstack((w_epocas, w))\n",
    "        \n",
    "        # print(f'Epoca {i}: error = {error}, w = {w}')\n",
    "        if (error < nu):\n",
    "            print(f'Época {i}')\n",
    "            return w_epocas, error_epocas\n",
    "    print(f'Época {i}')\n",
    "    return w_epocas, error_epocas"
   ]
  },
  {
   "cell_type": "code",
   "execution_count": 6,
   "metadata": {},
   "outputs": [
    {
     "data": {
      "text/plain": [
       "array([[2, 3],\n",
       "       [1, 2]])"
      ]
     },
     "execution_count": 6,
     "metadata": {},
     "output_type": "execute_result"
    }
   ],
   "source": [
    "import numpy as np\n",
    "np.vstack(([2, 3], [1, 2]))"
   ]
  },
  {
   "cell_type": "markdown",
   "metadata": {},
   "source": [
    "## Test"
   ]
  },
  {
   "cell_type": "code",
   "execution_count": 7,
   "metadata": {},
   "outputs": [],
   "source": [
    "def perceptron_test(ds_test,w):\n",
    "    errores = 0\n",
    "    for j in ds_test:\n",
    "        j = np.concatenate([[-1], j])\n",
    "        # Convolución\n",
    "        y = np.dot(j[0:len(j)-1],w)\n",
    "        # No linealidad\n",
    "        if (y > 0 and 1 != j[len(j)-1]):\n",
    "            errores += 1\n",
    "        elif (y <= 0 and -1 != j[len(j)-1]):\n",
    "            errores += 1\n",
    "    return (errores/ds_test.shape[0])\n"
   ]
  },
  {
   "cell_type": "markdown",
   "metadata": {},
   "source": [
    "## Graficación\n",
    "\n",
    "Implemente una rutina de graficación que permita visualizar, para el caso de dos entradas, los patrones utilizados y\n",
    "la recta de separación que se va ajustando durante el entrenamiento del perceptrón simple. Utilice dicha rutina para\n",
    "visualizar el entrenamiento en los problemas OR y XOR."
   ]
  },
  {
   "cell_type": "code",
   "execution_count": 8,
   "metadata": {},
   "outputs": [],
   "source": [
    "import time\n",
    "import matplotlib.animation as animation"
   ]
  },
  {
   "cell_type": "code",
   "execution_count": 9,
   "metadata": {},
   "outputs": [],
   "source": [
    "def graficar(x, y, x_color, w_vec, error):\n",
    "    \n",
    "    N_epocas = w_vec.shape[0]\n",
    "    x_recta = np.arange(-3, 3, 0.01)\n",
    "    pendiente = -w_vec[0,1]/w_vec[0,2]\n",
    "    ordenada = w_vec[0,0]/w_vec[0,2]\n",
    "    recta =  ordenada + pendiente * x_recta\n",
    "    fig, ax = plt.subplots(figsize=(4,3))\n",
    "    line1, = ax.plot(x_recta, recta)\n",
    "    ax.grid()\n",
    "    ax.scatter(x, y, c = x_color)\n",
    "    ax.set_xlim([-1.1, 1.1])\n",
    "    ax.set_ylim([-1.1, 1.1])\n",
    "\n",
    "    def animate(i):\n",
    "        pendiente = -w_vec[i,1]/w_vec[i,2]\n",
    "        ordenada = w_vec[i,0]/w_vec[i,2]\n",
    "        recta =  ordenada + pendiente * x_recta\n",
    "        line1.set_ydata(recta)\n",
    "        plt.title(f'recta = {np.round(pendiente, 4)}x + {np.round(ordenada,4)}, error: {error[i]}')\n",
    "        time.sleep(0.2)\n",
    "        return line1,\n",
    "    \n",
    "    anim = animation.FuncAnimation(fig, animate, frames=(N_epocas), interval=20, repeat=False)\n",
    "    plt.show()\n",
    "    #pause\n",
    "    anim.event_source.stop()\n",
    "\n"
   ]
  },
  {
   "cell_type": "markdown",
   "metadata": {},
   "source": [
    "## Problema OR\n",
    "### Train"
   ]
  },
  {
   "cell_type": "code",
   "execution_count": 10,
   "metadata": {},
   "outputs": [
    {
     "name": "stdout",
     "output_type": "stream",
     "text": [
      "Época 20\n"
     ]
    }
   ],
   "source": [
    "# lectura de patrones\n",
    "\n",
    "ds_train = np.genfromtxt('icgtp1datos/OR_trn.csv', delimiter=',')\n",
    "ds_train_size = ds_train.shape[0]\n",
    "\n",
    "# Entrenamiento\n",
    "N = 50 # Epocas\n",
    "gamma = 0.00001 # Tasa de aprendizaje\n",
    "nu = 0.0005 # Umbral de error\n",
    "N_valid = 200\n",
    "historial_w, errores_evol = perceptron_simple_train(ds_train,N,nu,gamma,N_valid)\n",
    "\n"
   ]
  },
  {
   "cell_type": "code",
   "execution_count": 11,
   "metadata": {},
   "outputs": [
    {
     "data": {
      "application/vnd.jupyter.widget-view+json": {
       "model_id": "1c6a537252664715bbf5145b75bb0eef",
       "version_major": 2,
       "version_minor": 0
      },
      "image/png": "[encoded data removed]",
      "text/html": [
       "\n",
       "            <div style=\"display: inline-block;\">\n",
       "                <div class=\"jupyter-widgets widget-label\" style=\"text-align: center;\">\n",
       "                    Figure\n",
       "                </div>\n",
       "                <img src='data:image/png;base64,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' width=400.0/>\n",
       "            </div>\n",
       "        "
      ],
      "text/plain": [
       "Canvas(toolbar=Toolbar(toolitems=[('Home', 'Reset original view', 'home', 'home'), ('Back', 'Back to previous …"
      ]
     },
     "metadata": {},
     "output_type": "display_data"
    }
   ],
   "source": [
    "# Gráfico evolución del entrenamiento\n",
    "\n",
    "x_x = ds_train[:,0]\n",
    "x_y = ds_train[:,1]\n",
    "x_color = np.where(x_x < 0, np.where(x_y < 0, 'C0', 'C1'), 'C1')\n",
    "%matplotlib widget\n",
    "graficar(x_x, x_y, x_color, historial_w, errores_evol)\n"
   ]
  },
  {
   "cell_type": "code",
   "execution_count": 12,
   "metadata": {},
   "outputs": [],
   "source": [
    "%matplotlib inline"
   ]
  },
  {
   "cell_type": "code",
   "execution_count": 13,
   "metadata": {},
   "outputs": [
    {
     "data": {
      "image/png": "[encoded data removed]",
      "text/plain": [
       "<Figure size 432x288 with 1 Axes>"
      ]
     },
     "metadata": {
      "needs_background": "light"
     },
     "output_type": "display_data"
    }
   ],
   "source": [
    "x_recta = np.arange(-3, 3, 0.01)\n",
    "pendiente = -historial_w[-1,1]/historial_w[-1,2]\n",
    "ordenada = historial_w[-1,0]/historial_w[-1,2]\n",
    "recta =  ordenada + pendiente * x_recta\n",
    "\n",
    "plt.figure()\n",
    "plt.plot(x_recta, recta)\n",
    "plt.grid()\n",
    "\n",
    "x_color = np.where(ds_train[:,0] < 0, np.where(ds_train[:,1] < 0, 'C0', 'C1'), 'C1')\n",
    "plt.scatter(ds_train[:,0], ds_train[:,1], c = x_color)\n",
    "plt.xlim([-1.1, 1.1])\n",
    "plt.ylim([-1.1, 1.1])\n",
    "plt.title(f'recta = {np.round(pendiente, 4)}x + {np.round(ordenada,4)}, error: {errores_evol[-1]}')\n",
    "\n",
    "plt.show()"
   ]
  },
  {
   "cell_type": "code",
   "execution_count": 14,
   "metadata": {},
   "outputs": [
    {
     "data": {
      "image/png": "[encoded data removed]",
      "text/plain": [
       "<Figure size 432x288 with 1 Axes>"
      ]
     },
     "metadata": {
      "needs_background": "light"
     },
     "output_type": "display_data"
    }
   ],
   "source": [
    "# Gráfico de error vs. época para el train\n",
    "\n",
    "plt.close('all')\n",
    "plt.title('Error vs Época')\n",
    "plt.xlabel('Época')\n",
    "plt.ylabel('Error')\n",
    "plt.plot(range(len(errores_evol)),errores_evol)\n",
    "plt.show()"
   ]
  },
  {
   "cell_type": "markdown",
   "metadata": {},
   "source": [
    "### Test"
   ]
  },
  {
   "cell_type": "code",
   "execution_count": 15,
   "metadata": {},
   "outputs": [
    {
     "name": "stdout",
     "output_type": "stream",
     "text": [
      "Error de test: 0.005\n"
     ]
    }
   ],
   "source": [
    "# Test\n",
    "\n",
    "ds_test = np.genfromtxt('icgtp1datos/OR_tst.csv', delimiter=',')\n",
    "ds_test_size = ds_test.shape[0]\n",
    "\n",
    "w = historial_w[-1]\n",
    "error = perceptron_test(ds_test,w)\n",
    "print(f'Error de test: {error}')\n"
   ]
  },
  {
   "cell_type": "code",
   "execution_count": 16,
   "metadata": {},
   "outputs": [
    {
     "data": {
      "image/png": "[encoded data removed]",
      "text/plain": [
       "<Figure size 432x288 with 1 Axes>"
      ]
     },
     "metadata": {
      "needs_background": "light"
     },
     "output_type": "display_data"
    }
   ],
   "source": [
    "x_recta = np.arange(-3, 3, 0.01)\n",
    "pendiente = -w[1]/w[2]\n",
    "ordenada = w[0]/w[2]\n",
    "recta =  ordenada + pendiente * x_recta\n",
    "\n",
    "plt.figure()\n",
    "plt.plot(x_recta, recta)\n",
    "plt.grid()\n",
    "\n",
    "x_color = np.where(ds_test[:,0] < 0, np.where(ds_test[:,1] < 0, 'C0', 'C1'), 'C1')\n",
    "plt.scatter(ds_test[:,0], ds_test[:,1], c = x_color)\n",
    "plt.xlim([-1.1, 1.1])\n",
    "plt.ylim([-1.1, 1.1])\n",
    "plt.title(f'recta = {np.round(pendiente, 4)}x + {np.round(ordenada,4)}, error: {error}')\n",
    "\n",
    "plt.show()"
   ]
  },
  {
   "cell_type": "markdown",
   "metadata": {},
   "source": [
    "## Problema XOR\n",
    "### Train"
   ]
  },
  {
   "cell_type": "code",
   "execution_count": 17,
   "metadata": {},
   "outputs": [
    {
     "name": "stdout",
     "output_type": "stream",
     "text": [
      "Época 0\n"
     ]
    }
   ],
   "source": [
    "# Lectura de patrones\n",
    "\n",
    "ds_train = np.genfromtxt('icgtp1datos/XOR_trn.csv', delimiter=',')\n",
    "ds_train_size = ds_train.shape[0]\n",
    "\n",
    "# Entrenamiento\n",
    "N = 50 # Epocas\n",
    "gamma = 0.001 # Tasa de aprendizaje\n",
    "nu = 0.3 # Umbral de error\n",
    "N_valid=200\n",
    "historial_w, errores_evol = perceptron_simple_train(ds_train,N,nu,gamma,N_valid)"
   ]
  },
  {
   "cell_type": "code",
   "execution_count": 18,
   "metadata": {},
   "outputs": [
    {
     "data": {
      "application/vnd.jupyter.widget-view+json": {
       "model_id": "b72a8a6181734a029ad9d9c23dc407c2",
       "version_major": 2,
       "version_minor": 0
      },
      "image/png": "[encoded data removed]",
      "text/html": [
       "\n",
       "            <div style=\"display: inline-block;\">\n",
       "                <div class=\"jupyter-widgets widget-label\" style=\"text-align: center;\">\n",
       "                    Figure\n",
       "                </div>\n",
       "                <img src='data:image/png;base64,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' width=400.0/>\n",
       "            </div>\n",
       "        "
      ],
      "text/plain": [
       "Canvas(toolbar=Toolbar(toolitems=[('Home', 'Reset original view', 'home', 'home'), ('Back', 'Back to previous …"
      ]
     },
     "metadata": {},
     "output_type": "display_data"
    }
   ],
   "source": [
    "# Gráfico de evolución del entrenamiento\n",
    "\n",
    "x_x = ds_train[:,0]\n",
    "x_y = ds_train[:,1]\n",
    "x_color = np.where(x_x > 0, np.where(x_y > 0, 'C0', 'C1'), np.where(x_y < 0, 'C0', 'C1'))\n",
    "%matplotlib widget\n",
    "graficar(x_x, x_y, x_color, historial_w, errores_evol)"
   ]
  },
  {
   "cell_type": "code",
   "execution_count": 19,
   "metadata": {},
   "outputs": [],
   "source": [
    "%matplotlib inline"
   ]
  },
  {
   "cell_type": "code",
   "execution_count": 20,
   "metadata": {},
   "outputs": [
    {
     "data": {
      "image/png": "[encoded data removed]",
      "text/plain": [
       "<Figure size 432x288 with 1 Axes>"
      ]
     },
     "metadata": {
      "needs_background": "light"
     },
     "output_type": "display_data"
    }
   ],
   "source": [
    "x_recta = np.arange(-3, 3, 0.01)\n",
    "pendiente = -historial_w[-1,1]/historial_w[-1,2]\n",
    "ordenada = historial_w[-1,0]/historial_w[-1,2]\n",
    "recta =  ordenada + pendiente * x_recta\n",
    "\n",
    "plt.figure()\n",
    "plt.plot(x_recta, recta)\n",
    "plt.grid()\n",
    "x_color = np.where(ds_train[:,0] > 0, np.where(ds_train[:,1] > 0, 'C0', 'C1'), np.where(ds_train[:,1] < 0, 'C0', 'C1'))\n",
    "plt.scatter(ds_train[:,0], ds_train[:,1], c = x_color)\n",
    "plt.xlim([-1.1, 1.1])\n",
    "plt.ylim([-1.1, 1.1])\n",
    "plt.title(f'recta = {np.round(pendiente, 4)}x + {np.round(ordenada,4)}, error: {errores_evol[-1]}')\n",
    "\n",
    "plt.show()"
   ]
  },
  {
   "cell_type": "markdown",
   "metadata": {},
   "source": [
    "### Test"
   ]
  },
  {
   "cell_type": "code",
   "execution_count": 21,
   "metadata": {},
   "outputs": [
    {
     "name": "stdout",
     "output_type": "stream",
     "text": [
      "Error de test: 0.26\n"
     ]
    }
   ],
   "source": [
    "ds_test = np.genfromtxt('icgtp1datos/XOR_tst.csv', delimiter=',')\n",
    "ds_test_size = ds_test.shape[0]\n",
    "\n",
    "# Test\n",
    "w = historial_w[-1]\n",
    "error = perceptron_test(ds_test,w)\n",
    "print(f'Error de test: {error}')"
   ]
  },
  {
   "cell_type": "code",
   "execution_count": 22,
   "metadata": {},
   "outputs": [
    {
     "data": {
      "image/png": "[encoded data removed]",
      "text/plain": [
       "<Figure size 432x288 with 1 Axes>"
      ]
     },
     "metadata": {
      "needs_background": "light"
     },
     "output_type": "display_data"
    }
   ],
   "source": [
    "x_recta = np.arange(-3, 3, 0.01)\n",
    "pendiente = -w[1]/w[2]\n",
    "ordenada = w[0]/w[2]\n",
    "recta =  ordenada + pendiente * x_recta\n",
    "\n",
    "plt.figure()\n",
    "plt.plot(x_recta, recta)\n",
    "plt.grid()\n",
    "\n",
    "x_color = np.where(ds_test[:,0] > 0, np.where(ds_test[:,1] > 0, 'C0', 'C1'), np.where(ds_test[:,1] < 0, 'C0', 'C1'))\n",
    "plt.scatter(ds_test[:,0], ds_test[:,1], c = x_color)\n",
    "plt.xlim([-1.1, 1.1])\n",
    "plt.ylim([-1.1, 1.1])\n",
    "plt.title(f'recta = {np.round(pendiente, 4)}x + {np.round(ordenada,4)}, error: {error}')\n",
    "\n",
    "plt.show()"
   ]
  },
  {
   "cell_type": "markdown",
   "metadata": {},
   "source": [
    "# Ejercicio 2\n",
    "## Generación de particiones"
   ]
  },
  {
   "cell_type": "code",
   "execution_count": 23,
   "metadata": {},
   "outputs": [],
   "source": [
    "def generar_particiones(filename, n, p_test):\n",
    "    ds = np.genfromtxt(filename, delimiter=',')\n",
    "    n_test = int(ds.shape[0] * p_test)\n",
    "    n_train = ds.shape[0] - n_test\n",
    "    M_test = np.zeros((n,n_test),dtype = int)\n",
    "    M_train = np.zeros((n, n_train),dtype = int)\n",
    "\n",
    "    for i in range(n):\n",
    "        idx=np.random.choice(range(ds.shape[0]),ds.shape[0],replace = False)\n",
    "        idx_test = idx[0:n_test]\n",
    "        idx_train = idx[n_test:ds.shape[0]]\n",
    "        M_test[i] = idx_test\n",
    "        M_train[i] = idx_train\n",
    "    \n",
    "    return (ds, M_test, M_train)\n"
   ]
  },
  {
   "cell_type": "markdown",
   "metadata": {},
   "source": [
    "## Validación cruzada con 5 particiones\n",
    "El archivo $spheres1d10.csv$ contiene una serie de datos generados a partir de los valores de la Tabla 1, con pequeñas desviaciones aleatorias ($< 10 %$) en torno a ellos. \n",
    "Realice con estos datos la validación cruzada del perceptrón simple con $5$ particiones de entrenamiento y prueba con relacion $80/20$"
   ]
  },
  {
   "cell_type": "code",
   "execution_count": 24,
   "metadata": {},
   "outputs": [
    {
     "name": "stdout",
     "output_type": "stream",
     "text": [
      "Época 49\n",
      "Época 36\n",
      "Época 22\n",
      "Época 49\n",
      "Época 49\n"
     ]
    },
    {
     "data": {
      "image/png": "[encoded data removed]",
      "text/plain": [
       "<Figure size 432x288 with 1 Axes>"
      ]
     },
     "metadata": {
      "needs_background": "light"
     },
     "output_type": "display_data"
    }
   ],
   "source": [
    "num_particiones=5\n",
    "ds, M_tst, M_trn = generar_particiones('icgtp1datos\\spheres1d10.csv', num_particiones, 0.2)\n",
    "\n",
    "# for i in range(num_particiones):\n",
    "#     np.savetxt(f'icgtp1datos\\spheres1d10-part{i}_test.csv', ds[M_tst[i]], delimiter=',')\n",
    "#     np.savetxt(f'icgtp1datos\\spheres1d10-part{i}_trn.csv', ds[M_trn[i]], delimiter=',')\n",
    "\n",
    "ds_size = ds.shape[0]\n",
    "\n",
    "w_particion=np.zeros((num_particiones,ds.shape[1]))\n",
    "\n",
    "for i,particion in enumerate(M_trn):\n",
    "    historial_w, errores_evol = perceptron_simple_train(ds[particion],50,0.13,0.01,500)\n",
    "    w_particion[i] = historial_w[-1]\n",
    "\n",
    "errores=np.zeros(num_particiones)\n",
    "\n",
    "for i,particion in enumerate(M_tst):\n",
    "    errores[i]= perceptron_test(ds[particion],w_particion[i])\n",
    "\n",
    "plt.close('all')\n",
    "plt.plot(range(num_particiones),errores)\n",
    "plt.title('Errores vs. Particiones')\n",
    "plt.xlabel('Particiones')\n",
    "plt.ylabel('Error')\n",
    "plt.show()"
   ]
  },
  {
   "cell_type": "markdown",
   "metadata": {},
   "source": [
    "## Validación cruzada con 10 particiones\n",
    "A partir de la misma tabla del ejemplo anterior, pero modificando el punto x = [−1 + 1 −1] → yd = 1, se ha generado un conjunto de datos diferente. Los archivos spheres2d10.csv, spheres2d50.csv y spheres2d70.csv contienen los datos con desviaciones aleatorias de 10, 50 y 70 % respectivamente (Figuras 2(b), 2(c) y 2(d)). \n",
    "\n",
    "Realice la validación cruzada del perceptrón simple con 10 particiones de entrenamiento y prueba, con relación 80/20.\n"
   ]
  },
  {
   "cell_type": "code",
   "execution_count": 25,
   "metadata": {},
   "outputs": [
    {
     "name": "stdout",
     "output_type": "stream",
     "text": [
      "Época 0\n",
      "Época 0\n",
      "Época 0\n",
      "Época 0\n",
      "Época 0\n",
      "Época 0\n",
      "Época 0\n",
      "Época 0\n",
      "Época 0\n",
      "Época 0\n",
      "Época 0\n",
      "Época 3\n",
      "Época 1\n",
      "Época 1\n",
      "Época 1\n",
      "Época 0\n",
      "Época 0\n",
      "Época 1\n",
      "Época 1\n",
      "Época 1\n",
      "Época 0\n",
      "Época 0\n",
      "Época 0\n",
      "Época 0\n",
      "Época 0\n",
      "Época 0\n",
      "Época 0\n",
      "Época 0\n",
      "Época 0\n",
      "Época 0\n"
     ]
    }
   ],
   "source": [
    "num_particiones=10\n",
    "#particion de 10% de desvio\n",
    "ds, M_tst, M_trn = generar_particiones('icgtp1datos\\spheres2d10.csv', num_particiones, 0.2)\n",
    "ds_size = ds.shape[0]\n",
    "\n",
    "w_particion_2d10=np.zeros((num_particiones,ds.shape[1]))\n",
    "\n",
    "for i,particion in enumerate(M_trn):\n",
    "    historial_w, errores_evol = perceptron_simple_train(ds[particion],20,0.03,0.001,500)                       \n",
    "    w_particion_2d10[i]= historial_w[-1]\n",
    "\n",
    "errores_2d10=np.zeros(num_particiones)\n",
    "\n",
    "for i,particion in enumerate(M_tst):\n",
    "    errores_2d10[i]= perceptron_test(ds[particion],w_particion_2d10[i])\n",
    "\n",
    "#particion de 50% de desvio\n",
    "ds, M_tst, M_trn = generar_particiones('icgtp1datos\\spheres2d50.csv', num_particiones, 0.2)\n",
    "ds_size = ds.shape[0]\n",
    "\n",
    "w_particion_2d50=np.zeros((num_particiones,ds.shape[1]))\n",
    "\n",
    "for i,particion in enumerate(M_trn):\n",
    "    historial_w, errores_evol = perceptron_simple_train(ds[particion],40,0.05,0.0001,500)                       \n",
    "    w_particion_2d50[i]= historial_w[-1]\n",
    "\n",
    "\n",
    "errores_2d50=np.zeros(num_particiones)\n",
    "\n",
    "for i,particion in enumerate(M_tst):\n",
    "    errores_2d50[i]= perceptron_test(ds[particion],w_particion_2d50[i])\n",
    "\n",
    "#particion de 70% de desvio\n",
    "ds, M_tst, M_trn = generar_particiones('icgtp1datos\\spheres2d70.csv', num_particiones, 0.2)\n",
    "ds_size = ds.shape[0]\n",
    "\n",
    "w_particion_2d70=np.zeros((num_particiones,ds.shape[1]))\n",
    "\n",
    "for i,particion in enumerate(M_trn):\n",
    "    historial_w, errores_evol = perceptron_simple_train(ds[particion],100,0.05,0.1,500)                       \n",
    "    w_particion_2d70[i] = historial_w[-1]\n",
    "\n",
    "\n",
    "errores_2d70=np.zeros(num_particiones)\n",
    "\n",
    "for i,particion in enumerate(M_tst):\n",
    "    errores_2d70[i]= perceptron_test(ds[particion],w_particion_2d70[i])"
   ]
  },
  {
   "cell_type": "code",
   "execution_count": 26,
   "metadata": {},
   "outputs": [
    {
     "data": {
      "image/png": "[encoded data removed]",
      "text/plain": [
       "<Figure size 432x288 with 1 Axes>"
      ]
     },
     "metadata": {
      "needs_background": "light"
     },
     "output_type": "display_data"
    }
   ],
   "source": [
    "plt.close('all')\n",
    "plt.plot(range(num_particiones),errores_2d10)\n",
    "plt.plot(range(num_particiones),errores_2d50)\n",
    "plt.plot(range(num_particiones),errores_2d70)\n",
    "plt.title('Errores vs. Particiones')\n",
    "plt.xlabel('Particiones')\n",
    "plt.ylabel('Error')\n",
    "plt.show()"
   ]
  },
  {
   "cell_type": "code",
   "execution_count": 27,
   "metadata": {},
   "outputs": [
    {
     "name": "stdout",
     "output_type": "stream",
     "text": [
      "media desviación 10%: 0.0004 - desvío: 0.0007\n",
      "media desviación 50%: 0.0259 - desvío: 0.0143\n",
      "media desviación 70%: 0.0240 - desvío: 0.0064\n"
     ]
    }
   ],
   "source": [
    "print(f'media desviación 10%: {np.mean(errores_2d10):.4f} - desvío: {np.std(errores_2d10):.4f}')\n",
    "print(f'media desviación 50%: {np.mean(errores_2d50):.4f} - desvío: {np.std(errores_2d50):.4f}')\n",
    "print(f'media desviación 70%: {np.mean(errores_2d70):.4f} - desvío: {np.std(errores_2d70):.4f}')"
   ]
  },
  {
   "cell_type": "markdown",
   "metadata": {},
   "source": []
  },
  {
   "cell_type": "code",
   "execution_count": 39,
   "metadata": {},
   "outputs": [],
   "source": [
    "class neuron:\n",
    "    def __init__(self, layer, x,w_in):\n",
    "        self.layer=layer\n",
    "        self.w_out=[]\n",
    "        self.x=x\n",
    "        self.w_in=w_in\n",
    "        self.y=np.dot(w_in,x)\n",
    "    \n",
    "    def connect (self,neuron_conection,num_neuron):\n",
    "        w=[]\n",
    "        for i in range(len(neuron_conection)):\n",
    "            w.append(neuron_conection[i].w_in[num_neuron])\n",
    "        self.w_out=w \n",
    "    def calculate_y(self):\n",
    "        self.y= np.dot(self.w_in,self.x)   \n"
   ]
  },
  {
   "cell_type": "code",
   "execution_count": 29,
   "metadata": {},
   "outputs": [
    {
     "name": "stdout",
     "output_type": "stream",
     "text": [
      "[-0.15509653]\n",
      "[-0.07957741]\n",
      "[-0.07455266]\n"
     ]
    }
   ],
   "source": [
    "print(np.random.normal(loc = 0, scale = 0.15, size =1))\n",
    "print(np.random.normal(loc = 0, scale = 0.15, size =1))\n",
    "print(np.random.normal(loc = 0, scale = 0.15, size =1))"
   ]
  },
  {
   "cell_type": "code",
   "execution_count": 30,
   "metadata": {},
   "outputs": [],
   "source": [
    "def perceptron_multilayer_init(N_layers,neurons_perLayer,filename):\n",
    "    ds, M_tst, M_trn  =  generar_particiones(filename, 1, 0.2)\n",
    "    X = ds[M_trn[0,:], :-1]\n",
    "    Y_d = ds[M_trn[0,:], ds.shape[1]-1]\n",
    "    W_perLayer=[]\n",
    "    network=[]\n",
    "    X=np.hstack((-1*np.ones((X.shape[0],1)), X))\n",
    "    #sacar de aca para arriba afuera de esta funcion y agregtar el sesgo a las otras capas\n",
    "    x=X[0]\n",
    "    layer_aux=[]\n",
    "    # completa la primera capa\n",
    "    for i in range(neurons_perLayer[0]):\n",
    "        n=neuron(0,x,np.random.normal(loc = 0, scale = 0.15, size =len(x)))\n",
    "        layer_aux.append(n)\n",
    "    network.append(layer_aux)\n",
    "    #termina de completar las capas siguientes con la salidas de las capas anteriores\n",
    "    for layer in range(1,N_layers):\n",
    "        layer_aux=[]\n",
    "        y_aux=[]\n",
    "        #for que hace un vector con todas las salidas de la capa anterior\n",
    "        for neuron_prev in network[layer-1]:\n",
    "            y_aux.append(neuron_prev.y)\n",
    "        #for que crea todas la neuronas de la capa actual\n",
    "        for i in range(neurons_perLayer[layer]):\n",
    "            n=neuron(layer,y_aux,np.random.normal(loc = 0, scale = 0.15, size =len(y_aux)))\n",
    "            layer_aux.append(n)\n",
    "        network.append(layer_aux)\n",
    "    return(network,X,Y_d)"
   ]
  },
  {
   "cell_type": "code",
   "execution_count": 38,
   "metadata": {},
   "outputs": [],
   "source": [
    "def connect_network(network,N_layers,neurons_perLayer):\n",
    "    for layer in range(N_layers-1):\n",
    "        for neurona in range(neurons_perLayer[layer]):\n",
    "            network[layer][neurona].connect(network[layer+1],neurona)\n",
    "    return(network)\n"
   ]
  },
  {
   "cell_type": "code",
   "execution_count": 31,
   "metadata": {},
   "outputs": [],
   "source": [
    "def perceptron_multilayer_forward(network,N_layers,neurons_perLayer,x):\n",
    "    layer_aux=[]\n",
    "    # completa la primera capa\n",
    "    for i in range(neurons_perLayer[0]):\n",
    "        network[0][i].x=x\n",
    "        network[0][i].calculate_y()\n",
    "    for layer in range(1,N_layers):\n",
    "        y_aux=[]\n",
    "        for neuron_prev in network[layer-1]:\n",
    "            y_aux.append(neuron_prev.y)\n",
    "        for i in range(neurons_perLayer[layer]):\n",
    "           network[layer][i].x=y_aux\n",
    "           network[layer][i].calculate_y()\n",
    "    return(network)\n",
    "    \n"
   ]
  },
  {
   "cell_type": "code",
   "execution_count": null,
   "metadata": {},
   "outputs": [],
   "source": []
  },
  {
   "cell_type": "code",
   "execution_count": 41,
   "metadata": {},
   "outputs": [
    {
     "name": "stdout",
     "output_type": "stream",
     "text": [
      "[-0.15793836  0.14372702]\n",
      "[-0.15793836032739403]\n",
      "[0.1437270237540826]\n"
     ]
    }
   ],
   "source": [
    "m_network,X,y_d=perceptron_multilayer_init(2,[2,1],'icgtp1datos/concentlite.csv')\n",
    "\n",
    "m_network=connect_network(m_network,2,[2,1])\n",
    "print(m_network[1][0].w_in)\n",
    "print(m_network[0][0].w_out)\n",
    "print(m_network[0][1].w_out)\n",
    "l_network=perceptron_multilayer_forward(m_network,2,[2,1],X[0])\n"
   ]
  },
  {
   "cell_type": "code",
   "execution_count": 33,
   "metadata": {},
   "outputs": [
    {
     "name": "stdout",
     "output_type": "stream",
     "text": [
      "[0.16903413 0.12958312]\n",
      "[-0.04376725 -0.17765467]\n",
      "[0.07166512945520101]\n",
      "[0.0004276931743484547]\n",
      "[0.07166513 0.00042769]\n"
     ]
    }
   ],
   "source": [
    "#w=np.random.normal(loc = 0, scale = 0.15, size =2)\n",
    "neurona_1=neuron(0,[1,2],np.random.normal(loc = 0, scale = 0.15, size =2))\n",
    "#w=np.random.normal(loc = 0, scale = 0.15, size =2)\n",
    "neurona_2=neuron(0,[3,4],np.random.normal(loc = 0, scale = 0.15, size =2))\n",
    "\n",
    "print(neurona_1.w_in)\n",
    "print(neurona_2.w_in)\n",
    "\n",
    "w=np.random.normal(loc = 0, scale = 0.15, size =2)\n",
    "y1=[neurona_1.y,neurona_2.y]\n",
    "neurona_3=neuron(1,y1,w)\n",
    "w=np.random.normal(loc = 0, scale = 0.15, size =2)\n",
    "neurona_4=neuron(1,y1,w)\n",
    "w=np.random.normal(loc = 0, scale = 0.15, size =2)\n",
    "y2=[neurona_3.y,neurona_4.y]\n",
    "neurona_5=neuron(2,y2,w)\n",
    "network=[[neurona_1,neurona_2],[neurona_3,neurona_4],[neurona_5]]\n",
    "#print(neurona_1.y) \n",
    "#print(neurona_2.y) \n",
    "#print(neurona_3.x) \n",
    "for layer in range(2):\n",
    "    for i in range(len(network[layer])):\n",
    "        network[layer][i].conect(network[layer+1],i)\n",
    "print(neurona_3.w_out) \n",
    "print(neurona_4.w_out) \n",
    "print(neurona_5.w_in) \n",
    "\n"
   ]
  },
  {
   "cell_type": "code",
   "execution_count": 34,
   "metadata": {},
   "outputs": [
    {
     "data": {
      "text/plain": [
       "array([ 0.48016724, -0.30395691])"
      ]
     },
     "execution_count": 34,
     "metadata": {},
     "output_type": "execute_result"
    }
   ],
   "source": [
    "np.random.rand(2) - 0.5\n"
   ]
  },
  {
   "cell_type": "code",
   "execution_count": 35,
   "metadata": {},
   "outputs": [
    {
     "name": "stdout",
     "output_type": "stream",
     "text": [
      "[-1 -2]\n"
     ]
    }
   ],
   "source": [
    "a=[[1,2],[3,4]]\n",
    "b=[-1,1]\n",
    "print(np.dot(a[0],b[0]))"
   ]
  }
 ],
 "metadata": {
  "kernelspec": {
   "display_name": "Python 3.10.4 64-bit",
   "language": "python",
   "name": "python3"
  },
  "language_info": {
   "codemirror_mode": {
    "name": "ipython",
    "version": 3
   },
   "file_extension": ".py",
   "mimetype": "text/x-python",
   "name": "python",
   "nbconvert_exporter": "python",
   "pygments_lexer": "ipython3",
   "version": "3.10.4"
  },
  "orig_nbformat": 4,
  "vscode": {
   "interpreter": {
    "hash": "52634da84371cba311ea128a5ea7cdc41ff074b781779e754b270ff9f8153cee"
   }
  }
 },
 "nbformat": 4,
 "nbformat_minor": 2
}

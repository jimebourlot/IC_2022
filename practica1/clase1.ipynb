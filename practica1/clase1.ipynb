{
 "cells": [
  {
   "cell_type": "markdown",
   "metadata": {},
   "source": [
    "# Ejercicio 1"
   ]
  },
  {
   "cell_type": "code",
   "execution_count": null,
   "metadata": {},
   "outputs": [],
   "source": [
    "import numpy as np\n",
    "import matplotlib.pyplot as plt"
   ]
  },
  {
   "cell_type": "code",
   "execution_count": null,
   "metadata": {},
   "outputs": [
    {
     "name": "stdout",
     "output_type": "stream",
     "text": [
      "Epoca 0: error = 0.3\n",
      "Epoca 1: error = 0.295\n",
      "[-0.60280725 -0.63897238  0.47784696]\n"
     ]
    }
   ],
   "source": [
    "# rand(len(ds['x1'])) - 0.5\n",
    "# print(w.min(), w.max())\n",
    "\n",
    "w = np.random.rand(3) - 0.5\n",
    "N = 20 # Epocas\n",
    "gamma = 0.0001 # Tasa de aprendizaje\n",
    "nu = 0.3 # Umbral de error\n",
    "\n",
    "for i in range(N):\n",
    "    for j in ds_train:\n",
    "        # Convolución\n",
    "        y = j[1] * w[1] + j[2] * w[2] - w[0]\n",
    "        # No linealidad\n",
    "        if (y > 0):\n",
    "            y = 1\n",
    "        else:\n",
    "            y = -1\n",
    "        # Actualización de pesos\n",
    "        w = w + j[:1] * gamma * (j[2] - y)\n",
    "    \n",
    "    errores = 0\n",
    "    for j in ds_train[np.random.randint(0, 2000, size=200)]:\n",
    "        # Convolución\n",
    "        y = j[1] * w[1] + j[2] * w[2] - w[0]\n",
    "        # No linealidad\n",
    "        if (y > 0 and 1 != j[2]):\n",
    "            errores += 1\n",
    "        elif (y <= 0 and -1 != j[2]):\n",
    "            errores += 1\n",
    "    error = (errores/200)\n",
    "    print(f'Epoca {i}: error = {error}')\n",
    "    if (error < nu):\n",
    "        break\n",
    "\n",
    "print(w/ np.linalg.norm(w))"
   ]
  },
  {
   "cell_type": "code",
   "execution_count": null,
   "metadata": {},
   "outputs": [
    {
     "name": "stdout",
     "output_type": "stream",
     "text": [
      "0.0\n"
     ]
    }
   ],
   "source": [
    "errores = 0\n",
    "\n",
    "for j in ds_test:\n",
    "    # Convolución\n",
    "    y = j[1] * w[1] + j[2] * w[2] - w[0]\n",
    "    # No linealidad\n",
    "    if (y > 0 and 1 != j[2]):\n",
    "        errores += 1\n",
    "    elif (y <= 0 and -1 != j[2]):\n",
    "        errores += 1\n",
    "\n",
    "print(errores/200)"
   ]
  }
 ],
 "metadata": {
  "kernelspec": {
   "display_name": "Python 3.10.2 64-bit",
   "language": "python",
   "name": "python3"
  },
  "language_info": {
   "name": "python",
   "version": "3.10.2"
  },
  "orig_nbformat": 4,
  "vscode": {
   "interpreter": {
    "hash": "949777d72b0d2535278d3dc13498b2535136f6dfe0678499012e853ee9abcab1"
   }
  }
 },
 "nbformat": 4,
 "nbformat_minor": 2
}

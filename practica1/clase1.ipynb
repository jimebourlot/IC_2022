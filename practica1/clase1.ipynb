{
 "cells": [
  {
   "cell_type": "markdown",
   "metadata": {},
   "source": [
    "# Ejercicio 1: OR"
   ]
  },
  {
   "cell_type": "code",
   "execution_count": 1,
   "metadata": {},
   "outputs": [],
   "source": [
    "import numpy as np\n",
    "import matplotlib.pyplot as plt"
   ]
  },
  {
   "cell_type": "code",
   "execution_count": 2,
   "metadata": {},
   "outputs": [],
   "source": [
    "ds_train = np.genfromtxt('icgtp1datos/OR_trn.csv', delimiter=',')\n",
    "ds_train_size = ds_train.shape[0]\n",
    "\n",
    "ds_test = np.genfromtxt('icgtp1datos/OR_tst.csv', delimiter=',')\n",
    "ds_test_size = ds_test.shape[0]\n"
   ]
  },
  {
   "cell_type": "code",
   "execution_count": 41,
   "metadata": {},
   "outputs": [],
   "source": [
    "def perceptron_simple(ds_train,N,nu,gamma,N_valid):\n",
    "    # ds_test=np.concatenate([-np.ones(ds_test.shape[0]), ds_test])\n",
    "    # ds_train=np.concatenate([-np.ones(ds_train.shape[0]), ds_train])\n",
    "    w = np.random.rand(ds_train.shape[1]) - 0.5\n",
    "    for i in range(N):\n",
    "        for k, j in enumerate(ds_train):\n",
    "            j = np.concatenate([[-1], j])\n",
    "            # Convolución\n",
    "            y = np.dot(j[0:len(j)-1],w)\n",
    "            # No linealidad\n",
    "            if (y > 0):\n",
    "                y = 1\n",
    "            else:\n",
    "                y = -1\n",
    "            # Actualización de pesos\n",
    "            if (y > 0 and 1 != j[len(j)-1]):\n",
    "                errores += 1\n",
    "            elif (y <= 0 and -1 != j[len(j)-1]):\n",
    "                errores += 1\n",
    "            w = w + j[0:len(j)-1] * gamma * (j[len(j)-1] - y)\n",
    "\n",
    "\n",
    "        errores = 0\n",
    "        for j in ds_train[np.random.randint(0, ds_train.shape[0], size=N_valid)]:\n",
    "            j = np.concatenate([[-1], j])\n",
    "            # Convolución\n",
    "            y = np.dot(j[0:len(j)-1],w)\n",
    "            \n",
    "            # No linealidad\n",
    "            if (y > 0 and 1 != j[len(j)-1]):\n",
    "                errores += 1\n",
    "            elif (y <= 0 and -1 != j[len(j)-1]):\n",
    "                errores += 1\n",
    "        error = (errores/200)\n",
    "        #print(f'Epoca {i}: error = {error}')\n",
    "        if (error < nu):\n",
    "            return w\n",
    "    return w"
   ]
  },
  {
   "cell_type": "code",
   "execution_count": 4,
   "metadata": {},
   "outputs": [],
   "source": [
    "def perceptron_test(ds_test,w):\n",
    "    errores = 0\n",
    "    for j in ds_test:\n",
    "        j = np.concatenate([[-1], j])\n",
    "        # Convolución\n",
    "        y = np.dot(j[0:len(j)-1],w)\n",
    "        # No linealidad\n",
    "        if (y > 0 and 1 != j[len(j)-1]):\n",
    "            errores += 1\n",
    "        elif (y <= 0 and -1 != j[len(j)-1]):\n",
    "            errores += 1\n",
    "    return (errores/ds_test.shape[0])\n"
   ]
  },
  {
   "cell_type": "code",
   "execution_count": 42,
   "metadata": {},
   "outputs": [
    {
     "name": "stdout",
     "output_type": "stream",
     "text": [
      "Epoca 0: error = 0.75\n",
      "Epoca 1: error = 0.0\n",
      "[-0.00105387  0.0099293   0.01011765]\n"
     ]
    }
   ],
   "source": [
    "N = 10 # Epocas\n",
    "gamma = 0.0001 # Tasa de aprendizaje\n",
    "nu = 0.005 # Umbral de error\n",
    "N_valid=200\n",
    "w, errores_evol = perceptron_simple(ds_train,N,nu,gamma,N_valid)\n",
    "print(w)\n",
    "error = perceptron_test(ds_test,w)"
   ]
  },
  {
   "cell_type": "code",
   "execution_count": 6,
   "metadata": {},
   "outputs": [
    {
     "data": {
      "text/plain": [
       "[<matplotlib.lines.Line2D at 0x27b6ce08160>]"
      ]
     },
     "execution_count": 6,
     "metadata": {},
     "output_type": "execute_result"
    },
    {
     "data": {
      "image/png": "[encoded data removed]",
      "text/plain": [
       "<Figure size 432x288 with 1 Axes>"
      ]
     },
     "metadata": {
      "needs_background": "light"
     },
     "output_type": "display_data"
    }
   ],
   "source": [
    "fig1 = plt.figure() \n",
    "x_x = ds_test[:,0]\n",
    "x_y = ds_test[:,1]\n",
    "x_color = np.where(x_x < 0, np.where(x_y < 0, 'C0', 'C1'), 'C1')\n",
    "plt.grid()\n",
    "plt.scatter(x_x, x_y, c = x_color)\n",
    "\n",
    "x_recta = np.arange(-1, 1, 0.01)\n",
    "recta = w[0]/w[2] - w[1]/w[2] * x_recta\n",
    "plt.plot(x_recta, recta)"
   ]
  },
  {
   "cell_type": "markdown",
   "metadata": {},
   "source": [
    "# Ejercicio 1: XOR"
   ]
  },
  {
   "cell_type": "code",
   "execution_count": 7,
   "metadata": {},
   "outputs": [],
   "source": [
    "ds_train = np.genfromtxt('icgtp1datos/OR_trn.csv', delimiter=',')\n",
    "ds_train_size = ds_train.shape[0]\n",
    "\n",
    "ds_test = np.genfromtxt('icgtp1datos/OR_tst.csv', delimiter=',')\n",
    "ds_test_size = ds_test.shape[0]"
   ]
  },
  {
   "cell_type": "markdown",
   "metadata": {},
   "source": [
    "# Ejercicio 2"
   ]
  },
  {
   "cell_type": "code",
   "execution_count": 8,
   "metadata": {},
   "outputs": [],
   "source": [
    "def generar_particiones(filename, n, p_test):\n",
    "    ds = np.genfromtxt(filename, delimiter=',')\n",
    "    n_test = int(ds.shape[0] * p_test)\n",
    "    n_train = ds.shape[0] - n_test\n",
    "    M_test = np.zeros((n,n_test),dtype = int)\n",
    "    M_train = np.zeros((n, n_train),dtype = int)\n",
    "\n",
    "    for i in range(n):\n",
    "        idx = range(ds.shape[0])\n",
    "        idx=np.random.choice(range(ds.shape[0]),ds.shape[0],replace = False)\n",
    "        idx_test = idx[0:n_test]\n",
    "        idx_train = idx[n_test:ds.shape[0]]\n",
    "        M_test[i] = idx_test\n",
    "        M_train[i] = idx_train\n",
    "    \n",
    "    return (ds, M_test, M_train)\n"
   ]
  },
  {
   "cell_type": "markdown",
   "metadata": {},
   "source": [
    "a) El archivo spheres1d10.csv contiene una serie de datos generados a partir de los valores de la Tabla 1, con pequenas desviaciones aleatorias (< 10 %) en torno a ellos (Figura 2(a)). Realice con estos datos la validaci´on cruzada del perceptron simple con 5 particiones de entrenamiento y pruebacon relacion 80/20"
   ]
  },
  {
   "cell_type": "code",
   "execution_count": 9,
   "metadata": {},
   "outputs": [],
   "source": [
    "num_particiones=5\n",
    "ds, M_tst, M_trn = generar_particiones('icgtp1datos\\spheres1d10.csv', num_particiones, 0.2)\n",
    "ds_size = ds.shape[0]\n",
    "\n",
    "w_particion=np.zeros((num_particiones,ds.shape[1]))\n",
    "\n",
    "for i,particion in enumerate(M_trn):\n",
    "    w_particion[i]= perceptron_simple(ds[particion],20,0.03,0.01,100)\n",
    "\n",
    "errores=np.zeros(num_particiones)\n",
    "\n",
    "for i,particion in enumerate(M_tst):\n",
    "    errores[i]= perceptron_test(ds[particion],w_particion[i])"
   ]
  },
  {
   "cell_type": "markdown",
   "metadata": {},
   "source": [
    "B) A partir de la misma tabla del ejemplo anterior, pero modificando el punto x = [−1 + 1 −1] → yd = 1, se ha generado un conjunto de datos diferente. Los archivosspheres2d10.csv, spheres2d50.csv y spheres2d70.csv contienen los datos con desviaciones aleatorias de 10, 50 y 70 % respectivamente (Figuras 2(b), 2(c) y 2(d)). Realice la validaci´on cruzada del perceptr´on simple con 10 particiones de entrenamiento y prueba, con relaci´on 80/20.\n"
   ]
  },
  {
   "cell_type": "code",
   "execution_count": 10,
   "metadata": {},
   "outputs": [],
   "source": [
    "num_particiones=10\n",
    "#particion de 10% de desvio\n",
    "ds, M_tst, M_trn = generar_particiones('icgtp1datos\\spheres2d10.csv', num_particiones, 0.2)\n",
    "ds_size = ds.shape[0]\n",
    "\n",
    "w_particion_2d10=np.zeros((num_particiones,ds.shape[1]))\n",
    "\n",
    "for i,particion in enumerate(M_trn):\n",
    "    w_particion_2d10[i]= perceptron_simple(ds[particion],20,0.03,0.01,100)\n",
    "\n",
    "errores_2d10=np.zeros(num_particiones)\n",
    "\n",
    "for i,particion in enumerate(M_tst):\n",
    "    errores_2d10[i]= perceptron_test(ds[particion],w_particion_2d10[i])\n",
    "\n",
    "#particion de 50% de desvio\n",
    "ds, M_tst, M_trn = generar_particiones('icgtp1datos\\spheres2d50.csv', num_particiones, 0.2)\n",
    "ds_size = ds.shape[0]\n",
    "\n",
    "w_particion_2d50=np.zeros((num_particiones,ds.shape[1]))\n",
    "\n",
    "for i,particion in enumerate(M_trn):\n",
    "    w_particion_2d50[i]= perceptron_simple(ds[particion],20,0.03,0.01,100)\n",
    "\n",
    "errores_2d50=np.zeros(num_particiones)\n",
    "\n",
    "for i,particion in enumerate(M_tst):\n",
    "    errores_2d50[i]= perceptron_test(ds[particion],w_particion_2d50[i])\n",
    "\n",
    "#particion de 70% de desvio\n",
    "ds, M_tst, M_trn = generar_particiones('icgtp1datos\\spheres2d70.csv', num_particiones, 0.2)\n",
    "ds_size = ds.shape[0]\n",
    "\n",
    "w_particion_2d70=np.zeros((num_particiones,ds.shape[1]))\n",
    "\n",
    "for i,particion in enumerate(M_trn):\n",
    "    w_particion_2d70[i]= perceptron_simple(ds[particion],20,0.03,0.01,100)\n",
    "\n",
    "errores_2d70=np.zeros(num_particiones)\n",
    "\n",
    "for i,particion in enumerate(M_tst):\n",
    "    errores_2d70[i]= perceptron_test(ds[particion],w_particion_2d70[i])"
   ]
  }
 ],
 "metadata": {
  "kernelspec": {
   "display_name": "Python 3.10.6 64-bit",
   "language": "python",
   "name": "python3"
  },
  "language_info": {
   "codemirror_mode": {
    "name": "ipython",
    "version": 3
   },
   "file_extension": ".py",
   "mimetype": "text/x-python",
   "name": "python",
   "nbconvert_exporter": "python",
   "pygments_lexer": "ipython3",
   "version": "3.10.6"
  },
  "orig_nbformat": 4,
  "vscode": {
   "interpreter": {
    "hash": "07ff7e21ea611955a5ea046bb85e7833bbeb87a9446667deecdccb9fe0872cdd"
   }
  }
 },
 "nbformat": 4,
 "nbformat_minor": 2
}

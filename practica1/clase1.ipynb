{
 "cells": [
  {
   "cell_type": "markdown",
   "metadata": {},
   "source": [
    "# Ejercicio 1: OR"
   ]
  },
  {
   "cell_type": "code",
   "execution_count": 241,
   "metadata": {},
   "outputs": [],
   "source": [
    "import numpy as np\n",
    "import matplotlib.pyplot as plt"
   ]
  },
  {
   "cell_type": "code",
   "execution_count": 242,
   "metadata": {},
   "outputs": [],
   "source": [
    "ds_train = np.genfromtxt('icgtp1datos/OR_trn.csv', delimiter=',')\n",
    "ds_train_size = ds_train.shape[0]\n",
    "\n",
    "ds_test = np.genfromtxt('icgtp1datos/OR_tst.csv', delimiter=',')\n",
    "ds_test_size = ds_test.shape[0]"
   ]
  },
  {
   "cell_type": "code",
   "execution_count": 243,
   "metadata": {},
   "outputs": [
    {
     "name": "stdout",
     "output_type": "stream",
     "text": [
      "Epoca 0: error = 0.0\n",
      "[-0.05499604  0.71003677  0.70201369]\n"
     ]
    }
   ],
   "source": [
    "# rand(len(ds['x1'])) - 0.5\n",
    "# print(w.min(), w.max())\n",
    "\n",
    "w = np.random.rand(3) - 0.5\n",
    "N = 20 # Epocas\n",
    "gamma = 0.001 # Tasa de aprendizaje\n",
    "nu = 0.05 # Umbral de error\n",
    "\n",
    "for i in range(N):\n",
    "    for j in ds_train:\n",
    "        # Convolución\n",
    "        y = j[0] * w[1] + j[1] * w[2] - w[0]\n",
    "        # print('y_c', y)\n",
    "        # No linealidad\n",
    "        if (y > 0):\n",
    "            y = 1\n",
    "        else:\n",
    "            y = -1\n",
    "        # Actualización de pesos\n",
    "        # print('x1', j[0], 'x2', j[1], 'y', y)\n",
    "        w = w + np.concatenate([[-1], j[0:2]]) * gamma * (j[2] - y)\n",
    "    \n",
    "    errores = 0\n",
    "    for j in ds_train[np.random.randint(0, 2000, size=200)]:\n",
    "        # Convolución\n",
    "        y = j[0] * w[1] + j[1] * w[2] - w[0]\n",
    "        # No linealidad\n",
    "        if (y > 0 and 1 != j[2]):\n",
    "            errores += 1\n",
    "        elif (y <= 0 and -1 != j[2]):\n",
    "            errores += 1\n",
    "    error = (errores/200)\n",
    "    print(f'Epoca {i}: error = {error}')\n",
    "    if (error < nu):\n",
    "        break\n",
    "\n",
    "print(w/ np.linalg.norm(w))"
   ]
  },
  {
   "cell_type": "code",
   "execution_count": 244,
   "metadata": {},
   "outputs": [
    {
     "name": "stdout",
     "output_type": "stream",
     "text": [
      "error: 0.0 %\n"
     ]
    }
   ],
   "source": [
    "errores = 0\n",
    "\n",
    "for j in ds_test:\n",
    "    # Convolución\n",
    "    y = j[0] * w[1] + j[1] * w[2] - w[0]\n",
    "    # No linealidad\n",
    "    if (y > 0 and 1 != j[2]):\n",
    "        errores += 1\n",
    "    elif (y <= 0 and -1 != j[2]):\n",
    "        errores += 1\n",
    "\n",
    "print('error:', (errores/200)*100, '%')"
   ]
  },
  {
   "cell_type": "code",
   "execution_count": 245,
   "metadata": {},
   "outputs": [
    {
     "data": {
      "text/plain": [
       "[<matplotlib.lines.Line2D at 0x2715beb6fe0>]"
      ]
     },
     "execution_count": 245,
     "metadata": {},
     "output_type": "execute_result"
    },
    {
     "data": {
      "image/png": "[encoded data removed]",
      "text/plain": [
       "<Figure size 432x288 with 1 Axes>"
      ]
     },
     "metadata": {
      "needs_background": "light"
     },
     "output_type": "display_data"
    }
   ],
   "source": [
    "fig1 = plt.figure() \n",
    "x_x = ds_train[:,0]\n",
    "x_y = ds_train[:,1]\n",
    "x_color = np.where(x_x < 0, np.where(x_y < 0, 'C0', 'C1'), 'C1')\n",
    "plt.grid()\n",
    "plt.scatter(x_x, x_y, c = x_color)\n",
    "\n",
    "x_recta = np.arange(-1, 1, 0.01)\n",
    "recta = w[0]/w[2] - w[1]/w[2] * x_recta\n",
    "plt.plot(x_recta, recta)"
   ]
  },
  {
   "cell_type": "markdown",
   "metadata": {},
   "source": [
    "# Ejercicio 1: XOR"
   ]
  },
  {
   "cell_type": "code",
   "execution_count": 246,
   "metadata": {},
   "outputs": [],
   "source": [
    "ds_train = np.genfromtxt('icgtp1datos/OR_trn.csv', delimiter=',')\n",
    "ds_train_size = ds_train.shape[0]\n",
    "\n",
    "ds_test = np.genfromtxt('icgtp1datos/OR_tst.csv', delimiter=',')\n",
    "ds_test_size = ds_test.shape[0]"
   ]
  },
  {
   "cell_type": "markdown",
   "metadata": {},
   "source": [
    "# Ejercicio 2"
   ]
  },
  {
   "cell_type": "code",
   "execution_count": 247,
   "metadata": {},
   "outputs": [
    {
     "name": "stdout",
     "output_type": "stream",
     "text": [
      "[[431. 771. 140. 185. 439. 866. 246.  79. 977. 959. 941. 166.  87. 917.\n",
      "  433. 162.  28. 506. 913. 145. 601. 350. 142. 261. 793. 761. 444. 220.\n",
      "  290. 929. 817. 251. 575. 508. 318. 587. 906. 339. 451. 680.  12. 723.\n",
      "  811. 357. 106. 311. 155. 549.  81. 851. 976. 301. 774. 669. 179. 481.\n",
      "  227. 564. 138. 363.  23. 507. 591. 726. 660. 207. 293. 314. 340. 150.\n",
      "  105. 815. 748. 794.  50. 933. 936. 704.  62. 852. 182. 266. 666. 925.\n",
      "   49. 765. 943.  36. 611. 964. 218. 522. 319. 337. 445. 374. 674. 760.\n",
      "  805. 653. 216. 315. 402.   1. 736. 174. 173. 664. 277.  45. 899. 585.\n",
      "  273. 887. 348. 438. 397.   3. 845. 217. 292. 691. 287. 157. 578. 198.\n",
      "  973. 407. 244.  18. 520. 354. 275. 528. 313. 641. 159. 928. 111. 746.\n",
      "  455. 635. 415.  78. 759. 518. 547. 493. 165. 112. 404. 931.   4. 269.\n",
      "  428. 525.  64. 912. 205. 695. 295. 303. 918.  94. 661. 248. 682. 178.\n",
      "  183. 745. 231. 308. 171. 969. 286. 427. 801. 622. 543.  60.   2. 965.\n",
      "  934. 889. 289. 619. 146. 267. 332. 224. 517. 503. 502. 334. 637. 373.\n",
      "  446. 920. 974. 807.]\n",
      " [194.  76. 361. 299. 262. 781. 915. 185. 947. 366. 141. 497. 618. 531.\n",
      "  842.  82. 386. 258. 402. 346. 241. 811. 171. 813. 496. 416. 307. 895.\n",
      "  190.  63. 974. 379.  99.  65. 687. 465. 965.  90. 976. 486. 578. 863.\n",
      "   16. 536. 453.  81. 722. 985. 126. 633.   4. 230.  39. 123. 277. 615.\n",
      "  334. 708. 373. 315. 700.  72. 132. 903. 322. 576. 972. 779. 953. 875.\n",
      "  164. 491. 324. 937. 292. 139. 523. 754. 481. 380. 587. 998. 306. 527.\n",
      "  679. 404. 412. 845. 266. 364. 227. 699. 362. 629. 456. 197. 593. 204.\n",
      "  607. 654. 216. 308. 997. 382. 627. 187. 874. 956. 291. 356. 105. 773.\n",
      "  229. 631. 662. 772.  57. 348.  18. 702. 157. 310. 938. 860. 525. 451.\n",
      "  751. 372. 703. 697. 806. 162. 243. 544. 335. 824. 612. 397. 387. 890.\n",
      "  167. 239. 494. 584. 670. 354. 186. 713. 284. 729. 102. 442. 296. 574.\n",
      "  502. 809. 467. 827.  93. 595. 323.  11. 176. 377. 730. 341. 530. 916.\n",
      "  195. 514.  36. 309. 550. 478.  68. 957. 365.  19.  92. 952. 637. 677.\n",
      "   85.  29. 725. 427. 415. 973. 630. 567. 339. 925. 785. 582. 622. 650.\n",
      "  743. 495. 929. 796.]]\n"
     ]
    }
   ],
   "source": [
    "def generar_particiones(filename, n, p_test):\n",
    "    ds = np.genfromtxt(filename, delimiter=',')\n",
    "    n_test = int(ds.shape[0] * p_test)\n",
    "    n_train = ds.shape[0] - n_test\n",
    "    M_test = np.zeros((n,n_test))\n",
    "    M_train = np.zeros((n, n_train))\n",
    "\n",
    "    for i in range(n):\n",
    "        idx = np.arange(ds.shape[0])\n",
    "        np.random.shuffle(idx)\n",
    "        idx_test = idx[0:n_test]\n",
    "        idx_train = idx[n_test:ds.shape[0]]\n",
    "        M_test[i] = idx_test\n",
    "        M_train[i] = idx_train\n",
    "    \n",
    "    return M_test, M_train\n",
    "\n",
    "M_tst, M_trn = generar_particiones('icgtp1datos\\spheres1d10.csv', 2, 0.2)\n",
    "print(M_tst)\n",
    "    "
   ]
  }
 ],
 "metadata": {
  "kernelspec": {
   "display_name": "Python 3.10.6 64-bit",
   "language": "python",
   "name": "python3"
  },
  "language_info": {
   "codemirror_mode": {
    "name": "ipython",
    "version": 3
   },
   "file_extension": ".py",
   "mimetype": "text/x-python",
   "name": "python",
   "nbconvert_exporter": "python",
   "pygments_lexer": "ipython3",
   "version": "3.10.6"
  },
  "orig_nbformat": 4,
  "vscode": {
   "interpreter": {
    "hash": "07ff7e21ea611955a5ea046bb85e7833bbeb87a9446667deecdccb9fe0872cdd"
   }
  }
 },
 "nbformat": 4,
 "nbformat_minor": 2
}

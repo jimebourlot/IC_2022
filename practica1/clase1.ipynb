{
 "cells": [
  {
   "cell_type": "markdown",
   "metadata": {},
   "source": [
    "# Ejercicio 1\n",
    "Realice un programa que permita el entrenamiento y prueba de un perceptrón simple con una cantidad variable de\n",
    "entradas. El programa debe proveer las siguientes facilidades:\n",
    " 1. lectura de los patrones de entrenamiento (entradas y salidas) desde un archivo en formato texto separado por comas\n",
    " 2. selección del criterio de finalización del entrenamiento,\n",
    " 3. selección del número máximo de épocas de entrenamiento,\n",
    " 4. selección de la tasa de aprendizaje,\n",
    " 5. prueba del perceptrón entrenado mediante archivos de texto con el mismo formato separado por comas.\n",
    "\n",
    "Realizar la prueba: Recuerde que para que la prueba tenga validez se deben utilizar patrones nunca presentados en el entrenamiento, para esto se dispone de dos archivos diferentes para cada problema.\n",
    "\n",
    "Implemente una rutina de graficación que permita visualizar, para el caso de dos entradas, los patrones utilizados y\n",
    "la recta de separación que se va ajustando durante el entrenamiento del perceptrón simple. Utilice dicha rutina para\n",
    "visualizar el entrenamiento en los problemas OR y XOR."
   ]
  },
  {
   "cell_type": "code",
   "execution_count": 1,
   "metadata": {},
   "outputs": [],
   "source": [
    "import numpy as np\n",
    "import matplotlib.pyplot as plt"
   ]
  },
  {
   "cell_type": "markdown",
   "metadata": {},
   "source": [
    "## Train"
   ]
  },
  {
   "cell_type": "code",
   "execution_count": 2,
   "metadata": {},
   "outputs": [],
   "source": [
    "def perceptron_simple_train(ds_train,N,nu,gamma,N_valid):\n",
    "\n",
    "    idx=np.random.choice(range(ds_train.shape[0]), ds_train.shape[0], replace = False)\n",
    "    idx_valid = idx[:N_valid]\n",
    "    idx_train = idx[N_valid:]\n",
    "\n",
    "    # inicializacion de pesos al azar: distribución uniforme\n",
    "    # w = np.random.rand(ds_train.shape[1]) - 0.5\n",
    "\n",
    "    # inicialización al azar de los pesos con distribución normal\n",
    "    # loc -> media - scale -> desvío\n",
    "    w = np.random.normal(loc = 0, scale = 0.15, size = ds_train.shape[1]) \n",
    "\n",
    "    error_epocas = []\n",
    "    w_epocas = w\n",
    "\n",
    "    x = np.hstack((-1*np.ones((ds_train.shape[0],1)), ds_train))\n",
    "\n",
    "\n",
    "    # épocas\n",
    "    for i in range(N):\n",
    "        for patron in x[idx_train]:\n",
    "            a = patron\n",
    "            # producto punto\n",
    "            y = np.dot(patron[:-1],w)\n",
    "            # No linealidad\n",
    "            if (y > 0):\n",
    "                y = 1\n",
    "            else:\n",
    "                y = -1\n",
    "            # Actualización de pesos\n",
    "            w = w + patron[:-1] * gamma * (patron[-1] - y)\n",
    "\n",
    "        # Validación\n",
    "        errores = 0\n",
    "        for j in x[idx_valid]:\n",
    "            # producto punto\n",
    "            y = np.dot(j[0:len(j)-1],w)\n",
    "            \n",
    "            # No linealidad\n",
    "            if (y > 0 and 1 != j[len(j)-1]):\n",
    "                errores += 1\n",
    "            elif (y <= 0 and -1 != j[len(j)-1]):\n",
    "                errores += 1\n",
    "        error = (errores/N_valid)\n",
    "\n",
    "        error_epocas= np.append(error_epocas, [error])\n",
    "        w_epocas = np.vstack((w_epocas, w))\n",
    "        \n",
    "        # print(f'Epoca {i}: error = {error}, w = {w}')\n",
    "        if (error < nu):\n",
    "            print(f'Época {i}')\n",
    "            return w_epocas, error_epocas\n",
    "    print(f'Época {i}')\n",
    "    return w_epocas, error_epocas"
   ]
  },
  {
   "cell_type": "code",
   "execution_count": 3,
   "metadata": {},
   "outputs": [
    {
     "data": {
      "text/plain": [
       "array([[2, 3],\n",
       "       [1, 2]])"
      ]
     },
     "execution_count": 3,
     "metadata": {},
     "output_type": "execute_result"
    }
   ],
   "source": [
    "import numpy as np\n",
    "np.vstack(([2, 3], [1, 2]))"
   ]
  },
  {
   "cell_type": "markdown",
   "metadata": {},
   "source": [
    "## Test"
   ]
  },
  {
   "cell_type": "code",
   "execution_count": 4,
   "metadata": {},
   "outputs": [],
   "source": [
    "def perceptron_test(ds_test,w):\n",
    "    errores = 0\n",
    "    for j in ds_test:\n",
    "        j = np.concatenate([[-1], j])\n",
    "        # Convolución\n",
    "        y = np.dot(j[0:len(j)-1],w)\n",
    "        # No linealidad\n",
    "        if (y > 0 and 1 != j[len(j)-1]):\n",
    "            errores += 1\n",
    "        elif (y <= 0 and -1 != j[len(j)-1]):\n",
    "            errores += 1\n",
    "    return (errores/ds_test.shape[0])\n"
   ]
  },
  {
   "cell_type": "markdown",
   "metadata": {},
   "source": [
    "## Graficación\n",
    "\n",
    "Implemente una rutina de graficación que permita visualizar, para el caso de dos entradas, los patrones utilizados y\n",
    "la recta de separación que se va ajustando durante el entrenamiento del perceptrón simple. Utilice dicha rutina para\n",
    "visualizar el entrenamiento en los problemas OR y XOR."
   ]
  },
  {
   "cell_type": "code",
   "execution_count": 5,
   "metadata": {},
   "outputs": [],
   "source": [
    "import time\n",
    "import matplotlib.animation as animation"
   ]
  },
  {
   "cell_type": "code",
   "execution_count": 6,
   "metadata": {},
   "outputs": [],
   "source": [
    "def graficar(x, y, x_color, w_vec, error):\n",
    "    \n",
    "    N_epocas = w_vec.shape[0]\n",
    "    x_recta = np.arange(-3, 3, 0.01)\n",
    "    pendiente = -w_vec[0,1]/w_vec[0,2]\n",
    "    ordenada = w_vec[0,0]/w_vec[0,2]\n",
    "    recta =  ordenada + pendiente * x_recta\n",
    "    fig, ax = plt.subplots(figsize=(4,3))\n",
    "    line1, = ax.plot(x_recta, recta)\n",
    "    ax.grid()\n",
    "    ax.scatter(x, y, c = x_color)\n",
    "    ax.set_xlim([-1.1, 1.1])\n",
    "    ax.set_ylim([-1.1, 1.1])\n",
    "\n",
    "    def animate(i):\n",
    "        pendiente = -w_vec[i,1]/w_vec[i,2]\n",
    "        ordenada = w_vec[i,0]/w_vec[i,2]\n",
    "        recta =  ordenada + pendiente * x_recta\n",
    "        line1.set_ydata(recta)\n",
    "        plt.title(f'recta = {np.round(pendiente, 4)}x + {np.round(ordenada,4)}, error: {error[i]}')\n",
    "        time.sleep(0.2)\n",
    "        return line1,\n",
    "    \n",
    "    anim = animation.FuncAnimation(fig, animate, frames=(N_epocas), interval=20, repeat=False)\n",
    "    plt.show()\n",
    "    #pause\n",
    "    anim.event_source.stop()\n",
    "\n"
   ]
  },
  {
   "cell_type": "markdown",
   "metadata": {},
   "source": [
    "## Problema OR\n",
    "### Train"
   ]
  },
  {
   "cell_type": "code",
   "execution_count": 7,
   "metadata": {},
   "outputs": [
    {
     "name": "stdout",
     "output_type": "stream",
     "text": [
      "Época 2\n"
     ]
    }
   ],
   "source": [
    "# lectura de patrones\n",
    "\n",
    "ds_train = np.genfromtxt('icgtp1datos/OR_trn.csv', delimiter=',')\n",
    "ds_train_size = ds_train.shape[0]\n",
    "\n",
    "# Entrenamiento\n",
    "N = 50 # Epocas\n",
    "gamma = 0.00001 # Tasa de aprendizaje\n",
    "nu = 0.0005 # Umbral de error\n",
    "N_valid = 200\n",
    "historial_w, errores_evol = perceptron_simple_train(ds_train,N,nu,gamma,N_valid)\n",
    "\n"
   ]
  },
  {
   "cell_type": "code",
   "execution_count": 8,
   "metadata": {},
   "outputs": [
    {
     "data": {
      "application/vnd.jupyter.widget-view+json": {
       "model_id": "3668cd3d993b41dfa30b613b47196da6",
       "version_major": 2,
       "version_minor": 0
      },
      "image/png": "[encoded data removed]",
      "text/html": [
       "\n",
       "            <div style=\"display: inline-block;\">\n",
       "                <div class=\"jupyter-widgets widget-label\" style=\"text-align: center;\">\n",
       "                    Figure\n",
       "                </div>\n",
       "                <img src='data:image/png;base64,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' width=400.0/>\n",
       "            </div>\n",
       "        "
      ],
      "text/plain": [
       "Canvas(toolbar=Toolbar(toolitems=[('Home', 'Reset original view', 'home', 'home'), ('Back', 'Back to previous …"
      ]
     },
     "metadata": {},
     "output_type": "display_data"
    }
   ],
   "source": [
    "# Gráfico evolución del entrenamiento\n",
    "\n",
    "x_x = ds_train[:,0]\n",
    "x_y = ds_train[:,1]\n",
    "x_color = np.where(x_x < 0, np.where(x_y < 0, 'C0', 'C1'), 'C1')\n",
    "%matplotlib widget\n",
    "graficar(x_x, x_y, x_color, historial_w, errores_evol)\n"
   ]
  },
  {
   "cell_type": "code",
   "execution_count": 9,
   "metadata": {},
   "outputs": [],
   "source": [
    "%matplotlib inline"
   ]
  },
  {
   "cell_type": "code",
   "execution_count": 10,
   "metadata": {},
   "outputs": [
    {
     "data": {
      "image/png": "[encoded data removed]",
      "text/plain": [
       "<Figure size 432x288 with 1 Axes>"
      ]
     },
     "metadata": {
      "needs_background": "light"
     },
     "output_type": "display_data"
    }
   ],
   "source": [
    "x_recta = np.arange(-3, 3, 0.01)\n",
    "pendiente = -historial_w[-1,1]/historial_w[-1,2]\n",
    "ordenada = historial_w[-1,0]/historial_w[-1,2]\n",
    "recta =  ordenada + pendiente * x_recta\n",
    "\n",
    "plt.figure()\n",
    "plt.plot(x_recta, recta)\n",
    "plt.grid()\n",
    "\n",
    "x_color = np.where(ds_train[:,0] < 0, np.where(ds_train[:,1] < 0, 'C0', 'C1'), 'C1')\n",
    "plt.scatter(ds_train[:,0], ds_train[:,1], c = x_color)\n",
    "plt.xlim([-1.1, 1.1])\n",
    "plt.ylim([-1.1, 1.1])\n",
    "plt.title(f'recta = {np.round(pendiente, 4)}x + {np.round(ordenada,4)}, error: {errores_evol[-1]}')\n",
    "\n",
    "plt.show()"
   ]
  },
  {
   "cell_type": "code",
   "execution_count": 11,
   "metadata": {},
   "outputs": [
    {
     "data": {
      "image/png": "[encoded data removed]",
      "text/plain": [
       "<Figure size 432x288 with 1 Axes>"
      ]
     },
     "metadata": {
      "needs_background": "light"
     },
     "output_type": "display_data"
    }
   ],
   "source": [
    "# Gráfico de error vs. época para el train\n",
    "\n",
    "plt.close('all')\n",
    "plt.title('Error vs Época')\n",
    "plt.xlabel('Época')\n",
    "plt.ylabel('Error')\n",
    "plt.plot(range(len(errores_evol)),errores_evol)\n",
    "plt.show()"
   ]
  },
  {
   "cell_type": "markdown",
   "metadata": {},
   "source": [
    "### Test"
   ]
  },
  {
   "cell_type": "code",
   "execution_count": 12,
   "metadata": {},
   "outputs": [
    {
     "name": "stdout",
     "output_type": "stream",
     "text": [
      "Error de test: 0.0\n"
     ]
    }
   ],
   "source": [
    "# Test\n",
    "\n",
    "ds_test = np.genfromtxt('icgtp1datos/OR_tst.csv', delimiter=',')\n",
    "ds_test_size = ds_test.shape[0]\n",
    "\n",
    "w = historial_w[-1]\n",
    "error = perceptron_test(ds_test,w)\n",
    "print(f'Error de test: {error}')\n"
   ]
  },
  {
   "cell_type": "code",
   "execution_count": 13,
   "metadata": {},
   "outputs": [
    {
     "data": {
      "image/png": "[encoded data removed]",
      "text/plain": [
       "<Figure size 432x288 with 1 Axes>"
      ]
     },
     "metadata": {
      "needs_background": "light"
     },
     "output_type": "display_data"
    }
   ],
   "source": [
    "x_recta = np.arange(-3, 3, 0.01)\n",
    "pendiente = -w[1]/w[2]\n",
    "ordenada = w[0]/w[2]\n",
    "recta =  ordenada + pendiente * x_recta\n",
    "\n",
    "plt.figure()\n",
    "plt.plot(x_recta, recta)\n",
    "plt.grid()\n",
    "\n",
    "x_color = np.where(ds_test[:,0] < 0, np.where(ds_test[:,1] < 0, 'C0', 'C1'), 'C1')\n",
    "plt.scatter(ds_test[:,0], ds_test[:,1], c = x_color)\n",
    "plt.xlim([-1.1, 1.1])\n",
    "plt.ylim([-1.1, 1.1])\n",
    "plt.title(f'recta = {np.round(pendiente, 4)}x + {np.round(ordenada,4)}, error: {error}')\n",
    "\n",
    "plt.show()"
   ]
  },
  {
   "cell_type": "markdown",
   "metadata": {},
   "source": [
    "## Problema XOR\n",
    "### Train"
   ]
  },
  {
   "cell_type": "code",
   "execution_count": 14,
   "metadata": {},
   "outputs": [
    {
     "name": "stdout",
     "output_type": "stream",
     "text": [
      "Época 0\n"
     ]
    }
   ],
   "source": [
    "# Lectura de patrones\n",
    "\n",
    "ds_train = np.genfromtxt('icgtp1datos/XOR_trn.csv', delimiter=',')\n",
    "ds_train_size = ds_train.shape[0]\n",
    "\n",
    "# Entrenamiento\n",
    "N = 50 # Epocas\n",
    "gamma = 0.001 # Tasa de aprendizaje\n",
    "nu = 0.3 # Umbral de error\n",
    "N_valid=200\n",
    "historial_w, errores_evol = perceptron_simple_train(ds_train,N,nu,gamma,N_valid)"
   ]
  },
  {
   "cell_type": "code",
   "execution_count": 15,
   "metadata": {},
   "outputs": [
    {
     "data": {
      "application/vnd.jupyter.widget-view+json": {
       "model_id": "46d381fcdfce4015aaf7c6b6753a2fa1",
       "version_major": 2,
       "version_minor": 0
      },
      "image/png": "[encoded data removed]",
      "text/html": [
       "\n",
       "            <div style=\"display: inline-block;\">\n",
       "                <div class=\"jupyter-widgets widget-label\" style=\"text-align: center;\">\n",
       "                    Figure\n",
       "                </div>\n",
       "                <img src='data:image/png;base64,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' width=400.0/>\n",
       "            </div>\n",
       "        "
      ],
      "text/plain": [
       "Canvas(toolbar=Toolbar(toolitems=[('Home', 'Reset original view', 'home', 'home'), ('Back', 'Back to previous …"
      ]
     },
     "metadata": {},
     "output_type": "display_data"
    }
   ],
   "source": [
    "# Gráfico de evolución del entrenamiento\n",
    "\n",
    "x_x = ds_train[:,0]\n",
    "x_y = ds_train[:,1]\n",
    "x_color = np.where(x_x > 0, np.where(x_y > 0, 'C0', 'C1'), np.where(x_y < 0, 'C0', 'C1'))\n",
    "%matplotlib widget\n",
    "graficar(x_x, x_y, x_color, historial_w, errores_evol)"
   ]
  },
  {
   "cell_type": "code",
   "execution_count": 16,
   "metadata": {},
   "outputs": [],
   "source": [
    "%matplotlib inline"
   ]
  },
  {
   "cell_type": "code",
   "execution_count": 17,
   "metadata": {},
   "outputs": [
    {
     "data": {
      "image/png": "[encoded data removed]",
      "text/plain": [
       "<Figure size 432x288 with 1 Axes>"
      ]
     },
     "metadata": {
      "needs_background": "light"
     },
     "output_type": "display_data"
    }
   ],
   "source": [
    "x_recta = np.arange(-3, 3, 0.01)\n",
    "pendiente = -historial_w[-1,1]/historial_w[-1,2]\n",
    "ordenada = historial_w[-1,0]/historial_w[-1,2]\n",
    "recta =  ordenada + pendiente * x_recta\n",
    "\n",
    "plt.figure()\n",
    "plt.plot(x_recta, recta)\n",
    "plt.grid()\n",
    "x_color = np.where(ds_train[:,0] > 0, np.where(ds_train[:,1] > 0, 'C0', 'C1'), np.where(ds_train[:,1] < 0, 'C0', 'C1'))\n",
    "plt.scatter(ds_train[:,0], ds_train[:,1], c = x_color)\n",
    "plt.xlim([-1.1, 1.1])\n",
    "plt.ylim([-1.1, 1.1])\n",
    "plt.title(f'recta = {np.round(pendiente, 4)}x + {np.round(ordenada,4)}, error: {errores_evol[-1]}')\n",
    "\n",
    "plt.show()"
   ]
  },
  {
   "cell_type": "markdown",
   "metadata": {},
   "source": [
    "### Test"
   ]
  },
  {
   "cell_type": "code",
   "execution_count": 18,
   "metadata": {},
   "outputs": [
    {
     "name": "stdout",
     "output_type": "stream",
     "text": [
      "Error de test: 0.26\n"
     ]
    }
   ],
   "source": [
    "ds_test = np.genfromtxt('icgtp1datos/XOR_tst.csv', delimiter=',')\n",
    "ds_test_size = ds_test.shape[0]\n",
    "\n",
    "# Test\n",
    "w = historial_w[-1]\n",
    "error = perceptron_test(ds_test,w)\n",
    "print(f'Error de test: {error}')"
   ]
  },
  {
   "cell_type": "code",
   "execution_count": 19,
   "metadata": {},
   "outputs": [
    {
     "data": {
      "image/png": "[encoded data removed]",
      "text/plain": [
       "<Figure size 432x288 with 1 Axes>"
      ]
     },
     "metadata": {
      "needs_background": "light"
     },
     "output_type": "display_data"
    }
   ],
   "source": [
    "x_recta = np.arange(-3, 3, 0.01)\n",
    "pendiente = -w[1]/w[2]\n",
    "ordenada = w[0]/w[2]\n",
    "recta =  ordenada + pendiente * x_recta\n",
    "\n",
    "plt.figure()\n",
    "plt.plot(x_recta, recta)\n",
    "plt.grid()\n",
    "\n",
    "x_color = np.where(ds_test[:,0] > 0, np.where(ds_test[:,1] > 0, 'C0', 'C1'), np.where(ds_test[:,1] < 0, 'C0', 'C1'))\n",
    "plt.scatter(ds_test[:,0], ds_test[:,1], c = x_color)\n",
    "plt.xlim([-1.1, 1.1])\n",
    "plt.ylim([-1.1, 1.1])\n",
    "plt.title(f'recta = {np.round(pendiente, 4)}x + {np.round(ordenada,4)}, error: {error}')\n",
    "\n",
    "plt.show()"
   ]
  },
  {
   "cell_type": "markdown",
   "metadata": {},
   "source": [
    "# Ejercicio 2\n",
    "## Generación de particiones"
   ]
  },
  {
   "cell_type": "code",
   "execution_count": 20,
   "metadata": {},
   "outputs": [],
   "source": [
    "def generar_particiones(filename, n, p_test):\n",
    "    ds = np.genfromtxt(filename, delimiter=',')\n",
    "    n_test = int(ds.shape[0] * p_test)\n",
    "    n_train = ds.shape[0] - n_test\n",
    "    M_test = np.zeros((n,n_test),dtype = int)\n",
    "    M_train = np.zeros((n, n_train),dtype = int)\n",
    "\n",
    "    for i in range(n):\n",
    "        idx=np.random.choice(range(ds.shape[0]),ds.shape[0],replace = False)\n",
    "        idx_test = idx[0:n_test]\n",
    "        idx_train = idx[n_test:ds.shape[0]]\n",
    "        M_test[i] = idx_test\n",
    "        M_train[i] = idx_train\n",
    "    \n",
    "    return (ds, M_test, M_train)\n"
   ]
  },
  {
   "cell_type": "markdown",
   "metadata": {},
   "source": [
    "## Validación cruzada con 5 particiones\n",
    "El archivo $spheres1d10.csv$ contiene una serie de datos generados a partir de los valores de la Tabla 1, con pequeñas desviaciones aleatorias ($< 10 %$) en torno a ellos. \n",
    "Realice con estos datos la validación cruzada del perceptrón simple con $5$ particiones de entrenamiento y prueba con relacion $80/20$"
   ]
  },
  {
   "cell_type": "code",
   "execution_count": 21,
   "metadata": {},
   "outputs": [
    {
     "name": "stdout",
     "output_type": "stream",
     "text": [
      "Época 5\n",
      "Época 0\n",
      "Época 0\n",
      "Época 27\n",
      "Época 34\n"
     ]
    },
    {
     "data": {
      "image/png": "[encoded data removed]",
      "text/plain": [
       "<Figure size 432x288 with 1 Axes>"
      ]
     },
     "metadata": {
      "needs_background": "light"
     },
     "output_type": "display_data"
    }
   ],
   "source": [
    "num_particiones=5\n",
    "ds, M_tst, M_trn = generar_particiones('icgtp1datos\\spheres1d10.csv', num_particiones, 0.2)\n",
    "\n",
    "# for i in range(num_particiones):\n",
    "#     np.savetxt(f'icgtp1datos\\spheres1d10-part{i}_test.csv', ds[M_tst[i]], delimiter=',')\n",
    "#     np.savetxt(f'icgtp1datos\\spheres1d10-part{i}_trn.csv', ds[M_trn[i]], delimiter=',')\n",
    "\n",
    "ds_size = ds.shape[0]\n",
    "\n",
    "w_particion=np.zeros((num_particiones,ds.shape[1]))\n",
    "\n",
    "for i,particion in enumerate(M_trn):\n",
    "    historial_w, errores_evol = perceptron_simple_train(ds[particion],50,0.13,0.01,500)\n",
    "    w_particion[i] = historial_w[-1]\n",
    "\n",
    "errores=np.zeros(num_particiones)\n",
    "\n",
    "for i,particion in enumerate(M_tst):\n",
    "    errores[i]= perceptron_test(ds[particion],w_particion[i])\n",
    "\n",
    "plt.close('all')\n",
    "plt.plot(range(num_particiones),errores)\n",
    "plt.title('Errores vs. Particiones')\n",
    "plt.xlabel('Particiones')\n",
    "plt.ylabel('Error')\n",
    "plt.show()"
   ]
  },
  {
   "cell_type": "markdown",
   "metadata": {},
   "source": [
    "## Validación cruzada con 10 particiones\n",
    "A partir de la misma tabla del ejemplo anterior, pero modificando el punto x = [−1 + 1 −1] → yd = 1, se ha generado un conjunto de datos diferente. Los archivos spheres2d10.csv, spheres2d50.csv y spheres2d70.csv contienen los datos con desviaciones aleatorias de 10, 50 y 70 % respectivamente (Figuras 2(b), 2(c) y 2(d)). \n",
    "\n",
    "Realice la validación cruzada del perceptrón simple con 10 particiones de entrenamiento y prueba, con relación 80/20.\n"
   ]
  },
  {
   "cell_type": "code",
   "execution_count": 22,
   "metadata": {},
   "outputs": [
    {
     "name": "stdout",
     "output_type": "stream",
     "text": [
      "Época 0\n",
      "Época 0\n",
      "Época 0\n",
      "Época 0\n",
      "Época 0\n",
      "Época 0\n",
      "Época 0\n",
      "Época 0\n",
      "Época 0\n",
      "Época 0\n",
      "Época 1\n",
      "Época 1\n",
      "Época 1\n",
      "Época 2\n",
      "Época 0\n",
      "Época 1\n",
      "Época 1\n",
      "Época 0\n",
      "Época 1\n",
      "Época 1\n",
      "Época 0\n",
      "Época 0\n",
      "Época 0\n",
      "Época 1\n",
      "Época 0\n",
      "Época 0\n",
      "Época 0\n",
      "Época 0\n",
      "Época 0\n",
      "Época 0\n"
     ]
    }
   ],
   "source": [
    "num_particiones=10\n",
    "#particion de 10% de desvio\n",
    "ds, M_tst, M_trn = generar_particiones('icgtp1datos\\spheres2d10.csv', num_particiones, 0.2)\n",
    "ds_size = ds.shape[0]\n",
    "\n",
    "w_particion_2d10=np.zeros((num_particiones,ds.shape[1]))\n",
    "\n",
    "for i,particion in enumerate(M_trn):\n",
    "    historial_w, errores_evol = perceptron_simple_train(ds[particion],20,0.03,0.001,500)                       \n",
    "    w_particion_2d10[i]= historial_w[-1]\n",
    "\n",
    "errores_2d10=np.zeros(num_particiones)\n",
    "\n",
    "for i,particion in enumerate(M_tst):\n",
    "    errores_2d10[i]= perceptron_test(ds[particion],w_particion_2d10[i])\n",
    "\n",
    "#particion de 50% de desvio\n",
    "ds, M_tst, M_trn = generar_particiones('icgtp1datos\\spheres2d50.csv', num_particiones, 0.2)\n",
    "ds_size = ds.shape[0]\n",
    "\n",
    "w_particion_2d50=np.zeros((num_particiones,ds.shape[1]))\n",
    "\n",
    "for i,particion in enumerate(M_trn):\n",
    "    historial_w, errores_evol = perceptron_simple_train(ds[particion],40,0.05,0.0001,500)                       \n",
    "    w_particion_2d50[i]= historial_w[-1]\n",
    "\n",
    "\n",
    "errores_2d50=np.zeros(num_particiones)\n",
    "\n",
    "for i,particion in enumerate(M_tst):\n",
    "    errores_2d50[i]= perceptron_test(ds[particion],w_particion_2d50[i])\n",
    "\n",
    "#particion de 70% de desvio\n",
    "ds, M_tst, M_trn = generar_particiones('icgtp1datos\\spheres2d70.csv', num_particiones, 0.2)\n",
    "ds_size = ds.shape[0]\n",
    "\n",
    "w_particion_2d70=np.zeros((num_particiones,ds.shape[1]))\n",
    "\n",
    "for i,particion in enumerate(M_trn):\n",
    "    historial_w, errores_evol = perceptron_simple_train(ds[particion],100,0.05,0.1,500)                       \n",
    "    w_particion_2d70[i] = historial_w[-1]\n",
    "\n",
    "\n",
    "errores_2d70=np.zeros(num_particiones)\n",
    "\n",
    "for i,particion in enumerate(M_tst):\n",
    "    errores_2d70[i]= perceptron_test(ds[particion],w_particion_2d70[i])"
   ]
  },
  {
   "cell_type": "code",
   "execution_count": 23,
   "metadata": {},
   "outputs": [
    {
     "data": {
      "image/png": "[encoded data removed]",
      "text/plain": [
       "<Figure size 432x288 with 1 Axes>"
      ]
     },
     "metadata": {
      "needs_background": "light"
     },
     "output_type": "display_data"
    }
   ],
   "source": [
    "plt.close('all')\n",
    "plt.plot(range(num_particiones),errores_2d10)\n",
    "plt.plot(range(num_particiones),errores_2d50)\n",
    "plt.plot(range(num_particiones),errores_2d70)\n",
    "plt.title('Errores vs. Particiones')\n",
    "plt.xlabel('Particiones')\n",
    "plt.ylabel('Error')\n",
    "plt.show()"
   ]
  },
  {
   "cell_type": "code",
   "execution_count": 24,
   "metadata": {},
   "outputs": [
    {
     "name": "stdout",
     "output_type": "stream",
     "text": [
      "media desviación 10%: 0.0002 - desvío: 0.0006\n",
      "media desviación 50%: 0.0242 - desvío: 0.0116\n",
      "media desviación 70%: 0.0245 - desvío: 0.0057\n"
     ]
    }
   ],
   "source": [
    "print(f'media desviación 10%: {np.mean(errores_2d10):.4f} - desvío: {np.std(errores_2d10):.4f}')\n",
    "print(f'media desviación 50%: {np.mean(errores_2d50):.4f} - desvío: {np.std(errores_2d50):.4f}')\n",
    "print(f'media desviación 70%: {np.mean(errores_2d70):.4f} - desvío: {np.std(errores_2d70):.4f}')"
   ]
  },
  {
   "cell_type": "markdown",
   "metadata": {},
   "source": []
  },
  {
   "cell_type": "markdown",
   "metadata": {},
   "source": [
    "# Ejercicio 3"
   ]
  },
  {
   "cell_type": "code",
   "execution_count": 25,
   "metadata": {},
   "outputs": [],
   "source": [
    "def sigmoidea(x):\n",
    "    return np.divide(2, (1 + np.exp(-x))) - 1"
   ]
  },
  {
   "cell_type": "code",
   "execution_count": 26,
   "metadata": {},
   "outputs": [],
   "source": [
    "class layer:\n",
    "    def __init__(self, n_neuron, n_x):\n",
    "        self.n_neuron = n_neuron\n",
    "        self.n_entradas = n_x\n",
    "        self.w = np.random.normal(loc = 0, scale = 0.15, size =(n_neuron,n_x))\n",
    "        \n",
    "    def calculate_y(self,x):\n",
    "        y = np.dot(self.w,x.T)\n",
    "        y = sigmoidea(y)\n",
    "        return y   \n"
   ]
  },
  {
   "cell_type": "code",
   "execution_count": 27,
   "metadata": {},
   "outputs": [],
   "source": [
    "def perceptron_multilayer_init(neurons_perLayer, n_x):\n",
    "    network=[]\n",
    "    aux_n_x = n_x\n",
    "    for i in range(neurons_perLayer.shape[0]):\n",
    "        network.append(layer(neurons_perLayer[i], aux_n_x + 1))\n",
    "        aux_n_x = neurons_perLayer[i]\n",
    "    return(network)"
   ]
  },
  {
   "cell_type": "code",
   "execution_count": 28,
   "metadata": {},
   "outputs": [],
   "source": [
    "def perceptron_multilayer_forward(network,x):\n",
    "    # completa la primera capa\n",
    "    y=[x]\n",
    "    for i in range(len(network)):\n",
    "        y.append( \\\n",
    "                network[i].calculate_y( \\\n",
    "                    np.hstack((-1, y[i]))\\\n",
    "                        )\\\n",
    "        )\n",
    "    return y"
   ]
  },
  {
   "cell_type": "code",
   "execution_count": 29,
   "metadata": {},
   "outputs": [],
   "source": [
    "def perceptron_multilayer_backward(network,y,yd):\n",
    "    e=np.sum(((y[-1]-yd)**2))\n",
    "    grad=[]\n",
    "    grad.append(np.multiply(e,np.multiply((1+y[-1]),(1-y[-1]))))\n",
    "    for i in range(len(network)-1,0,-1):\n",
    "        w_t=network[i].w[:,1:].T\n",
    "        grad.append(np.multiply(np.dot(w_t,grad[i-1]),np.multiply((1+y[i]),(1-y[i]))))\n",
    "    return grad\n"
   ]
  },
  {
   "cell_type": "code",
   "execution_count": 30,
   "metadata": {},
   "outputs": [],
   "source": [
    "def perceptron_multilayer_update(network,y,grad,gamma):\n",
    "    for i in range(len(network)):\n",
    "        w_new = gamma * np.outer(grad[-(i+1)],np.hstack((-1, y[i])))\n",
    "        network[i].w += w_new\n",
    "    return network "
   ]
  },
  {
   "cell_type": "markdown",
   "metadata": {},
   "source": [
    "## Train"
   ]
  },
  {
   "cell_type": "code",
   "execution_count": 44,
   "metadata": {},
   "outputs": [
    {
     "name": "stdout",
     "output_type": "stream",
     "text": [
      "Epoca 0: error = 0.506875\n",
      "Época 0\n",
      "Epoca 1: error = 0.506875\n",
      "Época 1\n",
      "Epoca 2: error = 0.506875\n",
      "Época 2\n",
      "Epoca 3: error = 0.506875\n",
      "Época 3\n",
      "Epoca 4: error = 0.506875\n",
      "Época 4\n",
      "Epoca 5: error = 0.506875\n",
      "Época 5\n",
      "Epoca 6: error = 0.506875\n",
      "Época 6\n",
      "Epoca 7: error = 0.506875\n",
      "Época 7\n",
      "Epoca 8: error = 0.506875\n",
      "Época 8\n",
      "Epoca 9: error = 0.506875\n",
      "Época 9\n",
      "Epoca 10: error = 0.506875\n",
      "Época 10\n",
      "Epoca 11: error = 0.506875\n",
      "Época 11\n",
      "Epoca 12: error = 0.506875\n",
      "Época 12\n",
      "Epoca 13: error = 0.506875\n",
      "Época 13\n",
      "Epoca 14: error = 0.506875\n",
      "Época 14\n",
      "Epoca 15: error = 0.506875\n",
      "Época 15\n",
      "Epoca 16: error = 0.506875\n",
      "Época 16\n",
      "Epoca 17: error = 0.506875\n",
      "Época 17\n",
      "Epoca 18: error = 0.506875\n",
      "Época 18\n",
      "Epoca 19: error = 0.506875\n",
      "Época 19\n",
      "Epoca 20: error = 0.506875\n",
      "Época 20\n",
      "Epoca 21: error = 0.506875\n",
      "Época 21\n",
      "Epoca 22: error = 0.506875\n",
      "Época 22\n",
      "Epoca 23: error = 0.506875\n",
      "Época 23\n",
      "Epoca 24: error = 0.506875\n",
      "Época 24\n",
      "Epoca 25: error = 0.506875\n",
      "Época 25\n",
      "Epoca 26: error = 0.506875\n",
      "Época 26\n",
      "Epoca 27: error = 0.506875\n",
      "Época 27\n",
      "Epoca 28: error = 0.506875\n",
      "Época 28\n",
      "Epoca 29: error = 0.506875\n",
      "Época 29\n",
      "Epoca 30: error = 0.506875\n",
      "Época 30\n",
      "Epoca 31: error = 0.506875\n",
      "Época 31\n",
      "Epoca 32: error = 0.506875\n",
      "Época 32\n",
      "Epoca 33: error = 0.506875\n",
      "Época 33\n",
      "Epoca 34: error = 0.506875\n",
      "Época 34\n",
      "Epoca 35: error = 0.506875\n",
      "Época 35\n",
      "Epoca 36: error = 0.506875\n",
      "Época 36\n",
      "Epoca 37: error = 0.506875\n",
      "Época 37\n",
      "Epoca 38: error = 0.506875\n",
      "Época 38\n",
      "Epoca 39: error = 0.506875\n",
      "Época 39\n",
      "Epoca 40: error = 0.506875\n",
      "Época 40\n",
      "Epoca 41: error = 0.506875\n",
      "Época 41\n",
      "Epoca 42: error = 0.506875\n",
      "Época 42\n",
      "Epoca 43: error = 0.506875\n",
      "Época 43\n",
      "Epoca 44: error = 0.506875\n",
      "Época 44\n",
      "Epoca 45: error = 0.506875\n",
      "Época 45\n",
      "Epoca 46: error = 0.506875\n",
      "Época 46\n",
      "Epoca 47: error = 0.506875\n",
      "Época 47\n",
      "Epoca 48: error = 0.506875\n",
      "Época 48\n",
      "Epoca 49: error = 0.506875\n",
      "Época 49\n",
      "Epoca 50: error = 0.506875\n",
      "Época 50\n",
      "Epoca 51: error = 0.506875\n",
      "Época 51\n",
      "Epoca 52: error = 0.506875\n",
      "Época 52\n",
      "Epoca 53: error = 0.506875\n",
      "Época 53\n",
      "Epoca 54: error = 0.506875\n",
      "Época 54\n",
      "Epoca 55: error = 0.506875\n",
      "Época 55\n",
      "Epoca 56: error = 0.506875\n",
      "Época 56\n",
      "Epoca 57: error = 0.506875\n",
      "Época 57\n",
      "Epoca 58: error = 0.506875\n",
      "Época 58\n",
      "Epoca 59: error = 0.506875\n",
      "Época 59\n",
      "Epoca 60: error = 0.506875\n",
      "Época 60\n",
      "Epoca 61: error = 0.506875\n",
      "Época 61\n",
      "Epoca 62: error = 0.506875\n",
      "Época 62\n",
      "Epoca 63: error = 0.506875\n",
      "Época 63\n",
      "Epoca 64: error = 0.506875\n",
      "Época 64\n",
      "Epoca 65: error = 0.506875\n",
      "Época 65\n",
      "Epoca 66: error = 0.506875\n",
      "Época 66\n",
      "Epoca 67: error = 0.506875\n",
      "Época 67\n",
      "Epoca 68: error = 0.506875\n",
      "Época 68\n",
      "Epoca 69: error = 0.506875\n",
      "Época 69\n",
      "Epoca 70: error = 0.506875\n",
      "Época 70\n",
      "Epoca 71: error = 0.506875\n",
      "Época 71\n",
      "Epoca 72: error = 0.506875\n",
      "Época 72\n",
      "Epoca 73: error = 0.506875\n",
      "Época 73\n",
      "Epoca 74: error = 0.506875\n",
      "Época 74\n",
      "Epoca 75: error = 0.506875\n",
      "Época 75\n",
      "Epoca 76: error = 0.506875\n",
      "Época 76\n",
      "Epoca 77: error = 0.506875\n",
      "Época 77\n",
      "Epoca 78: error = 0.506875\n",
      "Época 78\n",
      "Epoca 79: error = 0.506875\n",
      "Época 79\n",
      "Epoca 80: error = 0.506875\n",
      "Época 80\n",
      "Epoca 81: error = 0.506875\n",
      "Época 81\n",
      "Epoca 82: error = 0.506875\n",
      "Época 82\n",
      "Epoca 83: error = 0.506875\n",
      "Época 83\n",
      "Epoca 84: error = 0.506875\n",
      "Época 84\n",
      "Epoca 85: error = 0.506875\n",
      "Época 85\n",
      "Epoca 86: error = 0.506875\n",
      "Época 86\n",
      "Epoca 87: error = 0.506875\n",
      "Época 87\n",
      "Epoca 88: error = 0.506875\n",
      "Época 88\n",
      "Epoca 89: error = 0.506875\n",
      "Época 89\n",
      "Epoca 90: error = 0.506875\n",
      "Época 90\n",
      "Epoca 91: error = 0.506875\n",
      "Época 91\n",
      "Epoca 92: error = 0.506875\n",
      "Época 92\n",
      "Epoca 93: error = 0.506875\n",
      "Época 93\n",
      "Epoca 94: error = 0.506875\n",
      "Época 94\n",
      "Epoca 95: error = 0.506875\n",
      "Época 95\n",
      "Epoca 96: error = 0.506875\n",
      "Época 96\n",
      "Epoca 97: error = 0.506875\n",
      "Época 97\n",
      "Epoca 98: error = 0.506875\n",
      "Época 98\n",
      "Epoca 99: error = 0.506875\n",
      "Época 99\n",
      "Epoca 100: error = 0.506875\n",
      "Época 100\n",
      "Epoca 101: error = 0.506875\n",
      "Época 101\n",
      "Epoca 102: error = 0.506875\n",
      "Época 102\n",
      "Epoca 103: error = 0.506875\n",
      "Época 103\n",
      "Epoca 104: error = 0.506875\n",
      "Época 104\n",
      "Epoca 105: error = 0.506875\n",
      "Época 105\n",
      "Epoca 106: error = 0.506875\n",
      "Época 106\n",
      "Epoca 107: error = 0.506875\n",
      "Época 107\n",
      "Epoca 108: error = 0.506875\n",
      "Época 108\n",
      "Epoca 109: error = 0.506875\n",
      "Época 109\n",
      "Epoca 110: error = 0.506875\n",
      "Época 110\n",
      "Epoca 111: error = 0.506875\n",
      "Época 111\n",
      "Epoca 112: error = 0.506875\n",
      "Época 112\n",
      "Epoca 113: error = 0.506875\n",
      "Época 113\n",
      "Epoca 114: error = 0.506875\n",
      "Época 114\n",
      "Epoca 115: error = 0.506875\n",
      "Época 115\n",
      "Epoca 116: error = 0.506875\n",
      "Época 116\n",
      "Epoca 117: error = 0.506875\n",
      "Época 117\n",
      "Epoca 118: error = 0.506875\n",
      "Época 118\n",
      "Epoca 119: error = 0.506875\n",
      "Época 119\n",
      "Epoca 120: error = 0.506875\n",
      "Época 120\n",
      "Epoca 121: error = 0.506875\n",
      "Época 121\n",
      "Epoca 122: error = 0.506875\n",
      "Época 122\n",
      "Epoca 123: error = 0.506875\n",
      "Época 123\n",
      "Epoca 124: error = 0.506875\n",
      "Época 124\n",
      "Epoca 125: error = 0.506875\n",
      "Época 125\n",
      "Epoca 126: error = 0.506875\n",
      "Época 126\n",
      "Epoca 127: error = 0.506875\n",
      "Época 127\n",
      "Epoca 128: error = 0.506875\n",
      "Época 128\n",
      "Epoca 129: error = 0.506875\n",
      "Época 129\n",
      "Epoca 130: error = 0.506875\n",
      "Época 130\n",
      "Epoca 131: error = 0.506875\n",
      "Época 131\n",
      "Epoca 132: error = 0.506875\n",
      "Época 132\n",
      "Epoca 133: error = 0.506875\n",
      "Época 133\n",
      "Epoca 134: error = 0.506875\n",
      "Época 134\n",
      "Epoca 135: error = 0.506875\n",
      "Época 135\n",
      "Epoca 136: error = 0.506875\n",
      "Época 136\n",
      "Epoca 137: error = 0.506875\n",
      "Época 137\n",
      "Epoca 138: error = 0.506875\n",
      "Época 138\n",
      "Epoca 139: error = 0.506875\n",
      "Época 139\n",
      "Epoca 140: error = 0.506875\n",
      "Época 140\n",
      "Epoca 141: error = 0.506875\n",
      "Época 141\n",
      "Epoca 142: error = 0.506875\n",
      "Época 142\n"
     ]
    },
    {
     "ename": "KeyboardInterrupt",
     "evalue": "",
     "output_type": "error",
     "traceback": [
      "\u001b[1;31m---------------------------------------------------------------------------\u001b[0m",
      "\u001b[1;31mKeyboardInterrupt\u001b[0m                         Traceback (most recent call last)",
      "\u001b[1;32mc:\\Users\\jimen\\Documents\\FICH\\2022\\Inteligencia Computacional\\repo_IC\\IC_2022\\practica1\\clase1.ipynb Celda 45\u001b[0m in \u001b[0;36m<cell line: 15>\u001b[1;34m()\u001b[0m\n\u001b[0;32m     <a href='vscode-notebook-cell:/c%3A/Users/jimen/Documents/FICH/2022/Inteligencia%20Computacional/repo_IC/IC_2022/practica1/clase1.ipynb#X62sZmlsZQ%3D%3D?line=14'>15</a>\u001b[0m \u001b[39mfor\u001b[39;00m n_epoch \u001b[39min\u001b[39;00m \u001b[39mrange\u001b[39m(cant_epocas):\n\u001b[0;32m     <a href='vscode-notebook-cell:/c%3A/Users/jimen/Documents/FICH/2022/Inteligencia%20Computacional/repo_IC/IC_2022/practica1/clase1.ipynb#X62sZmlsZQ%3D%3D?line=15'>16</a>\u001b[0m     \u001b[39mfor\u001b[39;00m i, pattern \u001b[39min\u001b[39;00m \u001b[39menumerate\u001b[39m(X):\n\u001b[1;32m---> <a href='vscode-notebook-cell:/c%3A/Users/jimen/Documents/FICH/2022/Inteligencia%20Computacional/repo_IC/IC_2022/practica1/clase1.ipynb#X62sZmlsZQ%3D%3D?line=16'>17</a>\u001b[0m         y \u001b[39m=\u001b[39m perceptron_multilayer_forward(network, pattern)\n\u001b[0;32m     <a href='vscode-notebook-cell:/c%3A/Users/jimen/Documents/FICH/2022/Inteligencia%20Computacional/repo_IC/IC_2022/practica1/clase1.ipynb#X62sZmlsZQ%3D%3D?line=17'>18</a>\u001b[0m         grad \u001b[39m=\u001b[39m perceptron_multilayer_backward(network, y, Y_d[i])\n\u001b[0;32m     <a href='vscode-notebook-cell:/c%3A/Users/jimen/Documents/FICH/2022/Inteligencia%20Computacional/repo_IC/IC_2022/practica1/clase1.ipynb#X62sZmlsZQ%3D%3D?line=18'>19</a>\u001b[0m         network \u001b[39m=\u001b[39m perceptron_multilayer_update(network, y, grad, gamma_aprend)\n",
      "\u001b[1;32mc:\\Users\\jimen\\Documents\\FICH\\2022\\Inteligencia Computacional\\repo_IC\\IC_2022\\practica1\\clase1.ipynb Celda 45\u001b[0m in \u001b[0;36mperceptron_multilayer_forward\u001b[1;34m(network, x)\u001b[0m\n\u001b[0;32m      <a href='vscode-notebook-cell:/c%3A/Users/jimen/Documents/FICH/2022/Inteligencia%20Computacional/repo_IC/IC_2022/practica1/clase1.ipynb#X62sZmlsZQ%3D%3D?line=2'>3</a>\u001b[0m y\u001b[39m=\u001b[39m[x]\n\u001b[0;32m      <a href='vscode-notebook-cell:/c%3A/Users/jimen/Documents/FICH/2022/Inteligencia%20Computacional/repo_IC/IC_2022/practica1/clase1.ipynb#X62sZmlsZQ%3D%3D?line=3'>4</a>\u001b[0m \u001b[39mfor\u001b[39;00m i \u001b[39min\u001b[39;00m \u001b[39mrange\u001b[39m(\u001b[39mlen\u001b[39m(network)):\n\u001b[0;32m      <a href='vscode-notebook-cell:/c%3A/Users/jimen/Documents/FICH/2022/Inteligencia%20Computacional/repo_IC/IC_2022/practica1/clase1.ipynb#X62sZmlsZQ%3D%3D?line=4'>5</a>\u001b[0m     y\u001b[39m.\u001b[39mappend( \\\n\u001b[0;32m      <a href='vscode-notebook-cell:/c%3A/Users/jimen/Documents/FICH/2022/Inteligencia%20Computacional/repo_IC/IC_2022/practica1/clase1.ipynb#X62sZmlsZQ%3D%3D?line=5'>6</a>\u001b[0m             network[i]\u001b[39m.\u001b[39mcalculate_y( \\\n\u001b[1;32m----> <a href='vscode-notebook-cell:/c%3A/Users/jimen/Documents/FICH/2022/Inteligencia%20Computacional/repo_IC/IC_2022/practica1/clase1.ipynb#X62sZmlsZQ%3D%3D?line=6'>7</a>\u001b[0m                 np\u001b[39m.\u001b[39;49mhstack((\u001b[39m-\u001b[39;49m\u001b[39m1\u001b[39;49m, y[i]))\\\n\u001b[0;32m      <a href='vscode-notebook-cell:/c%3A/Users/jimen/Documents/FICH/2022/Inteligencia%20Computacional/repo_IC/IC_2022/practica1/clase1.ipynb#X62sZmlsZQ%3D%3D?line=7'>8</a>\u001b[0m                     )\\\n\u001b[0;32m      <a href='vscode-notebook-cell:/c%3A/Users/jimen/Documents/FICH/2022/Inteligencia%20Computacional/repo_IC/IC_2022/practica1/clase1.ipynb#X62sZmlsZQ%3D%3D?line=8'>9</a>\u001b[0m     )\n\u001b[0;32m     <a href='vscode-notebook-cell:/c%3A/Users/jimen/Documents/FICH/2022/Inteligencia%20Computacional/repo_IC/IC_2022/practica1/clase1.ipynb#X62sZmlsZQ%3D%3D?line=9'>10</a>\u001b[0m \u001b[39mreturn\u001b[39;00m y\n",
      "File \u001b[1;32m<__array_function__ internals>:180\u001b[0m, in \u001b[0;36mhstack\u001b[1;34m(*args, **kwargs)\u001b[0m\n",
      "File \u001b[1;32mc:\\Users\\jimen\\AppData\\Local\\Programs\\Python\\Python310\\lib\\site-packages\\numpy\\core\\shape_base.py:343\u001b[0m, in \u001b[0;36mhstack\u001b[1;34m(tup)\u001b[0m\n\u001b[0;32m    341\u001b[0m \u001b[39m# As a special case, dimension 0 of 1-dimensional arrays is \"horizontal\"\u001b[39;00m\n\u001b[0;32m    342\u001b[0m \u001b[39mif\u001b[39;00m arrs \u001b[39mand\u001b[39;00m arrs[\u001b[39m0\u001b[39m]\u001b[39m.\u001b[39mndim \u001b[39m==\u001b[39m \u001b[39m1\u001b[39m:\n\u001b[1;32m--> 343\u001b[0m     \u001b[39mreturn\u001b[39;00m _nx\u001b[39m.\u001b[39;49mconcatenate(arrs, \u001b[39m0\u001b[39;49m)\n\u001b[0;32m    344\u001b[0m \u001b[39melse\u001b[39;00m:\n\u001b[0;32m    345\u001b[0m     \u001b[39mreturn\u001b[39;00m _nx\u001b[39m.\u001b[39mconcatenate(arrs, \u001b[39m1\u001b[39m)\n",
      "File \u001b[1;32m<__array_function__ internals>:180\u001b[0m, in \u001b[0;36mconcatenate\u001b[1;34m(*args, **kwargs)\u001b[0m\n",
      "\u001b[1;31mKeyboardInterrupt\u001b[0m: "
     ]
    }
   ],
   "source": [
    "ds, M_tst, M_trn  =  generar_particiones('icgtp1datos\\XOR_trn.csv', 1, 0.2)\n",
    "X = ds[M_trn[0,:], :-1]\n",
    "# print(X)\n",
    "Y_d = ds[M_trn[0,:], -1]\n",
    "# print(Y_d)\n",
    "network = []\n",
    "# X = np.hstack((-1, np.ones((X.shape[0],1)), X))\n",
    "n_per_layer = np.array([2, 1])\n",
    "network = perceptron_multilayer_init(n_per_layer, X.shape[1])\n",
    "cant_epocas = 500\n",
    "nu_error = 0.5\n",
    "error_epocas = []\n",
    "gamma_aprend = 0.01\n",
    "\n",
    "for n_epoch in range(cant_epocas):\n",
    "    for i, pattern in enumerate(X):\n",
    "        y = perceptron_multilayer_forward(network, pattern)\n",
    "        grad = perceptron_multilayer_backward(network, y, Y_d[i])\n",
    "        network = perceptron_multilayer_update(network, y, grad, gamma_aprend)\n",
    "    \n",
    "    # Validación [con todos los patrones]\n",
    "    errores = 0\n",
    "    for n, patron in enumerate(X):\n",
    "        # producto punto\n",
    "        y_test = perceptron_multilayer_forward(network, patron)\n",
    "        # estamos suponiendo una sola salida\n",
    "        y = -1 if (y_test[-1] < 0) else 1\n",
    "        # print('y',y,'yDeseada',Y_d[n])\n",
    "        errores += int(y != Y_d[n])\n",
    "        # print('errores', errores)\n",
    "    error = (errores/X.shape[0])\n",
    "        # error = np.sum(((y[-1]-Y_d[i])**2))        \n",
    "    error_epocas= np.append(error_epocas, [error])\n",
    "    print(f'Epoca {n_epoch}: error = {error}')\n",
    "    if (error < nu_error):\n",
    "        print(f'Época {n_epoch}')\n",
    "        break\n",
    "    print(f'Época {n_epoch}')\n",
    "\n"
   ]
  },
  {
   "cell_type": "markdown",
   "metadata": {},
   "source": [
    "## Test"
   ]
  },
  {
   "cell_type": "code",
   "execution_count": 32,
   "metadata": {},
   "outputs": [
    {
     "name": "stdout",
     "output_type": "stream",
     "text": [
      "0.49\n"
     ]
    }
   ],
   "source": [
    "X_test = ds[M_tst[0,:], :-1]\n",
    "Y_d_test = ds[M_tst[0,:], -1]\n",
    "errores = 0\n",
    "\n",
    "for i, pattern in enumerate(X_test):\n",
    "    y_test = perceptron_multilayer_forward(network, pattern)\n",
    "    # estamos suponiendo una sola salida\n",
    "    y = -1 if (y_test[-1] < 0) else 1\n",
    "    errores += int(y != Y_d_test[i])\n",
    "\n",
    "print(errores / X_test.shape[0])\n",
    "\n"
   ]
  },
  {
   "cell_type": "markdown",
   "metadata": {},
   "source": [
    "## Plot: hay que corregir, solo copie y pegue"
   ]
  },
  {
   "cell_type": "code",
   "execution_count": 33,
   "metadata": {},
   "outputs": [
    {
     "ename": "NameError",
     "evalue": "name 'fc1' is not defined",
     "output_type": "error",
     "traceback": [
      "\u001b[1;31m---------------------------------------------------------------------------\u001b[0m",
      "\u001b[1;31mNameError\u001b[0m                                 Traceback (most recent call last)",
      "\u001b[1;32mc:\\Users\\jimen\\Documents\\FICH\\2022\\Inteligencia Computacional\\repo_IC\\IC_2022\\practica1\\clase1.ipynb Celda 48\u001b[0m in \u001b[0;36m<cell line: 15>\u001b[1;34m()\u001b[0m\n\u001b[0;32m     <a href='vscode-notebook-cell:/c%3A/Users/jimen/Documents/FICH/2022/Inteligencia%20Computacional/repo_IC/IC_2022/practica1/clase1.ipynb#X65sZmlsZQ%3D%3D?line=12'>13</a>\u001b[0m \u001b[39m# Recta\u001b[39;00m\n\u001b[0;32m     <a href='vscode-notebook-cell:/c%3A/Users/jimen/Documents/FICH/2022/Inteligencia%20Computacional/repo_IC/IC_2022/practica1/clase1.ipynb#X65sZmlsZQ%3D%3D?line=13'>14</a>\u001b[0m xx \u001b[39m=\u001b[39m np\u001b[39m.\u001b[39marange(\u001b[39m-\u001b[39m\u001b[39m3\u001b[39m, \u001b[39m3\u001b[39m, \u001b[39m0.01\u001b[39m)\n\u001b[1;32m---> <a href='vscode-notebook-cell:/c%3A/Users/jimen/Documents/FICH/2022/Inteligencia%20Computacional/repo_IC/IC_2022/practica1/clase1.ipynb#X65sZmlsZQ%3D%3D?line=14'>15</a>\u001b[0m a1 \u001b[39m=\u001b[39m fc1\u001b[39m.\u001b[39mW[\u001b[39m0\u001b[39m,\u001b[39m0\u001b[39m] \u001b[39m/\u001b[39m fc1\u001b[39m.\u001b[39mW[\u001b[39m0\u001b[39m,\u001b[39m2\u001b[39m]\n\u001b[0;32m     <a href='vscode-notebook-cell:/c%3A/Users/jimen/Documents/FICH/2022/Inteligencia%20Computacional/repo_IC/IC_2022/practica1/clase1.ipynb#X65sZmlsZQ%3D%3D?line=15'>16</a>\u001b[0m b1 \u001b[39m=\u001b[39m fc1\u001b[39m.\u001b[39mW[\u001b[39m0\u001b[39m,\u001b[39m1\u001b[39m] \u001b[39m/\u001b[39m fc1\u001b[39m.\u001b[39mW[\u001b[39m0\u001b[39m,\u001b[39m2\u001b[39m]\n\u001b[0;32m     <a href='vscode-notebook-cell:/c%3A/Users/jimen/Documents/FICH/2022/Inteligencia%20Computacional/repo_IC/IC_2022/practica1/clase1.ipynb#X65sZmlsZQ%3D%3D?line=16'>17</a>\u001b[0m fig1_ax\u001b[39m.\u001b[39mplot(xx, a1 \u001b[39m-\u001b[39m b1 \u001b[39m*\u001b[39m xx, c\u001b[39m=\u001b[39m\u001b[39m'\u001b[39m\u001b[39mC3\u001b[39m\u001b[39m'\u001b[39m, linewidth\u001b[39m=\u001b[39m\u001b[39m2\u001b[39m)\n",
      "\u001b[1;31mNameError\u001b[0m: name 'fc1' is not defined"
     ]
    },
    {
     "data": {
      "image/png": "[encoded data removed]",
      "text/plain": [
       "<Figure size 360x288 with 1 Axes>"
      ]
     },
     "metadata": {
      "needs_background": "light"
     },
     "output_type": "display_data"
    }
   ],
   "source": [
    "fig1 = plt.figure(figsize=(5, 4), tight_layout=True)\n",
    "fig1.suptitle('Recta $w_1 x_1 + w_2 x_2 - w_0 = 0$',  fontsize=11)\n",
    "fig1_ax = fig1.add_subplot(autoscale_on=False, xlim=(-1.5, 1.5), ylim=(-1.5, 1.5))\n",
    "fig1_ax.set_aspect('equal')\n",
    "fig1_ax.grid()\n",
    "\n",
    "# Patrones\n",
    "x_x = X_test[:,0]\n",
    "x_y = X_test[:,1]\n",
    "x_color = np.where(x_x > 0, np.where(x_y > 0, 'C0', 'C1'), np.where(x_y < 0, 'C0', 'C1'))\n",
    "fig1_ax.scatter(x_x, x_y, c=x_color, s=5, marker='.')\n",
    "\n",
    "# Recta\n",
    "xx = np.arange(-3, 3, 0.01)\n",
    "a1 = fc1.W[0,0] / fc1.W[0,2]\n",
    "b1 = fc1.W[0,1] / fc1.W[0,2]\n",
    "fig1_ax.plot(xx, a1 - b1 * xx, c='C3', linewidth=2)\n",
    "\n",
    "a2 = fc1.W[1,0] / fc1.W[1,2]\n",
    "b2 = fc1.W[1,1] / fc1.W[1,2]\n",
    "fig1_ax.plot(xx, a2 - b2 * xx, c='C3', linewidth=2)\n",
    "\n",
    "fig1.show()"
   ]
  }
 ],
 "metadata": {
  "kernelspec": {
   "display_name": "Python 3.10.6 64-bit",
   "language": "python",
   "name": "python3"
  },
  "language_info": {
   "codemirror_mode": {
    "name": "ipython",
    "version": 3
   },
   "file_extension": ".py",
   "mimetype": "text/x-python",
   "name": "python",
   "nbconvert_exporter": "python",
   "pygments_lexer": "ipython3",
   "version": "3.10.6"
  },
  "orig_nbformat": 4,
  "vscode": {
   "interpreter": {
    "hash": "07ff7e21ea611955a5ea046bb85e7833bbeb87a9446667deecdccb9fe0872cdd"
   }
  }
 },
 "nbformat": 4,
 "nbformat_minor": 2
}

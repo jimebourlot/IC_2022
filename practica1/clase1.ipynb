{
 "cells": [
  {
   "cell_type": "markdown",
   "metadata": {},
   "source": [
    "# Ejercicio 1\n",
    "Realice un programa que permita el entrenamiento y prueba de un perceptrón simple con una cantidad variable de\n",
    "entradas. El programa debe proveer las siguientes facilidades:\n",
    " 1. lectura de los patrones de entrenamiento (entradas y salidas) desde un archivo en formato texto separado por comas\n",
    " 2. selección del criterio de finalización del entrenamiento,\n",
    " 3. selección del número máximo de épocas de entrenamiento,\n",
    " 4. selección de la tasa de aprendizaje,\n",
    " 5. prueba del perceptrón entrenado mediante archivos de texto con el mismo formato separado por comas.\n",
    "\n",
    "Realizar la prueba: Recuerde que para que la prueba tenga validez se deben utilizar patrones nunca presentados en el entrenamiento, para esto se dispone de dos archivos diferentes para cada problema.\n",
    "\n",
    "Implemente una rutina de graficación que permita visualizar, para el caso de dos entradas, los patrones utilizados y\n",
    "la recta de separación que se va ajustando durante el entrenamiento del perceptrón simple. Utilice dicha rutina para\n",
    "visualizar el entrenamiento en los problemas OR y XOR."
   ]
  },
  {
   "cell_type": "code",
   "execution_count": 28,
   "metadata": {},
   "outputs": [],
   "source": [
    "import numpy as np\n",
    "import matplotlib.pyplot as plt"
   ]
  },
  {
   "cell_type": "markdown",
   "metadata": {},
   "source": [
    "## Train"
   ]
  },
  {
   "cell_type": "code",
   "execution_count": 29,
   "metadata": {},
   "outputs": [],
   "source": [
    "def perceptron_simple_train(ds_train,N,nu,gamma,N_valid):\n",
    "    # ds_test=np.concatenate([-np.ones(ds_test.shape[0]), ds_test])\n",
    "    # ds_train=np.concatenate([-np.ones(ds_train.shape[0]), ds_train])\n",
    "\n",
    "    # inicializacion de pesos al azar\n",
    "    w = np.random.rand(ds_train.shape[1]) - 0.5\n",
    "\n",
    "    error_epocas = np.zeros(N)\n",
    "    w_epocas = w\n",
    "\n",
    "    # épocas\n",
    "    for i in range(N):\n",
    "        for patron in ds_train:\n",
    "            a = patron\n",
    "            patron = np.concatenate([[-1], patron])\n",
    "            # Convolución\n",
    "            n_entradas = len(patron) - 1\n",
    "            y = np.dot(patron[0:n_entradas],w)\n",
    "            # No linealidad\n",
    "            if (y > 0):\n",
    "                y = 1\n",
    "            else:\n",
    "                y = -1\n",
    "            # Actualización de pesos\n",
    "            w = w + patron[0:n_entradas] * gamma * (patron[-1] - y)\n",
    "\n",
    "        # Validación\n",
    "        errores = 0\n",
    "        for j in ds_train[np.random.randint(0, ds_train.shape[0], size=N_valid)]:\n",
    "            j = np.concatenate([[-1], j])\n",
    "            # Convolución\n",
    "            y = np.dot(j[0:len(j)-1],w)\n",
    "            \n",
    "            # No linealidad\n",
    "            if (y > 0 and 1 != j[len(j)-1]):\n",
    "                errores += 1\n",
    "            elif (y <= 0 and -1 != j[len(j)-1]):\n",
    "                errores += 1\n",
    "        error = (errores/200)\n",
    "\n",
    "        error_epocas[i] = error\n",
    "        w_epocas = np.vstack((w_epocas, w))\n",
    "        \n",
    "        # print(f'Epoca {i}: error = {error}, w = {w}')\n",
    "        if (error < nu):\n",
    "            return w_epocas, error_epocas\n",
    "    return w_epocas, error_epocas"
   ]
  },
  {
   "cell_type": "markdown",
   "metadata": {},
   "source": [
    "## Test"
   ]
  },
  {
   "cell_type": "code",
   "execution_count": 30,
   "metadata": {},
   "outputs": [],
   "source": [
    "def perceptron_test(ds_test,w):\n",
    "    errores = 0\n",
    "    for j in ds_test:\n",
    "        j = np.concatenate([[-1], j])\n",
    "        # Convolución\n",
    "        y = np.dot(j[0:len(j)-1],w)\n",
    "        # No linealidad\n",
    "        if (y > 0 and 1 != j[len(j)-1]):\n",
    "            errores += 1\n",
    "        elif (y <= 0 and -1 != j[len(j)-1]):\n",
    "            errores += 1\n",
    "    return (errores/ds_test.shape[0])\n"
   ]
  },
  {
   "cell_type": "code",
   "execution_count": null,
   "metadata": {},
   "outputs": [],
   "source": []
  },
  {
   "cell_type": "code",
   "execution_count": null,
   "metadata": {},
   "outputs": [],
   "source": []
  },
  {
   "cell_type": "code",
   "execution_count": null,
   "metadata": {},
   "outputs": [],
   "source": []
  },
  {
   "cell_type": "markdown",
   "metadata": {},
   "source": [
    "## Graficación\n",
    "\n",
    "Implemente una rutina de graficación que permita visualizar, para el caso de dos entradas, los patrones utilizados y\n",
    "la recta de separación que se va ajustando durante el entrenamiento del perceptrón simple. Utilice dicha rutina para\n",
    "visualizar el entrenamiento en los problemas OR y XOR."
   ]
  },
  {
   "cell_type": "code",
   "execution_count": 31,
   "metadata": {},
   "outputs": [],
   "source": [
    "import time\n",
    "import matplotlib.animation as animation\n",
    "%matplotlib widget"
   ]
  },
  {
   "cell_type": "code",
   "execution_count": 32,
   "metadata": {},
   "outputs": [],
   "source": [
    "def graficar(x, y, x_color, w_vec, error_vec):\n",
    "    N_epocas = w_vec.shape[0]\n",
    "    x_recta = np.arange(-3, 3, 0.01)\n",
    "    pendiente = -w_vec[0,1]/w_vec[0,2]\n",
    "    ordenada = w_vec[0,0]/w_vec[0,2]\n",
    "    recta =  ordenada + pendiente * x_recta\n",
    "    fig, ax = plt.subplots(figsize=(4,3))\n",
    "    line1, = ax.plot(x_recta, recta)\n",
    "    ax.grid()\n",
    "    ax.scatter(x, y, c = x_color)\n",
    "    ax.set_xlim([-1.1, 1.1])\n",
    "    ax.set_ylim([-1.1, 1.1])\n",
    "\n",
    "    def animate(i):\n",
    "        pendiente = -w_vec[i,1]/w_vec[i,2]\n",
    "        ordenada = w_vec[i,0]/w_vec[i,2]\n",
    "        recta =  ordenada + pendiente * x_recta\n",
    "        line1.set_ydata(recta)\n",
    "        plt.title(f'recta = {np.round(pendiente, 4)}x + {np.round(ordenada,4)}, error: {error}')\n",
    "        return line1,\n",
    "    \n",
    "    anim = animation.FuncAnimation(fig, animate, frames=N_epocas, interval=20, repeat=False)\n",
    "    plt.show()\n",
    "\n"
   ]
  },
  {
   "cell_type": "markdown",
   "metadata": {},
   "source": [
    "## Prueba\n",
    "### Problema OR"
   ]
  },
  {
   "cell_type": "code",
   "execution_count": 89,
   "metadata": {},
   "outputs": [
    {
     "name": "stdout",
     "output_type": "stream",
     "text": [
      "Error de test: 0.0\n"
     ]
    }
   ],
   "source": [
    "# lectura de patrones\n",
    "\n",
    "ds_train = np.genfromtxt('icgtp1datos/OR_trn.csv', delimiter=',')\n",
    "ds_train_size = ds_train.shape[0]\n",
    "\n",
    "ds_test = np.genfromtxt('icgtp1datos/OR_tst.csv', delimiter=',')\n",
    "ds_test_size = ds_test.shape[0]\n",
    "\n",
    "# Entrenamiento\n",
    "N = 25 # Epocas\n",
    "gamma = 0.0001 # Tasa de aprendizaje\n",
    "nu = 0.005 # Umbral de error\n",
    "N_valid = 200\n",
    "historial_w, errores_evol = perceptron_simple_train(ds_train,N,nu,gamma,N_valid)\n",
    "\n",
    "# Test\n",
    "w = historial_w[-1]\n",
    "error = perceptron_test(ds_test,w)\n",
    "print(f'Error de test: {error}')"
   ]
  },
  {
   "cell_type": "code",
   "execution_count": 90,
   "metadata": {},
   "outputs": [
    {
     "data": {
      "application/vnd.jupyter.widget-view+json": {
       "model_id": "03302ad4c91546da83e6733e0fe94a16",
       "version_major": 2,
       "version_minor": 0
      },
      "image/png": "[encoded data removed]",
      "text/html": [
       "\n",
       "            <div style=\"display: inline-block;\">\n",
       "                <div class=\"jupyter-widgets widget-label\" style=\"text-align: center;\">\n",
       "                    Figure\n",
       "                </div>\n",
       "                <img src='data:image/png;base64,iVBORw0KGgoAAAANSUhEUgAAAZAAAAEsCAYAAADtt+XCAAAAOXRFWHRTb2Z0d2FyZQBNYXRwbG90bGliIHZlcnNpb24zLjUuMiwgaHR0cHM6Ly9tYXRwbG90bGliLm9yZy8qNh9FAAAACXBIWXMAAA9hAAAPYQGoP6dpAAAlQklEQVR4nO3dfVSUdf438PcMDIOoI5nISJLPiRUC6k/CX6t2y4PheqS7rMw7zZ8P6571bIRbaaf0RrdDmalra7d5721uuz36W7N2c9WJct2SMBFWxIdNJbV08CkdEB0uZr73HyMDA9fA8OUaYIb36xwOzMX3e813Po7f9/U0FzohhAAREVEr6Tt6AEREFJgYIEREJIUBQkREUhggREQkhQFCRERSGCBERCSFAUJERFIYIEREJIUBQkREUhggREQkhQFCRERSGCBERCSFAUJERFIYIEREJIUBQkREUhggREQkhQFCRERSGCBERCSFAUJERFIYIEREJIUBQkREUhggREQkhQFCRERSGCBERCSFAUJERFIYIEREJIUBQkREUhggREQkhQFCRERSGCBERCSFAUJERFIYIEREJIUBQkREUhggREQkJbSjB6AFp9OJc+fOoWfPntDpdB09HCKiNhNCoLKyEjExMdDrO+e2flAEyLlz5xAbG9vRwyAi0tzZs2fRv3//jh6GqqAIkJ49ewJwFdpkMrXc4fy/gMJNUE7uxe64V5D+w1oYkh4F/mM+wD0YAICiKNi9ezfS09NhMBg6ejidBuuijnXx4qfTUPauxe7QNKSX/hoGUQMMGg/87DfAHUnNdrXZbIiNjXXPb51RUARI3WErk8nUcoAc3gb8ZS4gnFBCwhEREQHTjdMwfLUS2PcKMGgCcN9CYMgkoJPuNrYHRVFctTGZOCE0wLqoY10AOB3A2f3AjStA5J1AaDfgg6lQamoQMXIaTOF6GJwAzn8NbC0A/tdfgMETWlxtZz4sHxQB0qxLJ4BTe4DTXwPWUuDyd97bOhXg5Oeur9uHAo9/AEQNa7ehElGAOrQV+HwZYDtXv0wfCjhrAX24Z1vhACCA7QuB7MOAPqRdh6ql4A2Q84eAbfOAi8fl+l8+AWwYA9zzMDB1LRDeS9vxEVFwOPA28Lfspsudtd77CKcrbP7+PPDAC0BEb78Nz5+C8xhNRRnwh0ny4dFQ2V+Ad7KAWnvb10VEweX439XDw1ff/l9g9TBg5wuAo5nA6aQ0D5C9e/di6tSpiImJgU6nw/bt21vss2fPHowaNQpGoxFDhw7Fli1b2jaInUsAR03b1tHQuYNA2Xbt1kdEge/Hg8D7T7R9Pc5a4Js3gc9y2r6udqZ5gFy/fh0JCQnYsGGDT+3Ly8sxZcoUPPDAAygpKUF2djbmzZuHXbt2yQ3Adg4o3yvXtznF72i/TiIKXPkrADg1WpkADv7Rdc42gGh+DuTBBx/Egw8+6HP7jRs3YtCgQXj99dcBACNGjMBXX32FtWvXIiMjo/UDsJ1vfR9fXPneP+slosCj3ABOfantOnUhQOlHrnMiAaLDz4EUFBQgNTXVY1lGRgYKCgrkVtj9dg1GpaL2pn/WS0SBp6Za+3Xq9MD1i9qv1486/Cosq9WK6Ohoj2XR0dGw2Wy4ceMGunXr1qSP3W6H3V5/UttmswFwXYuumO4Abh8B/FTe4nMrty6vUxpfZqfGfhNQlJbbBQnl1mtVutBr9gXroq7L1SW0O6DvBkC02NTneUanB3rGuueZQKhlhweIjLy8POTm5jZZvnv3bkRERAB3LgXu9H19lvj1vjXcscP3lQYJi8XS0UPolFgXdV2qLglvtaq5T/PMVbjnmepqP+zlaKzDA8RsNqOiosJjWUVFBUwmk+reBwAsXboUOTn1VyzUfeQ/PT3d9Un0s4XAnx9u8bkVfTgs8euRVvprGJw+HKKauRW4M6XldkFAURRYLBakpaV13U8Wq2Bd1HXJuhz+b+Cv2S0283me0emB35wAQsMA1B9Z6cw6PEBSUlKwo9GWvcViQUqK94naaDTCaDQ2WW4wGFxv3j5DAKcdvuxeAoDBedO3AOkZBXSV/xy3uGtKHlgXdV2qLomPA9/tBI5s96m5T/OM8wZg6O5qHwB11PwkelVVFUpKSlBSUgLAdZluSUkJzpw5A8C19zBr1ix3+4ULF+LUqVN47rnncOzYMbz55pv46KOP8Mwzz8gPwtQPuCvDdVWDVqJGAFFx2q2PiAKbTgc88rbrtkdaCDUCRh9uBtuJaB4gBw4cQFJSEpKSXHeazMnJQVJSEpYtWwYAOH/+vDtMAGDQoEH47LPPYLFYkJCQgNdffx1/+MMf5C7hbWjyK67bj2gSIjogLZd36iUiT3o98NAmAG2cG/QhwMjH3YevAoXmh7AmTpwIIbwfOlL7lPnEiRNRXFys7UB6DwIW7HF92OfIx647Zcrodhvw87WuPRoiosb6j3btiWyb1/z9r7zRhbj2PMb/Rvux+VmHnwPxq9sGAI/8P+DmGqDSClRfAf6903XL5esXgZvXPduH9wISnwD63gvYr7luyTwsI+C2Coiond37EDAsDdi/CSjaAlw97XvfO+8Dpq53zTcBJrgDpE54r/q76Q5ocHJeUVyXzM3fA4TqgdsGMSyISI6xB/CzHOD+Z1z34yvc2Hz7UU8B4xYBfQL3T0Z0jQBpSZ+hXe7qKiLyE50OePBVYMx/AcV/An4sdS0PjwRCDUD8I67blQTBxioDhIjIH6KGA+m/rT/S8czhoNtQ7fB7YRERUWBigBARkRQGCBERSWGAEBGRFAYIERFJYYAQEZEUBggREUlhgBARkRQGCBERSWGAEBGRFAYIERFJYYAQEZEUBggREUlhgBARkRQGCBERSWGAEBGRFAYIERFJYYAQEZEUBggREUlhgBARkRQGCBERSWGAEBGRFAYIERFJYYAQEZEUBggREUlhgBARkRQGCBERSWGAEBGRFAYIERFJYYAQEZEUBggREUlhgBARkRQGCBERSWGAEBGRFAYIERFJYYAQEZEUBggREUnxS4Bs2LABAwcORHh4OJKTk7F//36vbbds2QKdTufxFR4e7o9hERGRhjQPkA8//BA5OTlYvnw5Dh48iISEBGRkZODChQte+5hMJpw/f979dfr0aa2HRUREGtM8QNasWYP58+djzpw5uPvuu7Fx40ZERERg8+bNXvvodDqYzWb3V3R0tNbDIiIijWkaIDU1NSgqKkJqamr9E+j1SE1NRUFBgdd+VVVVGDBgAGJjYzFt2jSUlZVpOSwiIvKDUC1XdunSJTgcjiZ7ENHR0Th27Jhqn+HDh2Pz5s0YOXIkrl27htWrV2PcuHEoKytD//79VfvY7XbY7Xb3Y5vNBgBQFAWKovg83rq2renTVbA26lgXdayLd7K1CYRaahogMlJSUpCSkuJ+PG7cOIwYMQJvvfUWVq5cqdonLy8Pubm5TZbv3r0bERERrR6DxWJpdZ+ugrVRx7qoY128a21tqqur/TQS7WgaIH369EFISAgqKio8lldUVMBsNvu0DoPBgKSkJJw4ccJrm6VLlyInJ8f92GazITY2Funp6TCZTD6PV1EUWCwWpKWlwWAw+NyvK2Bt1LEu6lgX72RrU3dkpTPTNEDCwsIwevRo5OfnIysrCwDgdDqRn5+PRYsW+bQOh8OB0tJSZGZmem1jNBphNBqbLDcYDFJvXtl+XQFro451Uce6eNfa2gRCHTU/hJWTk4PZs2djzJgxGDt2LNatW4fr169jzpw5AIBZs2bhjjvuQF5eHgBgxYoVuO+++zB06FBcvXoVr732Gk6fPo158+ZpPTQiItKQ5gHy2GOP4eLFi1i2bBmsVisSExOxc+dO94n1M2fOQK+vv/jrp59+wvz582G1WnHbbbdh9OjR2LdvH+6++26th0ZERBryy0n0RYsWeT1ktWfPHo/Ha9euxdq1a/0xDCIi8iPeC4uIiKQwQIiISAoDhIiIpDBAiIhICgOEiIikMECIiEgKA4SIiKQwQIiISAoDhIiIpDBAiIhICgOEiIikMECIiEgKA4SIiKQwQIiISAoDhIiIpDBAiIhICgOEiIikMECIiEgKA4SIiKQwQIiISAoDhIiIpDBAiIhICgOEiIikMECIiEgKA4SIiKQwQIiISAoDhIiIpDBAiIhICgOEiIikMECIiEhKaEcPgIjInxxOAcXhhOJwotZx62engFLrRK3TCaVu2a3v7jYOJ2qdjX/nRI1DoPbW7xWHaLQOV/+aW99rnU7YFQfOWfX4sOIAagXUn6P21pga9K+pruro0rWIAUJELWo4CSt1E2iDSbj6poIzVcDBM1chdPpGk6RrIq2p9ZyQG07CdRNpTd2kXiugOD3X4Wqj9rv69dXUTei3JuRahxNO0dHVAwA9cPVKq3p0jnE3jwFC1A6EEHA4hWuSrNs6dTjdPzeZJB2iydas4mWr1+tW8a2JVnWydtT9Tu056tdbt1UsfJrMQoHS/f4uZZvpdYAhRA9DiB6hITrXz3odDKF6hOp1TX9363uoXo+wUB1C9Xr38vo2tx7r9Qi7tZ7QED3CQnTQQeDo4VKMSkpEN6PB9Ryhehj0TZ/D/VwhetysqsTQdR1dreYxQChgqE3CTbdA6w8d1NTWTbRqhycabRV7HEJQaX+rTU2t63DEBxUH4HDC9Xwek3Vdn0brcvo6CQeGhpOwa+LUobbGjp49IhAWGtJgIq6bSD0ny4aTcN1k7dlG77GOuknVENJogtc38xx17fV6j3AI0evatVaKomDHhUPITOgHg8Hgcz+bXvHjqLTBAOli6ibhuklNqW146KB+Er5pV3DKBhSWX4ETeo8J2etWcd3PTuExCasdF268xew5WattDbv6dw564FrrDkeoCdG7Jt4mE6d7i1fn3pr1mKxb2CpuvPUcemsCNegb/67BxN1gq9jgXl/jyb1+QtY3moQVRcGOHTuQmfmzVk2SFNgYIBKEELcm27pJ0fM4bpu2ihtMwu7JvYWt4oYTcsNJWKlVP/bsu1Cg7IDf6qiFEL1OdSuzfqJtONk2v1VcNyGrTcJ1W8AhcKLscClGJyWiW5jB+1bxrUlY9Tm8TMJEgSaoAuSP+8oRGt5D/biwylZxTa0D5616vG/9FrVONGijvpUtNwl3fq7jtY0nYR3sN28gsmcPGEJDEHZr0m1+q7jhFm/d4QXPwxN1x4XVtorrtnKbHM7wslXcEZOwoijoXnEImSNbdziCKBgFVYC8tuvf0BsjWtlLD1z7qc3P7Z6EWzih1mSL1X3oQGWL2X14oX5CVtsqrpuQmxxqaHyYIqTpVnGoXqc6CdcfkvhPTpREpCqoAmRKvBk9epoaTdZqW8Wu3+khcOTwIYwZlYTwsFDPrWKVKzKa2yrW6Xg4goi6lqAKkFcfSYDJZPK5vaIo2FHxL2TGm7mVTUTUSryVCRERSWGAEBGRFL8EyIYNGzBw4ECEh4cjOTkZ+/c3/+nUrVu3Ii4uDuHh4YiPj8eOHTv8MSwiItKQ5gHy4YcfIicnB8uXL8fBgweRkJCAjIwMXLhwQbX9vn37MGPGDMydOxfFxcXIyspCVlYWDh8+rPXQiIhIQ5oHyJo1azB//nzMmTMHd999NzZu3IiIiAhs3rxZtf3vfvc7TJ48Gc8++yxGjBiBlStXYtSoUfj973+v9dCIiEhDmgZITU0NioqKkJqaWv8Eej1SU1NRUFCg2qegoMCjPQBkZGR4bU9ERJ2DppfxXrp0CQ6HA9HR0R7Lo6OjcezYMdU+VqtVtb3VavX6PHa7HXa73f3YZrMBcF2Wqyi+34Csrm1r+nQVrI061kUd6+KdbG0CoZYB+TmQvLw85ObmNlm+e/duRES09pPogMVi0WJYQYm1Uce6qGNdvGttbaqrq/00Eu1oGiB9+vRBSEgIKioqPJZXVFTAbDar9jGbza1qDwBLly5FTk6O+7HNZkNsbCzS09Nb/UFCi8WCtLQ0fpCwEdZGHeuijnXxTrY2dUdWOjNNAyQsLAyjR49Gfn4+srKyAABOpxP5+flYtGiRap+UlBTk5+cjOzvbvcxisSAlJcXr8xiNRhiNxibLDQaD1JtXtl9XwNqoY13UsS7etbY2gVBHzQ9h5eTkYPbs2RgzZgzGjh2LdevW4fr165gzZw4AYNasWbjjjjuQl5cHAHj66acxYcIEvP7665gyZQo++OADHDhwAJs2bdJ6aEREpCHNA+Sxxx7DxYsXsWzZMlitViQmJmLnzp3uE+VnzpyBXl9/8de4cePw3nvv4cUXX8QLL7yAYcOGYfv27bj33nu1HhoREWnILyfRFy1a5PWQ1Z49e5osmz59OqZPn+6PoRARkZ/wXlhERCSFAUJERFIYIEREJIUBQkREUhggREQkhQFCRERSGCBERCSFAUJERFIYIEREJIUBQkREUhggREQkhQFCRERSGCBERCSFAUJERFIYIEREJIUBQkREUhggREQkhQFCRERSGCBERCSFAUJERFIYIEREJIUBQkREUhggREQkhQFCRERSGCBERCSFAUJERFIYIEREJIUBQkREUhggREQkhQFCRERSGCBERCSFAUJERFIYIEREJIUBQkREUhggREQkhQFCRERSGCBERCSFAUJERFIYIEREJIUBQkREUhggREQkhQFCRERSNA2QK1euYObMmTCZTIiMjMTcuXNRVVXVbJ+JEydCp9N5fC1cuFDLYRERkR+EarmymTNn4vz587BYLFAUBXPmzMGCBQvw3nvvNdtv/vz5WLFihftxRESElsMiIiI/0CxAjh49ip07d+Lbb7/FmDFjAABvvPEGMjMzsXr1asTExHjtGxERAbPZrNVQiIioHWgWIAUFBYiMjHSHBwCkpqZCr9ejsLAQDz30kNe+7777Lv785z/DbDZj6tSpeOmll5rdC7Hb7bDb7e7HNpsNAKAoChRF8XnMdW1b06erYG3UsS7qWBfvZGsTCLXULECsViv69u3rufLQUPTu3RtWq9VrvyeeeAIDBgxATEwMDh06hOeffx7Hjx/Htm3bvPbJy8tDbm5uk+W7d++WOvxlsVha3aerYG3UsS7qWBfvWlub6upqP41EOy0GyJIlS/Dqq6822+bo0aPSA1iwYIH75/j4ePTr1w+TJk3CyZMnMWTIENU+S5cuRU5OjvuxzWZDbGws0tPTYTKZfH5uRVFgsViQlpYGg8Eg/RqCEWujjnVRx7p4J1ubuiMrnVmLAbJ48WI89dRTzbYZPHgwzGYzLly44LG8trYWV65cadX5jeTkZADAiRMnvAaI0WiE0WhsstxgMEi9eWX7dQWsjTrWRR3r4l1raxMIdWwxQKKiohAVFdXiilJSUnD16lUUFRVh9OjRAIAvvvgCTqfTHQq+KCkpAQD069fP5z5ERNT+NPscyIgRIzB58mTMnz8f+/fvx9dff41Fixbh8ccfd1+B9eOPPyIuLg779+8HAJw8eRIrV65EUVERvv/+e3z66aeYNWsWxo8fj5EjR2o1NCIi8gNNP0j47rvvIi4uDpMmTUJmZibuv/9+bNq0yf17RVFw/Phx98mhsLAwfP7550hPT0dcXBwWL16Mhx9+GH/961+1HBYREfmBph8k7N27d7MfGhw4cCCEEO7HsbGx+Mc//qHlEIiIqJ3wXlhERCSFAUJERFIYIEREJIUBQkREUhggREQkhQFCRERSGCBERCSFAUJERFIYIEREJIUBQkREUhggREQkhQFCRERSGCBERCSFAUJERFIYIEREJIUBQkREUhggREQkhQFCRERSGCBERCSFAUJERFIYIEREJIUBQkREUhggREQkhQFCRERSGCBERCSFAUJERFIYIEREJIUBQkREUhggREQkhQFCRERSGCBERCSFAUJERFIYIEREJIUBQkREUhggREQkpUsGSHVNLU5drMKFSjsAoNKu4OTFKlyusnfwyIgo6Fz70fX98klAiI4di8ZCO3oA7enK9Rq8vvs4/rvoB9hrnTCGCKwaC/znK1/gRq0OADBuyO14bnIcEmMjO3awRBTYDn0E7FwK3KwCEjYBmya4NtmHTAISHgOGZwIhho4eZZt0iT0QpdaBb05dxpT1/8T7+8/AXuv0+L2zwUbBvpOX8dCGr7F613GIINtaIKJ28tU6YNt8oPqS5/Lam8Dxz4CPZgFrRgCn/tEhw9NKUO+BHDtvw2+2/guHz9la1U8A+P2XJ1DjcOKFzBH+GRwRBadrPwCf/++W212/CLz7CDAvH+g30u/D8oegDZD95Zfx+KZvPPYuWmvT3lOYFNcXyYNv125gRBR8Lp8EDmwGzhYCtvNwbYb6wKEA/3wdePSPfh2evwRlgNQ6nJj/TlGbwqPOn745zQAhInWXTwJ/zQa+3yu5AgEc+RSorQFCw7QcWbvQ9BzIyy+/jHHjxiEiIgKRkZE+9RFCYNmyZejXrx+6deuG1NRUfPfdd20axxfHLuDaDaVN66iz7+RlTdZDREGm/J/Am/e1ITzqOF2HvQKQpgFSU1OD6dOn45e//KXPfVatWoX169dj48aNKCwsRPfu3ZGRkYGbN29Kj6Oslec8mmO7ocCpxa4MEQWPmuvAB08Ajhpt1veHSa7DWQFG0wDJzc3FM888g/j4eJ/aCyGwbt06vPjii5g2bRpGjhyJd955B+fOncP27dulx2E0aPeyap0CZ65Ua7Y+IgoCh/8C2LXbUMWNK8DX67RbXzvp0Mt4y8vLYbVakZqa6l7Wq1cvJCcno6CgQHq9/2N4Xy2G51bT6LJfIurizu4HdCHarvMfqwLug4YdehLdarUCAKKjoz2WR0dHu3+nxm63w26v/9S4zebaElAUBYqioNpeA2NIy/8QRr3w+O7Nt+UXMej28BbXF0wURfH4Ti6si7ouVxedEdCHA8LRYlNFH+7x3SsB4MQeYOD9rvYBUMsWA2TJkiV49dVXm21z9OhRxMXFaTaoluTl5SE3N7fJ8t27dyMiIgIAsGqs7+tbOaaFPYwLpdixo7Q1QwwaFoulo4fQKbEu6rpOXcYDI8e3qoclfn3LjY7YgCM7AADV1Z3/0HmLAbJ48WI89dRTzbYZPHiw1JObzWYAQEVFBfr16+deXlFRgcTERK/9li5dipycHPdjm82G2NhYpKenw2QyYVdZBRZvLWnx+Y16gZVjnHjpgB52p85rO70OKFg6Cd3DgvKqZ1WKosBisSAtLQ0GQ2DfbkFLrIu6LlcXRy3w1s9uXT3V/BEMRR8OS/x6pJX+GgZnCxcHpa4A/uO/ANQfWenMWpwRo6KiEBUV5ZcnHzRoEMxmM/Lz892BYbPZUFhY2OyVXEajEUajsclyg8EAg8GAnw2PRq1TB4ePhxPtTh3sDu8BAgBXbzgR2b0L/MdopK6m5Il1Uddl6mIwADPfBzZPbnq7Em9dnDdbDpDhqa51AwFRR01Pop85cwYlJSU4c+YMHA4HSkpKUFJSgqqqKnebuLg4fPzxxwAAnU6H7Oxs/Pa3v8Wnn36K0tJSzJo1CzExMcjKypIeR69uBkwfE9vWl+OmAxAZ0fn/MYmoHfUZBjxdAnTX6KKdwROB24dos652oukxmWXLluGPf6z/SH5SUhIA4Msvv8TEiRMBAMePH8e1a9fcbZ577jlcv34dCxYswNWrV3H//fdj586dCA9v20nrlx+KxxfHLrhv2S4rRKfD+Lv6IDIi8D4lSkR+ZuwJZL4GbJ3dtvWERwKP/kmTIbUnTfdAtmzZAiFEk6+68ABcn/1oeE5Fp9NhxYoVsFqtuHnzJj7//HPcddddbR5LiF6H7b/6T/Tt2fRQl6/0OkCvB55Ja/t4iChI3ZMF9DDL9+9hBn5ZAISbNBtSewnq27nHRHbDruzxyEm7C3dEdoMxVI++PcNwewvnMnS3Tof069UNf5qbjJH9I/0/WCIKXJmrW99HFwI88CKw6FugV4z2Y2oHQX9Z0W3dw/DrScPw60nD3MuEECg6/RO2fvs9gLNIjeuLnyfGYvTA2/DPf19Clb0WQ6J6YNyQ26HXN39ynYgII34OJP8SKPw/zTTSATo9IJxA9yjgye2A+d72GqFfBH2AqNHpdBgzsDcS7uiJHTvOYt3jSe4rHh4e3b+DR0dEAUenAybnAYPGA9+8CfxY5NrDuCsDiJ8JHKt0/awXwNBU4N5HgLCIjh51mwVFgNT95cDWXjetKAqqq6ths9kC4pK59sTaqGNd1LEut8TcD/zP+z0WuWqzG7b0NfW1uVkL3Gx+vqqbzzrzX0YNigCprKwEAMTGanfpLhFRZ1BZWYlevXp19DBU6URnjjcfOZ1OnDt3Dj179oRO5/s5i7pPsJ89exYmU+BdAeFPrI061kUd6+KdbG2EEKisrERMTAz0+s55vVNQ7IHo9Xr07y9/7sJkMvFN7wVro451Uce6eCdTm86651Gnc8YaERF1egwQIiKS0qUDxGg0Yvny5ao3ZuzqWBt1rIs61sW7YK5NUJxEJyKi9tel90CIiEgeA4SIiKQwQIiISAoDhIiIpHS5AHn55Zcxbtw4REREIDIy0qc+QggsW7YM/fr1Q7du3ZCamorvvvvOvwNtZ1euXMHMmTNhMpkQGRmJuXPnevwlSTUTJ06ETqfz+Fq4cGE7jdh/NmzYgIEDByI8PBzJycnYv39/s+23bt2KuLg4hIeHIz4+Hjt27Ginkbav1tRly5YtTd4bbf0jcZ3R3r17MXXqVMTExECn02H79u0t9tmzZw9GjRoFo9GIoUOHYsuWLX4fp790uQCpqanB9OnTm/2b642tWrUK69evx8aNG1FYWIju3bsjIyMDN2+28PeNA8jMmTNRVlYGi8WCv/3tb9i7dy8WLFjQYr/58+fj/Pnz7q9Vq1a1w2j958MPP0ROTg6WL1+OgwcPIiEhARkZGbhw4YJq+3379mHGjBmYO3cuiouLkZWVhaysLBw+fLidR+5fra0L4PrkdcP3xunTp9txxO3j+vXrSEhIwIYNG3xqX15ejilTpuCBBx5ASUkJsrOzMW/ePOzatcvPI/UT0UW9/fbbolevXi22czqdwmw2i9dee8297OrVq8JoNIr333/fjyNsP0eOHBEAxLfffute9ve//13odDrx448/eu03YcIE8fTTT7fDCNvP2LFjxa9+9Sv3Y4fDIWJiYkReXp5q+0cffVRMmTLFY1lycrL4xS9+4ddxtrfW1sXX/1/BBID4+OOPm23z3HPPiXvuucdj2WOPPSYyMjL8ODL/6XJ7IK1VXl4Oq9WK1NRU97JevXohOTkZBQUFHTgy7RQUFCAyMhJjxoxxL0tNTYVer0dhYWGzfd9991306dMH9957L5YuXYrq6mp/D9dvampqUFRU5PFvrdfrkZqa6vXfuqCgwKM9AGRkZATNewOQqwsAVFVVYcCAAYiNjcW0adNQVlbWHsPt1ILt/RIUN1P0J6vVCgCIjo72WB4dHe3+XaCzWq3o27evx7LQ0FD07t272df4xBNPYMCAAYiJicGhQ4fw/PPP4/jx49i2bZu/h+wXly5dgsPhUP23PnbsmGofq9Ua1O8NQK4uw4cPx+bNmzFy5Ehcu3YNq1evxrhx41BWVtamG58GOm/vF5vNhhs3bqBbt24dNDI5QbEHsmTJkiYn7Bp/eXujBzN/12XBggXIyMhAfHw8Zs6ciXfeeQcff/wxTp48qeGroECUkpKCWbNmITExERMmTMC2bdsQFRWFt956q6OHRhoKij2QxYsX46mnnmq2zeDBg6XWbTabAQAVFRXo16+fe3lFRQUSExOl1tlefK2L2WxucjK0trYWV65ccb9+XyQnJwMATpw4gSFDhrR6vB2tT58+CAkJQUVFhcfyiooKr3Uwm82tah+IZOrSmMFgQFJSEk6cOOGPIQYMb+8Xk8kUcHsfQJAESFRUFKKiovyy7kGDBsFsNiM/P98dGDabDYWFha26kqsj+FqXlJQUXL16FUVFRRg9ejQA4IsvvoDT6XSHgi9KSkoAwCNoA0lYWBhGjx6N/Px8ZGVlAXD9sbL8/HwsWrRItU9KSgry8/ORnZ3tXmaxWJCSktIOI24fMnVpzOFwoLS0FJmZmX4caeeXkpLS5DLvgH6/dPRZ/PZ2+vRpUVxcLHJzc0WPHj1EcXGxKC4uFpWVle42w4cPF9u2bXM/fuWVV0RkZKT45JNPxKFDh8S0adPEoEGDxI0bNzriJfjF5MmTRVJSkigsLBRfffWVGDZsmJgxY4b79z/88IMYPny4KCwsFEIIceLECbFixQpx4MABUV5eLj755BMxePBgMX78+I56CZr44IMPhNFoFFu2bBFHjhwRCxYsEJGRkcJqtQohhHjyySfFkiVL3O2//vprERoaKlavXi2OHj0qli9fLgwGgygtLe2ol+AXra1Lbm6u2LVrlzh58qQoKioSjz/+uAgPDxdlZWUd9RL8orKy0j2HABBr1qwRxcXF4vTp00IIIZYsWSKefPJJd/tTp06JiIgI8eyzz4qjR4+KDRs2iJCQELFz586Oeglt0uUCZPbs2QJAk68vv/zS3QaAePvtt92PnU6neOmll0R0dLQwGo1i0qRJ4vjx4+0/eD+6fPmymDFjhujRo4cwmUxizpw5HqFaXl7uUaczZ86I8ePHi969ewuj0SiGDh0qnn32WXHt2rUOegXaeeONN8Sdd94pwsLCxNixY8U333zj/t2ECRPE7NmzPdp/9NFH4q677hJhYWHinnvuEZ999lk7j7h9tKYu2dnZ7rbR0dEiMzNTHDx4sANG7V9ffvml6nxSV4vZs2eLCRMmNOmTmJgowsLCxODBgz3mmkDD27kTEZGUoLgKi4iI2h8DhIiIpDBAiIhICgOEiIikMECIiEgKA4SIiKQwQIiISAoDhIiIpDBAiIhICgOEiIikMECIiEjK/wexiAeThPo0ygAAAABJRU5ErkJggg==' width=400.0/>\n",
       "            </div>\n",
       "        "
      ],
      "text/plain": [
       "Canvas(toolbar=Toolbar(toolitems=[('Home', 'Reset original view', 'home', 'home'), ('Back', 'Back to previous …"
      ]
     },
     "metadata": {},
     "output_type": "display_data"
    }
   ],
   "source": [
    "# Graficacion\n",
    "x_x = ds_test[:,0]\n",
    "x_y = ds_test[:,1]\n",
    "x_color = np.where(x_x < 0, np.where(x_y < 0, 'C0', 'C1'), 'C1')\n",
    "graficar(x_x, x_y, x_color, historial_w, errores_evol)"
   ]
  },
  {
   "cell_type": "markdown",
   "metadata": {},
   "source": [
    "### Problema XOR"
   ]
  },
  {
   "cell_type": "code",
   "execution_count": 91,
   "metadata": {},
   "outputs": [
    {
     "name": "stdout",
     "output_type": "stream",
     "text": [
      "Error de test: 0.245\n"
     ]
    }
   ],
   "source": [
    "# Lectura de patrones\n",
    "\n",
    "ds_train = np.genfromtxt('icgtp1datos/XOR_trn.csv', delimiter=',')\n",
    "ds_train_size = ds_train.shape[0]\n",
    "\n",
    "ds_test = np.genfromtxt('icgtp1datos/XOR_tst.csv', delimiter=',')\n",
    "ds_test_size = ds_test.shape[0]\n",
    "\n",
    "# Entrenamiento\n",
    "N = 25 # Epocas\n",
    "gamma = 0.00001 # Tasa de aprendizaje\n",
    "nu = 0.005 # Umbral de error\n",
    "N_valid=200\n",
    "historial_w, errores_evol = perceptron_simple_train(ds_train,N,nu,gamma,N_valid)\n",
    "\n",
    "# Test\n",
    "w = historial_w[-1]\n",
    "error = perceptron_test(ds_test,w)\n",
    "print(f'Error de test: {error}')"
   ]
  },
  {
   "cell_type": "code",
   "execution_count": 92,
   "metadata": {},
   "outputs": [
    {
     "data": {
      "application/vnd.jupyter.widget-view+json": {
       "model_id": "16342b33d9ed462d9133e9683562c558",
       "version_major": 2,
       "version_minor": 0
      },
      "image/png": "[encoded data removed]",
      "text/html": [
       "\n",
       "            <div style=\"display: inline-block;\">\n",
       "                <div class=\"jupyter-widgets widget-label\" style=\"text-align: center;\">\n",
       "                    Figure\n",
       "                </div>\n",
       "                <img src='data:image/png;base64,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' width=400.0/>\n",
       "            </div>\n",
       "        "
      ],
      "text/plain": [
       "Canvas(toolbar=Toolbar(toolitems=[('Home', 'Reset original view', 'home', 'home'), ('Back', 'Back to previous …"
      ]
     },
     "metadata": {},
     "output_type": "display_data"
    }
   ],
   "source": [
    "# Graficacion\n",
    "x_x = ds_test[:,0]\n",
    "x_y = ds_test[:,1]\n",
    "x_color = np.where(x_x > 0, np.where(x_y > 0, 'C0', 'C1'), np.where(x_y < 0, 'C0', 'C1'))\n",
    "graficar(x_x, x_y, x_color, historial_w, errores_evol)"
   ]
  },
  {
   "cell_type": "markdown",
   "metadata": {},
   "source": [
    "# Ejercicio 2\n",
    "## Generación de particiones"
   ]
  },
  {
   "cell_type": "code",
   "execution_count": 93,
   "metadata": {},
   "outputs": [],
   "source": [
    "def generar_particiones(filename, n, p_test):\n",
    "    ds = np.genfromtxt(filename, delimiter=',')\n",
    "    n_test = int(ds.shape[0] * p_test)\n",
    "    n_train = ds.shape[0] - n_test\n",
    "    M_test = np.zeros((n,n_test),dtype = int)\n",
    "    M_train = np.zeros((n, n_train),dtype = int)\n",
    "\n",
    "    for i in range(n):\n",
    "        idx = range(ds.shape[0])\n",
    "        idx=np.random.choice(range(ds.shape[0]),ds.shape[0],replace = False)\n",
    "        idx_test = idx[0:n_test]\n",
    "        idx_train = idx[n_test:ds.shape[0]]\n",
    "        M_test[i] = idx_test\n",
    "        M_train[i] = idx_train\n",
    "    \n",
    "    return (ds, M_test, M_train)\n"
   ]
  },
  {
   "cell_type": "markdown",
   "metadata": {},
   "source": [
    "## Validación cruzada con 5 particiones\n",
    "El archivo $spheres1d10.csv$ contiene una serie de datos generados a partir de los valores de la Tabla 1, con pequeñas desviaciones aleatorias ($< 10 %$) en torno a ellos. \n",
    "Realice con estos datos la validación cruzada del perceptrón simple con $5$ particiones de entrenamiento y prueba con relacion $80/20$"
   ]
  },
  {
   "cell_type": "code",
   "execution_count": 97,
   "metadata": {},
   "outputs": [
    {
     "name": "stdout",
     "output_type": "stream",
     "text": [
      "[-0.0035239  -0.02851083 -0.02657922  0.01238865]\n"
     ]
    }
   ],
   "source": [
    "num_particiones=5\n",
    "ds, M_tst, M_trn = generar_particiones('icgtp1datos\\spheres1d10.csv', num_particiones, 0.2)\n",
    "ds_size = ds.shape[0]\n",
    "\n",
    "w_particion=np.zeros((num_particiones,ds.shape[1]))\n",
    "\n",
    "for i,particion in enumerate(M_trn):\n",
    "    historial_w, errores_evol = perceptron_simple_train(ds[particion],20,0.03,0.01,100)\n",
    "    w_particion[i] = historial_w[-1]\n",
    "\n",
    "errores=np.zeros(num_particiones)\n",
    "\n",
    "for i,particion in enumerate(M_tst):\n",
    "    errores[i]= perceptron_test(ds[particion],w_particion[i])"
   ]
  },
  {
   "cell_type": "markdown",
   "metadata": {},
   "source": [
    "## Validación cruzada con 10 particiones\n",
    "A partir de la misma tabla del ejemplo anterior, pero modificando el punto x = [−1 + 1 −1] → yd = 1, se ha generado un conjunto de datos diferente. Los archivosspheres2d10.csv, spheres2d50.csv y spheres2d70.csv contienen los datos con desviaciones aleatorias de 10, 50 y 70 % respectivamente (Figuras 2(b), 2(c) y 2(d)). Realice la validaci´on cruzada del perceptr´on simple con 10 particiones de entrenamiento y prueba, con relaci´on 80/20.\n"
   ]
  },
  {
   "cell_type": "code",
   "execution_count": 98,
   "metadata": {},
   "outputs": [],
   "source": [
    "num_particiones=10\n",
    "#particion de 10% de desvio\n",
    "ds, M_tst, M_trn = generar_particiones('icgtp1datos\\spheres2d10.csv', num_particiones, 0.2)\n",
    "ds_size = ds.shape[0]\n",
    "\n",
    "w_particion_2d10=np.zeros((num_particiones,ds.shape[1]))\n",
    "\n",
    "for i,particion in enumerate(M_trn):\n",
    "    historial_w, errores_evol = perceptron_simple_train(ds[particion],20,0.03,0.01,100)                       \n",
    "    w_particion_2d10[i]= historial_w[-1]\n",
    "\n",
    "errores_2d10=np.zeros(num_particiones)\n",
    "\n",
    "for i,particion in enumerate(M_tst):\n",
    "    errores_2d10[i]= perceptron_test(ds[particion],w_particion_2d10[i])\n",
    "\n",
    "#particion de 50% de desvio\n",
    "ds, M_tst, M_trn = generar_particiones('icgtp1datos\\spheres2d50.csv', num_particiones, 0.2)\n",
    "ds_size = ds.shape[0]\n",
    "\n",
    "w_particion_2d50=np.zeros((num_particiones,ds.shape[1]))\n",
    "\n",
    "for i,particion in enumerate(M_trn):\n",
    "    historial_w, errores_evol = perceptron_simple_train(ds[particion],20,0.03,0.01,100)                       \n",
    "    w_particion_2d50[i]= historial_w[-1]\n",
    "\n",
    "\n",
    "errores_2d50=np.zeros(num_particiones)\n",
    "\n",
    "for i,particion in enumerate(M_tst):\n",
    "    errores_2d50[i]= perceptron_test(ds[particion],w_particion_2d50[i])\n",
    "\n",
    "#particion de 70% de desvio\n",
    "ds, M_tst, M_trn = generar_particiones('icgtp1datos\\spheres2d70.csv', num_particiones, 0.2)\n",
    "ds_size = ds.shape[0]\n",
    "\n",
    "w_particion_2d70=np.zeros((num_particiones,ds.shape[1]))\n",
    "\n",
    "for i,particion in enumerate(M_trn):\n",
    "    historial_w, errores_evol = perceptron_simple_train(ds[particion],20,0.03,0.01,100)                       \n",
    "    w_particion_2d70[i]= historial_w[-1]\n",
    "\n",
    "\n",
    "errores_2d70=np.zeros(num_particiones)\n",
    "\n",
    "for i,particion in enumerate(M_tst):\n",
    "    errores_2d70[i]= perceptron_test(ds[particion],w_particion_2d70[i])"
   ]
  }
 ],
 "metadata": {
  "kernelspec": {
   "display_name": "Python 3.10.4 64-bit",
   "language": "python",
   "name": "python3"
  },
  "language_info": {
   "codemirror_mode": {
    "name": "ipython",
    "version": 3
   },
   "file_extension": ".py",
   "mimetype": "text/x-python",
   "name": "python",
   "nbconvert_exporter": "python",
   "pygments_lexer": "ipython3",
   "version": "3.10.4"
  },
  "orig_nbformat": 4,
  "vscode": {
   "interpreter": {
    "hash": "52634da84371cba311ea128a5ea7cdc41ff074b781779e754b270ff9f8153cee"
   }
  }
 },
 "nbformat": 4,
 "nbformat_minor": 2
}

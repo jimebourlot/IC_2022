{
 "cells": [
  {
   "cell_type": "markdown",
   "metadata": {},
   "source": [
    "# Ejercicio 1"
   ]
  },
  {
   "cell_type": "code",
   "execution_count": 2,
   "metadata": {},
   "outputs": [],
   "source": [
    "import numpy as np\n",
    "import matplotlib.pyplot as plt"
   ]
  },
  {
   "cell_type": "code",
   "execution_count": 3,
   "metadata": {},
   "outputs": [],
   "source": [
    "class Perceptron:\n",
    "    def __init__(self, inputs, f_activacion) -> None:\n",
    "        self.inputs = inputs\n",
    "        self.f_activacion = f_activacion\n",
    "\n",
    "        # Inicialización de los pesos\n",
    "        # Se agrega un elemento para representar el bias\n",
    "        # y se resta 0.5 para que quede entre -0.5 y 0.5\n",
    "        self.w = np.random.rand(inputs + 1) - 0.5\n",
    "    \n",
    "    def eval(self, patron) :\n",
    "        x = np.hstack((-1, patron[:self.inputs]))\n",
    "        # Producto interno\n",
    "        y = np.inner(x, self.w)\n",
    "        # No linealidad\n",
    "        z = self.f_activacion(y)\n",
    "        # Error\n",
    "        err = patron[-1] - z\n",
    "        return (x, z, err)\n",
    "\n",
    "    def train(self, patron, alpha) :\n",
    "        # Evaluación\n",
    "        (x, z, err) = self.eval(patron)\n",
    "        # Actualización de pesos\n",
    "        self.w = self.w + (alpha * err) * x\n",
    "        return (self.w, z, err)"
   ]
  },
  {
   "cell_type": "code",
   "execution_count": 4,
   "metadata": {},
   "outputs": [],
   "source": [
    "ds_train = np.genfromtxt('icgtp1datos/OR_trn.csv', delimiter=',')\n",
    "ds_train_size = ds_train.shape[0]\n",
    "\n",
    "ds_test = np.genfromtxt('icgtp1datos/OR_tst.csv', delimiter=',')\n",
    "ds_test_size = ds_test.shape[0]"
   ]
  },
  {
   "cell_type": "code",
   "execution_count": 5,
   "metadata": {},
   "outputs": [],
   "source": [
    "# Función de activación \"signo\"\n",
    "def f_sign(a):\n",
    "    return (np.heaviside(a, 1) * 2) - 1"
   ]
  },
  {
   "cell_type": "code",
   "execution_count": 6,
   "metadata": {},
   "outputs": [
    {
     "name": "stdout",
     "output_type": "stream",
     "text": [
      "Epoca 0: error medio = 52.00 %\n",
      "Epoca 1: error medio = 49.00 %\n",
      "Epoca 2: error medio = 0.00 %\n"
     ]
    }
   ],
   "source": [
    "perceptron = Perceptron(ds_train.shape[1]-1, f_sign)\n",
    "\n",
    "N = 20          # Nro de épocas\n",
    "alpha = 1E-4    # Tasa de aprendizaje\n",
    "nu = 0.3        # Umbral de error\n",
    "\n",
    "# Para calcular el error se utilizará un conjunto de patrones de tamaño 10%\n",
    "# del total\n",
    "N_val = int(np.floor(ds_train_size * 0.1))\n",
    "\n",
    "# Entrenamiento por epocas\n",
    "for i in range(N):\n",
    "    for patron in ds_train: # Para todos los patrones de train\n",
    "        perceptron.train(patron, alpha)\n",
    "    \n",
    "    # Corte del entrenamiento por umbral de error\n",
    "    errores = 0\n",
    "    for patron in ds_train[np.random.choice(ds_train_size, size=(N_val), replace=False)]:\n",
    "        (_, z, _) = perceptron.eval(patron)\n",
    "        errores += int(z != patron[-1])\n",
    "    err_med = errores / N_val\n",
    "    \n",
    "    # Evolución del error por época\n",
    "    print(f'Epoca {i}: error medio = {err_med * 100:.2f} %')\n",
    "\n",
    "    # Si el error calculado es menos del umbral cortar\n",
    "    if (err_med < nu):\n",
    "        break"
   ]
  },
  {
   "cell_type": "code",
   "execution_count": 7,
   "metadata": {},
   "outputs": [
    {
     "name": "stdout",
     "output_type": "stream",
     "text": [
      "Error en test 0.00 %\n"
     ]
    }
   ],
   "source": [
    "# Test\n",
    "errores = 0\n",
    "for patron in ds_test:\n",
    "    (_, z, _) = perceptron.eval(patron)\n",
    "    errores += int(z != patron[-1])\n",
    "err_med = errores / ds_test_size\n",
    "\n",
    "print(f'Error en test {err_med * 100:.2f} %')"
   ]
  }
 ],
 "metadata": {
  "kernelspec": {
   "display_name": "Python 3.10.2 64-bit",
   "language": "python",
   "name": "python3"
  },
  "language_info": {
   "codemirror_mode": {
    "name": "ipython",
    "version": 3
   },
   "file_extension": ".py",
   "mimetype": "text/x-python",
   "name": "python",
   "nbconvert_exporter": "python",
   "pygments_lexer": "ipython3",
   "version": "3.10.2"
  },
  "orig_nbformat": 4,
  "vscode": {
   "interpreter": {
    "hash": "949777d72b0d2535278d3dc13498b2535136f6dfe0678499012e853ee9abcab1"
   }
  }
 },
 "nbformat": 4,
 "nbformat_minor": 2
}

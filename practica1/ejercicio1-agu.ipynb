{
 "cells": [
  {
   "cell_type": "markdown",
   "metadata": {},
   "source": [
    "# Ejercicio 1"
   ]
  },
  {
   "cell_type": "code",
   "execution_count": 29,
   "metadata": {},
   "outputs": [],
   "source": [
    "import numpy as np\n",
    "import matplotlib.pyplot as plt"
   ]
  },
  {
   "cell_type": "code",
   "execution_count": 30,
   "metadata": {},
   "outputs": [],
   "source": [
    "class Perceptron:\n",
    "    def __init__(self, inputs, f_activacion) -> None:\n",
    "        self.inputs = inputs\n",
    "        self.f_activacion = f_activacion\n",
    "\n",
    "        # Inicialización de los pesos\n",
    "        # Se agrega un elemento para representar el bias\n",
    "        # y se resta 0.5 para que quede entre -0.5 y 0.5\n",
    "        self.w = np.random.rand(inputs + 1) - 0.5\n",
    "    \n",
    "    def eval(self, patron) :\n",
    "        x = np.hstack((-1, patron[:self.inputs]))\n",
    "        # Producto interno\n",
    "        y = np.inner(x, self.w)\n",
    "        # No linealidad\n",
    "        # z = self.f_activacion(y)\n",
    "        z=y\n",
    "        # Error\n",
    "        err = patron[-1] - z\n",
    "        return (x, z, err)\n",
    "\n",
    "    def train(self, patron, alpha) :\n",
    "        # Evaluación\n",
    "        (x, z, err) = self.eval(patron)\n",
    "        # Actualización de pesos\n",
    "        self.w = self.w + (alpha * err) * x\n",
    "        return (self.w, z, err)"
   ]
  },
  {
   "cell_type": "code",
   "execution_count": 31,
   "metadata": {},
   "outputs": [],
   "source": [
    "# Función de activación \"signo\"\n",
    "def f_sign(a):\n",
    "    return (np.heaviside(a, 1) * 2) - 1"
   ]
  },
  {
   "cell_type": "markdown",
   "metadata": {},
   "source": [
    "## Problema `OR`"
   ]
  },
  {
   "cell_type": "code",
   "execution_count": 32,
   "metadata": {},
   "outputs": [],
   "source": [
    "ds_train = np.genfromtxt('icgtp1datos/OR_trn.csv', delimiter=',')\n",
    "ds_train_size = ds_train.shape[0]\n",
    "\n",
    "ds_test = np.genfromtxt('icgtp1datos/OR_tst.csv', delimiter=',')\n",
    "ds_test_size = ds_test.shape[0]"
   ]
  },
  {
   "cell_type": "code",
   "execution_count": 33,
   "metadata": {},
   "outputs": [
    {
     "name": "stdout",
     "output_type": "stream",
     "text": [
      "Epoca 0: error medio = 29.50 %\n",
      "Epoca 1: error medio = 0.00 %\n"
     ]
    }
   ],
   "source": [
    "perceptron = Perceptron(ds_train.shape[1]-1, f_sign)\n",
    "\n",
    "N = 20          # Nro de épocas\n",
    "alpha = 1E-4    # Tasa de aprendizaje\n",
    "nu = 0.1        # Umbral de error\n",
    "\n",
    "# Para calcular el error se utilizará un conjunto de patrones de tamaño 10%\n",
    "# del total\n",
    "N_val = int(np.floor(ds_train_size * 0.1))\n",
    "\n",
    "# Entrenamiento por epocas\n",
    "for i in range(N):\n",
    "    for patron in ds_train: # Para todos los patrones de train\n",
    "        perceptron.train(patron, alpha)\n",
    "    \n",
    "    # Corte del entrenamiento por umbral de error\n",
    "    errores = 0\n",
    "    for patron in ds_train[np.random.choice(ds_train_size, size=(N_val), replace=False)]:\n",
    "        (_, z, _) = perceptron.eval(patron)\n",
    "        errores += int(z != patron[-1])\n",
    "    err_med = errores / N_val\n",
    "    \n",
    "    # Evolución del error por época\n",
    "    print(f'Epoca {i}: error medio = {err_med * 100:.2f} %')\n",
    "\n",
    "    # Si el error calculado es menos del umbral cortar\n",
    "    if (err_med < nu):\n",
    "        break"
   ]
  },
  {
   "cell_type": "code",
   "execution_count": 34,
   "metadata": {},
   "outputs": [
    {
     "name": "stdout",
     "output_type": "stream",
     "text": [
      "Error en test 0.50 %\n"
     ]
    }
   ],
   "source": [
    "# Test\n",
    "errores = 0\n",
    "for patron in ds_test:\n",
    "    (_, z, _) = perceptron.eval(patron)\n",
    "    errores += int(z != patron[-1])\n",
    "err_med = errores / ds_test_size\n",
    "\n",
    "print(f'Error en test {err_med * 100:.2f} %')"
   ]
  },
  {
   "cell_type": "code",
   "execution_count": 35,
   "metadata": {},
   "outputs": [
    {
     "data": {
      "image/png": "[encoded data removed]",
      "text/plain": [
       "<Figure size 360x288 with 1 Axes>"
      ]
     },
     "metadata": {
      "needs_background": "light"
     },
     "output_type": "display_data"
    }
   ],
   "source": [
    "fig1 = plt.figure(figsize=(5, 4), tight_layout=True)\n",
    "fig1.suptitle('Recta $w_1 x + w_2 y - w_0 = 0$',  fontsize=11)\n",
    "fig1_ax = fig1.add_subplot(autoscale_on=False, xlim=(-1.5, 1.5), ylim=(-1.5, 1.5))\n",
    "fig1_ax.set_aspect('equal')\n",
    "fig1_ax.grid()\n",
    "\n",
    "# Patrones\n",
    "x_x = ds_train[:,0]\n",
    "x_y = ds_train[:,1]\n",
    "x_color = np.where(x_x > 0, np.where(x_y > 0, 'C0', 'C1'), np.where(x_y < 0, 'C0', 'C1'))\n",
    "fig1_ax.scatter(x_x, x_y, c=x_color, s=5, marker='.')\n",
    "\n",
    "# Recta\n",
    "xx = np.arange(-3, 3, 0.01)\n",
    "a = perceptron.w[1] / perceptron.w[2]\n",
    "b = a = perceptron.w[0] / perceptron.w[2]\n",
    "fig1_ax.plot(xx, a * xx + b, c='C3', linewidth=2)\n",
    "\n",
    "plt.show()"
   ]
  },
  {
   "cell_type": "markdown",
   "metadata": {},
   "source": [
    "## Problema `XOR`"
   ]
  },
  {
   "cell_type": "code",
   "execution_count": 36,
   "metadata": {},
   "outputs": [],
   "source": [
    "ds_train = np.genfromtxt('icgtp1datos/XOR_trn.csv', delimiter=',')\n",
    "ds_train_size = ds_train.shape[0]\n",
    "\n",
    "ds_test = np.genfromtxt('icgtp1datos/XOR_tst.csv', delimiter=',')\n",
    "ds_test_size = ds_test.shape[0]"
   ]
  },
  {
   "cell_type": "code",
   "execution_count": 37,
   "metadata": {},
   "outputs": [
    {
     "name": "stdout",
     "output_type": "stream",
     "text": [
      "Epoca 0: error medio = 63.00 %\n",
      "Epoca 1: error medio = 76.00 %\n",
      "Epoca 2: error medio = 24.50 %\n"
     ]
    }
   ],
   "source": [
    "perceptron = Perceptron(ds_train.shape[1]-1, f_sign)\n",
    "\n",
    "N = 20          # Nro de épocas\n",
    "alpha = 1E-4    # Tasa de aprendizaje\n",
    "nu = 0.3        # Umbral de error\n",
    "\n",
    "# Para calcular el error se utilizará un conjunto de patrones de tamaño 10%\n",
    "# del total\n",
    "N_val = int(np.floor(ds_train_size * 0.1))\n",
    "\n",
    "# Entrenamiento por epocas\n",
    "for i in range(N):\n",
    "    for patron in ds_train: # Para todos los patrones de train\n",
    "        perceptron.train(patron, alpha)\n",
    "    \n",
    "    # Corte del entrenamiento por umbral de error\n",
    "    errores = 0\n",
    "    for patron in ds_train[np.random.choice(ds_train_size, size=(N_val), replace=False)]:\n",
    "        (_, z, _) = perceptron.eval(patron)\n",
    "        errores += int(z != patron[-1])\n",
    "    err_med = errores / N_val\n",
    "    \n",
    "    # Evolución del error por época\n",
    "    print(f'Epoca {i}: error medio = {err_med * 100:.2f} %')\n",
    "\n",
    "    # Si el error calculado es menos del umbral cortar\n",
    "    if (err_med < nu):\n",
    "        break"
   ]
  },
  {
   "cell_type": "code",
   "execution_count": 38,
   "metadata": {},
   "outputs": [
    {
     "name": "stdout",
     "output_type": "stream",
     "text": [
      "Error en test 25.00 %\n"
     ]
    }
   ],
   "source": [
    "# Test\n",
    "errores = 0\n",
    "for patron in ds_test:\n",
    "    (_, z, _) = perceptron.eval(patron)\n",
    "    errores += int(z != patron[-1])\n",
    "err_med = errores / ds_test_size\n",
    "\n",
    "print(f'Error en test {err_med * 100:.2f} %')"
   ]
  },
  {
   "cell_type": "code",
   "execution_count": 39,
   "metadata": {},
   "outputs": [
    {
     "data": {
      "image/png": "[encoded data removed]",
      "text/plain": [
       "<Figure size 360x288 with 1 Axes>"
      ]
     },
     "metadata": {
      "needs_background": "light"
     },
     "output_type": "display_data"
    }
   ],
   "source": [
    "fig2 = plt.figure(figsize=(5, 4), tight_layout=True)\n",
    "fig2.suptitle('Recta $w_1 x + w_2 y - w_0 = 0$',  fontsize=11)\n",
    "fig2_ax = fig2.add_subplot(autoscale_on=False, xlim=(-1.5, 1.5), ylim=(-1.5, 1.5))\n",
    "fig2_ax.set_aspect('equal')\n",
    "fig2_ax.grid()\n",
    "\n",
    "# Patrones\n",
    "x_x = ds_train[:,0]\n",
    "x_y = ds_train[:,1]\n",
    "x_color = np.where(x_x > 0, np.where(x_y > 0, 'C0', 'C1'), np.where(x_y < 0, 'C0', 'C1'))\n",
    "fig2_ax.scatter(x_x, x_y, c=x_color, s=5, marker='.')\n",
    "\n",
    "# Recta\n",
    "xx = np.arange(-3, 3, 0.01)\n",
    "a = perceptron.w[1] / perceptron.w[2]\n",
    "b = a = perceptron.w[0] / perceptron.w[2]\n",
    "fig2_ax.plot(xx, a * xx + b, c='C3', linewidth=2)\n",
    "\n",
    "plt.show()"
   ]
  },
  {
   "cell_type": "code",
   "execution_count": 40,
   "metadata": {},
   "outputs": [
    {
     "name": "stdout",
     "output_type": "stream",
     "text": [
      "Epoca 0: error medio = 33.50 %\n",
      "Epoca 1: error medio = 29.00 %\n",
      "Epoca 2: error medio = 47.50 %\n",
      "Epoca 3: error medio = 52.50 %\n",
      "Epoca 4: error medio = 73.50 %\n",
      "Epoca 5: error medio = 44.00 %\n",
      "Epoca 6: error medio = 54.50 %\n",
      "Epoca 7: error medio = 47.00 %\n",
      "Epoca 8: error medio = 49.00 %\n",
      "Epoca 9: error medio = 54.50 %\n",
      "Epoca 10: error medio = 29.50 %\n",
      "Epoca 11: error medio = 56.00 %\n",
      "Epoca 12: error medio = 72.00 %\n",
      "Epoca 13: error medio = 71.00 %\n",
      "Epoca 14: error medio = 49.00 %\n",
      "Epoca 15: error medio = 52.00 %\n",
      "Epoca 16: error medio = 76.00 %\n",
      "Epoca 17: error medio = 47.00 %\n",
      "Epoca 18: error medio = 49.50 %\n",
      "Epoca 19: error medio = 49.50 %\n"
     ]
    }
   ],
   "source": [
    "p = Perceptron(ds_train.shape[1]-1, f_sign)\n",
    "\n",
    "N = 20          # Nro de épocas\n",
    "alpha = 1E-4    # Tasa de aprendizaje\n",
    "nu = 0.03        # Umbral de error\n",
    "\n",
    "# Para calcular el error se utilizará un conjunto de patrones de tamaño 10%\n",
    "# del total\n",
    "N_val = int(np.floor(ds_train_size * 0.1))\n",
    "\n",
    "pesos = np.array([[]])\n",
    "\n",
    "# Entrenamiento por epocas\n",
    "for i in range(N):\n",
    "    for idx, patron in enumerate(ds_train): # Para todos los patrones de train\n",
    "        (w, _, _) = p.train(patron, alpha)\n",
    "        if (idx % 40 == 0): # Cada veinte, me guardo los pesos\n",
    "            pesos = np.append(pesos, w)\n",
    "    \n",
    "    # Corte del entrenamiento por umbral de error\n",
    "    errs = 0\n",
    "    for patron in ds_train[np.random.choice(ds_train_size, size=(N_val), replace=False)]:\n",
    "        (_, z, _) = p.eval(patron)\n",
    "        errs += int(z != patron[-1])\n",
    "    err_med = errs / N_val\n",
    "    \n",
    "    # Evolución del error por época\n",
    "    print(f'Epoca {i}: error medio = {err_med * 100:.2f} %')\n",
    "\n",
    "    # Si el error calculado es menos del umbral cortar\n",
    "    if (err_med < nu):\n",
    "        break\n",
    "\n",
    "# Reordenar los pesos\n",
    "pesos = pesos.reshape((-1, 3))"
   ]
  },
  {
   "cell_type": "code",
   "execution_count": 49,
   "metadata": {},
   "outputs": [
    {
     "data": {
      "application/vnd.jupyter.widget-view+json": {
       "model_id": "091384d01f9f41278db454496ebd317e",
       "version_major": 2,
       "version_minor": 0
      },
      "image/png": "[encoded data removed]",
      "text/html": [
       "\n",
       "            <div style=\"display: inline-block;\">\n",
       "                <div class=\"jupyter-widgets widget-label\" style=\"text-align: center;\">\n",
       "                    Figure\n",
       "                </div>\n",
       "                <img src='data:image/png;base64,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' width=500.0/>\n",
       "            </div>\n",
       "        "
      ],
      "text/plain": [
       "Canvas(toolbar=Toolbar(toolitems=[('Home', 'Reset original view', 'home', 'home'), ('Back', 'Back to previous …"
      ]
     },
     "metadata": {},
     "output_type": "display_data"
    }
   ],
   "source": [
    "# Animación de la evolución de los pesos a partir de la recta w1 * x + w2 * y - w0 = 0\n",
    "\n",
    "import matplotlib.animation as animation\n",
    "%matplotlib widget\n",
    "\n",
    "anim_fig = plt.figure(figsize=(5, 4), tight_layout=True)\n",
    "anim_fig.suptitle('Evolución de la recta $w_1 x + w_2 y - w_0 = 0$',  fontsize=11)\n",
    "anim_ax = anim_fig.add_subplot(autoscale_on=False, xlim=(-1.5, 1.5), ylim=(-1.5, 1.5))\n",
    "anim_ax.set_aspect('equal')\n",
    "anim_ax.grid()\n",
    "\n",
    "anim_ax.set_xlabel('$X$')\n",
    "anim_ax.set_ylabel('$Y$')\n",
    "\n",
    "# Patrones\n",
    "x_x = ds_train[:,0]\n",
    "x_y = ds_train[:,1]\n",
    "x_color = np.where(x_x > 0, 'C0', np.where(x_y > 0, 'C0', 'C1'))\n",
    "\n",
    "anim_ax.scatter(x_x, x_y, c=x_color, s=5, marker='.')\n",
    "\n",
    "# Perceptron\n",
    "# w1 * x + w2 * y - w0 = 0\n",
    "# Ecuacion recta\n",
    "# y = -w1/w2 * x + w0/w2\n",
    "# a = -w1/w2\n",
    "# b = w0/w2\n",
    "# Simplificacion\n",
    "# y = a * + b\n",
    "a = np.divide(-pesos[:,1], pesos[:,2])\n",
    "b = np.divide(pesos[:,0], pesos[:,2])\n",
    "\n",
    "xx = np.arange(-3, 3, 0.01)\n",
    "line, = anim_ax.plot(xx, a[0] * xx + b[0], c='C3', linewidth=2)\n",
    "\n",
    "# Label para el tiempo transcurrido\n",
    "# time_template = 'time = %.1fs'\n",
    "# time_text = anim_ax.text(0.05, 0.92, '', transform=anim_ax.transAxes)\n",
    "\n",
    "def animate(i):\n",
    "    line.set_ydata(a[i] * xx + b[i])\n",
    "\n",
    "    # time_text.set_text(time_template % (t[i])) # Actualizar la label del t\n",
    "\n",
    "    return line,\n",
    "\n",
    "anim = animation.FuncAnimation(anim_fig, animate, frames=pesos.shape[0], interval=20, repeat=False)\n",
    "plt.show()"
   ]
  },
  {
   "cell_type": "code",
   "execution_count": 50,
   "metadata": {},
   "outputs": [],
   "source": [
    "writergif = animation.PillowWriter(fps=24)\n",
    "anim.save('./caso-1.gif', writer=writergif)\n",
    "\n",
    "%matplotlib inline"
   ]
  },
  {
   "cell_type": "markdown",
   "metadata": {},
   "source": [
    "![](./caso-1.gif)"
   ]
  }
 ],
 "metadata": {
  "kernelspec": {
   "display_name": "Python 3.10.4 64-bit",
   "language": "python",
   "name": "python3"
  },
  "language_info": {
   "codemirror_mode": {
    "name": "ipython",
    "version": 3
   },
   "file_extension": ".py",
   "mimetype": "text/x-python",
   "name": "python",
   "nbconvert_exporter": "python",
   "pygments_lexer": "ipython3",
   "version": "3.10.4"
  },
  "orig_nbformat": 4,
  "vscode": {
   "interpreter": {
    "hash": "52634da84371cba311ea128a5ea7cdc41ff074b781779e754b270ff9f8153cee"
   }
  }
 },
 "nbformat": 4,
 "nbformat_minor": 2
}

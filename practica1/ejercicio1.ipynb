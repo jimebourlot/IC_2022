{
 "cells": [
  {
   "cell_type": "markdown",
   "metadata": {},
   "source": [
    "# Ejercicio 1"
   ]
  },
  {
   "cell_type": "code",
   "execution_count": 18,
   "metadata": {},
   "outputs": [],
   "source": [
    "import numpy as np\n",
    "import matplotlib.pyplot as plt\n",
    "from typing import Callable, Tuple"
   ]
  },
  {
   "cell_type": "code",
   "execution_count": 19,
   "metadata": {},
   "outputs": [],
   "source": [
    "class Perceptron:\n",
    "    def __init__(self, inputs: int, f_activacion: Callable[[float], float]):\n",
    "        \"\"\"\n",
    "        Parametros\n",
    "        ----------\n",
    "        inputs : int\n",
    "            Numero de entradas\n",
    "        f_activacion : Callable[[float], float]\n",
    "            Función de activación\n",
    "        \"\"\"\n",
    "        self.inputs = inputs\n",
    "        self.f_activacion = f_activacion\n",
    "\n",
    "        # Inicialización de los pesos\n",
    "        # Se agrega un elemento para representar el bias\n",
    "        # y se resta 0.5 para que quede entre -0.5 y 0.5\n",
    "        self.w = np.random.rand(inputs + 1) - 0.5\n",
    "    \n",
    "    def eval(self, patron: np.ndarray) -> Tuple[np.ndarray, float, float]:\n",
    "        \"\"\"Evalua un patron y calcula el error como la diferencia entre\n",
    "        el valor deseado y el calculado\n",
    "\n",
    "        Parametros\n",
    "        ----------\n",
    "        patron : ndarray\n",
    "            Vector de entrada\n",
    "\n",
    "        Return\n",
    "        -------\n",
    "        tuple\n",
    "            Patron evaluado (con bias), salida calculada, error\n",
    "        \"\"\"\n",
    "        x = np.hstack((-1, patron[:self.inputs]))\n",
    "        # Producto interno\n",
    "        z = np.inner(x, self.w)\n",
    "        # No linealidad\n",
    "        y = self.f_activacion(z)\n",
    "        # Error\n",
    "        err = patron[-1] - y\n",
    "        return (y, err, x)\n",
    "\n",
    "    def train(self, patron: np.ndarray, alpha: float) \\\n",
    "        -> Tuple[np.ndarray, float, float]:\n",
    "        \"\"\"Evalua un patron y a partir del error ajusta los pesos en base a la\n",
    "        tasa de aprendizaje alpha\n",
    "\n",
    "        Parametros\n",
    "        ----------\n",
    "        patron : ndarray\n",
    "            Vector de entrada\n",
    "        alpha : float\n",
    "            Tasa de aprendizaje\n",
    "\n",
    "        Return\n",
    "        -------\n",
    "        tuple\n",
    "            Nuevos pesos, salida calculada, error\n",
    "        \"\"\"\n",
    "        # Evaluación\n",
    "        (y, err, x) = self.eval(patron)\n",
    "        # Actualización de pesos\n",
    "        self.w = self.w + (alpha * err) * x\n",
    "        return (self.w, y, err)"
   ]
  },
  {
   "cell_type": "code",
   "execution_count": 3,
   "metadata": {},
   "outputs": [],
   "source": [
    "# Función de activación \"signo\"\n",
    "def f_sign(a: float) -> float:\n",
    "    \"\"\"Función signo: Si a < 0 devuelve -1, en caso contrario devuelve 1\"\"\"\n",
    "    return (np.heaviside(a, 1) * 2) - 1"
   ]
  },
  {
   "cell_type": "markdown",
   "metadata": {},
   "source": [
    "## Problema `OR`"
   ]
  },
  {
   "cell_type": "code",
   "execution_count": 4,
   "metadata": {},
   "outputs": [],
   "source": [
    "ds_train = np.genfromtxt('icgtp1datos/OR_trn.csv', delimiter=',')\n",
    "ds_train_size = ds_train.shape[0]\n",
    "\n",
    "ds_test = np.genfromtxt('icgtp1datos/OR_tst.csv', delimiter=',')\n",
    "ds_test_size = ds_test.shape[0]"
   ]
  },
  {
   "cell_type": "code",
   "execution_count": 11,
   "metadata": {},
   "outputs": [
    {
     "name": "stdout",
     "output_type": "stream",
     "text": [
      "Epoca 0: error medio = 25.00 %\n",
      "Epoca 1: error medio = 20.00 %\n",
      "Epoca 2: error medio = 29.50 %\n",
      "Epoca 3: error medio = 37.00 %\n",
      "Epoca 4: error medio = 0.00 %\n"
     ]
    }
   ],
   "source": [
    "perceptron = Perceptron(ds_train.shape[1]-1, f_sign)\n",
    "\n",
    "N = 20          # Nro de épocas\n",
    "alpha = 1E-4    # Tasa de aprendizaje\n",
    "nu = 0.1        # Umbral de error\n",
    "\n",
    "# Para calcular el error se utilizará un conjunto de patrones de tamaño 10%\n",
    "# del total\n",
    "N_val = int(np.floor(ds_train_size * 0.1))\n",
    "\n",
    "# Entrenamiento por epocas\n",
    "for i in range(N):\n",
    "    for patron in ds_train: # Para todos los patrones de train\n",
    "        perceptron.train(patron, alpha)\n",
    "    \n",
    "    # Corte del entrenamiento por umbral de error\n",
    "    errores = 0\n",
    "    for patron in ds_train[np.random.choice(ds_train_size, size=(N_val), replace=False)]:\n",
    "        (z, _, _) = perceptron.eval(patron)\n",
    "        errores += int(z != patron[-1])\n",
    "    err_med = errores / N_val\n",
    "    \n",
    "    # Evolución del error por época\n",
    "    print(f'Epoca {i}: error medio = {err_med * 100:.2f} %')\n",
    "\n",
    "    # Si el error calculado es menos del umbral cortar\n",
    "    if (err_med < nu):\n",
    "        break"
   ]
  },
  {
   "cell_type": "code",
   "execution_count": 12,
   "metadata": {},
   "outputs": [
    {
     "name": "stdout",
     "output_type": "stream",
     "text": [
      "Error en test 0.00 %\n"
     ]
    }
   ],
   "source": [
    "# Test\n",
    "errores = 0\n",
    "for patron in ds_test:\n",
    "    (z, _, _) = perceptron.eval(patron)\n",
    "    errores += int(z != patron[-1])\n",
    "err_med = errores / ds_test_size\n",
    "\n",
    "print(f'Error en test {err_med * 100:.2f} %')"
   ]
  },
  {
   "cell_type": "code",
   "execution_count": 13,
   "metadata": {},
   "outputs": [
    {
     "data": {
      "image/png": "[encoded data removed]",
      "text/plain": [
       "<Figure size 500x400 with 1 Axes>"
      ]
     },
     "metadata": {},
     "output_type": "display_data"
    }
   ],
   "source": [
    "fig1 = plt.figure(figsize=(5, 4), tight_layout=True)\n",
    "fig1.suptitle('Recta $w_1 x + w_2 y - w_0 = 0$',  fontsize=11)\n",
    "fig1_ax = fig1.add_subplot(autoscale_on=False, xlim=(-1.5, 1.5), ylim=(-1.5, 1.5))\n",
    "fig1_ax.set_aspect('equal')\n",
    "fig1_ax.grid()\n",
    "\n",
    "# Patrones\n",
    "x_x = ds_train[:,0]\n",
    "x_y = ds_train[:,1]\n",
    "x_color = np.where(x_x > 0, np.where(x_y > 0, 'C0', 'C1'), np.where(x_y < 0, 'C0', 'C1'))\n",
    "fig1_ax.scatter(x_x, x_y, c=x_color, s=5, marker='.')\n",
    "\n",
    "# Recta\n",
    "xx = np.arange(-3, 3, 0.01)\n",
    "a = perceptron.w[1] / perceptron.w[2]\n",
    "b = a = perceptron.w[0] / perceptron.w[2]\n",
    "fig1_ax.plot(xx, a * xx + b, c='C3', linewidth=2)\n",
    "\n",
    "plt.show()"
   ]
  },
  {
   "cell_type": "markdown",
   "metadata": {},
   "source": [
    "## Problema `XOR`"
   ]
  },
  {
   "cell_type": "code",
   "execution_count": 4,
   "metadata": {},
   "outputs": [],
   "source": [
    "ds_train = np.genfromtxt('icgtp1datos/XOR_trn.csv', delimiter=',')\n",
    "ds_train_size = ds_train.shape[0]\n",
    "\n",
    "ds_test = np.genfromtxt('icgtp1datos/XOR_tst.csv', delimiter=',')\n",
    "ds_test_size = ds_test.shape[0]"
   ]
  },
  {
   "cell_type": "code",
   "execution_count": 7,
   "metadata": {},
   "outputs": [
    {
     "name": "stdout",
     "output_type": "stream",
     "text": [
      "Epoca 0: error medio = 51.00 %\n",
      "Epoca 1: error medio = 49.00 %\n",
      "Epoca 2: error medio = 58.00 %\n",
      "Epoca 3: error medio = 50.00 %\n",
      "Epoca 4: error medio = 49.50 %\n",
      "Epoca 5: error medio = 74.50 %\n",
      "Epoca 6: error medio = 57.00 %\n",
      "Epoca 7: error medio = 55.50 %\n",
      "Epoca 8: error medio = 45.50 %\n",
      "Epoca 9: error medio = 57.00 %\n",
      "Epoca 10: error medio = 48.50 %\n",
      "Epoca 11: error medio = 49.50 %\n",
      "Epoca 12: error medio = 60.00 %\n",
      "Epoca 13: error medio = 48.00 %\n",
      "Epoca 14: error medio = 46.00 %\n",
      "Epoca 15: error medio = 46.00 %\n",
      "Epoca 16: error medio = 52.00 %\n",
      "Epoca 17: error medio = 50.50 %\n",
      "Epoca 18: error medio = 49.00 %\n",
      "Epoca 19: error medio = 56.50 %\n"
     ]
    }
   ],
   "source": [
    "perceptron = Perceptron(ds_train.shape[1]-1, f_sign)\n",
    "\n",
    "N = 20          # Nro de épocas\n",
    "alpha = 1E-4    # Tasa de aprendizaje\n",
    "nu = 0.3        # Umbral de error\n",
    "\n",
    "# Para calcular el error se utilizará un conjunto de patrones de tamaño 10%\n",
    "# del total\n",
    "N_val = int(np.floor(ds_train_size * 0.1))\n",
    "\n",
    "# Entrenamiento por epocas\n",
    "for i in range(N):\n",
    "    for patron in ds_train: # Para todos los patrones de train\n",
    "        perceptron.train(patron, alpha)\n",
    "    \n",
    "    # Corte del entrenamiento por umbral de error\n",
    "    errores = 0\n",
    "    for patron in ds_train[np.random.choice(ds_train_size, size=(N_val), replace=False)]:\n",
    "        (z, _, _) = perceptron.eval(patron)\n",
    "        errores += int(z != patron[-1])\n",
    "    err_med = errores / N_val\n",
    "    \n",
    "    # Evolución del error por época\n",
    "    print(f'Epoca {i}: error medio = {err_med * 100:.2f} %')\n",
    "\n",
    "    # Si el error calculado es menos del umbral cortar\n",
    "    if (err_med < nu):\n",
    "        break"
   ]
  },
  {
   "cell_type": "code",
   "execution_count": 8,
   "metadata": {},
   "outputs": [
    {
     "name": "stdout",
     "output_type": "stream",
     "text": [
      "Error en test 43.00 %\n"
     ]
    }
   ],
   "source": [
    "# Test\n",
    "errores = 0\n",
    "for patron in ds_test:\n",
    "    (z, _, _) = perceptron.eval(patron)\n",
    "    errores += int(z != patron[-1])\n",
    "err_med = errores / ds_test_size\n",
    "\n",
    "print(f'Error en test {err_med * 100:.2f} %')"
   ]
  },
  {
   "cell_type": "code",
   "execution_count": 12,
   "metadata": {},
   "outputs": [
    {
     "data": {
      "image/png": "[encoded data removed]",
      "text/plain": [
       "<Figure size 500x400 with 1 Axes>"
      ]
     },
     "metadata": {},
     "output_type": "display_data"
    }
   ],
   "source": [
    "fig2 = plt.figure(figsize=(5, 4), tight_layout=True)\n",
    "fig2.suptitle('Recta $w_1 x + w_2 y - w_0 = 0$',  fontsize=11)\n",
    "fig2_ax = fig2.add_subplot(autoscale_on=False, xlim=(-1.5, 1.5), ylim=(-1.5, 1.5))\n",
    "fig2_ax.set_aspect('equal')\n",
    "fig2_ax.grid()\n",
    "\n",
    "# Patrones\n",
    "x_x = ds_train[:,0]\n",
    "x_y = ds_train[:,1]\n",
    "x_color = np.where(x_x > 0, np.where(x_y > 0, 'C0', 'C1'), np.where(x_y < 0, 'C0', 'C1'))\n",
    "fig2_ax.scatter(x_x, x_y, c=x_color, s=5, marker='.')\n",
    "\n",
    "# Recta\n",
    "xx = np.arange(-3, 3, 0.01)\n",
    "a = perceptron.w[1] / perceptron.w[2]\n",
    "b = a = perceptron.w[0] / perceptron.w[2]\n",
    "fig2_ax.plot(xx, a * xx + b, c='C3', linewidth=2)\n",
    "\n",
    "plt.show()"
   ]
  },
  {
   "cell_type": "code",
   "execution_count": 87,
   "metadata": {},
   "outputs": [
    {
     "name": "stdout",
     "output_type": "stream",
     "text": [
      "Epoca 0: error medio = 25.00 %\n",
      "Epoca 1: error medio = 28.50 %\n",
      "Epoca 2: error medio = 29.50 %\n",
      "Epoca 3: error medio = 2.50 %\n"
     ]
    }
   ],
   "source": [
    "p = Perceptron(ds_train.shape[1]-1, f_sign)\n",
    "\n",
    "N = 20          # Nro de épocas\n",
    "alpha = 1E-4    # Tasa de aprendizaje\n",
    "nu = 0.03        # Umbral de error\n",
    "\n",
    "# Para calcular el error se utilizará un conjunto de patrones de tamaño 10%\n",
    "# del total\n",
    "N_val = int(np.floor(ds_train_size * 0.1))\n",
    "\n",
    "pesos = np.array([[]])\n",
    "\n",
    "# Entrenamiento por epocas\n",
    "for i in range(N):\n",
    "    for idx, patron in enumerate(ds_train): # Para todos los patrones de train\n",
    "        (w, _, _) = p.train(patron, alpha)\n",
    "        if (idx % 40 == 0): # Cada veinte, me guardo los pesos\n",
    "            pesos = np.append(pesos, w)\n",
    "    \n",
    "    # Corte del entrenamiento por umbral de error\n",
    "    errs = 0\n",
    "    for patron in ds_train[np.random.choice(ds_train_size, size=(N_val), replace=False)]:\n",
    "        (z, _, _) = p.eval(patron)\n",
    "        errs += int(z != patron[-1])\n",
    "    err_med = errs / N_val\n",
    "    \n",
    "    # Evolución del error por época\n",
    "    print(f'Epoca {i}: error medio = {err_med * 100:.2f} %')\n",
    "\n",
    "    # Si el error calculado es menos del umbral cortar\n",
    "    if (err_med < nu):\n",
    "        break\n",
    "\n",
    "# Reordenar los pesos\n",
    "pesos = pesos.reshape((-1, 3))"
   ]
  },
  {
   "cell_type": "code",
   "execution_count": 94,
   "metadata": {},
   "outputs": [
    {
     "data": {
      "application/vnd.jupyter.widget-view+json": {
       "model_id": "ccaf96fd309c4d61959e8d46fb6790b1",
       "version_major": 2,
       "version_minor": 0
      },
      "image/png": "[encoded data removed]",
      "text/html": [
       "\n",
       "            <div style=\"display: inline-block;\">\n",
       "                <div class=\"jupyter-widgets widget-label\" style=\"text-align: center;\">\n",
       "                    Figure\n",
       "                </div>\n",
       "                <img src='data:image/png;base64,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' width=500.0/>\n",
       "            </div>\n",
       "        "
      ],
      "text/plain": [
       "Canvas(toolbar=Toolbar(toolitems=[('Home', 'Reset original view', 'home', 'home'), ('Back', 'Back to previous …"
      ]
     },
     "metadata": {},
     "output_type": "display_data"
    }
   ],
   "source": [
    "# Animación de la evolución de los pesos a partir de la recta w1 * x + w2 * y - w0 = 0\n",
    "\n",
    "import matplotlib.animation as animation\n",
    "%matplotlib widget\n",
    "\n",
    "anim_fig = plt.figure(figsize=(5, 4), tight_layout=True)\n",
    "anim_fig.suptitle('Evolución de la recta $w_1 x + w_2 y - w_0 = 0$',  fontsize=11)\n",
    "anim_ax = anim_fig.add_subplot(autoscale_on=False, xlim=(-1.5, 1.5), ylim=(-1.5, 1.5))\n",
    "anim_ax.set_aspect('equal')\n",
    "anim_ax.grid()\n",
    "\n",
    "anim_ax.set_xlabel('$X$')\n",
    "anim_ax.set_ylabel('$Y$')\n",
    "\n",
    "# Patrones\n",
    "x_x = ds_train[:,0]\n",
    "x_y = ds_train[:,1]\n",
    "x_color = np.where(x_x > 0, 'C0', np.where(x_y > 0, 'C0', 'C1'))\n",
    "\n",
    "anim_ax.scatter(x_x, x_y, c=x_color, s=5, marker='.')\n",
    "\n",
    "# Perceptron\n",
    "# w1 * x + w2 * y - w0 = 0\n",
    "# Ecuacion recta\n",
    "# y = -w1/w2 * x + w0/w2\n",
    "# a = -w1/w2\n",
    "# b = w0/w2\n",
    "# Simplificacion\n",
    "# y = a * + b\n",
    "a = np.divide(-pesos[:,1], pesos[:,2])\n",
    "b = np.divide(pesos[:,0], pesos[:,2])\n",
    "\n",
    "xx = np.arange(-3, 3, 0.01)\n",
    "line, = anim_ax.plot(xx, a[0] * xx + b[0], c='C3', linewidth=2)\n",
    "\n",
    "# Label para el tiempo transcurrido\n",
    "# time_template = 'time = %.1fs'\n",
    "# time_text = anim_ax.text(0.05, 0.92, '', transform=anim_ax.transAxes)\n",
    "\n",
    "def animate(i):\n",
    "    line.set_ydata(a[i] * xx + b[i])\n",
    "\n",
    "    # time_text.set_text(time_template % (t[i])) # Actualizar la label del t\n",
    "\n",
    "    return line,\n",
    "\n",
    "anim = animation.FuncAnimation(anim_fig, animate, frames=pesos.shape[0], interval=20, repeat=False)\n",
    "plt.show()"
   ]
  },
  {
   "cell_type": "code",
   "execution_count": 96,
   "metadata": {},
   "outputs": [],
   "source": [
    "writergif = animation.PillowWriter(fps=24)\n",
    "anim.save('./caso-1.gif', writer=writergif)\n",
    "\n",
    "%matplotlib inline"
   ]
  },
  {
   "cell_type": "markdown",
   "metadata": {},
   "source": [
    "![](./caso-1.gif)"
   ]
  }
 ],
 "metadata": {
  "kernelspec": {
   "display_name": "Python 3.10.2 64-bit",
   "language": "python",
   "name": "python3"
  },
  "language_info": {
   "codemirror_mode": {
    "name": "ipython",
    "version": 3
   },
   "file_extension": ".py",
   "mimetype": "text/x-python",
   "name": "python",
   "nbconvert_exporter": "python",
   "pygments_lexer": "ipython3",
   "version": "3.10.2"
  },
  "orig_nbformat": 4,
  "vscode": {
   "interpreter": {
    "hash": "949777d72b0d2535278d3dc13498b2535136f6dfe0678499012e853ee9abcab1"
   }
  }
 },
 "nbformat": 4,
 "nbformat_minor": 2
}

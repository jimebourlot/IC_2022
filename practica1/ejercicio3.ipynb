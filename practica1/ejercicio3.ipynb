{
 "cells": [
  {
   "cell_type": "code",
   "execution_count": 12,
   "metadata": {},
   "outputs": [],
   "source": [
    "import numpy as np\n",
    "import matplotlib.pyplot as plt"
   ]
  },
  {
   "cell_type": "code",
   "execution_count": 13,
   "metadata": {},
   "outputs": [],
   "source": [
    "def generar_particiones(filename, n, p_test):\n",
    "    ds = np.genfromtxt(filename, delimiter=',')\n",
    "    n_test = int(ds.shape[0] * p_test)\n",
    "    n_train = ds.shape[0] - n_test\n",
    "    M_test = np.zeros((n,n_test),dtype = int)\n",
    "    M_train = np.zeros((n, n_train),dtype = int)\n",
    "\n",
    "    for i in range(n):\n",
    "        idx=np.random.choice(range(ds.shape[0]),ds.shape[0],replace = False)\n",
    "        idx_test = idx[0:n_test]\n",
    "        idx_train = idx[n_test:ds.shape[0]]\n",
    "        M_test[i] = idx_test\n",
    "        M_train[i] = idx_train\n",
    "    \n",
    "    return (ds, M_test, M_train)\n"
   ]
  },
  {
   "cell_type": "markdown",
   "metadata": {},
   "source": [
    "# Ejercicio 3"
   ]
  },
  {
   "cell_type": "code",
   "execution_count": 14,
   "metadata": {},
   "outputs": [],
   "source": [
    "def sigmoidea(x):\n",
    "    return np.divide(2, (1 + np.exp(-x))) - 1"
   ]
  },
  {
   "cell_type": "code",
   "execution_count": 15,
   "metadata": {},
   "outputs": [],
   "source": [
    "class layer:\n",
    "    def __init__(self, n_neuron, n_x):\n",
    "        self.n_neuron = n_neuron\n",
    "        self.n_entradas = n_x\n",
    "        self.w = np.random.normal(loc = 0, scale = 0.15, size =(n_neuron,n_x))\n",
    "        \n",
    "    def calculate_y(self,x):\n",
    "        y = np.dot(self.w,x)\n",
    "        #print(y)\n",
    "        y = sigmoidea(y)\n",
    "        return y   \n"
   ]
  },
  {
   "cell_type": "code",
   "execution_count": 16,
   "metadata": {},
   "outputs": [],
   "source": [
    "def perceptron_multilayer_init(neurons_perLayer, n_x):\n",
    "    network=[]\n",
    "    aux_n_x = n_x\n",
    "    for i in range(neurons_perLayer.shape[0]):\n",
    "        network.append(layer(neurons_perLayer[i], aux_n_x + 1))\n",
    "        aux_n_x = neurons_perLayer[i]\n",
    "    return(network)"
   ]
  },
  {
   "cell_type": "code",
   "execution_count": 17,
   "metadata": {},
   "outputs": [],
   "source": [
    "def perceptron_multilayer_forward(network,x):\n",
    "    # completa la primera capa\n",
    "    y=[x]\n",
    "    for i in range(len(network)):\n",
    "        # print(np.hstack((-1, y[i])))\n",
    "        y.append( \\\n",
    "                network[i].calculate_y( \\\n",
    "                    np.hstack((-1, y[i]))\\\n",
    "                        )\\\n",
    "        )\n",
    "        # print(y)\n",
    "    return y"
   ]
  },
  {
   "cell_type": "code",
   "execution_count": 18,
   "metadata": {},
   "outputs": [],
   "source": [
    "def perceptron_multilayer_backward(network,y,yd):\n",
    "    # e=np.sum(((yd-y[-1])**2))\n",
    "    e=yd-y[-1]\n",
    "    grad=[]\n",
    "    grad.append(np.multiply(e,np.multiply((1+y[-1]),(1-y[-1])))*0.5)\n",
    "    for i in range(len(network)-1,0,-1):\n",
    "        w_t=network[i].w[:,1:].T\n",
    "        #print(f'pesos sin la fila de w0 y transpuesto = {w_t}')\n",
    "        grad.append(np.multiply(np.dot(w_t,grad[len(network)-1-i]),np.multiply((1+y[i]),(1-y[i])))*0.5)\n",
    "    return grad\n"
   ]
  },
  {
   "cell_type": "code",
   "execution_count": 19,
   "metadata": {},
   "outputs": [],
   "source": [
    "def perceptron_multilayer_update(network,y,grad,gamma):\n",
    "    for i in range(len(network)):\n",
    "        w_new = gamma * np.outer(grad[-(i+1)],np.hstack((-1, y[i])))\n",
    "        network[i].w += w_new\n",
    "        # print(i,network[i].w)\n",
    "    return network "
   ]
  },
  {
   "cell_type": "markdown",
   "metadata": {},
   "source": [
    "## Train"
   ]
  },
  {
   "cell_type": "code",
   "execution_count": 20,
   "metadata": {},
   "outputs": [
    {
     "name": "stdout",
     "output_type": "stream",
     "text": [
      "Epoca 0: error = 0.4925\n",
      "Época 0\n",
      "Epoca 1: error = 0.4925\n",
      "Época 1\n",
      "Epoca 2: error = 0.4925\n",
      "Época 2\n",
      "Epoca 3: error = 0.4925\n",
      "Época 3\n",
      "Epoca 4: error = 0.4925\n",
      "Época 4\n",
      "Epoca 5: error = 0.4925\n",
      "Época 5\n",
      "Epoca 6: error = 0.4925\n",
      "Época 6\n",
      "Epoca 7: error = 0.4925\n",
      "Época 7\n",
      "Epoca 8: error = 0.4925\n",
      "Época 8\n",
      "Epoca 9: error = 0.7425\n",
      "Época 9\n",
      "Epoca 10: error = 0.25\n",
      "Época 10\n",
      "Epoca 11: error = 0.25\n",
      "Época 11\n",
      "Epoca 12: error = 0.0\n",
      "Época 12\n"
     ]
    }
   ],
   "source": [
    "ds, M_tst, M_trn  =  generar_particiones('icgtp1datos\\XOR_trn.csv', 1, 0.2)\n",
    "X = ds[M_trn[0,:], :-1]\n",
    "#X_a = np.array([[-1.0291,0.97256],[1.0325,-1.0188]])\n",
    "\n",
    "# print(X)\n",
    "Y_d = ds[M_trn[0,:], -1]\n",
    "#Y_d = [1, 1]\n",
    "# print(Y_d)\n",
    "network = []\n",
    "# X = np.hstack((-1, np.ones((X.shape[0],1)), X))\n",
    "n_per_layer = np.array([2, 1])\n",
    "network = perceptron_multilayer_init(n_per_layer, X.shape[1])\n",
    "#print(f'pesos capa 1{network[0].w}')\n",
    "#print(f'pesos capa 2{network[1].w}')\n",
    "\n",
    "cant_epocas = 40\n",
    "nu_error = 0.01\n",
    "error_epocas = []\n",
    "gamma_aprend = 0.01\n",
    "\n",
    "for n_epoch in range(cant_epocas):\n",
    "    for i, pattern in enumerate(X):\n",
    "        #print('patron:', pattern)\n",
    "        y = perceptron_multilayer_forward(network, pattern)\n",
    "        #print(f'salida{i}={y}')\n",
    "        grad = perceptron_multilayer_backward(network, y, Y_d[i])\n",
    "        #print(f'gradiente = {grad}')\n",
    "        network = perceptron_multilayer_update(network, y, grad, gamma_aprend)\n",
    "    \n",
    "    # Validación [con todos los patrones]\n",
    "    errores = 0\n",
    "    for n, patron in enumerate(X):\n",
    "        # producto punto\n",
    "        y_test = perceptron_multilayer_forward(network, patron)\n",
    "        # estamos suponiendo una sola salida\n",
    "        #y = -1 if (y_test[-1] < 0) else 1\n",
    "        y_aux=0\n",
    "        if (y_test[-1] < 0):\n",
    "            y_aux=-1\n",
    "        else:\n",
    "            y_aux=1\n",
    "        # print('y',y,'yDeseada',Y_d[n])\n",
    "        errores += int(y_aux != Y_d[n])\n",
    "        # print('errores', errores)\n",
    "    error = (errores/X.shape[0])\n",
    "        # error = np.sum(((y[-1]-Y_d[i])**2))        \n",
    "    error_epocas= np.append(error_epocas, [error])\n",
    "    print(f'Epoca {n_epoch}: error = {error}')\n",
    "    if (error < nu_error):\n",
    "        print(f'Época {n_epoch}')\n",
    "        break\n",
    "    print(f'Época {n_epoch}')\n",
    "\n"
   ]
  },
  {
   "cell_type": "markdown",
   "metadata": {},
   "source": [
    "## Test: Problema OR"
   ]
  },
  {
   "cell_type": "code",
   "execution_count": 21,
   "metadata": {},
   "outputs": [
    {
     "name": "stdout",
     "output_type": "stream",
     "text": [
      "0.0\n"
     ]
    }
   ],
   "source": [
    "X_test = ds[M_tst[0,:], :-1]\n",
    "Y_d_test = ds[M_tst[0,:], -1]\n",
    "errores = 0\n",
    "\n",
    "for i, pattern in enumerate(X_test):\n",
    "    y_test = perceptron_multilayer_forward(network, pattern)\n",
    "    # estamos suponiendo una sola salida\n",
    "    y = -1 if (y_test[-1] < 0) else 1\n",
    "    errores += int(y != Y_d_test[i])\n",
    "\n",
    "print(errores / X_test.shape[0])\n",
    "\n"
   ]
  },
  {
   "cell_type": "markdown",
   "metadata": {},
   "source": [
    "## Plot"
   ]
  },
  {
   "cell_type": "code",
   "execution_count": 27,
   "metadata": {},
   "outputs": [
    {
     "data": {
      "text/plain": [
       "<matplotlib.legend.Legend at 0x165f0ffbf70>"
      ]
     },
     "execution_count": 27,
     "metadata": {},
     "output_type": "execute_result"
    },
    {
     "data": {
      "image/png": "[encoded data removed]",
      "text/plain": [
       "<Figure size 504x432 with 1 Axes>"
      ]
     },
     "metadata": {
      "needs_background": "light"
     },
     "output_type": "display_data"
    }
   ],
   "source": [
    "# pesos primer neurona\n",
    "w1 = network[0].w[0]\n",
    "\n",
    "# pesos segunda neurona\n",
    "w2 = network[0].w[1]\n",
    "\n",
    "# pesos neurona capa 2\n",
    "w21 = network[1].w[0]\n",
    "\n",
    "fig1 = plt.figure(figsize=(7, 6), tight_layout=True)\n",
    "fig1.suptitle('Recta $w_1 x_1 + w_2 x_2 - w_0 = 0$',  fontsize=11)\n",
    "fig1_ax = fig1.add_subplot(autoscale_on=False, xlim=(-1.5, 1.5), ylim=(-1.5, 1.5))\n",
    "fig1_ax.set_aspect('equal')\n",
    "fig1_ax.grid()\n",
    "\n",
    "# Patrones\n",
    "x_x = X_test[:,0]\n",
    "x_y = X_test[:,1]\n",
    "x_color = np.where(x_x > 0, np.where(x_y > 0, 'C0', 'C1'), np.where(x_y < 0, 'C0', 'C1'))\n",
    "fig1_ax.scatter(x_x, x_y, c=x_color, s=5, marker='.')\n",
    "\n",
    "# Recta\n",
    "xx = np.arange(-3, 3, 0.01)\n",
    "a1 = w1[0] / w1[2]\n",
    "b1 = w1[1] / w1[2]\n",
    "fig1_ax.plot(xx, a1 - b1 * xx, c='C3', linewidth=2, label = 'recta n1 - capa 1')\n",
    "\n",
    "a2 = w2[0] / w2[2]\n",
    "b2 = w2[1] / w2[2]\n",
    "fig1_ax.plot(xx, a2 - b2 * xx, c='C2', linewidth=2, label = 'recta n2 - capa 1')\n",
    "\n",
    "a3 = w21[0] / w21[2]\n",
    "b3 = w21[1] / w21[2]\n",
    "fig1_ax.plot(xx, a3 - b3 * xx, c='C1', linewidth=2,label = 'recta n1 - capa 2')\n",
    "\n",
    "fig1_ax.legend(loc = 4)\n"
   ]
  }
 ],
 "metadata": {
  "kernelspec": {
   "display_name": "Python 3.10.6 64-bit",
   "language": "python",
   "name": "python3"
  },
  "language_info": {
   "codemirror_mode": {
    "name": "ipython",
    "version": 3
   },
   "file_extension": ".py",
   "mimetype": "text/x-python",
   "name": "python",
   "nbconvert_exporter": "python",
   "pygments_lexer": "ipython3",
   "version": "3.10.6"
  },
  "orig_nbformat": 4,
  "vscode": {
   "interpreter": {
    "hash": "07ff7e21ea611955a5ea046bb85e7833bbeb87a9446667deecdccb9fe0872cdd"
   }
  }
 },
 "nbformat": 4,
 "nbformat_minor": 2
}

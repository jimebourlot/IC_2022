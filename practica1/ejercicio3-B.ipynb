{
 "cells": [
  {
   "cell_type": "markdown",
   "metadata": {},
   "source": [
    "## Problema Concentlite\n",
    "\n",
    "Para entrenar y probar el algoritmo utilice la base de datos $concentlite.csv$, que consiste en dos clases distribuidas en forma concéntrica como muestra la Figura 2. Represente gráficamente, con diferentes colores, el resultado de la clasificación realizada por el perceptrón multicapa.\n",
    "\n",
    "### Train"
   ]
  },
  {
   "cell_type": "code",
   "execution_count": null,
   "metadata": {},
   "outputs": [],
   "source": [
    "ds, M_tst, M_trn  =  generar_particiones('icgtp1datos\\concentlite.csv', 1, 0.2)\n",
    "X = ds[M_trn[0,:], :-1]\n",
    "#X_a = np.array([[-1.0291,0.97256],[1.0325,-1.0188]])\n",
    "\n",
    "# print(X)\n",
    "Y_d = ds[M_trn[0,:], -1]\n",
    "#Y_d = [1, 1]\n",
    "# print(Y_d)\n",
    "network = []\n",
    "# X = np.hstack((-1, np.ones((X.shape[0],1)), X))\n",
    "n_per_layer = np.array([3, 2, 1])\n",
    "network = perceptron_multilayer_init(n_per_layer, X.shape[1])\n",
    "#print(f'pesos capa 1{network[0].w}')\n",
    "#print(f'pesos capa 2{network[1].w}')\n",
    "\n",
    "cant_epocas = 400\n",
    "nu_error = 0.01\n",
    "error_epocas = []\n",
    "gamma_aprend = 0.01\n",
    "mse_epocas = []\n",
    "\n",
    "for n_epoch in range(cant_epocas):\n",
    "    for i, pattern in enumerate(X):\n",
    "        #print('patron:', pattern)\n",
    "        y = perceptron_multilayer_forward(network, pattern)\n",
    "        #print(f'salida{i}={y}')\n",
    "        grad = perceptron_multilayer_backward(network, y, Y_d[i])\n",
    "        #print(f'gradiente = {grad}')\n",
    "        network = perceptron_multilayer_update(network, y, grad, gamma_aprend)\n",
    "    \n",
    "    # Validación [con todos los patrones]\n",
    "    errores = 0\n",
    "    for n, patron in enumerate(X):\n",
    "        # producto punto\n",
    "        y_test = perceptron_multilayer_forward(network, patron)\n",
    "        # estamos suponiendo una sola salida\n",
    "        #y = -1 if (y_test[-1] < 0) else 1\n",
    "        y_aux=0\n",
    "        if (y_test[-1] < 0):\n",
    "            y_aux=-1\n",
    "        else:\n",
    "            y_aux=1\n",
    "        # print('y',y,'yDeseada',Y_d[n])\n",
    "        errores += int(y_aux != Y_d[n])\n",
    "        # print('errores', errores)}\n",
    "\n",
    "        #cálculo del error cuadrático medio\n",
    "        mse = np.sum(pow(np.subtract(y_test[-1], Y_d[n]), 2))\n",
    "        \n",
    "        # print(mse)\n",
    "        mse_epoca = np.append(mse_epoca, mse)\n",
    "\n",
    "    error = (errores/X.shape[0])\n",
    "        # error = np.sum(((y[-1]-Y_d[i])**2))        \n",
    "    error_epocas= np.append(error_epocas, [error])\n",
    "    \n",
    "    e_prom = np.mean(mse_epoca)\n",
    "    mse_epocas = np.append(mse_epocas, e_prom)\n",
    "\n",
    "    print(f'Epoca {n_epoch}: error = {error}')\n",
    "    if (error < nu_error):\n",
    "        # print(f'Época {n_epoch}')\n",
    "        break\n",
    "   \n",
    "print(f'Epoca {n_epoch}: error = {error_epocas[-1]}')"
   ]
  },
  {
   "cell_type": "markdown",
   "metadata": {},
   "source": [
    "### Test"
   ]
  },
  {
   "cell_type": "code",
   "execution_count": null,
   "metadata": {},
   "outputs": [
    {
     "name": "stdout",
     "output_type": "stream",
     "text": [
      "tasa de aciertos de test 0.3614457831325301\n"
     ]
    }
   ],
   "source": [
    "X_test = ds[M_tst[0,:], :-1]\n",
    "Y_d_test = ds[M_tst[0,:], -1]\n",
    "errores = 0\n",
    "historial_y = []\n",
    "\n",
    "for i, pattern in enumerate(X_test):\n",
    "    y_test = perceptron_multilayer_forward(network, pattern)\n",
    "    # print(y_test[-1])\n",
    "    # estamos suponiendo una sola salida\n",
    "    y = 0\n",
    "    if (y_test[-1] < 0):\n",
    "        y = -1\n",
    "    else:\n",
    "        y = 1\n",
    "    historial_y = np.append(historial_y, y)\n",
    "    if y != Y_d_test[i]:\n",
    "        errores += 1\n",
    "\n",
    "print(f'tasa de aciertos de test {(errores / X_test.shape[0])}')\n",
    "#print(historial_y)\n"
   ]
  },
  {
   "cell_type": "markdown",
   "metadata": {},
   "source": [
    "### Plot"
   ]
  },
  {
   "cell_type": "code",
   "execution_count": null,
   "metadata": {},
   "outputs": [
    {
     "data": {
      "image/png": "[encoded data removed]",
      "text/plain": [
       "<Figure size 504x432 with 1 Axes>"
      ]
     },
     "metadata": {},
     "output_type": "display_data"
    }
   ],
   "source": [
    "fig1, fig1_ax = plt.subplots(figsize=(7, 6), tight_layout=True)\n",
    "fig1.suptitle('Problema Concentlite',  fontsize=11)\n",
    "fig1_ax.set_aspect('equal')\n",
    "fig1_ax.grid()\n",
    "\n",
    "\n",
    "# Patrones\n",
    "x_x = X_test[:,0]\n",
    "x_y = X_test[:,1]\n",
    "c = np.zeros((len(historial_y)), 'int')\n",
    "\n",
    "# Código de colores\n",
    "# [1] = clase 1 - bien identificados\n",
    "# [2] = clase 1 - mal identificados\n",
    "# [3] = clase 2 - bien identificados\n",
    "# [4] = clase 2 - mal identificados\n",
    "\n",
    "x_color = np.array([])\n",
    "for i in range(len(historial_y)):\n",
    "    \n",
    "    if historial_y[i] == 1 and Y_d_test[i] == 1:\n",
    "        c[i] = 1\n",
    "    elif historial_y[i] == - 1 and Y_d_test[i] == 1:\n",
    "        c[i] = 2\n",
    "    elif historial_y[i] == - 1 and Y_d_test[i] == - 1:\n",
    "        c[i] = 3\n",
    "    else:\n",
    "        c[i] = 4\n",
    "\n",
    "scat = fig1_ax.scatter(x_x, x_y, c=c, s=30, marker='.')\n",
    "handles, labels = scat.legend_elements()\n",
    "legend1 = fig1_ax.legend(handles,labels,\n",
    "                    title=\"Código\")\n",
    "fig1_ax.add_artist(legend1)\n",
    "\n",
    "plt.show()"
   ]
  },
  {
   "cell_type": "markdown",
   "metadata": {},
   "source": [
    "### Término de momento\n",
    "\n",
    "Verifique experimentalmente la influencia de la incorporación del término de momento en la ecuación de adaptación de los pesos. Para esto, modifique su implementación para incluir el término de momento y compare la velocidad de convergencia del algoritmo.\n",
    "\n",
    "Término de momento: $\\alpha \\Delta w_{n-1}$\n",
    "\n",
    "Ecuación de actualización de pesos: \n",
    "$$\\Delta w^{II}_{n} = \\mu \\delta^{II} Y^{I} + \\alpha \\Delta w^{II}_{n-1}$$\n",
    "$$ w^{II}_{n} = w_{n-1}^{II} + \\Delta w_{n}^{II}$$"
   ]
  },
  {
   "cell_type": "markdown",
   "metadata": {},
   "source": [
    "### Prueba con perceptrón simple\n",
    "\n",
    "Convierta los patrones de $concentlite.csv$ a una sola dimensión, obtenida como la distancia euclídea de cada patrón a la media total. Entrene un perceptrónn simple con estos nuevos datos unidimensionales y compare los resultados obtenidos en los puntos anteriores."
   ]
  }
 ],
 "metadata": {
  "kernelspec": {
   "display_name": "Python 3.10.2 64-bit",
   "language": "python",
   "name": "python3"
  },
  "language_info": {
   "name": "python",
   "version": "3.10.2"
  },
  "orig_nbformat": 4,
  "vscode": {
   "interpreter": {
    "hash": "949777d72b0d2535278d3dc13498b2535136f6dfe0678499012e853ee9abcab1"
   }
  }
 },
 "nbformat": 4,
 "nbformat_minor": 2
}
